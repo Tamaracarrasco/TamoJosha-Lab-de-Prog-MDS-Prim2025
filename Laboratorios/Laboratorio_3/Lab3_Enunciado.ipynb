{
  "cells": [
    {
      "cell_type": "markdown",
      "metadata": {
        "cell_id": "8dd9b572c805487a9fb430fdc4ab12bb",
        "deepnote_cell_height": 156.26666259765625,
        "deepnote_cell_type": "markdown",
        "id": "XUZ1dFPHzAHl"
      },
      "source": [
        "<h1><center>Laboratorio 3: La desperación de Mr. Cheems 🐼</center></h1>\n",
        "\n",
        "<center><strong>MDS7202: Laboratorio de Programación Científica para Ciencia de Datos - Primavera 2025</strong></center>"
      ]
    },
    {
      "cell_type": "markdown",
      "metadata": {
        "cell_id": "d65413cd8566460dbceffcd13ca236e7",
        "deepnote_cell_type": "markdown",
        "id": "UD8X1uhGzAHq"
      },
      "source": [
        "### Cuerpo Docente:\n",
        "\n",
        "- Profesores: Diego Cortez, Gabriel Iturra\n",
        "- Auxiliares: Melanie Peña, Valentina Rojas\n",
        "- Ayudantes: Nicolás Cabello, Cristopher Urbina"
      ]
    },
    {
      "cell_type": "markdown",
      "metadata": {
        "cell_id": "8e9217d02d124830a9b86046600a1605",
        "deepnote_cell_height": 172.13333129882812,
        "deepnote_cell_type": "markdown",
        "id": "tXflExjqzAHr"
      },
      "source": [
        "### Equipo: SUPER IMPORTANTE - notebooks sin nombre no serán revisados\n",
        "\n",
        "- Nombre de alumno 1: Josefa Anselmo\n",
        "- Nombre de alumno 2: Tamara Carrasco\n"
      ]
    },
    {
      "cell_type": "markdown",
      "metadata": {
        "cell_id": "010402b6d5f743b885a80d2e1c6ae11a",
        "deepnote_cell_height": 62.19999694824219,
        "deepnote_cell_type": "markdown",
        "id": "AD-V0bbZzAHr"
      },
      "source": [
        "### **Link de repositorio de GitHub:** [TamoJosha](https://github.com/Tamaracarrasco/TamoJosha-Lab-de-Prog-MDS-Prim2025)"
      ]
    },
    {
      "cell_type": "markdown",
      "metadata": {
        "cell_id": "ef0224c7a99e4b718b55493b0a1e99c4",
        "deepnote_cell_height": 724.9000244140625,
        "deepnote_cell_type": "markdown",
        "id": "6uBLPj1PzAHs"
      },
      "source": [
        "## Temas a tratar\n",
        "- Aplicar Pandas para obtener características de un DataFrame.\n",
        "- Aplicar Pipelines y Column Transformers\n",
        "\n",
        "## Reglas:\n",
        "\n",
        "- **Grupos de 2 personas**\n",
        "- Fecha de entrega: Entregas Martes a las 23:59.\n",
        "- Instrucciones del lab el viernes a las 16:15 en formato online. Asistencia no es obligatoria, pero se recomienda **fuertemente** asistir.\n",
        "- <u>Prohibidas las copias</u>. Cualquier intento de copia será debidamente penalizado con el reglamento de la escuela.\n",
        "- Tienen que subir el laboratorio a u-cursos y a su repositorio de github. Labs que no estén en u-cursos no serán revisados. Recuerden que el repositorio también tiene nota.\n",
        "- Cualquier duda fuera del horario de clases al foro. Mensajes al equipo docente serán respondidos por este medio.\n",
        "- Pueden usar cualquier material del curso que estimen conveniente.\n",
        "\n",
        "### Objetivos principales del laboratorio\n",
        "- Comprender cómo aplicar pipelines de Scikit-Learn para generar procesos más limpios en Feature Engineering.\n",
        "\n",
        "El laboratorio deberá ser desarrollado sin el uso indiscriminado de iteradores nativos de python (aka \"for\", \"while\"). La idea es que aprendan a exprimir al máximo las funciones optimizadas que nos entrega `numpy`, las cuales vale mencionar, son bastante más eficientes que los iteradores nativos sobre arreglos (*o tensores*)."
      ]
    },
    {
      "cell_type": "markdown",
      "metadata": {
        "cell_id": "59664481c26f4ac4a753765269b1db6a",
        "deepnote_cell_height": 69.86666870117188,
        "deepnote_cell_type": "markdown",
        "id": "wrG4gYabzAHs"
      },
      "source": [
        "## Descripción del laboratorio."
      ]
    },
    {
      "cell_type": "markdown",
      "metadata": {
        "cell_id": "8c7bf8ea553d44c7a2efd61106a0bac2",
        "deepnote_cell_height": 61.866668701171875,
        "deepnote_cell_type": "markdown",
        "id": "MhISwri4zAHy"
      },
      "source": [
        "### Importamos librerias utiles 😸"
      ]
    },
    {
      "cell_type": "code",
      "execution_count": null,
      "metadata": {
        "ExecuteTime": {
          "end_time": "2021-03-29T00:08:16.884674Z",
          "start_time": "2021-03-29T00:08:16.349846Z"
        },
        "cell_id": "67b4b29f0e6b48719b58d579276f2b19",
        "deepnote_cell_height": 514.13330078125,
        "deepnote_cell_type": "code",
        "deepnote_to_be_reexecuted": false,
        "execution_millis": 8517,
        "execution_start": 1635469788590,
        "id": "uyc33dKdzAHy",
        "source_hash": "a3741fd5"
      },
      "outputs": [],
      "source": [
        "# Libreria Core del lab.\n",
        "import numpy as np\n",
        "import pandas as pd\n",
        "import datetime\n",
        "from IPython.display import HTML\n",
        "\n",
        "# Libreria para plotear (En colab esta desactualizado plotly)\n",
        "%pip install --upgrade plotly\n",
        "import plotly.express as px\n",
        "import plotly.graph_objects as go\n",
        "\n",
        "# Librerias utiles\n",
        "from sklearn.base import BaseEstimator, TransformerMixin\n",
        "from sklearn.pipeline import Pipeline\n",
        "from sklearn.compose import ColumnTransformer\n",
        "from sklearn.preprocessing import FunctionTransformer"
      ]
    },
    {
      "cell_type": "code",
      "execution_count": null,
      "metadata": {
        "cell_id": "ce6a19ec6fc6486e832760ac3740d7ef",
        "deepnote_cell_height": 219.46665954589844,
        "deepnote_cell_type": "code",
        "deepnote_to_be_reexecuted": false,
        "execution_millis": 7,
        "execution_start": 1635165625274,
        "id": "gQ0-zPV4NNrq",
        "outputId": "a7c33afa-37fe-4965-de1a-53b8994c8c07",
        "source_hash": "c60dc4a7"
      },
      "outputs": [],
      "source": [
        "# Si usted está utilizando Colabolatory le puede ser útil este código para cargar los archivos.\n",
        "# try:\n",
        "  #  from google.colab import drive\n",
        "   # drive.mount(\"/content/drive\")\n",
        "   # path = 'Dirección donde tiene los archivos en el Drive'\n",
        "#except:\n",
        " #   print('Ignorando conexión drive-colab')"
      ]
    },
    {
      "cell_type": "markdown",
      "metadata": {
        "cell_id": "28c7a8b483d84878ac5a4f7ba882b711",
        "deepnote_cell_height": 133.86666870117188,
        "deepnote_cell_type": "markdown",
        "id": "QDwIXTh7bK_A",
        "owner_user_id": "badcc427-fd3d-4615-9296-faa43ec69cfb"
      },
      "source": [
        "# Feature engineering en datos de retail 🛍️"
      ]
    },
    {
      "cell_type": "markdown",
      "metadata": {
        "cell_id": "160bb2695f6547448bfb0f99420f952c",
        "deepnote_cell_height": 69.86666870117188,
        "deepnote_cell_type": "markdown",
        "id": "_Eu4qBqnXMff",
        "tags": []
      },
      "source": [
        "### 0. Cargar Dataset"
      ]
    },
    {
      "cell_type": "markdown",
      "metadata": {
        "cell_id": "6c6799ecc9e74272922d46a3b5a8b79e",
        "deepnote_cell_height": 294.683349609375,
        "deepnote_cell_type": "markdown",
        "id": "4shIzqqwXMfe",
        "tags": []
      },
      "source": [
        "<p align=\"center\">\n",
        "  <img width=300 src=\"https://s1.eestatic.com/2018/04/14/social/la_jungla_-_social_299733421_73842361_854x640.jpg\">\n",
        "</p>"
      ]
    },
    {
      "cell_type": "markdown",
      "metadata": {
        "cell_id": "48d29c89e3b6455083f8fac764f97f3b",
        "deepnote_cell_height": 475.066650390625,
        "deepnote_cell_type": "markdown",
        "id": "cDpKjYRCXMfg",
        "tags": []
      },
      "source": [
        "Mr. Cheems, gerente de una cotizada tienda de retail en Europa, les solicita si pueden analizar los datos de algunas de sus tiendas. En una reunión, Mr Cheems le comenta que la calidad de sus datos no es muy buena, por lo que le solicita a usted que limpie su base de datos y cree nuevos atributos relevantes para el negocio.\n",
        "\n",
        "Por ello, el área de ventas les entrega archivo llamado `online_retail_data.pickle` el cual usted decide cargar a continuación."
      ]
    },
    {
      "cell_type": "code",
      "execution_count": null,
      "metadata": {},
      "outputs": [],
      "source": [
        "import plotly.io as pio"
      ]
    },
    {
      "cell_type": "code",
      "execution_count": null,
      "metadata": {
        "cell_id": "4d7d0f0855744e6c9d5a2198e5dcd690",
        "colab": {
          "base_uri": "https://localhost:8080/",
          "height": 204
        },
        "deepnote_cell_height": 489.79998779296875,
        "deepnote_cell_type": "code",
        "deepnote_output_heights": [
          177
        ],
        "deepnote_to_be_reexecuted": false,
        "execution_millis": 466,
        "execution_start": 1635469797118,
        "id": "7FNOu-CvjV5m",
        "outputId": "90b4f92c-71df-44d4-8084-4dd06a6179e4",
        "source_hash": "d52b246c"
      },
      "outputs": [],
      "source": [
        "# Inserte su código aquí\n",
        "df_retail = pd.read_pickle(\"online_retail_data.pickle\")\n",
        "\n",
        "df_retail.head(5)"
      ]
    },
    {
      "cell_type": "code",
      "execution_count": null,
      "metadata": {},
      "outputs": [],
      "source": [
        "df_retail[\"Price\"].describe()"
      ]
    },
    {
      "cell_type": "code",
      "execution_count": null,
      "metadata": {},
      "outputs": [],
      "source": [
        "df_retail[\"Quantity\"].describe()"
      ]
    },
    {
      "cell_type": "code",
      "execution_count": null,
      "metadata": {},
      "outputs": [],
      "source": [
        "df_retail.info()"
      ]
    },
    {
      "cell_type": "markdown",
      "metadata": {
        "id": "Q6nm_0uWvrFv"
      },
      "source": [
        "### 1. Función para explorar características [0.5 puntos]"
      ]
    },
    {
      "cell_type": "markdown",
      "metadata": {
        "id": "KOZEZbbLoqfI"
      },
      "source": [
        "<p align=\"center\">\n",
        "  <img width=300 src=\"https://editor.analyticsvidhya.com/uploads/47389meme.png\">\n",
        "</p>\n"
      ]
    },
    {
      "cell_type": "markdown",
      "metadata": {
        "id": "J-7ZaNutk2GO"
      },
      "source": [
        "\n",
        "\n",
        "Tras inspeccionar brevemente los datos proporcionados, usted decide crear una función que realice lo siguiente:\n",
        "- Plotee un histograma para las variables precios y cantidad. [0.3 puntos]\n",
        "- Imprima un conteo de datos nulos por variable [0.2 puntos]\n",
        "\n",
        "**Nota**: Para generar los gráficos no es obligatorio el uso de `plotly`, pero si es altamente recomendado. Pueden encontrar más información de esta librería en este [enlace](https://plotly.com/python/)."
      ]
    },
    {
      "cell_type": "markdown",
      "metadata": {
        "id": "TM8FZ_4Yuiwi"
      },
      "source": [
        "**Respuesta:**"
      ]
    },
    {
      "cell_type": "code",
      "execution_count": null,
      "metadata": {},
      "outputs": [],
      "source": [
        "def explore_data(df, name, yscale=\"log\"):\n",
        "    \"\"\"\n",
        "    Función que retorna histogramas de las variables Price y Quantity de un dataframe que\n",
        "    contiene esas columnas.\n",
        "\n",
        "    Parámetros:\n",
        "      df: DataFrame con columnas 'Price' y 'Quantity'\n",
        "      name: nombre del dataframe. Debe ser un string\n",
        "      yscale: modificamos la escala en el eje Y pues no se podía graficar \"bien\" con plotly.\n",
        "\n",
        "    \"\"\"\n",
        "    # Se agrega esto porque tuve problemas en el renderizado de vscode\n",
        "    pio.renderers.default = \"notebook\"\n",
        "    \n",
        "    # Imprimimos valores nulos\n",
        "    print(\"Valores nulos por columna\")\n",
        "    print(df.isna().sum())\n",
        "\n",
        "    # Histogramas con Plotly\n",
        "\n",
        "    log = (yscale == \"log\") # Aquí redefinimos el suavizado que le vamos a aplicar al eje Y\n",
        "                            # porque la escala actual no permite que se grafique correctamente.\n",
        "    \n",
        "\n",
        "    fig1 = px.histogram(\n",
        "        df, x=\"Price\", nbins=120,\n",
        "        title=f\"Distribución de Price del dataframe {name}\",\n",
        "        log_y=log\n",
        "    ) # Aquí defino el plot para Prie\n",
        "\n",
        "    fig1.show()\n",
        "\n",
        "    fig2 = px.histogram(\n",
        "        df, x=\"Quantity\", nbins=120,\n",
        "        title=f\"Distribución de Quantity del dataframe {name}\",\n",
        "        log_y=log\n",
        "    ) # Aquí defino el plot para Quantity\n",
        "  \n",
        "    fig2.show()\n"
      ]
    },
    {
      "cell_type": "code",
      "execution_count": null,
      "metadata": {},
      "outputs": [],
      "source": [
        "# histogramas sin el suavizado logarítmico\n",
        "\n",
        "explore_data(df_retail, \"df_retail\", yscale=\"no\")\n",
        "\n",
        "# Como se puede ver, es muy difícil identificar el comportamiento de esta variable con esta escala\n",
        "# así que vamos a aplicar el log en la siguiente celda logrando así ver el comportamiento, en otra\n",
        "# escala, pero de este modo si funciona en el fondo."
      ]
    },
    {
      "cell_type": "code",
      "execution_count": null,
      "metadata": {},
      "outputs": [],
      "source": [
        "# Compruebo resultados con suavizado logarítmico\n",
        "explore_data(df_retail, \"df_retail\")\n",
        "\n",
        "# Aquí se se puede ver que hay un comportamiento en la distribución de las variables."
      ]
    },
    {
      "cell_type": "markdown",
      "metadata": {
        "id": "F4ZY_N0Ad1GP"
      },
      "source": [
        "### 2. Eliminando outliers [1.0 puntos]"
      ]
    },
    {
      "cell_type": "markdown",
      "metadata": {
        "id": "yXTpIi1Bo2KG"
      },
      "source": [
        "<p align=\"center\">\n",
        "  <img width=300 src=\"https://media.licdn.com/dms/image/C5612AQGdXKCka7HumA/article-cover_image-shrink_600_2000/0/1520056407281?e=2147483647&v=beta&t=VZcfjjzjK4LxXdZkSu1KisWC0Ry8bk4tPCn3R8aYdNM\">\n",
        "</p>\n",
        "\n",
        "\n"
      ]
    },
    {
      "cell_type": "markdown",
      "metadata": {
        "id": "ECqH4t-Jvj05"
      },
      "source": [
        "#### 2.1 Creando la clase IQR [0.5 puntos]"
      ]
    },
    {
      "cell_type": "markdown",
      "metadata": {
        "id": "GtCQGHN_mzEp"
      },
      "source": [
        "Entre las falencias de los datos, Mr. Cheems le comenta que a veces los operadores no ingresan el precio correcto de los productos. Mr. Cheems le comenta que se dio cuenta de este fenómeno porque hay productos con precios exagerádamente altos o bajos. Por lo cual usted decide eliminar outliers del dataframe a traves del rango intercuartil el cual cuenta con los siguientes pasos:\n",
        "\n",
        "1. Calcular el primer cuartil $Q1$ y el tercer cuartil $Q3$. Hint: utilice el método `quantile()`\n",
        "\n",
        "2. Calcular el rango intercuartil (RIC): $RIC = Q3 - Q1$\n",
        "\n",
        "3. Calcular los límites para identificar outliers:\n",
        " - Límite inferior: $~~Q1 - \\lambda \\cdot RIC$\n",
        " - Límite superior: $~~Q3 + \\lambda \\cdot RIC$\n",
        "\n",
        "4. Eliminar outliers: Los outliers son los datos que están por debajo del límite inferior o por encima del límite superior.\n",
        "\n",
        "\n",
        "Para realizar dicha tarea, usted decide crear una clase llamada `IQR()` utilizando `BaseEstimator` y `TransformerMixin` para realizar una transformación de cada una de las columnas numéricas del DataFrame utilizando `ColumnTransformer()` más tarde. Considere que lambda debe ser $\\lambda$ un parámetro a definir por el usuario.\n",
        "\n",
        "**Hint:** tome como referencia el siguiente [enlace](https://sklearn-template.readthedocs.io/en/latest/user_guide.html#transformer).\n",
        "\n",
        "**Nota:** No modificar el método set_output de la clase IQR"
      ]
    },
    {
      "cell_type": "markdown",
      "metadata": {
        "id": "3uqK6AZnuhmL"
      },
      "source": [
        "**Respuesta:**"
      ]
    },
    {
      "cell_type": "code",
      "execution_count": null,
      "metadata": {
        "id": "70CGFkRScKKP"
      },
      "outputs": [],
      "source": [
        "class IQR(BaseEstimator, TransformerMixin):\n",
        "\n",
        "  def __init__(self, cte=1.5):\n",
        "    self.cte = cte # cte representa lambda que define el usuario\n",
        "                   # por defecto es 1.5 (Ley de Tukey) y señala que ese sería el límite\n",
        "                   # para considerar un punto como outlier en base a una convención \"general\"\n",
        "                   # respecto de estos rangos pero que de todos modos uno podría definirlo\n",
        "                   # si tiene nociones reales de como se mueven los rangos para considerar \n",
        "                   # los outliers.\n",
        "    pass\n",
        "\n",
        "  def fit(self, X, y=None): # Acá se aplica lo de la guía\n",
        "    # hay que obtener solo columnas numéricas\n",
        "    self.num_columns = X.select_dtypes(include='number').columns # lista de columnas del dataframe. \n",
        "                                                                 # Por como será el pipeline, \n",
        "                                                                 # deberian ser las columnas \n",
        "                                                                 # numéricas. Además, me aseguro\n",
        "                                                                 # que solo sean numéricas.\n",
        "\n",
        "    # No es necesario self.X = X ya que no se busca guardar el dataframe, solo calcular los límites\n",
        "    self.q1 = X[self.num_columns].quantile(0.25) # Q1\n",
        "    self.q3 = X[self.num_columns].quantile(0.75) # Q3\n",
        "    self.ric = self.q3 - self.q1 # RIC\n",
        "\n",
        "    self.lim_inf = self.q1 - self.ric*self.cte #lim. inferior\n",
        "    self.lim_sup = self.q3 + self.ric*self.cte #lim. superior\n",
        "\n",
        "    return self\n",
        "    \n",
        "\n",
        "  def transform(self, X): # de lo que entendí de la guía es que acá, X se transforma con lo que aprendió en fit (los límites)\n",
        "                          # o sea acá se redefinen los outliers\n",
        "    \n",
        "    X_no_outlier = X.copy()\n",
        "    \n",
        "    mask = (( X_no_outlier[self.num_columns] < self.lim_inf) |\n",
        "            ( X_no_outlier[self.num_columns] > self.lim_sup))\n",
        "\n",
        "    # Enmascarar a NaN en lugar de eliminar el registro porque esto en el fondo\n",
        "    # generaria que distintas variables tuvieran distinta cantidad de registros\n",
        "\n",
        "    X_no_outlier.loc[:, self.num_columns] =  X_no_outlier[self.num_columns].mask(mask, other=np.nan)\n",
        "    return  X_no_outlier\n",
        "\n",
        "  def set_output(self,transform='default'):\n",
        "    #No modificar esta función\n",
        "    return self"
      ]
    },
    {
      "cell_type": "markdown",
      "metadata": {
        "id": "Pse94ohOm1um"
      },
      "source": [
        "#### 2.2 Creación del Pipeline [0.5 puntos]"
      ]
    },
    {
      "cell_type": "markdown",
      "metadata": {
        "id": "JVWWiGA5m_Hj"
      },
      "source": [
        "Para comenzar introduciéndose en el uso de pipeline, usted decide definir un pipeline con el Transformer previamente definido. Además, usted decide visualizar cómo cambia la distribución de las variables Precio y Cantidad antes y despues de aplicar IQR. Para ello, usted aplica los siguientes pasos:\n",
        "\n",
        "- Definir un pipeline llamado `numeric_transformations` para las variables precio y cantidad con la transformación IQR. [0.1 puntos]\n",
        "- Defina un column transformer que aplique `numeric_transformations` para las variables numéricas y `passthrough` para las variables categóricas. Adicionalmente, fije el parámetro `verbose_feature_names_out` en `False`. Ver hint al final [0.1 puntos]\n",
        "- Defina el dataframe `df_iqr` aplicado el column transformer a los datos proporcionados por Mr. Cheems considerando un valor de $\\lambda$ que tenga un desempeño aceptable para ambas variables. [0.1 puntos]\n",
        "- Usar `explore_data` en `df_retail` y en `df_iqr`.  [0.1 puntos]\n",
        "- Reportar los cambios observados en la distribución de las variables. ¿Qué sucede al aumentar el valor de lambda? [0.1 puntos]\n",
        "\n",
        "\n",
        "**Hint:** El transformador `passthrough` está predefinido y es una opción que puedes usar para las columnas que no deseas transformar. Al especificar 'passthrough' para una parte de tu ColumnTransformer, las columnas correspondientes pasarán a través del ColumnTransformer sin ninguna modificación. El siguiente [enlace](https://scikit-learn.org/stable/modules/generated/sklearn.compose.ColumnTransformer.html) le puede ser útil.\n",
        "\n",
        "**Nota:** Mantenga el método set_output del column transformer con la transformación `pandas` para obtener un dataframe una vez aplicado el column transformer."
      ]
    },
    {
      "cell_type": "markdown",
      "metadata": {
        "id": "vkeizZcLuabD"
      },
      "source": [
        "**Respuesta:**"
      ]
    },
    {
      "cell_type": "markdown",
      "metadata": {
        "id": "LF24vWb4GwLo"
      },
      "source": [
        "Apóyese de la siguiente estructura para su respuesta:"
      ]
    },
    {
      "cell_type": "code",
      "execution_count": null,
      "metadata": {
        "id": "ZaSuz2NSn7g6"
      },
      "outputs": [],
      "source": [
        "# Lambda de 1.5 (Ley de Tukey) - mantenemos el mismo valor de cte que en la clase para efectos de comparación y porqupe es el de la ley de Tukey por defecto\n",
        "\n",
        "# Definicion las variables que pasarán por cada pipeline\n",
        "numerical_columns = [\"Quantity\", \"Price\"]\n",
        "categorical_columns = [\"Invoice\", \"StockCode\" ,\"Description\", \"InvoiceDate\", \"Customer ID\" ,\"Country\"]\n",
        "\n",
        "# Definicion del pipeline\n",
        "numeric_transformations = Pipeline([(\"iqr_transformer\", IQR(cte=1.5))]) # el pipe espera una lista con tuplas (nombre, transformador)\n",
        "\n",
        "# ColumnTransformer\n",
        "column_transformer = ColumnTransformer([('numerical', numeric_transformations, numerical_columns),\n",
        "                                        ('categorical', \"passthrough\", categorical_columns) # dejo las categoricas con el pss porque aun no defino como las voy a tratar\n",
        "                                        ],                                                   \n",
        "                                        verbose_feature_names_out=False)\n",
        "\n",
        "column_transformer.set_output(transform='pandas') # esto es para asegurarnos que el output devuelva un dataframe y no un array\n",
        "\n",
        "# Aplicamos ColumnTransformer a los datos\n",
        "\n",
        "df_iqr = column_transformer.fit_transform(df_retail) # .fit() devuelve objeto entrenado no el dataframe transformado\n",
        "                                                    # por eso se usa fit_trasnform que si devuelve el dataframe transformado\n",
        "\n",
        "# Gráficos\n",
        "print(\"Dataframe original sin suavizado logarítmico, cte=1.5\")\n",
        "explore_data(df_retail, \"df_retail\", yscale=\"no\") # Plot inicial sin suavizado logarítmico\n",
        "print(\"Dataframe original con suavizado logarítmico, cte=1.5\")\n",
        "explore_data(df_retail, \"df_retail\") # Plot original con suavizado logarítmico\n",
        "print(\"Dataframe tras aplicar IQR sin suavizado logarítmico, cte=1.5\")\n",
        "explore_data(df_iqr, \"df_iqr\", yscale=\"no\") # Plot IQR sin suavizado logarítmico\n",
        "print(\"Dataframe tras aplicar IQR con suavizado logarítmico, cte=1.5\")\n",
        "explore_data(df_iqr, \"df_iqr\", yscale=\"log\") # Plot IQR con suavizado logarítmico"
      ]
    },
    {
      "cell_type": "code",
      "execution_count": null,
      "metadata": {},
      "outputs": [],
      "source": [
        "print(\"Valores nulos en el dataframe inicial, cte=1.5\")\n",
        "df_retail.isna().sum()"
      ]
    },
    {
      "cell_type": "code",
      "execution_count": null,
      "metadata": {},
      "outputs": [],
      "source": [
        "print(\"Valores nulos en el dataframe tras aplicar IQR, cte=1.5\")\n",
        "df_iqr.isna().sum()"
      ]
    },
    {
      "cell_type": "code",
      "execution_count": null,
      "metadata": {},
      "outputs": [],
      "source": [
        "# Lamda de 3 \n",
        "\n",
        "# Definicion las variables que pasarán por cada pipeline\n",
        "numerical_columns = [\"Quantity\", \"Price\"]\n",
        "categorical_columns = [\"Invoice\", \"StockCode\" ,\"Description\", \"InvoiceDate\", \"Customer ID\" ,\"Country\"]\n",
        "\n",
        "# Definicion del pipeline\n",
        "numeric_transformations = Pipeline([(\"iqr_transformer\", IQR(cte=3))]) # el pipe espera una lista con tuplas (nombre, transformador)\n",
        "\n",
        "# ColumnTransformer\n",
        "column_transformer = ColumnTransformer([('numerical', numeric_transformations, numerical_columns),\n",
        "                                        ('categorical', \"passthrough\", categorical_columns) # acá se pudo haber usado remainder si es que\n",
        "                                        ],                                                    # no se especificaban las variables no numéricas \n",
        "                                        verbose_feature_names_out=False)\n",
        "\n",
        "column_transformer.set_output(transform='pandas')\n",
        "\n",
        "# Aplicamos ColumnTransformer a los datos\n",
        "\n",
        "df_iqr = column_transformer.fit_transform(df_retail) # .fit() devuelve objeto entrenado no el dataframe trasnformado, por eso se usa fit_trasnform y no .fit\n",
        "\n",
        "# Gráficos\n",
        "print(\"Dataframe tras aplicar IQR sin suavizado logarítmico, cte=3\")\n",
        "explore_data(df_iqr, \"df_iqr\", yscale=\"no\") # Plot IQR sin suavizado logarítmico\n",
        "print(\"Dataframe tras aplicar IQR con suavizado logarítmico, cte=3\")\n",
        "explore_data(df_iqr, \"df_iqr\", yscale=\"log\") # Plot IQR con suavizado logarítmico"
      ]
    },
    {
      "cell_type": "code",
      "execution_count": null,
      "metadata": {},
      "outputs": [],
      "source": [
        "print(\"Valores nulos en el dataframe inicial, cte=3\")\n",
        "df_retail.isna().sum()"
      ]
    },
    {
      "cell_type": "code",
      "execution_count": null,
      "metadata": {},
      "outputs": [],
      "source": [
        "print(\"Valores nulos en el dataframe tras aplicar IQR, cte=3\")\n",
        "df_iqr.isna().sum()"
      ]
    },
    {
      "cell_type": "code",
      "execution_count": null,
      "metadata": {},
      "outputs": [],
      "source": [
        "# Lambda de 5 \n",
        "\n",
        "# Definicion las variables que pasarán por cada pipeline\n",
        "numerical_columns = [\"Quantity\", \"Price\"]\n",
        "categorical_columns = [\"Invoice\", \"StockCode\" ,\"Description\", \"InvoiceDate\", \"Customer ID\" ,\"Country\"]\n",
        "\n",
        "# Definicion del pipeline\n",
        "numeric_transformations = Pipeline([(\"iqr_transformer\", IQR(cte=5))]) # el pipe espera una lista con tuplas (nombre, transformador)\n",
        "\n",
        "# ColumnTransformer\n",
        "column_transformer = ColumnTransformer([('numerical', numeric_transformations, numerical_columns),\n",
        "                                        ('categorical', \"passthrough\", categorical_columns) # acá se pudo haber usado remainder si es que\n",
        "                                        ],                                                    # no se especificaban las variables no numéricas \n",
        "                                        verbose_feature_names_out=False)\n",
        "\n",
        "column_transformer.set_output(transform='pandas')\n",
        "\n",
        "# Aplicamos ColumnTransformer a los datos\n",
        "\n",
        "df_iqr = column_transformer.fit_transform(df_retail) # .fit() devuelve objeto entrenado no el dataframe transformado, \n",
        "                                                        #por eso se usa fit_trasnform y no .fit\n",
        "\n",
        "# Gráficos\n",
        "print(\"Dataframe tras aplicar IQR sin suavizado logarítmico, cte=5\")\n",
        "explore_data(df_iqr, \"df_iqr\" ,yscale=\"no\") # Plot IQR sin suavizado logarítmico\n",
        "print(\"Dataframe tras aplicar IQR con suavizado logarítmico, cte=5\")\n",
        "explore_data(df_iqr, \"df_iqr\" ,yscale=\"log\") # Plot IQR con suavizado logarítmico"
      ]
    },
    {
      "cell_type": "code",
      "execution_count": null,
      "metadata": {},
      "outputs": [],
      "source": [
        "print(\"Valores nulos en el dataframe inicial, cte=5\")\n",
        "df_retail.isna().sum()"
      ]
    },
    {
      "cell_type": "code",
      "execution_count": null,
      "metadata": {},
      "outputs": [],
      "source": [
        "print(\"Valores nulos en el dataframe tras aplicar IQR, cte=5\")\n",
        "df_iqr.isna().sum()"
      ]
    },
    {
      "cell_type": "markdown",
      "metadata": {
        "id": "yPKnc6UcsDkm"
      },
      "source": [
        "**RESPUESTA**\n",
        "\n",
        "Por lo que pudimos ver, al variar la cte entre 1.5, 3 y 5, pasa que mientras más grande es la cte, más amplio es el rango en que se permiten valores atípicos en las colas y, por lo mismo, menos datos se eliminan. O sea, una cte más chica es más estricta para sacar outliers que una cte más grande. Lo importante es que al momento de definir la cte esto no se haga al azar solo para ahorrarse lidiar con outliers o imputaciones, sino que se debe tener cierto nivel de conocimiento de las variables/distribución + conocimiento experto de la temática, y en base a eso definir una cte adecuada, que podamos argumentar y que haga sentido en el fondo.\n",
        "\n",
        "También revisamos que existe la cte por defecto que deriva de la “Ley de Tukey”, la cual corresponde a 1.5 y se relaciona con la regla de “la pulgada”. En el fondo, esta regla establece una holgura de 1.5 veces el rango intercuartílico en las colas."
      ]
    },
    {
      "cell_type": "markdown",
      "metadata": {
        "id": "MF5s4dqMYCbJ"
      },
      "source": [
        "### 3. Agregando un imputer al pipeline [1.0 puntos]\n",
        "\n"
      ]
    },
    {
      "cell_type": "markdown",
      "metadata": {
        "id": "2Bc9fFeXp-At"
      },
      "source": [
        "<p align=\"center\">\n",
        "  <img width=300 src=\"https://media.makeameme.org/created/hmm-there-is.jpg\">\n",
        "</p>"
      ]
    },
    {
      "cell_type": "markdown",
      "metadata": {
        "id": "uugEdc26vJ5N"
      },
      "source": [
        "Para continuar con la limpieza del dataframe usted decide imputar los datos nulos de las variables numéricas, para lo cual decide realizar las siguientes tareas:\n",
        "\n",
        "1. Crear un pipeline para variables categóricas llamado `categoric_transformations` con un paso llamado `mode_imputer`, en el cual se imputen los datos faltantes por la categoría más frecuente.\n",
        "2. Agregar al pipeline `numeric_transformations` un paso llamado `mean_imputer`, en el cual se imputen los datos por la media usando [SimpleImputer](https://scikit-learn.org/stable/modules/generated/sklearn.impute.SimpleImputer.html) [0.1 puntos]\n",
        "3. Crear y aplicar un `ColumnTransformer` actualizado con los pipelines `categoric_transformations` y `numeric_transformations` a `df_retail`, creando un dataframe llamado `df_mean_imputer`. [0.1 puntos]\n",
        "4. Comparar los resultados de `explore_data` en `df_mean_imputer` y `df_iqr`. ¿Qué diferencias observa en la distribución de los datos? [0.2 puntos]\n",
        "5. Cambiar el imputer de `numeric_transformations` por [KNNImputer](https://scikit-learn.org/stable/modules/generated/sklearn.impute.KNNImputer.html) y definir un nuevo dataframe llamado `df_knn_imputer`, aplicando el nuevo ColumnTransformer a `df_retail`. En caso de los tiempos de ejecución sean altos puede probar a reducir el parámetro `n_neighbors`. [0.1 puntos]\n",
        "6. Comparar los resultados de `explore_data` en `df_knn_imputer` y `df_iqr`. ¿Qué diferencias observa en la distribución de los datos? [0.2 puntos]\n",
        "7. Comparar los resultados de `explore_data` en `df_knn_imputer` y `df_mean_imputer`. ¿Cuál método de imputación es mejor? Deje el método escogido en el ColumnTransformer. [0.2 puntos]\n",
        "\n",
        "**Nota: Fije el parámetro verbose_feature_names_out en `False` y utilice el método set_output con transformación `pandas` en cada ColumnTransformer para obtener como salida un dataframe.**"
      ]
    },
    {
      "cell_type": "markdown",
      "metadata": {
        "id": "ACVUdZZxuo4o"
      },
      "source": [
        "**Respuesta:**"
      ]
    },
    {
      "cell_type": "code",
      "execution_count": null,
      "metadata": {},
      "outputs": [],
      "source": [
        "from sklearn.impute import SimpleImputer, KNNImputer\n",
        "\n",
        "# Defino los tipos de columnas\n",
        "# Estos son los tipos de datos que tenemos en la base category, object, datetime64[ns] y float64 entonces definimos por separado la agrupación para que después se apliquen las imputaciones\n",
        "# correspondientes\n",
        "\n",
        "numeric_cols   = df_retail.select_dtypes(include='float64').columns.tolist()\n",
        "categoric_cols = df_retail.select_dtypes(include=['object','category','datetime64[ns]']).columns.tolist()\n",
        "\n",
        "# PARTE 1 \n",
        "\n",
        "categoric_transformations = Pipeline(steps=[('mode_imputer', SimpleImputer(strategy='most_frequent'))]) # Aquí estamos definiendo el pipe que en el fondo imputará a las variables categóricas \n",
        "                                                                                                        # el valor más frecuente de la categoría\n",
        "                                                                                                        # Si bien desde un punto de vista de \"imputación\" esto se podría hacer, no significa\n",
        "                                                                                                        # que esta sea la forma correcta de imputar todas estas clases de datos. Estrictamente \n",
        "                                                                                                        # deberíamos analizar variable por variable e imputar según correspnda a la naturaleza \n",
        "                                                                                                        # de la misma y lo que se necesite encontrar por decir.\n",
        "                                                                                                        # Acá no se explicitaba pero igual usamos SimpleImputer porque de esta forma salia bien.\n",
        "\n",
        "# PARTE 2 \n",
        "# Aquí piden agregar un paso de \"mean_imputer\" en el pipe de \"numeric_transformations\" por lo que se entiende que debemos mantener el mismo pipe que teniamos definido de antes y a este\n",
        "# agregarle el paso que nos comentan. No se esta pidiendo que redefinamos o que creemos un nuevo pipe por decir, más solo agregar el paso.\n",
        "\n",
        "numeric_transformations = Pipeline([(\"iqr_transformer\", IQR(cte=1.5)), (\"mean_imputer\", SimpleImputer(strategy=\"mean\"))]) # El segundo parentesis, por decir, es el paso que se agrega acá porque \n",
        "                                                                                                                        # el resto venia de la definición inical de este pipe de una sección previa\n",
        "\n",
        "# PARTE 3\n",
        "\n",
        "ct_actualizado = ColumnTransformer( # con esto estoy creando el columntransformer para aplicar en la bbdd con el nombre de ct_actualizado\n",
        "    transformers=[ #aqui defino las diferentes transformaciones que voy a a plicar sobre las diferentes columnas o tipos de datos en vd\n",
        "        ('categoric_transformations', categoric_transformations, categoric_cols), # se compone como del nombre de la transformacion + el pipeline + las colunas donde lo aplicare que en este caso las definimos al inicio segun el tipo de datos que son\n",
        "        ('numeric_transformations',   numeric_transformations,   numeric_cols)\n",
        "    ],\n",
        "    verbose_feature_names_out=False, # esto que tmb aplicamos antes es como para que las columnas no queden renombradas\n",
        "    remainder='passthrough' # esto es como para que no tire error/levante alerta si hay columnas en el df que no se consideren dentro de las transformaciones, entonces así los deje tan cual\n",
        ").set_output(transform='pandas') # por defecto ct me devuelve un array pro yo quiero el dataframe de pandas entonces lo fuerzo a que eso pase por decri\n",
        "\n",
        "df_mean_imputer = ct_actualizado.fit_transform(df_retail) # con esto obtengo el df transformado pero las col no necesarimente están en el mismo orden\n",
        "df_mean_imputer = df_mean_imputer[df_retail.columns] # Con esto puedo volverlas al mismo orden del inicio\n",
        "\n",
        "\n",
        "# PARTE 4 \n",
        "# ahora voy a comparar los datos de \"df_mean_imputer\" y \"df_iqr\" según lo definido al inicio en el \"explore_data\"\n",
        "\n",
        "print(\"PARTE 4: explore_data(df_mean_imputer) vs explore_data(df_iqr)\")\n",
        "explore_data(df_mean_imputer, \"df_mean_imputer\")\n",
        "explore_data(df_iqr, \"df_iqr\")\n",
        "\n",
        "# PARTE 5 \n",
        "\n",
        "# aqui redefino el pipe (en verdad cree uno nuevo por knn) con el nuevo imputador\n",
        "numeric_transformations_knn = Pipeline([(\"iqr_transformer\", IQR(cte=1.5)), (\"knn_imputer\", KNNImputer(n_neighbors=5, weights=\"uniform\", metric=\"nan_euclidean\"))])\n",
        "\n",
        "\n",
        "ct_knn = ColumnTransformer( # Defino el columntransform\n",
        "    transformers=[\n",
        "        ('categoric_transformations', categoric_transformations, categoric_cols), # defino los cambios sobre los tipos de varibales\n",
        "        ('numeric_transformations_knn',   numeric_transformations_knn,   numeric_cols),\n",
        "    ],\n",
        "    verbose_feature_names_out=False, # evito que cambie el nombre de la columna\n",
        "    remainder='passthrough' # aqqui para que no modifique o tire error si hay variables que no tendran modificacion\n",
        ").set_output(transform='pandas') # forzar al df de pandas en lugar del array\n",
        "\n",
        "df_knn_imputer = ct_knn.fit_transform(df_retail) # aqui lo aplico ya a df_retail\n",
        "df_knn_imputer = df_knn_imputer[df_retail.columns] # reordeno las columnas nuevamente\n",
        "\n",
        "\n",
        "# PARTE 6\n",
        "# aca comparo también los diferentes dataframes con las transformaciones de cada uno\n",
        "\n",
        "print(\"PARTE 6: explore_data(df_knn_imputer) vs explore_data(df_iqr)\")\n",
        "explore_data(df_knn_imputer, \"df_knn_imputer\")\n",
        "explore_data(df_iqr, \"df_iqr\")\n",
        "\n",
        "# PARTE 7\n",
        "# Primero tengo que definir la media y desviaion estandar de las varibales numericas, porque este será como mi \n",
        "# baseline para comparar que imputador es mejor\n",
        "\n",
        "ref_mean = df_retail[numeric_cols].mean()\n",
        "ref_std  = df_retail[numeric_cols].std(ddof=1)\n",
        "\n",
        "# Hago como un cálculo de \"distancias simples\" pero en valor absoluto (|Δ media| + |Δ std|). \n",
        "# Mientras menor, mejor por que en el fondo implicaría que esta más cerca de lo \"real\".\n",
        "dist_mean = (ref_mean - df_mean_imputer[numeric_cols].mean()).abs().sum() \\\n",
        "          + (ref_std  - df_mean_imputer[numeric_cols].std(ddof=1)).abs().sum()\n",
        "\n",
        "dist_knn  = (ref_mean - df_knn_imputer[numeric_cols].mean()).abs().sum() \\\n",
        "          + (ref_std  - df_knn_imputer[numeric_cols].std(ddof=1)).abs().sum()\n",
        "\n",
        "print(\"PARTE 7: KNN vs MEAN (comparación cuantitativa simple)\")\n",
        "print(f\"Distancia media+std vs original -> MEAN: {dist_mean:.6f} | KNN: {dist_knn:.6f}\")\n",
        "\n",
        "# aca comparo los resultados\n",
        "print(\"explore_data: df_knn_imputer vs df_mean_imputer\")\n",
        "explore_data(df_knn_imputer, \"df_knn_imputer\")\n",
        "explore_data(df_mean_imputer, \"df_mean_imputer\")\n",
        "\n",
        "# hago un if que me deje automaticamente elegir con cual nos vamos a quedar\n",
        "if dist_knn <= dist_mean:\n",
        "    ct_final = ct_knn\n",
        "    df_imputer_final = df_knn_imputer\n",
        "    metodo_elegido = \"KNNImputer\"\n",
        "else:\n",
        "    ct_final = ct_actualizado\n",
        "    df_imputer_final = df_mean_imputer\n",
        "    metodo_elegido = \"SimpleImputer(mean)\"\n",
        "\n",
        "print(f\"Método de imputación escogido: {metodo_elegido}\")"
      ]
    },
    {
      "cell_type": "markdown",
      "metadata": {
        "id": "buuUiW-9YYZ3"
      },
      "source": [
        "### 4. Creación de nuevas features [2.0 puntos]"
      ]
    },
    {
      "cell_type": "markdown",
      "metadata": {
        "id": "RQSuoL5mubnA"
      },
      "source": [
        "<p align=\"center\">\n",
        "  <img width=250 src=\"https://miro.medium.com/max/1000/1*JtTWgAcfVTWV8OTjT47Atg.jpeg\">\n",
        "</p>\n"
      ]
    },
    {
      "cell_type": "markdown",
      "metadata": {
        "id": "4-yHP5oIvzFS"
      },
      "source": [
        "#### 4.1 Definicion de LRMFP [1.0 puntos]"
      ]
    },
    {
      "cell_type": "markdown",
      "metadata": {
        "id": "qe0V2CnZY8Bc"
      },
      "source": [
        "Dado que Mr. Lepin está interesado en obtener nuevos atributos relevantes para su negocio, su equipo de expertos sugiere la construcción de variables **LRMFP**, las que se construyen en base a las siguientes definiciones:\n",
        "\n",
        "- **Length (L)**: Intervalo de tiempo, en días, entre la primera y la última visita del cliente. Mientras mas grande sea el valor, mas fiel es el cliente.\n",
        "\n",
        "- **Recency (R)**: Indica hace cuanto tiempo el cliente realizo su ultima compra. Notar que para este caso, mientras mas grande es el valor, menos interes posee el usuario para repetir una compra en uno de los locales. **Considere \"hoy\" como la fecha mas reciente del dataset**.\n",
        "\n",
        "- **Monetary (M)**: El término \"monetario\" se refiere a la cantidad media de dinero gastada por cada visita del cliente durante el período de observación y refleja la contribución del cliente a los ingresos de la empresa.\n",
        "\n",
        "- **Frequency (F)**: Se refiere al número total de visitas del cliente durante el periodo de observación. Cuanto mayor sea la frecuencia, mayor será la fidelidad del cliente.\n",
        "\n",
        "- **Periodicity (P)**: Representa si los clientes visitan las tiendas con regularidad.\n",
        "\n",
        "$$Periodicity(n)=std(IVT_1, ..., IVT_n)$$\n",
        "\n",
        "Donde $IVT$ denota el tiempo entre visitas y n representa el número de valores de tiempo entre visitas de un cliente.\n",
        "\n",
        "\n",
        "$$IVT_i=date\\_diff(t_{i+1},t)$$\n",
        "\n",
        "En base a las definiciones señaladas, diseñe una función que permita obtener las características **LRMFP** recibiendo un DataFrame como entrada. Para esto, no estará permitido el uso de iteradores, utilice todas las herramientas que les ofrece `pandas` para realizar esto.\n",
        "\n",
        "Una referencia que le puede ser útil es el [documento original](https://www.researchgate.net/publication/315979555_LRFMP_model_for_customer_segmentation_in_the_grocery_retail_industry_a_case_study) en donde se propone este método."
      ]
    },
    {
      "cell_type": "markdown",
      "metadata": {
        "cell_id": "bee8d549c7c043a5b0cafae0543afadf",
        "deepnote_cell_height": 212.6666717529297,
        "deepnote_cell_type": "markdown",
        "id": "L7ZwWJxhXMfk",
        "tags": []
      },
      "source": [
        "**<u>Formato</u> del Resultado Esperado:**\n",
        "\n",
        "| Customer ID | Length | Recency | Frequency | Monetary | Periodicity |\n",
        "|------------:|-------:|--------:|----------:|---------:|------------:|\n",
        "|   12346.0   |    294 |      67 |        46 |   -64.68 |        37.0 |\n",
        "|   12347.0   |     37 |       3 |        71 |  1323.32 |         0.0 |\n",
        "|   12349.0   |    327 |      43 |       107 |  2646.99 |        78.0 |\n",
        "|   12352.0   |     16 |      11 |        18 |   343.80 |         0.0 |\n",
        "|   12356.0   |     44 |      16 |        84 |  3562.25 |        12.0 |"
      ]
    },
    {
      "cell_type": "markdown",
      "metadata": {
        "cell_id": "3c7f8a4a06a44cbd8d50e8a4decf4c71",
        "deepnote_cell_height": 52.26666259765625,
        "deepnote_cell_type": "markdown",
        "id": "6GaQZaMXXMfk",
        "tags": []
      },
      "source": [
        "**Respuesta:**"
      ]
    },
    {
      "cell_type": "code",
      "execution_count": null,
      "metadata": {},
      "outputs": [],
      "source": [
        "def custom_features(dataframe_in):\n",
        "    \n",
        "    copia = dataframe_in.copy()\n",
        "\n",
        "    copia = copia.sort_values([\"Customer ID\", \"InvoiceDate\"]) # se ordena porque será más útil para adelante\n",
        "\n",
        "    # PARA LENGHT\n",
        "\n",
        "    # Se obtienen columnas customer id, primera_visita y ultima_visita\n",
        "    len = copia.groupby(\"Customer ID\", observed=True)[\"InvoiceDate\"].agg(primera_visita=\"min\", ultima_visita=\"max\").reset_index() # esto es un dataframe\n",
        "   \n",
        "    Lenght = (len[\"ultima_visita\"] - len[\"primera_visita\"]).dt.days # diferencia en días: esto no es un dataframe\n",
        "    \n",
        "    # PARA RECENCY\n",
        "    Recency = np.abs((len[\"ultima_visita\"] - pd.to_datetime(\"today\")).dt.days) # valor absoluto: esto no es un dataframe\n",
        "\n",
        "    # PARA MONETARY\n",
        "    copia[\"dinero_gastado\"] =  copia[\"Quantity\"] * copia[\"Price\"]\n",
        "    \n",
        "    Monetary = copia.groupby(\"Customer ID\", observed=True)[\"dinero_gastado\"].mean().round(2).fillna(0).reset_index(name=\"Monetary\") \n",
        "    # promedio gastado por cliente: esto es un dataframe\n",
        "    # acá me di cuenta que hay un producto con precio 0.0, luego la multiplicacion da nan\n",
        "    \n",
        "    # PARA FREQUENCY\n",
        "    copia[\"fecha\"] = copia[\"InvoiceDate\"].dt.normalize() # convierte a midnight pero quedan los dd/mm/aaaa\n",
        "\n",
        "    Frequency = copia.groupby(\"Customer ID\", observed=True)[\"fecha\"].nunique().reset_index(name=\"Frequency\") \n",
        "    # dataframe con  columnas customer id, fecha y frequency\n",
        "\n",
        "    # PARA PERIODICIDAD\n",
        "    \n",
        "    copia[\"IVT\"] = copia.groupby(\"Customer ID\", observed=True)[\"InvoiceDate\"].diff().dt.days # obtenemos la diferencia de dias para cada cliente\n",
        "\n",
        "    periodicidad = copia.groupby(\"Customer ID\", observed=True)[\"IVT\"].std().round(1).fillna(0).reset_index(name=\"Periodicity\") # se aplica desviacion estandar y reseteamos index\n",
        "    # periodicidad es dataframe con columnas customer id y periodicidad (periodicity)\n",
        "\n",
        "    # si un cliente visita 1 solo dia, no hay std -> se tiene un nan\n",
        "    # Si un cliente visita 2 dias, hay solo un intervalo -> no hay desviación estandar -> arroja nan\n",
        "    \n",
        "    dataframe_out = pd.DataFrame({\n",
        "        \"Customer ID\": len[\"Customer ID\"],\n",
        "        \"Lenght\": Lenght,\n",
        "        \"Recency\": Recency,\n",
        "        \"Monetary\": Monetary[\"Monetary\"],\n",
        "        \"Frequency\": Frequency[\"Frequency\"] ,\n",
        "        \"Periodicity\": periodicidad[\"Periodicity\"]\n",
        "\n",
        "    })\n",
        "    return dataframe_out"
      ]
    },
    {
      "cell_type": "markdown",
      "metadata": {
        "id": "1ddL8wThv36t"
      },
      "source": [
        "#### 4.2 Agregando las custom features [1.0 puntos]"
      ]
    },
    {
      "cell_type": "markdown",
      "metadata": {
        "id": "ehLWiQzjwDm-"
      },
      "source": [
        "Ahora, usted decide agregar al pipeline las nuevas variables creadas, para lo cual realiza las siguientes tareas:\n",
        "\n",
        "1. Cree un nuevo pipeline llamado `retail_pipeline` que encapsule el ColumnTransformer y calcule las LRMFP. El primer paso del pipeline llámelo  `col_tranformer` y el segundo paso llámelo `custom_features`, incorpora las nuevas variables al dataframe. Hint: les puede ser útil investigar [este](https://scikit-learn.org/stable/modules/generated/sklearn.preprocessing.FunctionTransformer.html) método. [0.1 puntos]\n",
        "2. Aplicar el pipeline actualizado a los datos proporcionados por Mr. Cheems, creando un nuevo dataframe llamado `df_custom`. [0.1 puntos]\n",
        "3. Explorar la distribución de las nuevas variables con `explore_data` y comentar brevemente (2-3 líneas) características de cada custom feature. [0.5 puntos]\n",
        "5. Entregar un insight para el negocio en base a las nuevas variables. [0.3 puntos]\n",
        "\n",
        "**Nota:** Recuerde fijar el parámetro `verbose_feature_names_out` en `False` e incorporar el método `set_output` para obtener una salida en formato dataframe del ColumnTransformer."
      ]
    },
    {
      "cell_type": "markdown",
      "metadata": {
        "id": "HVCGxPgtwFsk"
      },
      "source": [
        "**Respuesta**"
      ]
    },
    {
      "cell_type": "code",
      "execution_count": null,
      "metadata": {
        "id": "JxILi3w0wE9Q"
      },
      "outputs": [],
      "source": [
        "custom_features_transformer = FunctionTransformer(custom_features) # uso del hint que pusieron\n",
        "\n",
        "retail_pipe = Pipeline(steps=[\n",
        "                                (\"col_transformer\", ct_knn), \n",
        "                                (\"custom_features\", custom_features_transformer)    \n",
        "                            ])                                                      # se escogió el col_trans de knn\n",
        "\n",
        "df_custom = retail_pipe.fit_transform(df_retail) # acá, se realizan las imputaciones correspondientes con knn"
      ]
    },
    {
      "cell_type": "code",
      "execution_count": null,
      "metadata": {},
      "outputs": [],
      "source": [
        "# Definición de una nueva funcion explore_data\n",
        "\n",
        "def explore_custom(df, name, yscale=\"log\"):\n",
        "    \"\"\" Función que recibe un dataframe, el cual debe contener las columnas\n",
        "    \"Lenght\", \"Recency\", \"Monetary\", \"Frequency\", \"Periodicity\" y \n",
        "    retorna un histograma de cada variable.\n",
        "\n",
        "    Parámetros:\n",
        "    --------------\n",
        "    df: dataframe a tratar.\n",
        "\n",
        "    name: (str) Nombre del dataframe.\n",
        "\n",
        "    yscale: (str) Modifica la escala del eje y porque a veces no\n",
        "                  se puede graficar bien con plotly debido a la cantidad \n",
        "                  de los datos.\n",
        "\n",
        "\n",
        "    \"\"\"\n",
        "    \n",
        "    pio.renderers.default = \"notebook\"\n",
        "\n",
        "    # Impresión de valores nulos por columna\n",
        "    print(\"Valores nulos por columna\")\n",
        "    print(df.isna().sum()) # debería dar 0 porque hubo imputación en todas las variables.\n",
        "\n",
        "    # Histogramas\n",
        "\n",
        "    log = (yscale ==\"log\")\n",
        "\n",
        "    # Lenght\n",
        "\n",
        "    fig1 = px.histogram(\n",
        "        df, x = \"Lenght\", nbins=120,\n",
        "        title=f\"Distribución de Length del dataframe {name}\",\n",
        "        log_y = log\n",
        "    )\n",
        "\n",
        "    fig1.show()\n",
        "\n",
        "    # Recency\n",
        "\n",
        "    fig2 = px.histogram(\n",
        "        df, x = \"Recency\", nbins=120,\n",
        "        title=f\"Distribución de Recency del dataframe {name}\",\n",
        "        log_y = log\n",
        "    )\n",
        "\n",
        "    fig2.show()\n",
        "\n",
        "    # Monetary\n",
        "\n",
        "    fig3 = px.histogram(\n",
        "        df, x = \"Monetary\", nbins=120,\n",
        "        title=f\"Distribución de Monetary del dataframe {name}\",\n",
        "        log_y = log\n",
        "    )\n",
        "\n",
        "    fig3.show()\n",
        "    \n",
        "    # Frequency\n",
        "\n",
        "    fig4 = px.histogram(\n",
        "        df, x = \"Monetary\", nbins=120,\n",
        "        title=f\"Distribución de Frequency del dataframe {name}\",\n",
        "        log_y = log\n",
        "    )\n",
        "\n",
        "    fig4.show()\n",
        "\n",
        "    # Periodicidad\n",
        "\n",
        "    \n",
        "    fig4 = px.histogram(\n",
        "        df, x = \"Periodicity\", nbins=120,\n",
        "        title=f\"Distribución de Periodicity del dataframe {name}\",\n",
        "        log_y = log\n",
        "    )\n",
        "\n",
        "    fig4.show()\n"
      ]
    },
    {
      "cell_type": "code",
      "execution_count": null,
      "metadata": {},
      "outputs": [],
      "source": [
        "explore_custom(df_custom, \"df_custom\", yscale=\"no\")"
      ]
    },
    {
      "cell_type": "markdown",
      "metadata": {
        "id": "qOV0y-e_lS39"
      },
      "source": [
        "### 5. MinMax Scaler [1.0 puntos]"
      ]
    },
    {
      "cell_type": "markdown",
      "metadata": {
        "id": "T55ZgReXvjGe"
      },
      "source": [
        "<p align=\"center\">\n",
        "  <img width=300 src=\"https://i.imgflip.com/1fsprn.jpg\">\n",
        "</p>\n"
      ]
    },
    {
      "cell_type": "markdown",
      "metadata": {
        "id": "4dk2R1kvuu-e"
      },
      "source": [
        "#### 5.1 Definición del Column Transformer [0.5 puntos]"
      ]
    },
    {
      "cell_type": "markdown",
      "metadata": {
        "cell_id": "94c48775ecb4496d970fbd920f65c126",
        "deepnote_cell_height": 268.70001220703125,
        "deepnote_cell_type": "markdown",
        "id": "iWsfp1dKXMfo",
        "tags": []
      },
      "source": [
        "Construya una clase llamada `MinMax()` para realizar una transformación de cada una de las columnas de un DataFrame utilizando `ColumnTransformer()`. Recuerde  usar `BaseEstimator` y `TransformerMixin`.\n",
        "\n",
        "\n",
        " Para esto considere que Min-Max escaler queda dada por la ecuación:\n",
        "\n",
        "$$MinMax = \\dfrac{x-min(x)}{max(x) - min(x)}$$\n",
        "\n",
        "\n",
        "Consulte el siguiente [link](https://sklearn-template.readthedocs.io/en/latest/user_guide.html#transformer) si tiene dudas sobre la creación de custom transformers."
      ]
    },
    {
      "cell_type": "markdown",
      "metadata": {
        "cell_id": "c087d1fa8aa94d7485fe1292bf628660",
        "deepnote_cell_height": 52.26666259765625,
        "deepnote_cell_type": "markdown",
        "id": "MUOLTWPDXMfo",
        "tags": []
      },
      "source": [
        "**Respuesta:**"
      ]
    },
    {
      "cell_type": "code",
      "execution_count": null,
      "metadata": {
        "cell_id": "07cb4dcf097c4c6baabb9ae2bda25caf",
        "deepnote_cell_height": 83.86666870117188,
        "deepnote_cell_type": "code",
        "id": "g15ZMCs-XMfo",
        "tags": []
      },
      "outputs": [],
      "source": [
        "class MinMax(BaseEstimator, TransformerMixin):\n",
        "\n",
        "    def fit(self,X):\n",
        "        #Agregar código aquí\n",
        "        pass\n",
        "\n",
        "    def transform(self,X):\n",
        "        #Agregar código aquí\n",
        "        pass\n",
        "\n",
        "    def set_output(self,transform='default'):\n",
        "        #No modificar este método\n",
        "        return self\n",
        "\n"
      ]
    },
    {
      "cell_type": "markdown",
      "metadata": {
        "id": "RySqWq1Muzp8"
      },
      "source": [
        "#### 5.2 Incorporando MinMax al pipeline [0.5 puntos]"
      ]
    },
    {
      "cell_type": "markdown",
      "metadata": {
        "id": "zmIqjkgDwRsV"
      },
      "source": [
        "Ahora, usted decide agregar el escalamiento al pipeline, para lo que decide seguir los siguientes pasos:\n",
        "\n",
        "- Agregar el paso `minmax` al pipeline `numeric_transformations`, haciendo uso de la clase creada. [0.1 puntos]\n",
        "- Defina el dataframe `df_minmax` aplicando el ColumnTransformer actualizado a los datos proporcionados por Mr. Cheems. [0.1 puntos]\n",
        "- Usar `explore_data` en `df_retail` y en `df_minmax`. [0.1 puntos]\n",
        "- Reportar los cambios observados en la distribución de las variables.  [0.2 puntos]\n",
        "\n",
        "**Nota:** Recuerde fijar el parámetro `verbose_feature_names_out` en `False` e incorporar el método `set_output` para obtener una salida en formato dataframe del ColumnTransformer."
      ]
    },
    {
      "cell_type": "markdown",
      "metadata": {
        "cell_id": "a480355952a34b6cb7e72afa764091d6",
        "deepnote_cell_height": 52.26666259765625,
        "deepnote_cell_type": "markdown",
        "id": "lL2_CyAGXMfp",
        "tags": []
      },
      "source": [
        "**Respuesta:**"
      ]
    },
    {
      "cell_type": "code",
      "execution_count": null,
      "metadata": {
        "cell_id": "1889976b7a4c40c7825752979b577567",
        "deepnote_cell_height": 65.86666870117188,
        "deepnote_cell_type": "code",
        "id": "NmApXgB8XMfp",
        "tags": []
      },
      "outputs": [],
      "source": []
    },
    {
      "cell_type": "markdown",
      "metadata": {
        "id": "iWXlAO8-wfNt"
      },
      "source": [
        "### 6. Pregunta teórica [0.5 puntos]"
      ]
    },
    {
      "cell_type": "markdown",
      "metadata": {
        "id": "JvsFRwpVtMh_"
      },
      "source": [
        "<p align=\"center\">\n",
        "  <img width=300 src=\"https://file.coinexstatic.com/2023-09-19/166BAC031F222E5910954E7D7D0BC844.png\">\n",
        "</p>"
      ]
    },
    {
      "cell_type": "markdown",
      "metadata": {
        "id": "Ou7lQIAHwiZv"
      },
      "source": [
        "Finalmente, explíquele a Mr. Cheems porqué es útil la creación de pipelines al momento de hacer Feature Engineering en Machine Learning."
      ]
    },
    {
      "cell_type": "markdown",
      "metadata": {
        "id": "29QJyzOCwjdD"
      },
      "source": [
        "**Respuesta:**"
      ]
    },
    {
      "cell_type": "markdown",
      "metadata": {
        "id": "YMDYYL1stUVO"
      },
      "source": [
        "Bueno Mr. Cheems, lo que ocurre es que cuando hablamos de *Feature Engineering* nos referimos al proceso de tomar los datos en bruto y transformarlos en variables que sean más claras, útiles y representativas para que un modelo de *Machine Learning* pueda aprender mejor los patrones. La verdad es que no importa tanto si el modelo es complejo o simple, lo que marca la diferencia es la calidad de las variables. O sea, un modelo sencillo, pero con buenas variables puede funcionar mucho mejor que uno complicado con variables mal hechas.\n",
        "\n",
        "Por lo mismo, aparecen los *pipelines*, que son súper importantes porque permiten ordenar todos los pasos de transformación de los datos antes de entrenar el modelo. En vez de ir haciendo cada cosa a mano una y otra vez, el pipeline asegura que procesos como rellenar valores faltantes, escalar, reducir dimensiones o seleccionar variables se hagan siempre en el mismo orden y de la misma manera. Eso ayuda a evitar errores y da más seguridad en lo que estamos haciendo.\n",
        "\n",
        "Gracias a los pipelines podemos tener *reproducibilidad* en el código porque cada vez que se corre, los pasos se repiten exactamente igual, sin sorpresas. También ayuda a evitar el *data leakage*, ya que las transformaciones se ajustan solo con los datos de entrenamiento y después se aplican al conjunto de prueba o validación, respetando la separación entre ellos (o sea, los conjuntos no se “conocen” de antes).\n",
        "\n",
        "Otro punto importante, e igual derivado de lo que explicamos antes, es que los pipelines hacen el trabajo mucho más *rápido y automático* porque basta con llamarlos una vez y todos los pasos se ejecutan sin tener que repetir cada transformación manualmente. Esto además hace que sea más *fácil probar cambios*, porque si quiero reemplazar un paso, lo cambio en el pipeline y se aplica en todo el flujo, sin tener que ir corrigiendo celda por celda.\n",
        "\n",
        "Y, por último, los pipelines también funcionan muy bien con cosas como la *validación cruzada* y la *búsqueda de hiperparámetros*. Esto básicamente significa que, cuando queremos probar distintas configuraciones de un modelo (por ejemplo, distintos parámetros o combinaciones de transformaciones), el pipeline se encarga de que todo el proceso se ejecute de manera ordenada desde el principio hasta el final. Así, no solo se entrena el modelo, sino que también se aplican siempre las mismas transformaciones a los datos en cada prueba, lo que asegura que el preprocesamiento y el modelado estén realmente conectados y trabajen como un todo.\n",
        "\n",
        "Entonces, a modo de resumen, los pipelines son súper útiles porque hacen que todo el proceso de preparar los datos y entrenar modelos sea más ordenado, seguro y eficiente. Ayudan a evitar errores, facilitan la experimentación y aseguran que todo el trabajo que hacemos con los datos se mantenga consistente y reproducible, así que es clave usarlo ademas de ser una buena práctica en ciencia de datos."
      ]
    }
  ],
  "metadata": {
    "colab": {
      "collapsed_sections": [
        "wrG4gYabzAHs",
        "MhISwri4zAHy",
        "QDwIXTh7bK_A",
        "Q6nm_0uWvrFv",
        "F4ZY_N0Ad1GP",
        "ECqH4t-Jvj05",
        "Pse94ohOm1um",
        "MF5s4dqMYCbJ",
        "buuUiW-9YYZ3",
        "1ddL8wThv36t",
        "qOV0y-e_lS39",
        "4dk2R1kvuu-e",
        "RySqWq1Muzp8",
        "iWXlAO8-wfNt"
      ],
      "provenance": []
    },
    "deepnote_execution_queue": [],
    "deepnote_notebook_id": "33c253a4f84d40a091bd5023e95abb64",
    "kernelspec": {
      "display_name": "base",
      "language": "python",
      "name": "python3"
    },
    "language_info": {
      "codemirror_mode": {
        "name": "ipython",
        "version": 3
      },
      "file_extension": ".py",
      "mimetype": "text/x-python",
      "name": "python",
      "nbconvert_exporter": "python",
      "pygments_lexer": "ipython3",
      "version": "3.13.5"
    }
  },
  "nbformat": 4,
  "nbformat_minor": 0
}
