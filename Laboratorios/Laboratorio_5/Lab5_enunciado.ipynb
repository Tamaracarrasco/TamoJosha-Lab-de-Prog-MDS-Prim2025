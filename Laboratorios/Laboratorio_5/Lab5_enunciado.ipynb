{
  "cells": [
    {
      "cell_type": "markdown",
      "metadata": {
        "id": "_Tgm8mCA9Dp3"
      },
      "source": [
        "# Laboratorio 5: Clasificación 🤗\n",
        "\n",
        "<center><strong>MDS7202: Laboratorio de Programación Científica para Ciencia de Datos - Primavera 2025</strong></center>\n"
      ]
    },
    {
      "cell_type": "markdown",
      "metadata": {
        "id": "11Kc_ibM9GXH"
      },
      "source": [
        "### Cuerpo Docente:\n",
        "\n",
        "- Profesores: Diego Cortez, Gabriel Iturra\n",
        "- Auxiliares: Melanie Peña, Valentina Rojas\n",
        "- Ayudantes: Nicolás Cabello, Cristopher Urbina"
      ]
    },
    {
      "cell_type": "markdown",
      "metadata": {
        "id": "u9dUSltr9JrN"
      },
      "source": [
        "### Equipo: SUPER IMPORTANTE - notebooks sin nombre no serán revisados\n",
        "\n",
        "- Nombre de alumno 1: Josefa Anselmo.\n",
        "- Nombre de alumno 2: Tamara Carrasco."
      ]
    },
    {
      "cell_type": "markdown",
      "metadata": {
        "id": "pC1IloytrsAx"
      },
      "source": [
        "### **Link de repositorio de GitHub:** [TamoJosha](https://github.com/Tamaracarrasco/TamoJosha-Lab-de-Prog-MDS-Prim2025)"
      ]
    },
    {
      "cell_type": "markdown",
      "metadata": {
        "id": "YBa48PDF9OHw"
      },
      "source": [
        "### Temas a tratar\n",
        "- Clasificación en problemas desbalanceados\n",
        "- Lightgbm y xgboost\n",
        "- Pipelines"
      ]
    },
    {
      "cell_type": "markdown",
      "metadata": {
        "id": "mkhnnMx49Qrh"
      },
      "source": [
        "## Reglas:\n",
        "\n",
        "- **Grupos de 2 personas**\n",
        "- Fecha de entrega: Entregas Martes a las 23:59.\n",
        "- Instrucciones del lab el viernes a las 16:15 en formato online. Asistencia no es obligatoria, pero se recomienda **fuertemente** asistir.\n",
        "- <u>Prohibidas las copias</u>. Cualquier intento de copia será debidamente penalizado con el reglamento de la escuela.\n",
        "- Tienen que subir el laboratorio a u-cursos y a su repositorio de github. Labs que no estén en u-cursos no serán revisados. Recuerden que el repositorio también tiene nota.\n",
        "- Cualquier duda fuera del horario de clases al foro. Mensajes al equipo docente serán respondidos por este medio.\n",
        "- Pueden usar cualquier material del curso que estimen conveniente.\n",
        "\n"
      ]
    },
    {
      "cell_type": "markdown",
      "metadata": {
        "id": "sxzJ48Vv8quO"
      },
      "source": [
        "\n",
        "\n",
        "### Objetivos principales del laboratorio\n",
        "- Comprender cómo trabajar con problemas de clasificación con clases desbalanceadas.\n",
        "- Aplicar los modelos lightgbm y xgboost.\n",
        "- Practicar Pipelines"
      ]
    },
    {
      "cell_type": "markdown",
      "metadata": {
        "id": "k-ao0mOU64Ru"
      },
      "source": [
        "# Parte Teórica [12 puntos]\n",
        "\n",
        "\n"
      ]
    },
    {
      "cell_type": "markdown",
      "metadata": {
        "id": "ApXKwPDmxcEV"
      },
      "source": [
        "1. Explique cuál es la diferencia entre los datos de entrenamiento y validación. [1 punto]\n",
        "\n",
        "2. Explique cuál es el principal desafío al trabajar problemas de clasificación con data no supervisada. [1 punto]\n",
        "\n",
        "3. Explique en **sus palabras** qué es la matriz de confusión y para qué se utiliza. [1 puntos]\n",
        "\n",
        "4. Escriba la fórmula de las siguientes métricas y explique con **sus palabras** cómo se interpretan. [1 punto cada uno]\n",
        "\n",
        "  * Accuracy\n",
        "  * Precision\n",
        "  * Recall\n",
        "  * F1 score\n",
        "\n",
        "5. Explique qué métrica recomendaría para los siguientes contextos de clasificación. [1 punto cada uno]\n",
        "\n",
        "  * Mantenimiento predictivo de fallas de maquinaria pesada en la industria minera.  \n",
        "  * Detección de enfermedades altamente contagiosas.\n",
        "  * Aprobación de créditos de alto riesgo.\n",
        "  * Detección de crímenes.\n",
        "\n",
        "6. Explique qué es la calibración de modelos y para qué se usa. [1 punto]\n"
      ]
    },
    {
      "cell_type": "markdown",
      "metadata": {
        "id": "Yy4QMWD8-FPk"
      },
      "source": [
        "**Respuesta:**"
      ]
    },
    {
      "cell_type": "markdown",
      "metadata": {
        "id": "QYFdD1aK-ICa"
      },
      "source": [
        "\n",
        "**Respuesta 1:** \n",
        "El conjunto de entrenamiento se utiliza para ajustar los parámetros del modelo, es decir, los valores internos que minimizan una función de pérdida. Por ejemplo, en una regresión lineal, este conjunto permite estimar los coeficientes β que relacionan las variables predictoras con la variable respuesta.\n",
        "\n",
        "El conjunto de validación, en cambio, no se usa para entrenar parámetros, sino para evaluar el desempeño intermedio del modelo y así seleccionar la mejor configuración de hiperparámetros (profundidad máxima de un árbol, número de neuronas en una red, etc.). De esta forma se busca evitar sobreajuste y elegir el modelo con mejor capacidad de generalización.\n",
        "\n",
        "Como nota adicional, existe el conjunto de prueba, que se reserva para la etapa final y se emplea únicamente para estimar el rendimiento del modelo con datos totalmente nuevos, garantizando así una evaluación objetiva de su capacidad predictiva.\n",
        "\n",
        "**Respuesta 2:** \n",
        "El principal desafío al abordar un problema de clasificación en un escenario no supervisado es la ausencia de etiquetas de clase.\n",
        "\n",
        "En un modelo supervisado, las etiquetas permiten entrenar al algoritmo aprendiendo patrones entre las variables predictoras y la clase objetivo, y posteriormente evaluar su desempeño comparando predicciones contra la verdad conocida. En cambio, en un contexto no supervisado no existe esta referencia pues el modelo debe descubrir estructuras o agrupaciones únicamente a partir de las características de los datos, que no sean producto del azar.\n",
        "\n",
        "Esto dificulta tanto el entrenamiento (no hay un criterio explícito que guíe la separación entre clases) como la evaluación (es complejo determinar si los grupos encontrados representan categorías útiles o coherentes sin información externa).\n",
        "\n",
        "**Repsuesta 3:** \n",
        "La matriz de confusión es una tabla que resume los resultados de un modelo de clasificación, mostrando cuántas observaciones de cada clase fueron correctamente clasificadas y cuántas fueron confundidas con otra clase.\n",
        "\n",
        "En ella, cada fila corresponde normalmente a las clases reales y cada columna a las clases predichas por el modelo (o viceversa). De este modo, en la diagonal principal aparecen las predicciones correctas, mientras que fuera de la diagonal se reflejan los errores de haber predecido una clase que no correspondía.\n",
        "\n",
        "Se utiliza porque permite analizar con mayor detalle el desempeño del modelo. Entonces, no solo indica la exactitud global, sino que muestra qué clases se confunden entre sí, y a partir de ella se pueden calcular métricas importantes como precisión, recall, F1-score y Accuracy, entre otras.\n",
        "\n",
        "**Respuesta 4:** \n",
        "Considerando un problema de clasificación binaria con:\n",
        "\n",
        "- TP: (*True positives*) verdaderos positivos\n",
        "- TN: (*True Negative*) verdaderos negativos\n",
        "- FP: (*False Positive*) falsos positivos, o también conocido como los Errores tipo 2.\n",
        "- FN: (*False Negative*) falsos negativos, o también conocido como los Errores tipo 1.\n",
        "\n",
        "* Accuracy: Indica la proporción de predicciones correctas sobre el total de casos. Es una medida global, aunque puede ser poco informativa si las clases están desbalanceadas.\n",
        "$$\n",
        "\\frac{TP + TN}{TP + TN + FP +FN}\n",
        "$$\n",
        "\n",
        "* Precision: De todos los casos que el modelo predijo como positivos, muestra cuántos realmente son positivos. Es clave cuando el costo de obtener un falso positivo es alto.\n",
        "\n",
        "$$\n",
        "\\frac{TP}{TP + FP}\n",
        "$$\n",
        "\n",
        "\n",
        "* Recall: De todos los casos positivos reales, mide cuántos fueron detectados por el modelo. Es importante cuando el costo de obtener un falso negativo es alto.\n",
        "\n",
        "$$\n",
        "\\frac{TP}{TP + FN}\n",
        "$$\n",
        "\n",
        "* F1-Score: Es la media armónica entre precision y recall, equilibrando ambas métricas. El factor 2 se debe a la definición de la media armónica. Resulta útil cuando se necesita un balance entre detectar positivos y evitar falsos positivos.\n",
        "\n",
        "$$\n",
        "F1- Score = 2\\frac{Precision \\cdot Recall}{Precision + Recall}\n",
        "$$\n",
        "El F1-Score es la media armónica entre precision y recall, equilibrando ambas métricas. El factor 2 proviene de la definición de la media armónica.\n",
        "\n",
        "Estas métricas también pueden extenderse a problemas multiclase mediante esquemas como micro, macro o weighted averaging.\n",
        "\n",
        "**Respuesta 5**:\n",
        "1. **Mantenimiento predictivo en minería**: La clase positiva es la falla de la máquina. El costo de un falso negativo (no detectar una falla real) puede ser muy alto, ya que genera accidentes o pérdidas millonarias. Sin embargo, un exceso de falsos positivos implica parar innecesariamente la operación. Por ello, se recomienda el F1-score, que balancea recall y precision.\n",
        "\n",
        "2. **Detección de enfermedades altamente contagiosas**: Aquí el riesgo principal son los falsos negativos (personas enfermas clasificadas como sanas), que permiten la propagación de la enfermedad. Se debe priorizar el Recall, aunque eso implique más falsos positivos (aislar a alguien sano).\n",
        "\n",
        "3. **Aprobación de créditos de alto riesgo**: El error más grave es un falso positivo (aprobar un crédito riesgoso como si fuera seguro). Lo fundamental es asegurar que quienes son aprobados realmente lo merecen, por lo que se recomienda maximizar la Precision.\n",
        "\n",
        "4. **Detección de crímenes**: El objetivo es no pasar por alto situaciones delictivas, por lo que se debe maximizar el Recall. Sin embargo, desplegar recursos en exceso debido a falsos positivos también es costoso. En este contexto, el F1-score resulta adecuado para equilibrar ambos aspectos.\n",
        "\n",
        "**Respuesta 6:** \n",
        "La calibración de modelos consiste en ajustar las probabilidades estimadas por un modelo de clasificación de manera que reflejen lo más fielmente posible la probabilidad real de que una observación pertenezca a una clase determinada.\n",
        "\n",
        "En la práctica, muchos modelos entregan probabilidades “mal calibradas”. Por ejemplo, un modelo puede asignar una probabilidad de 0.8, pero que en la realidad solo se cumple en el 60% de los casos. La calibración busca corregir este desajuste mediante técnicas como Platt Scaling o Isotonic Regression.\n",
        "\n",
        "Se utiliza para mejorar la interpretabilidad y confiabilidad de las probabilidades predichas, lo cual es fundamental en contextos de toma de decisiones sensibles (ejemplo: medicina, riesgo crediticio o mantenimiento predictivo), donde no basta con clasificar, sino que es necesario conocer la probabilidad real asociada a cada evento."
      ]
    },
    {
      "cell_type": "markdown",
      "metadata": {
        "id": "Jg_9jBqtgRDO"
      },
      "source": [
        "# Parte práctica [48 puntos]"
      ]
    },
    {
      "cell_type": "markdown",
      "metadata": {
        "id": "slm6yRfdfZwS"
      },
      "source": [
        "<p align=\"center\">\n",
        "  <img src=\"https://drive.google.com/uc?export=view&id=1BnO4tyh3vM2P199Ec9s3JjngQ4qQ9seP\"\n",
        "\" width=\"300\">\n",
        "</p>\n",
        "\n",
        "\n",
        "Tras el trágico despido de la mítica mascota de Maipú, Renacín decide adentrarse como consultor en el mercado futbolero, el cuál (para variar...) está cargado en especulaciones.\n",
        "\n",
        "Como su principal tarea será asesorar a los directivos de los clubes sobre cuál jugador comprar y cuál no, Renacín desea generar modelos predictivos que evaluén distintas características de los jugadores; todo con el fin de tomar decisiones concretas basadas en los datos.\n",
        "\n",
        "Sin embargo, su condición de corporeo le impidió tomar la versión anterior de MDS7202, por lo que este motivo Renacín contrata a su equipo para lograr su objetivo final. Dado que aún tiene fuertes vínculos con la dirección de deportes de la municipalidad, el corporeo le entrega base de datos con las estadísticas de cada jugador para que su equipo empieze a trabajar ya con un dataset listo para ser usado.\n"
      ]
    },
    {
      "cell_type": "markdown",
      "metadata": {
        "id": "jnbx7RwHfkue"
      },
      "source": [
        "**Los Datos**\n",
        "\n",
        "Para este laboratorio deberán trabajar con el csv `statsplayers.csv`, donde deberán aplicar algoritmos de aprendizaje supervisado de clasificación en base a características que describen de jugadores de fútbol.\n",
        "\n",
        "Para comenzar cargue el dataset señalado y a continuación vea el reporte **`Player_Stats_Report.html`** (adjunto en la carpeta del enunciado) que describe las características principales del `DataFrame`."
      ]
    },
    {
      "cell_type": "code",
      "execution_count": 1,
      "metadata": {
        "colab": {
          "base_uri": "https://localhost:8080/"
        },
        "id": "TAMk7Ca3alvV",
        "outputId": "17c42422-a819-4635-beb2-422d2a51dc05"
      },
      "outputs": [
        {
          "name": "stderr",
          "output_type": "stream",
          "text": [
            "WARNING: Ignoring invalid distribution ~ (C:\\Users\\senza\\AppData\\Local\\Packages\\PythonSoftwareFoundation.Python.3.11_qbz5n2kfra8p0\\LocalCache\\local-packages\\Python311\\site-packages)\n",
            "WARNING: Ignoring invalid distribution ~cikit-learn (C:\\Users\\senza\\AppData\\Local\\Packages\\PythonSoftwareFoundation.Python.3.11_qbz5n2kfra8p0\\LocalCache\\local-packages\\Python311\\site-packages)\n",
            "WARNING: Ignoring invalid distribution ~ (C:\\Users\\senza\\AppData\\Local\\Packages\\PythonSoftwareFoundation.Python.3.11_qbz5n2kfra8p0\\LocalCache\\local-packages\\Python311\\site-packages)\n",
            "WARNING: Ignoring invalid distribution ~cikit-learn (C:\\Users\\senza\\AppData\\Local\\Packages\\PythonSoftwareFoundation.Python.3.11_qbz5n2kfra8p0\\LocalCache\\local-packages\\Python311\\site-packages)\n",
            "WARNING: Skipping xarray as it is not installed.\n",
            "WARNING: Ignoring invalid distribution ~ (C:\\Users\\senza\\AppData\\Local\\Packages\\PythonSoftwareFoundation.Python.3.11_qbz5n2kfra8p0\\LocalCache\\local-packages\\Python311\\site-packages)\n",
            "WARNING: Ignoring invalid distribution ~cikit-learn (C:\\Users\\senza\\AppData\\Local\\Packages\\PythonSoftwareFoundation.Python.3.11_qbz5n2kfra8p0\\LocalCache\\local-packages\\Python311\\site-packages)\n",
            "WARNING: Skipping plotnine as it is not installed.\n",
            "WARNING: Ignoring invalid distribution ~ (C:\\Users\\senza\\AppData\\Local\\Packages\\PythonSoftwareFoundation.Python.3.11_qbz5n2kfra8p0\\LocalCache\\local-packages\\Python311\\site-packages)\n",
            "WARNING: Ignoring invalid distribution ~cikit-learn (C:\\Users\\senza\\AppData\\Local\\Packages\\PythonSoftwareFoundation.Python.3.11_qbz5n2kfra8p0\\LocalCache\\local-packages\\Python311\\site-packages)\n",
            "WARNING: Ignoring invalid distribution ~ (C:\\Users\\senza\\AppData\\Local\\Packages\\PythonSoftwareFoundation.Python.3.11_qbz5n2kfra8p0\\LocalCache\\local-packages\\Python311\\site-packages)\n",
            "WARNING: Ignoring invalid distribution ~cikit-learn (C:\\Users\\senza\\AppData\\Local\\Packages\\PythonSoftwareFoundation.Python.3.11_qbz5n2kfra8p0\\LocalCache\\local-packages\\Python311\\site-packages)\n",
            "WARNING: Ignoring invalid distribution ~ (C:\\Users\\senza\\AppData\\Local\\Packages\\PythonSoftwareFoundation.Python.3.11_qbz5n2kfra8p0\\LocalCache\\local-packages\\Python311\\site-packages)\n",
            "WARNING: Ignoring invalid distribution ~cikit-learn (C:\\Users\\senza\\AppData\\Local\\Packages\\PythonSoftwareFoundation.Python.3.11_qbz5n2kfra8p0\\LocalCache\\local-packages\\Python311\\site-packages)\n",
            "\n",
            "[notice] A new release of pip is available: 25.0.1 -> 25.2\n",
            "[notice] To update, run: C:\\Users\\senza\\AppData\\Local\\Microsoft\\WindowsApps\\PythonSoftwareFoundation.Python.3.11_qbz5n2kfra8p0\\python.exe -m pip install --upgrade pip\n",
            "WARNING: Ignoring invalid distribution ~ (C:\\Users\\senza\\AppData\\Local\\Packages\\PythonSoftwareFoundation.Python.3.11_qbz5n2kfra8p0\\LocalCache\\local-packages\\Python311\\site-packages)\n",
            "WARNING: Ignoring invalid distribution ~cikit-learn (C:\\Users\\senza\\AppData\\Local\\Packages\\PythonSoftwareFoundation.Python.3.11_qbz5n2kfra8p0\\LocalCache\\local-packages\\Python311\\site-packages)\n",
            "WARNING: Ignoring invalid distribution ~ (C:\\Users\\senza\\AppData\\Local\\Packages\\PythonSoftwareFoundation.Python.3.11_qbz5n2kfra8p0\\LocalCache\\local-packages\\Python311\\site-packages)\n",
            "WARNING: Ignoring invalid distribution ~cikit-learn (C:\\Users\\senza\\AppData\\Local\\Packages\\PythonSoftwareFoundation.Python.3.11_qbz5n2kfra8p0\\LocalCache\\local-packages\\Python311\\site-packages)\n",
            "WARNING: Ignoring invalid distribution ~ (C:\\Users\\senza\\AppData\\Local\\Packages\\PythonSoftwareFoundation.Python.3.11_qbz5n2kfra8p0\\LocalCache\\local-packages\\Python311\\site-packages)\n",
            "WARNING: Ignoring invalid distribution ~cikit-learn (C:\\Users\\senza\\AppData\\Local\\Packages\\PythonSoftwareFoundation.Python.3.11_qbz5n2kfra8p0\\LocalCache\\local-packages\\Python311\\site-packages)\n",
            "WARNING: Ignoring invalid distribution ~ (C:\\Users\\senza\\AppData\\Local\\Packages\\PythonSoftwareFoundation.Python.3.11_qbz5n2kfra8p0\\LocalCache\\local-packages\\Python311\\site-packages)\n",
            "WARNING: Ignoring invalid distribution ~cikit-learn (C:\\Users\\senza\\AppData\\Local\\Packages\\PythonSoftwareFoundation.Python.3.11_qbz5n2kfra8p0\\LocalCache\\local-packages\\Python311\\site-packages)\n",
            "\n",
            "[notice] A new release of pip is available: 25.0.1 -> 25.2\n",
            "[notice] To update, run: C:\\Users\\senza\\AppData\\Local\\Microsoft\\WindowsApps\\PythonSoftwareFoundation.Python.3.11_qbz5n2kfra8p0\\python.exe -m pip install --upgrade pip\n"
          ]
        }
      ],
      "source": [
        "# Tengo que aplicar este tratamiento para poder usar Pycaret sin problemas de versiones porque daba error todo el rato\n",
        "!pip -q uninstall -y scikit-learn imbalanced-learn pandas numpy scipy matplotlib umap-learn xarray plotnine || true\n",
        "!pip -q install --no-deps scikit-learn==1.3.2 imbalanced-learn==0.11.0 numpy==1.26.4 pandas==2.1.4 scipy==1.11.4 matplotlib==3.7.5\n",
        "!pip -q install pycaret==3.3.2 lightgbm==4.0.0 xgboost==1.7.6 catboost==1.2.5 umap-learn==0.5.5"
      ]
    },
    {
      "cell_type": "code",
      "execution_count": 2,
      "metadata": {
        "colab": {
          "base_uri": "https://localhost:8080/"
        },
        "id": "lk87P-MoamVP",
        "outputId": "5725d9cc-2007-4dfa-81e6-bd59f35d6332"
      },
      "outputs": [],
      "source": [
        "# Importo librerias necesarias para esta etapa\n",
        "import sklearn, imblearn, numpy, pandas, matplotlib\n",
        "\n",
        "from pycaret.classification import setup, compare_models, pull, get_config"
      ]
    },
    {
      "cell_type": "markdown",
      "metadata": {
        "id": "JdcucZhp-M_0"
      },
      "source": [
        "## 1. Predicción de Seleccionados Nacionales [14 puntos]"
      ]
    },
    {
      "cell_type": "markdown",
      "metadata": {
        "id": "HXrewqxjjzvA"
      },
      "source": [
        "<p align=\"center\">\n",
        "  <img src=\"https://www.futuro.cl/wp-content/uploads/2016/06/chile-argentina-meme-12.jpg\" width=\"300\">\n",
        "</p>\n",
        "\n"
      ]
    },
    {
      "cell_type": "markdown",
      "metadata": {
        "id": "Qfre1YsSDqla"
      },
      "source": [
        "### 1.1 Preprocesamiento [5 puntos]"
      ]
    },
    {
      "cell_type": "markdown",
      "metadata": {
        "id": "IR00u4HTDtxv"
      },
      "source": [
        "Tareas:\n",
        "\n",
        "1. Genere los labels para la clasificación binaria en una variable llamada `label`. Para esto, trabaje sobre el atributo `National_Position` suponiendo que los valores nulos son jugadores no seleccionados para representar a su país. [Sin puntaje]\n",
        "\n",
        "2. Hecho esto, ¿cuántos se tienen ejemplos por cada clase? Comente lo que observa. [1 punto]\n",
        "\n",
        "3. Genere un `ColumnTransformer` en donde especifique las transformaciones que hay que realizar para cada columna (por ejemplo StandarScaler, MinMaxScaler, OneHotEncoder, etc...) para que puedan ser utilizadas correctamente por el modelo predictivo y guárdelo una variable llamada `col_transformer`. [2 puntos]\n",
        "\n",
        "4. Comente y justifique las transformaciones elegidas sobre cada una de las variables (para esto utilice el material `Player_Stats_Report.html` que viene en el zip del lab), al igual que las transformaciones aplicadas. [2 puntos]"
      ]
    },
    {
      "cell_type": "markdown",
      "metadata": {
        "id": "tgAk0kbPjEsx"
      },
      "source": [
        "**Respuesta:**"
      ]
    },
    {
      "cell_type": "markdown",
      "metadata": {},
      "source": [
        "Importamos las librerías"
      ]
    },
    {
      "cell_type": "code",
      "execution_count": 3,
      "metadata": {
        "colab": {
          "base_uri": "https://localhost:8080/"
        },
        "id": "JhC2sZj9dSI1",
        "outputId": "c107ecb0-7e6a-462f-ed8d-7a4167b22a9e"
      },
      "outputs": [],
      "source": [
        "import numpy as np\n",
        "import pandas as pd\n",
        "import matplotlib.pyplot as plt\n",
        "\n",
        "from sklearn.compose import ColumnTransformer\n",
        "from sklearn.pipeline import Pipeline\n",
        "\n",
        "from sklearn.impute import SimpleImputer\n",
        "\n",
        "from sklearn.preprocessing import StandardScaler, MinMaxScaler, OneHotEncoder, LabelEncoder, OrdinalEncoder"
      ]
    },
    {
      "cell_type": "markdown",
      "metadata": {},
      "source": [
        "Importamos la base de datos"
      ]
    },
    {
      "cell_type": "code",
      "execution_count": 4,
      "metadata": {},
      "outputs": [],
      "source": [
        "data = pd.read_csv(\"stats_players.csv\", sep=\",\")"
      ]
    },
    {
      "cell_type": "markdown",
      "metadata": {},
      "source": [
        "Despliego algunos estadísticos descriptivos"
      ]
    },
    {
      "cell_type": "code",
      "execution_count": 5,
      "metadata": {},
      "outputs": [
        {
          "name": "stdout",
          "output_type": "stream",
          "text": [
            "Dimensiones del dataset de los stats (17588, 39)\n",
            "Columnas del dataset de stats ['Name', 'Nationality', 'National_Position', 'Club_Position', 'Height', 'Weight', 'Preffered_Foot', 'Age', 'Work_Rate', 'Weak_foot', 'Skill_Moves', 'Ball_Control', 'Dribbling', 'Marking', 'Sliding_Tackle', 'Standing_Tackle', 'Aggression', 'Reactions', 'Interceptions', 'Vision', 'Composure', 'Crossing', 'Short_Pass', 'Long_Pass', 'Acceleration', 'Speed', 'Stamina', 'Strength', 'Balance', 'Agility', 'Jumping', 'Heading', 'Shot_Power', 'Finishing', 'Long_Shots', 'Curve', 'Freekick_Accuracy', 'Penalties', 'Volleys']\n",
            "Información de los valores de las columnas\n",
            "<class 'pandas.core.frame.DataFrame'>\n",
            "RangeIndex: 17588 entries, 0 to 17587\n",
            "Data columns (total 39 columns):\n",
            " #   Column             Non-Null Count  Dtype \n",
            "---  ------             --------------  ----- \n",
            " 0   Name               17588 non-null  object\n",
            " 1   Nationality        17588 non-null  object\n",
            " 2   National_Position  1075 non-null   object\n",
            " 3   Club_Position      17587 non-null  object\n",
            " 4   Height             17588 non-null  int64 \n",
            " 5   Weight             17588 non-null  int64 \n",
            " 6   Preffered_Foot     17588 non-null  object\n",
            " 7   Age                17588 non-null  int64 \n",
            " 8   Work_Rate          17588 non-null  object\n",
            " 9   Weak_foot          17588 non-null  int64 \n",
            " 10  Skill_Moves        17588 non-null  int64 \n",
            " 11  Ball_Control       17588 non-null  int64 \n",
            " 12  Dribbling          17588 non-null  int64 \n",
            " 13  Marking            17588 non-null  int64 \n",
            " 14  Sliding_Tackle     17588 non-null  int64 \n",
            " 15  Standing_Tackle    17588 non-null  int64 \n",
            " 16  Aggression         17588 non-null  int64 \n",
            " 17  Reactions          17588 non-null  int64 \n",
            " 18  Interceptions      17588 non-null  int64 \n",
            " 19  Vision             17588 non-null  int64 \n",
            " 20  Composure          17588 non-null  int64 \n",
            " 21  Crossing           17588 non-null  int64 \n",
            " 22  Short_Pass         17588 non-null  int64 \n",
            " 23  Long_Pass          17588 non-null  int64 \n",
            " 24  Acceleration       17588 non-null  int64 \n",
            " 25  Speed              17588 non-null  int64 \n",
            " 26  Stamina            17588 non-null  int64 \n",
            " 27  Strength           17588 non-null  int64 \n",
            " 28  Balance            17588 non-null  int64 \n",
            " 29  Agility            17588 non-null  int64 \n",
            " 30  Jumping            17588 non-null  int64 \n",
            " 31  Heading            17588 non-null  int64 \n",
            " 32  Shot_Power         17588 non-null  int64 \n",
            " 33  Finishing          17588 non-null  int64 \n",
            " 34  Long_Shots         17588 non-null  int64 \n",
            " 35  Curve              17588 non-null  int64 \n",
            " 36  Freekick_Accuracy  17588 non-null  int64 \n",
            " 37  Penalties          17588 non-null  int64 \n",
            " 38  Volleys            17588 non-null  int64 \n",
            "dtypes: int64(33), object(6)\n",
            "memory usage: 5.2+ MB\n"
          ]
        },
        {
          "data": {
            "text/html": [
              "<div>\n",
              "<style scoped>\n",
              "    .dataframe tbody tr th:only-of-type {\n",
              "        vertical-align: middle;\n",
              "    }\n",
              "\n",
              "    .dataframe tbody tr th {\n",
              "        vertical-align: top;\n",
              "    }\n",
              "\n",
              "    .dataframe thead th {\n",
              "        text-align: right;\n",
              "    }\n",
              "</style>\n",
              "<table border=\"1\" class=\"dataframe\">\n",
              "  <thead>\n",
              "    <tr style=\"text-align: right;\">\n",
              "      <th></th>\n",
              "      <th>Name</th>\n",
              "      <th>Nationality</th>\n",
              "      <th>National_Position</th>\n",
              "      <th>Club_Position</th>\n",
              "      <th>Height</th>\n",
              "      <th>Weight</th>\n",
              "      <th>Preffered_Foot</th>\n",
              "      <th>Age</th>\n",
              "      <th>Work_Rate</th>\n",
              "      <th>Weak_foot</th>\n",
              "      <th>...</th>\n",
              "      <th>Agility</th>\n",
              "      <th>Jumping</th>\n",
              "      <th>Heading</th>\n",
              "      <th>Shot_Power</th>\n",
              "      <th>Finishing</th>\n",
              "      <th>Long_Shots</th>\n",
              "      <th>Curve</th>\n",
              "      <th>Freekick_Accuracy</th>\n",
              "      <th>Penalties</th>\n",
              "      <th>Volleys</th>\n",
              "    </tr>\n",
              "  </thead>\n",
              "  <tbody>\n",
              "    <tr>\n",
              "      <th>0</th>\n",
              "      <td>Cristiano Ronaldo</td>\n",
              "      <td>Portugal</td>\n",
              "      <td>LS</td>\n",
              "      <td>LW</td>\n",
              "      <td>185</td>\n",
              "      <td>80</td>\n",
              "      <td>Right</td>\n",
              "      <td>32</td>\n",
              "      <td>High / Low</td>\n",
              "      <td>4</td>\n",
              "      <td>...</td>\n",
              "      <td>90</td>\n",
              "      <td>95</td>\n",
              "      <td>85</td>\n",
              "      <td>92</td>\n",
              "      <td>93</td>\n",
              "      <td>90</td>\n",
              "      <td>81</td>\n",
              "      <td>76</td>\n",
              "      <td>85</td>\n",
              "      <td>88</td>\n",
              "    </tr>\n",
              "    <tr>\n",
              "      <th>1</th>\n",
              "      <td>Lionel Messi</td>\n",
              "      <td>Argentina</td>\n",
              "      <td>RW</td>\n",
              "      <td>RW</td>\n",
              "      <td>170</td>\n",
              "      <td>72</td>\n",
              "      <td>Left</td>\n",
              "      <td>29</td>\n",
              "      <td>Medium / Medium</td>\n",
              "      <td>4</td>\n",
              "      <td>...</td>\n",
              "      <td>90</td>\n",
              "      <td>68</td>\n",
              "      <td>71</td>\n",
              "      <td>85</td>\n",
              "      <td>95</td>\n",
              "      <td>88</td>\n",
              "      <td>89</td>\n",
              "      <td>90</td>\n",
              "      <td>74</td>\n",
              "      <td>85</td>\n",
              "    </tr>\n",
              "    <tr>\n",
              "      <th>2</th>\n",
              "      <td>Neymar</td>\n",
              "      <td>Brazil</td>\n",
              "      <td>LW</td>\n",
              "      <td>LW</td>\n",
              "      <td>174</td>\n",
              "      <td>68</td>\n",
              "      <td>Right</td>\n",
              "      <td>25</td>\n",
              "      <td>High / Medium</td>\n",
              "      <td>5</td>\n",
              "      <td>...</td>\n",
              "      <td>96</td>\n",
              "      <td>61</td>\n",
              "      <td>62</td>\n",
              "      <td>78</td>\n",
              "      <td>89</td>\n",
              "      <td>77</td>\n",
              "      <td>79</td>\n",
              "      <td>84</td>\n",
              "      <td>81</td>\n",
              "      <td>83</td>\n",
              "    </tr>\n",
              "    <tr>\n",
              "      <th>3</th>\n",
              "      <td>Luis Suárez</td>\n",
              "      <td>Uruguay</td>\n",
              "      <td>LS</td>\n",
              "      <td>ST</td>\n",
              "      <td>182</td>\n",
              "      <td>85</td>\n",
              "      <td>Right</td>\n",
              "      <td>30</td>\n",
              "      <td>High / Medium</td>\n",
              "      <td>4</td>\n",
              "      <td>...</td>\n",
              "      <td>86</td>\n",
              "      <td>69</td>\n",
              "      <td>77</td>\n",
              "      <td>87</td>\n",
              "      <td>94</td>\n",
              "      <td>86</td>\n",
              "      <td>86</td>\n",
              "      <td>84</td>\n",
              "      <td>85</td>\n",
              "      <td>88</td>\n",
              "    </tr>\n",
              "    <tr>\n",
              "      <th>4</th>\n",
              "      <td>Manuel Neuer</td>\n",
              "      <td>Germany</td>\n",
              "      <td>GK</td>\n",
              "      <td>GK</td>\n",
              "      <td>193</td>\n",
              "      <td>92</td>\n",
              "      <td>Right</td>\n",
              "      <td>31</td>\n",
              "      <td>Medium / Medium</td>\n",
              "      <td>4</td>\n",
              "      <td>...</td>\n",
              "      <td>52</td>\n",
              "      <td>78</td>\n",
              "      <td>25</td>\n",
              "      <td>25</td>\n",
              "      <td>13</td>\n",
              "      <td>16</td>\n",
              "      <td>14</td>\n",
              "      <td>11</td>\n",
              "      <td>47</td>\n",
              "      <td>11</td>\n",
              "    </tr>\n",
              "  </tbody>\n",
              "</table>\n",
              "<p>5 rows × 39 columns</p>\n",
              "</div>"
            ],
            "text/plain": [
              "                Name Nationality National_Position Club_Position  Height  \\\n",
              "0  Cristiano Ronaldo    Portugal                LS            LW     185   \n",
              "1       Lionel Messi   Argentina                RW            RW     170   \n",
              "2             Neymar      Brazil                LW            LW     174   \n",
              "3        Luis Suárez     Uruguay                LS            ST     182   \n",
              "4       Manuel Neuer     Germany                GK            GK     193   \n",
              "\n",
              "   Weight Preffered_Foot  Age        Work_Rate  Weak_foot  ...  Agility  \\\n",
              "0      80          Right   32       High / Low          4  ...       90   \n",
              "1      72           Left   29  Medium / Medium          4  ...       90   \n",
              "2      68          Right   25    High / Medium          5  ...       96   \n",
              "3      85          Right   30    High / Medium          4  ...       86   \n",
              "4      92          Right   31  Medium / Medium          4  ...       52   \n",
              "\n",
              "   Jumping  Heading  Shot_Power  Finishing  Long_Shots  Curve  \\\n",
              "0       95       85          92         93          90     81   \n",
              "1       68       71          85         95          88     89   \n",
              "2       61       62          78         89          77     79   \n",
              "3       69       77          87         94          86     86   \n",
              "4       78       25          25         13          16     14   \n",
              "\n",
              "   Freekick_Accuracy  Penalties  Volleys  \n",
              "0                 76         85       88  \n",
              "1                 90         74       85  \n",
              "2                 84         81       83  \n",
              "3                 84         85       88  \n",
              "4                 11         47       11  \n",
              "\n",
              "[5 rows x 39 columns]"
            ]
          },
          "execution_count": 5,
          "metadata": {},
          "output_type": "execute_result"
        }
      ],
      "source": [
        "print(\"Dimensiones del dataset de los stats\", data.shape)\n",
        "\n",
        "print(\"Columnas del dataset de stats\", data.columns.tolist())\n",
        "\n",
        "print(\"Información de los valores de las columnas\")\n",
        "data.info()\n",
        "data.head()"
      ]
    },
    {
      "cell_type": "markdown",
      "metadata": {},
      "source": [
        "**Pregunta 1**"
      ]
    },
    {
      "cell_type": "code",
      "execution_count": 6,
      "metadata": {
        "colab": {
          "base_uri": "https://localhost:8080/"
        },
        "id": "AzyGnGXoAYyC",
        "outputId": "aa770a3f-e69e-450f-d047-0da7ced2b497"
      },
      "outputs": [
        {
          "name": "stdout",
          "output_type": "stream",
          "text": [
            "Conteo de valores de National_Position \n",
            " National_Position\n",
            "NaN    16513\n",
            "Sub      556\n",
            "LCB       48\n",
            "GK        47\n",
            "RCB       46\n",
            "LB        39\n",
            "RB        38\n",
            "RM        34\n",
            "LM        32\n",
            "ST        30\n",
            "LCM       25\n",
            "RCM       25\n",
            "LDM       19\n",
            "CAM       19\n",
            "RDM       18\n",
            "RS        18\n",
            "LS        18\n",
            "CB         9\n",
            "CDM        9\n",
            "CM         9\n",
            "RW         7\n",
            "LW         7\n",
            "LWB        4\n",
            "RAM        4\n",
            "LAM        4\n",
            "RWB        4\n",
            "RF         3\n",
            "LF         3\n",
            "Name: count, dtype: int64\n",
            "\n",
            " Cantidad de valores únicos de National_Position:  27\n"
          ]
        }
      ],
      "source": [
        "# Estadísticos variable National_Position\n",
        "\n",
        "print(\"Conteo de valores de National_Position \\n\", data[\"National_Position\"].value_counts(dropna=False))\n",
        "\n",
        "print(\"\\n Cantidad de valores únicos de National_Position: \", data[\"National_Position\"].nunique())"
      ]
    },
    {
      "cell_type": "code",
      "execution_count": 7,
      "metadata": {
        "colab": {
          "base_uri": "https://localhost:8080/",
          "height": 178
        },
        "id": "DKDUBd1gAYyC",
        "outputId": "ca522399-4227-41ce-9f29-03b07607f604"
      },
      "outputs": [],
      "source": [
        "# Creación label\n",
        "\n",
        "# Primero relleno los NaN de National_Position con la palabra \"Vacío\"\n",
        "\n",
        "data[\"National_Position\"] = data[\"National_Position\"].fillna(\"Vacío\")\n",
        "\n",
        "# Aquí procedo a crear la variable \"label\" (0 y 1) en base a National_Position\n",
        "# y considerando la modificación previa en la variable con \"Vacío\"\n",
        "\n",
        "data.loc[data[\"National_Position\"] == \"Vacío\", \"label\"] = 0\n",
        "data.loc[data[\"National_Position\"] != \"Vacío\", \"label\"] = 1"
      ]
    },
    {
      "cell_type": "code",
      "execution_count": 8,
      "metadata": {},
      "outputs": [
        {
          "data": {
            "text/plain": [
              "label\n",
              "0.0    16513\n",
              "1.0     1075\n",
              "Name: count, dtype: int64"
            ]
          },
          "execution_count": 8,
          "metadata": {},
          "output_type": "execute_result"
        }
      ],
      "source": [
        "# Aplico el value counts para poder comprobar que se asignaron correctamente considerando que previo a todo había aplicado esto para National_Position.\n",
        "data[\"label\"].value_counts()"
      ]
    },
    {
      "cell_type": "markdown",
      "metadata": {
        "id": "MAo8ii6sAYyD"
      },
      "source": [
        "**Pregunta 2:**\n",
        "\n",
        "Se observa un fuerte desbalance de clases, donde menos de un 7% de los registros corresponden a la clase positiva (seleccionados). Esto implica que un modelo que predijera siempre “no seleccionado” ya alcanzaría una accuracy cercana al 94%. Sin embargo, sería un modelo inútil. Por lo tanto, este desbalance debe ser tenido en cuenta en el modelado (p. ej. ajustando pesos de clase, aplicando técnicas de sobremuestreo/undersampling, o usando métricas como recall, precision o F1-score en lugar de solo accuracy)."
      ]
    },
    {
      "cell_type": "markdown",
      "metadata": {},
      "source": [
        "**Pregunta 3:** "
      ]
    },
    {
      "cell_type": "code",
      "execution_count": 9,
      "metadata": {
        "colab": {
          "base_uri": "https://localhost:8080/"
        },
        "id": "vEd-aReJAYyD",
        "outputId": "e0d8263d-33f3-448f-9de7-acc15d187ed9"
      },
      "outputs": [],
      "source": [
        "# Listar columnas\n",
        "drop_cols = [\n",
        "    \"Name\",\n",
        "    \"National_Position\"\n",
        "]\n",
        "\n",
        "# 2. OHE (cardinalidad moderada)\n",
        "ohe_nationality = [\"Nationality\"]\n",
        "\n",
        "# 4. Club_Position: OHE + imputación (1 missing) -> NO se dropean filas\n",
        "ohe_clubpos = [\"Club_Position\"]\n",
        "\n",
        "# 7. Preferred_Foot: Dejamos explícitamente el orden ['Left','Right'] y drop='if_binary'\n",
        "#    => la única columna resultante será el indicador de 'Right' (1 = Right).\n",
        "ohe_binary_foot = [\"Preffered_Foot\"]\n",
        "\n",
        "# 9. Work_Rate: OHE\n",
        "ohe_workrate = [\"Work_Rate\"]\n",
        "\n",
        "# 10–11. Ordinal (1..5)\n",
        "\n",
        "ord_1to5 = [\"Weak_foot\", \"Skill_Moves\"]\n",
        "cats_1to5 = [[1, 2, 3, 4, 5]] * len(ord_1to5)\n",
        "\n",
        "# 5–6, 8, 12–39. Numéricas (StandardScaler)\n",
        "num_std = [\n",
        "    \"Height\", \"Weight\", \"Age\",\n",
        "    \"Ball_Control\", \"Dribbling\", \"Marking\", \"Sliding_Tackle\", \"Standing_Tackle\",\n",
        "    \"Aggression\", \"Reactions\", \"Interceptions\", \"Vision\",\n",
        "    \"Composure\", \"Crossing\", \"Short_Pass\", \"Long_Pass\",\n",
        "    \"Acceleration\", \"Speed\", \"Stamina\", \"Strength\", \"Balance\", \"Agility\",\n",
        "    \"Jumping\", \"Heading\",\n",
        "    \"Shot_Power\", \"Finishing\", \"Long_Shots\", \"Curve\",\n",
        "    \"Freekick_Accuracy\", \"Penalties\", \"Volleys\"\n",
        "]\n",
        "\n",
        "### PIPELINES POR GRUPO\n",
        "\n",
        "# numéricas\n",
        "num_std_pipe = Pipeline([\n",
        "    (\"imp\", SimpleImputer(strategy=\"median\")),\n",
        "    (\"sc\",  StandardScaler())\n",
        "])\n",
        "\n",
        "# categóricas \n",
        "cat_ohe_pipe = Pipeline([\n",
        "    (\"imp\", SimpleImputer(strategy=\"most_frequent\")),\n",
        "    (\"ohe\", OneHotEncoder(handle_unknown=\"ignore\", sparse_output=True))\n",
        "])\n",
        "\n",
        "# Mapeo binario fijo: columna única = indicador de 'Right'\n",
        "binary_foot_pipe = Pipeline([\n",
        "    (\"imp\", SimpleImputer(strategy=\"most_frequent\")),\n",
        "    (\"ohe\", OneHotEncoder(\n",
        "        categories=[[\"Left\",\"Right\"]],\n",
        "        drop=\"if_binary\",\n",
        "        handle_unknown=\"ignore\",\n",
        "        sparse_output=True\n",
        "    ))\n",
        "])\n",
        "\n",
        "ordinal_1to5_pipe = Pipeline([\n",
        "    (\"imp\", SimpleImputer(strategy=\"most_frequent\")),\n",
        "    (\"ord\", OrdinalEncoder(\n",
        "        categories=cats_1to5,\n",
        "        handle_unknown=\"use_encoded_value\",  # por si aparece algo fuera de 1..5\n",
        "        unknown_value=-1  # este valor será el codificado para categorías desconocidas.\n",
        "    ))\n",
        "])\n",
        "\n",
        "# COLUMNTRANSFORMER FINAL\n",
        "col_transformer = ColumnTransformer(\n",
        "    transformers=[\n",
        "        (\"drop_ids\",     \"drop\",           drop_cols),\n",
        "        (\"num_std\",      num_std_pipe,     num_std),\n",
        "        (\"ohe_nat\",      cat_ohe_pipe,     ohe_nationality),\n",
        "        (\"ohe_clubpos\",  cat_ohe_pipe,     ohe_clubpos),\n",
        "        (\"ohe_workrate\", cat_ohe_pipe,     ohe_workrate),\n",
        "        (\"ohe_foot\",     binary_foot_pipe, ohe_binary_foot),\n",
        "        (\"ord_1to5\",     ordinal_1to5_pipe, ord_1to5),\n",
        "    ],\n",
        ")"
      ]
    },
    {
      "cell_type": "markdown",
      "metadata": {
        "id": "WqdawBEyYXmA"
      },
      "source": [
        "**Pregunta 4:** Comente y justifique las transformaciones elegidas sobre cada una de las variables (para esto utilice el material `Player_Stats_Report.html` que viene en el zip del lab), al igual que las transformaciones aplicadas.\n",
        "\n",
        "En primer lugar, se descartaron aquellas variables que no aportan información útil para el modelado o que pueden inducir overfitting o data leakage.\n",
        "\n",
        "- \"Name\" se eliminó porque es un identificador único sin valor predictivo y que podría inducir al modelo a memorizar.\n",
        "\n",
        "- \"National_Position\" también fue descartada, ya que a partir de esta se generó directamente la variable objetivo (label), por lo cual mantenerla representaría una fuga de información. Además tenía más de un 90% de missing values.\n",
        "\n",
        "- En el caso de variables categóricas con alta cardinalidad, como Nationality, se aplicó OneHotEncoder con handle_unknown=\"ignore\". Esta elección permite representar cada país como una variable binaria, evitando asignar un orden artificial inexistente y controlando el problema de países poco frecuentes que podrían aparecer en datos futuros.\n",
        "\n",
        "- Para \"Club_Position\", categórica con baja cardinalidad, también se aplicó OneHotEncoder. El único valor faltante fue imputado con la moda, evitando descartar el registro completo. Esto se justifica dado que la pérdida de un jugador reduciría innecesariamente la base de entrenamiento.\n",
        "\n",
        "- En \"Preferred_Foot\", categórica binaria (“Left”/“Right”), se utilizó OneHotEncoder con categorías definidas explícitamente. Esto asegura que la codificación refleje correctamente la lógica de la variable, resultando en un único indicador binario donde el valor 1 representa “Right”.\n",
        "\n",
        "- La variable \"Work_Rate\", de naturaleza categórica ordinal compuesta (p.ej., “High/Low”), se transformó mediante OneHotEncoder. Aunque posee una componente ordinal implícita (High > Medium > Low), el hecho de que combine ataque y defensa hace más coherente tratarla como categorías independientes sin imponer un orden lineal.\n",
        "\n",
        "- Las variables ordinales de 1 a 5, como \"Weak_Foot\" y \"Skill_Moves\", fueron codificadas con OrdinalEncoder. En estos casos, el orden sí es fundamental pues un jugador con 5 estrellas domina mejor que uno con 2, y esa información ordinal debe preservarse en la codificación.\n",
        "\n",
        "En cuanto a las variables numéricas de atributos técnicos, físicos y psicológicos, tales como \"Height\", \"Weight\", \"Age\", \"Ball_Control\", \"Dribbling\", \"Aggression\", \"Reactions\", \"Acceleration\", \"Strength\", \"Finishing\", \"Stamina\", \"Vision\", entre otras (todas reportadas en el informe), se aplicó StandardScaler. La elección de este transformador se justifica porque la mayoría de estas variables se encuentran en una escala común (0–100 en los atributos técnicos, con distribuciones aproximadamente normales y solo leves asimetrías), lo cual permite que modelos sensibles a la escala, como máquinas de soporte vectorial o regresión logística regularizada, se beneficien al trabajar con predictores de media cero y desviación estándar uno. Previo al escalado, se utilizó SimpleImputer con la mediana como estrategia de imputación, ya que, a diferencia de la media, la mediana es más robusta frente a la presencia de outliers moderados observados en ciertas variables (por ejemplo, \"Height\" y \"Weight\"), evitando así que valores atípicos distorsionen la representación de los datos. Si bien los outliers son escasos, debemos imputarlos para no inducir pérdidas de observaciones en el entrenamiento."
      ]
    },
    {
      "cell_type": "markdown",
      "metadata": {
        "id": "Bv1HOfcNEPF4"
      },
      "source": [
        "### 1.2 Entrenamiento [3 puntos]"
      ]
    },
    {
      "cell_type": "markdown",
      "metadata": {
        "id": "whPkuXTUBvB0"
      },
      "source": [
        "Ahora, vamos a entrenar los pipelines generados en los pasos anteriores. Para esto, debe realizar las siguientes tareas:\n",
        "\n",
        "1. Separe los datos de entrenamiento en un conjunto de entrenamiento y de prueba  (la proporción queda a su juicio). En este paso, seleccione los ejemplos de forma aleatoria e intente mantener la distribución original de labels de cada clase en los conjuntos de prueba/entrenamiento. (vea la documentación de `train_test_split`). [1 puntos]\n",
        "\n",
        "\n",
        "2. Defina un pipeline llamado `pipeline_xgboost` y otro llamado `pipeline_lightgbm`. Estos pipelines deben tener el mismo ColumnTransformer definido en la sección de preprocesamiento, pero deben variar los clasificadores de acuerdo al nombre de cada pipeline. [1 puntos]\n",
        "\n",
        "3. Entrene los pipelines. [1 punto]\n",
        "\n"
      ]
    },
    {
      "cell_type": "code",
      "execution_count": 10,
      "metadata": {
        "colab": {
          "base_uri": "https://localhost:8080/"
        },
        "id": "-zmJBcHaAYyE",
        "outputId": "9eb7589b-66e6-490d-ae29-53656290cb71"
      },
      "outputs": [
        {
          "name": "stdout",
          "output_type": "stream",
          "text": [
            "Requirement already satisfied: lightgbm in c:\\users\\senza\\appdata\\local\\packages\\pythonsoftwarefoundation.python.3.11_qbz5n2kfra8p0\\localcache\\local-packages\\python311\\site-packages (4.0.0)\n",
            "Requirement already satisfied: numpy in c:\\users\\senza\\appdata\\local\\packages\\pythonsoftwarefoundation.python.3.11_qbz5n2kfra8p0\\localcache\\local-packages\\python311\\site-packages (from lightgbm) (1.26.4)\n",
            "Requirement already satisfied: scipy in c:\\users\\senza\\appdata\\local\\packages\\pythonsoftwarefoundation.python.3.11_qbz5n2kfra8p0\\localcache\\local-packages\\python311\\site-packages (from lightgbm) (1.11.4)\n",
            "Note: you may need to restart the kernel to use updated packages.\n"
          ]
        },
        {
          "name": "stderr",
          "output_type": "stream",
          "text": [
            "WARNING: Ignoring invalid distribution ~ (C:\\Users\\senza\\AppData\\Local\\Packages\\PythonSoftwareFoundation.Python.3.11_qbz5n2kfra8p0\\LocalCache\\local-packages\\Python311\\site-packages)\n",
            "WARNING: Ignoring invalid distribution ~cikit-learn (C:\\Users\\senza\\AppData\\Local\\Packages\\PythonSoftwareFoundation.Python.3.11_qbz5n2kfra8p0\\LocalCache\\local-packages\\Python311\\site-packages)\n",
            "WARNING: Ignoring invalid distribution ~ (C:\\Users\\senza\\AppData\\Local\\Packages\\PythonSoftwareFoundation.Python.3.11_qbz5n2kfra8p0\\LocalCache\\local-packages\\Python311\\site-packages)\n",
            "WARNING: Ignoring invalid distribution ~cikit-learn (C:\\Users\\senza\\AppData\\Local\\Packages\\PythonSoftwareFoundation.Python.3.11_qbz5n2kfra8p0\\LocalCache\\local-packages\\Python311\\site-packages)\n",
            "WARNING: Ignoring invalid distribution ~ (C:\\Users\\senza\\AppData\\Local\\Packages\\PythonSoftwareFoundation.Python.3.11_qbz5n2kfra8p0\\LocalCache\\local-packages\\Python311\\site-packages)\n",
            "WARNING: Ignoring invalid distribution ~cikit-learn (C:\\Users\\senza\\AppData\\Local\\Packages\\PythonSoftwareFoundation.Python.3.11_qbz5n2kfra8p0\\LocalCache\\local-packages\\Python311\\site-packages)\n",
            "WARNING: Ignoring invalid distribution ~ (C:\\Users\\senza\\AppData\\Local\\Packages\\PythonSoftwareFoundation.Python.3.11_qbz5n2kfra8p0\\LocalCache\\local-packages\\Python311\\site-packages)\n",
            "WARNING: Ignoring invalid distribution ~cikit-learn (C:\\Users\\senza\\AppData\\Local\\Packages\\PythonSoftwareFoundation.Python.3.11_qbz5n2kfra8p0\\LocalCache\\local-packages\\Python311\\site-packages)\n",
            "\n",
            "[notice] A new release of pip is available: 25.0.1 -> 25.2\n",
            "[notice] To update, run: C:\\Users\\senza\\AppData\\Local\\Microsoft\\WindowsApps\\PythonSoftwareFoundation.Python.3.11_qbz5n2kfra8p0\\python.exe -m pip install --upgrade pip\n"
          ]
        },
        {
          "name": "stdout",
          "output_type": "stream",
          "text": [
            "Requirement already satisfied: xgboost in c:\\users\\senza\\appdata\\local\\packages\\pythonsoftwarefoundation.python.3.11_qbz5n2kfra8p0\\localcache\\local-packages\\python311\\site-packages (1.7.6)\n",
            "Requirement already satisfied: numpy in c:\\users\\senza\\appdata\\local\\packages\\pythonsoftwarefoundation.python.3.11_qbz5n2kfra8p0\\localcache\\local-packages\\python311\\site-packages (from xgboost) (1.26.4)\n",
            "Requirement already satisfied: scipy in c:\\users\\senza\\appdata\\local\\packages\\pythonsoftwarefoundation.python.3.11_qbz5n2kfra8p0\\localcache\\local-packages\\python311\\site-packages (from xgboost) (1.11.4)\n",
            "Note: you may need to restart the kernel to use updated packages.\n"
          ]
        },
        {
          "name": "stderr",
          "output_type": "stream",
          "text": [
            "WARNING: Ignoring invalid distribution ~ (C:\\Users\\senza\\AppData\\Local\\Packages\\PythonSoftwareFoundation.Python.3.11_qbz5n2kfra8p0\\LocalCache\\local-packages\\Python311\\site-packages)\n",
            "WARNING: Ignoring invalid distribution ~cikit-learn (C:\\Users\\senza\\AppData\\Local\\Packages\\PythonSoftwareFoundation.Python.3.11_qbz5n2kfra8p0\\LocalCache\\local-packages\\Python311\\site-packages)\n",
            "WARNING: Ignoring invalid distribution ~ (C:\\Users\\senza\\AppData\\Local\\Packages\\PythonSoftwareFoundation.Python.3.11_qbz5n2kfra8p0\\LocalCache\\local-packages\\Python311\\site-packages)\n",
            "WARNING: Ignoring invalid distribution ~cikit-learn (C:\\Users\\senza\\AppData\\Local\\Packages\\PythonSoftwareFoundation.Python.3.11_qbz5n2kfra8p0\\LocalCache\\local-packages\\Python311\\site-packages)\n",
            "WARNING: Ignoring invalid distribution ~ (C:\\Users\\senza\\AppData\\Local\\Packages\\PythonSoftwareFoundation.Python.3.11_qbz5n2kfra8p0\\LocalCache\\local-packages\\Python311\\site-packages)\n",
            "WARNING: Ignoring invalid distribution ~cikit-learn (C:\\Users\\senza\\AppData\\Local\\Packages\\PythonSoftwareFoundation.Python.3.11_qbz5n2kfra8p0\\LocalCache\\local-packages\\Python311\\site-packages)\n",
            "WARNING: Ignoring invalid distribution ~ (C:\\Users\\senza\\AppData\\Local\\Packages\\PythonSoftwareFoundation.Python.3.11_qbz5n2kfra8p0\\LocalCache\\local-packages\\Python311\\site-packages)\n",
            "WARNING: Ignoring invalid distribution ~cikit-learn (C:\\Users\\senza\\AppData\\Local\\Packages\\PythonSoftwareFoundation.Python.3.11_qbz5n2kfra8p0\\LocalCache\\local-packages\\Python311\\site-packages)\n",
            "\n",
            "[notice] A new release of pip is available: 25.0.1 -> 25.2\n",
            "[notice] To update, run: C:\\Users\\senza\\AppData\\Local\\Microsoft\\WindowsApps\\PythonSoftwareFoundation.Python.3.11_qbz5n2kfra8p0\\python.exe -m pip install --upgrade pip\n"
          ]
        }
      ],
      "source": [
        "%pip install lightgbm\n",
        "%pip install xgboost"
      ]
    },
    {
      "cell_type": "markdown",
      "metadata": {
        "id": "kbadONFtjGnE"
      },
      "source": [
        "**Respuesta:**"
      ]
    },
    {
      "cell_type": "markdown",
      "metadata": {
        "id": "G720DKxdAYyE"
      },
      "source": [
        "<https://lightgbm.readthedocs.io/en/latest/pythonapi/lightgbm.LGBMClassifier.html>"
      ]
    },
    {
      "cell_type": "markdown",
      "metadata": {},
      "source": [
        "**Pregunta 1**"
      ]
    },
    {
      "cell_type": "code",
      "execution_count": 11,
      "metadata": {
        "colab": {
          "base_uri": "https://localhost:8080/"
        },
        "id": "lLtlXGTPdWAV",
        "outputId": "1a833791-2d8c-4f0d-930e-e5faff6f6c8d"
      },
      "outputs": [],
      "source": [
        "from sklearn.model_selection  import train_test_split\n",
        "\n",
        "df2_x = data.drop(columns=\"label\").copy()\n",
        "df2_y = data[\"label\"]\n",
        "\n",
        "X_train, X_test, y_train, y_test = train_test_split(df2_x, df2_y, train_size=0.7, stratify=df2_y, random_state=42)"
      ]
    },
    {
      "cell_type": "markdown",
      "metadata": {},
      "source": [
        "**Pregunta 2**"
      ]
    },
    {
      "cell_type": "code",
      "execution_count": 12,
      "metadata": {},
      "outputs": [],
      "source": [
        "from xgboost import XGBClassifier\n",
        "from lightgbm import LGBMClassifier\n",
        "\n",
        "# Pipeline con XGBoost\n",
        "pipeline_xgboost = Pipeline(\n",
        "    steps=[\n",
        "        (\"col_transformer\", col_transformer),\n",
        "        (\"classifier\", XGBClassifier(\n",
        "            n_estimators=100,\n",
        "            learning_rate=0.01,\n",
        "            objective=\"binary:logistic\",\n",
        "            device=\"cuda\",             \n",
        "            tree_method=\"gpu_hist\",   \n",
        "            verbosity=0,\n",
        "            random_state=42\n",
        "        ))\n",
        "    ]\n",
        ")\n",
        "\n",
        "# Pipeline con LightGBM\n",
        "pipeline_lightgbm = Pipeline(\n",
        "    steps=[\n",
        "        (\"col_transformer\", col_transformer),\n",
        "        (\"classifier\", LGBMClassifier(\n",
        "            boosting_type=\"gbdt\",      \n",
        "            objective=\"binary\",    \n",
        "            n_estimators=100,\n",
        "            learning_rate=0.01,\n",
        "            device=\"gpu\",             \n",
        "            random_state=42\n",
        "        ))\n",
        "    ]\n",
        ")"
      ]
    },
    {
      "cell_type": "markdown",
      "metadata": {},
      "source": [
        "**Pregunta 3**"
      ]
    },
    {
      "cell_type": "code",
      "execution_count": 13,
      "metadata": {},
      "outputs": [
        {
          "name": "stderr",
          "output_type": "stream",
          "text": [
            "  File \"C:\\Users\\senza\\AppData\\Local\\Packages\\PythonSoftwareFoundation.Python.3.11_qbz5n2kfra8p0\\LocalCache\\local-packages\\Python311\\site-packages\\joblib\\externals\\loky\\backend\\context.py\", line 257, in _count_physical_cores\n",
            "    cpu_info = subprocess.run(\n",
            "               ^^^^^^^^^^^^^^^\n",
            "  File \"C:\\Program Files\\WindowsApps\\PythonSoftwareFoundation.Python.3.11_3.11.2544.0_x64__qbz5n2kfra8p0\\Lib\\subprocess.py\", line 548, in run\n",
            "    with Popen(*popenargs, **kwargs) as process:\n",
            "         ^^^^^^^^^^^^^^^^^^^^^^^^^^^\n",
            "  File \"C:\\Program Files\\WindowsApps\\PythonSoftwareFoundation.Python.3.11_3.11.2544.0_x64__qbz5n2kfra8p0\\Lib\\subprocess.py\", line 1026, in __init__\n",
            "    self._execute_child(args, executable, preexec_fn, close_fds,\n",
            "  File \"C:\\Program Files\\WindowsApps\\PythonSoftwareFoundation.Python.3.11_3.11.2544.0_x64__qbz5n2kfra8p0\\Lib\\subprocess.py\", line 1538, in _execute_child\n",
            "    hp, ht, pid, tid = _winapi.CreateProcess(executable, args,\n",
            "                       ^^^^^^^^^^^^^^^^^^^^^^^^^^^^^^^^^^^^^^^\n"
          ]
        },
        {
          "name": "stdout",
          "output_type": "stream",
          "text": [
            "[LightGBM] [Info] Number of positive: 752, number of negative: 11559\n",
            "[LightGBM] [Info] This is the GPU trainer!!\n",
            "[LightGBM] [Info] Total Bins 2651\n",
            "[LightGBM] [Info] Number of data points in the train set: 12311, number of used features: 139\n",
            "[LightGBM] [Info] Using GPU Device: NVIDIA GeForce RTX 4060 Laptop GPU, Vendor: NVIDIA Corporation\n",
            "[LightGBM] [Info] Compiling OpenCL Kernel with 256 bins...\n",
            "[LightGBM] [Info] GPU programs have been built\n",
            "[LightGBM] [Info] Size of histogram bin entry: 8\n",
            "[LightGBM] [Info] 36 dense feature groups (0.42 MB) transferred to GPU in 0.009679 secs. 1 sparse feature groups\n",
            "[LightGBM] [Info] [binary:BoostFromScore]: pavg=0.061084 -> initscore=-2.732483\n",
            "[LightGBM] [Info] Start training from score -2.732483\n"
          ]
        }
      ],
      "source": [
        "## entrenamiento de xgb\n",
        "\n",
        "pipeline_xgboost.fit(X_train, y_train)\n",
        "\n",
        "\n",
        "## entrenamiento de lgbm\n",
        "pipeline_lightgbm.fit(X_train, y_train)\n",
        "\n",
        "## predicciones\n",
        "\n",
        "y_pred_xgb = pipeline_xgboost.predict(X_test)\n",
        "y_pred_lgbm = pipeline_lightgbm.predict(X_test)"
      ]
    },
    {
      "cell_type": "markdown",
      "metadata": {},
      "source": [
        "**En esta etapa mantuvimos la distribución original vía stratified split. La corrección del desbalance se evaluará durante la validación (clase weights/SMOTE/umbral) según el comportamiento de Recall, Precision, F1 y AUC-PR.**"
      ]
    },
    {
      "cell_type": "code",
      "execution_count": 14,
      "metadata": {},
      "outputs": [],
      "source": [
        "# Guardar pipelines y resultados en el computador\n",
        "\n",
        "import os, joblib\n",
        "\n",
        "# Definir carpeta \n",
        "base_path = os.path.join(os.getcwd(), \"Laboratorios\", \"Laboratorio_5\", \"data\")\n",
        "os.makedirs(base_path, exist_ok=True)\n",
        "\n",
        "# Guardar modelos entrenados\n",
        "joblib.dump(pipeline_xgboost,  os.path.join(base_path, \"xgboost_model.pkl\"))\n",
        "joblib.dump(pipeline_lightgbm, os.path.join(base_path, \"lightgbm_model.pkl\"))\n",
        "\n",
        "# Guardar predicciones\n",
        "pred_df = pd.DataFrame({\n",
        "    \"y_true\": y_test,\n",
        "    \"y_pred_xgb\": y_pred_xgb,\n",
        "    \"y_pred_lgbm\": y_pred_lgbm\n",
        "})\n",
        "pred_df.to_csv(os.path.join(base_path, \"predicciones_modelos.csv\"), index=False)\n",
        "\n",
        "# Guardar probabilidades para métricas AUC\n",
        "y_proba_xgb  = pipeline_xgboost.predict_proba(X_test)[:, 1]\n",
        "y_proba_lgbm = pipeline_lightgbm.predict_proba(X_test)[:, 1]\n",
        "\n",
        "pd.DataFrame({\n",
        "    \"y_true\": y_test,\n",
        "    \"proba_xgb\": y_proba_xgb,\n",
        "    \"proba_lgbm\": y_proba_lgbm\n",
        "}).to_csv(os.path.join(base_path, \"probas_modelos.csv\"), index=False)"
      ]
    },
    {
      "cell_type": "code",
      "execution_count": 15,
      "metadata": {},
      "outputs": [],
      "source": [
        "# Guardo modelos con pickle\n",
        "\n",
        "import pickle\n",
        "\n",
        "# Definir carpeta base\n",
        "base_path = os.path.join(os.getcwd(), \"Laboratorios\", \"Laboratorio_5\", \"data\")\n",
        "os.makedirs(base_path, exist_ok=True)\n",
        "\n",
        "# Guardar predicciones\n",
        "pd.DataFrame({\"predicciones\": y_pred_xgb}).to_csv(\n",
        "    os.path.join(base_path, \"predicciones_xgb.csv\"), index=False\n",
        ")\n",
        "\n",
        "# Guardar modelo\n",
        "with open(os.path.join(base_path, \"xgboost_model.sav\"), \"wb\") as f:\n",
        "    pickle.dump(pipeline_xgboost, f)\n",
        "\n",
        "# Cargar modelo\n",
        "with open(os.path.join(base_path, \"xgboost_model.sav\"), \"rb\") as f:\n",
        "    modelo_loaded = pickle.load(f)\n",
        "\n",
        "# Usar modelo cargado\n",
        "y_pred_modelo_loaded = modelo_loaded.predict(X_test)"
      ]
    },
    {
      "cell_type": "code",
      "execution_count": 16,
      "metadata": {},
      "outputs": [],
      "source": [
        "# Definir carpeta base\n",
        "base_path = os.path.join(os.getcwd(), \"Laboratorios\", \"Laboratorio_5\", \"data\")\n",
        "os.makedirs(base_path, exist_ok=True)\n",
        "\n",
        "# Guardar predicciones LGBM\n",
        "pd.DataFrame({\"predicciones\": y_pred_lgbm}).to_csv(\n",
        "    os.path.join(base_path, \"predicciones_lgbm.csv\"), index=False\n",
        ")\n",
        "\n",
        "# Guardar modelo LGBM\n",
        "with open(os.path.join(base_path, \"lightgbm_model.sav\"), \"wb\") as f:\n",
        "    pickle.dump(pipeline_lightgbm, f)\n",
        "\n",
        "# Cargar modelo LGBM\n",
        "with open(os.path.join(base_path, \"lightgbm_model.sav\"), \"rb\") as f:\n",
        "    modelo_lgbm_loaded = pickle.load(f)\n",
        "\n",
        "# Predicciones con modelo cargado\n",
        "y_pred_lgbm_loaded = modelo_lgbm_loaded.predict(X_test)"
      ]
    },
    {
      "cell_type": "markdown",
      "metadata": {
        "id": "poc9HSNBFeKO"
      },
      "source": [
        "### 1.3 Resultados [6 puntos]"
      ]
    },
    {
      "cell_type": "markdown",
      "metadata": {
        "id": "tGGCj8YtFil1"
      },
      "source": [
        "1. Calcule las métricas accuracy, precisión y recall de la clase positiva (la que indica que un jugador es seleccionado nacional) para evaluar el rendimiento de los distintos modelos. Verifique sus resultados usando `classification_report`. [2 puntos]\n",
        "\n",
        "2. Explique qué implican los valores de accuracy, precisión y recall de la clase positiva (la que indica que un jugador es seleccionado nacional) y cómo influye la cantidad de ejemplos por clase en los resultados obtenidos. [2 puntos]\n",
        "\n",
        "3. Explique qué métrica le parece más adecuada y concluya qué modelo tiene un mejor desempeño. [2 puntos]"
      ]
    },
    {
      "cell_type": "markdown",
      "metadata": {
        "id": "A1hkVFdujJTi"
      },
      "source": [
        "**Respuesta:**"
      ]
    },
    {
      "cell_type": "markdown",
      "metadata": {},
      "source": [
        "**Pregunta 1**"
      ]
    },
    {
      "cell_type": "code",
      "execution_count": 17,
      "metadata": {
        "colab": {
          "base_uri": "https://localhost:8080/"
        },
        "id": "QNmI_tbbdQte",
        "outputId": "57e3a609-552f-4a62-a3f9-ec84d9a965ca"
      },
      "outputs": [
        {
          "name": "stdout",
          "output_type": "stream",
          "text": [
            "XGBoost -> Accuracy: 0.9418230054955468  Precision: 0.6379310344827587  Recall: 0.11455108359133127\n",
            "LightGBM -> Accuracy: 0.9389804813340913  Precision: 0.5555555555555556  Recall: 0.015479876160990712\n",
            "\n",
            "Reporte Métricas XGBoost\n",
            "              precision    recall  f1-score   support\n",
            "\n",
            "         0.0      0.945     0.996     0.970      4954\n",
            "         1.0      0.638     0.115     0.194       323\n",
            "\n",
            "    accuracy                          0.942      5277\n",
            "   macro avg      0.792     0.555     0.582      5277\n",
            "weighted avg      0.926     0.942     0.922      5277\n",
            "\n",
            "\n",
            "Reporte Métricas LGBM\n",
            "              precision    recall  f1-score   support\n",
            "\n",
            "         0.0      0.940     0.999     0.968      4954\n",
            "         1.0      0.556     0.015     0.030       323\n",
            "\n",
            "    accuracy                          0.939      5277\n",
            "   macro avg      0.748     0.507     0.499      5277\n",
            "weighted avg      0.916     0.939     0.911      5277\n",
            "\n"
          ]
        }
      ],
      "source": [
        "# importación del reporte lo necesario\n",
        "\n",
        "from sklearn.metrics import accuracy_score, precision_score, recall_score, classification_report\n",
        "\n",
        "# Accuracy, precisión y recall de la clase positiva \"manual\"\n",
        "acc_xgb = accuracy_score(y_test, y_pred_xgb)\n",
        "prec_xgb = precision_score(y_test, y_pred_xgb, pos_label=1)\n",
        "rec_xgb = recall_score(y_test, y_pred_xgb, pos_label=1)\n",
        "\n",
        "print(\"XGBoost -> Accuracy:\", acc_xgb, \" Precision:\", prec_xgb, \" Recall:\", rec_xgb)\n",
        "\n",
        "acc_lgb = accuracy_score(y_test, y_pred_lgbm)\n",
        "prec_lgb = precision_score(y_test, y_pred_lgbm, pos_label=1)\n",
        "rec_lgb = recall_score(y_test, y_pred_lgbm, pos_label=1)\n",
        "\n",
        "print(\"LightGBM -> Accuracy:\", acc_lgb, \" Precision:\", prec_lgb, \" Recall:\", rec_lgb)\n",
        "\n",
        "# Verificación con classification_report\n",
        "print(\"\\nReporte Métricas XGBoost\")\n",
        "print(classification_report(y_test, y_pred_xgb, digits=3))\n",
        "\n",
        "print(\"\\nReporte Métricas LGBM\")\n",
        "print(classification_report(y_test, y_pred_lgbm, digits=3))"
      ]
    },
    {
      "cell_type": "markdown",
      "metadata": {},
      "source": [
        "**Pregunta 2**"
      ]
    },
    {
      "cell_type": "markdown",
      "metadata": {},
      "source": [
        "Los resultados muestran que el accuracy es cercano a 0.94 tanto en XGBoost como en LightGBM, lo que indica un alto nivel de aciertos generales. Sin embargo, este valor está fuertemente condicionado por la clase negativa (jugadores no seleccionados), que es mayoritaria en la base de datos, por lo que no refleja adecuadamente el desempeño sobre la clase de interés. En cuanto a la precisión de la clase positiva, XGBoost alcanza aproximadamente 0.64, mientras que LightGBM cae a 0.56; esto significa que, de los jugadores predichos como seleccionados, un 64% y un 56% respectivamente lo son en la realidad, siendo XGBoost más confiable en esta tarea. El recall de la clase positiva es muy bajo en ambos casos (con 0.11 en XGBoost y 0.015 en LightGBM), lo que implica que de todos los jugadores realmente seleccionados, el primero logra identificar apenas un 11% y el segundo solo un 1.5%. Esta diferencia muestra cómo el desbalance de clases afecta los resultados, pues al ser los seleccionados una minoría, los modelos se inclinan a predecir la clase mayoritaria, sacrificando la detección de la clase positiva."
      ]
    },
    {
      "cell_type": "markdown",
      "metadata": {},
      "source": [
        "**Pregunta 3**"
      ]
    },
    {
      "cell_type": "markdown",
      "metadata": {},
      "source": [
        "En este escenario, el accuracy no es una métrica adecuada, ya que oculta el bajo rendimiento en la clase de interés. La métrica más apropiada es el F1-score de la clase positiva, porque equilibra precisión y recall. Según este criterio, XGBoost obtiene un F1 cercano a 0.19, superando a LightGBM, que alcanza solo 0.03 con un recall prácticamente nulo. Por lo tanto, XGBoost muestra un desempeño claramente superior en la detección de jugadores seleccionados nacionales, aunque los resultados evidencian la necesidad de aplicar estrategias adicionales para abordar el desbalance de clases."
      ]
    },
    {
      "cell_type": "markdown",
      "metadata": {
        "id": "uy5VMU6ae_g6"
      },
      "source": [
        "## 2. Predicción de posiciones de jugadores [4 puntos]"
      ]
    },
    {
      "cell_type": "markdown",
      "metadata": {
        "id": "S0PGg_hLgr4H"
      },
      "source": [
        "<p align=\"center\">\n",
        "  <img src=\"https://pbs.twimg.com/media/E1rfA1aWEAYU6Ny.jpg\" width=\"300\">\n",
        "</p>"
      ]
    },
    {
      "cell_type": "markdown",
      "metadata": {
        "id": "I6rSnAesfOm3"
      },
      "source": [
        "En una nueva jornada de desmesuradas transacciones deportivas, Renacín escuchó a sus colegas discutir acerca de que el precio de cada jugador depende en gran medida de la posición en la cancha en la que juega. Y además, que hay bastantes jugadores nuevos que no tienen muy claro en que posición verdaderamente brillarían, por lo que actualmente puede que actualmente estén jugando en posiciones sub-optimas.\n",
        "\n",
        "Viendo que los resultados del primer análisis no son tan esperanzadores, el corporeo los comanda a cambiar su tarea: ahora, les solicita que construyan un clasificador enfocado en predecir la mejor posición de los jugadores en la cancha según sus características.\n",
        "\n",
        "Para lograr esto, primero, les pide que etiqueten de la siguiente manera los valores que aparecen en el atributo `Club_Position`, pidiendo que agrupen los valores en los siguientes grupos:\n",
        "\n",
        "**Nota**:  Renacín les recalca que **no deben utilizar los valores ```Sub``` y ```Res``` de esta columna**.\n",
        "\n",
        "```python\n",
        "ataque = ['ST', 'CF']\n",
        "central_ataque = ['RW', 'CAM', 'LW']\n",
        "central = ['RM', 'CM', 'LM']\n",
        "central_defensa = ['RWB', 'CDM', 'LWB']\n",
        "defensa = ['RB', 'CB', 'LB']\n",
        "arquero = ['GK']\n",
        "```\n",
        "\n",
        "La elección del clasificador se justificar en base a la siguiente [guía](https://scikit-learn.org/stable/tutorial/machine_learning_map/index.html) y se deben comentar los resultados obtenidos en la clasificación.\n",
        "\n",
        "**Tareas:** [1 punto por tarea]\n",
        "\n",
        "1. En un nuevo dataframe, aplique las etiquetas descritas anteriormente en cada uno de los valores señalados en esta sección y guárdelos en la variable `label`.\n",
        "2. Cuente cuántos por clase quedan.\n",
        "3. Entrene el nuevo pipeline y ejecute una evaluación de este.  \n",
        "4. Comente los resultados obtenidos."
      ]
    },
    {
      "cell_type": "markdown",
      "metadata": {
        "id": "sBmSaWh8i2MI"
      },
      "source": [
        "**Respuesta:**"
      ]
    },
    {
      "cell_type": "markdown",
      "metadata": {},
      "source": [
        "**Pregunta 1**"
      ]
    },
    {
      "cell_type": "code",
      "execution_count": 18,
      "metadata": {
        "colab": {
          "base_uri": "https://localhost:8080/",
          "height": 206
        },
        "id": "Ir_7zMh2i1vg",
        "outputId": "c48b6c7f-b932-4e08-f3bb-7f70ed0beed1"
      },
      "outputs": [],
      "source": [
        "# Copio el data frame\n",
        "data_copy = data.drop(columns=[c for c in data.columns if c.lower() == \"label\"], errors=\"ignore\").copy()\n",
        "\n",
        "# Excluir suplentes y reservas\n",
        "data_copy = data_copy[~data_copy[\"Club_Position\"].isin([\"Sub\", \"Res\"])].copy()\n",
        "\n",
        "# codificación pedida\n",
        "codigo_categorias = {\n",
        "    \"ST\": \"ataque\", \"CF\": \"ataque\",\n",
        "    \"RW\": \"central_ataque\", \"CAM\": \"central_ataque\", \"LW\": \"central_ataque\",\n",
        "    \"RM\": \"central\", \"CM\": \"central\", \"LM\": \"central\",\n",
        "    \"RWB\": \"central_defensa\", \"CDM\": \"central_defensa\", \"LWB\": \"central_defensa\",\n",
        "    \"RB\": \"defensa\", \"CB\": \"defensa\", \"LB\": \"defensa\",\n",
        "    \"GK\": \"arquero\"\n",
        "}\n",
        "\n",
        "data_copy[\"label\"] = data_copy[\"Club_Position\"].map(codigo_categorias)\n",
        "data_copy = data_copy.dropna(subset=[\"label\"]).reset_index(drop=True)"
      ]
    },
    {
      "cell_type": "markdown",
      "metadata": {},
      "source": [
        "**Pregunta 2**"
      ]
    },
    {
      "cell_type": "code",
      "execution_count": 19,
      "metadata": {
        "colab": {
          "base_uri": "https://localhost:8080/"
        },
        "id": "6yodfkwrZApn",
        "outputId": "ea26f413-2843-4100-a4e2-36f2a3e0c676"
      },
      "outputs": [
        {
          "name": "stdout",
          "output_type": "stream",
          "text": [
            "Conteo por clase:\n",
            " label\n",
            "defensa            1180\n",
            "central             907\n",
            "arquero             632\n",
            "central_ataque      581\n",
            "ataque              430\n",
            "central_defensa     209\n",
            "Name: count, dtype: int64 \n",
            "\n",
            "Porcentajes (%):\n",
            " label\n",
            "defensa            29.96\n",
            "central            23.03\n",
            "arquero            16.04\n",
            "central_ataque     14.75\n",
            "ataque             10.92\n",
            "central_defensa     5.31\n",
            "Name: proportion, dtype: float64\n"
          ]
        }
      ],
      "source": [
        "# Conteo\n",
        "conteos = data_copy[\"label\"].value_counts()\n",
        "porcentajes = data_copy[\"label\"].value_counts(normalize=True).mul(100).round(2)\n",
        "\n",
        "print(\"Conteo por clase:\\n\", conteos, \"\\n\")\n",
        "print(\"Porcentajes (%):\\n\", porcentajes.rename(\"proportion\"))"
      ]
    },
    {
      "cell_type": "markdown",
      "metadata": {},
      "source": [
        "**Pregunta 3**"
      ]
    },
    {
      "cell_type": "code",
      "execution_count": 20,
      "metadata": {
        "colab": {
          "base_uri": "https://localhost:8080/"
        },
        "id": "wqFj3u6PZFrw",
        "outputId": "43318ef3-8a25-4bb0-ed2e-5148573de18e"
      },
      "outputs": [
        {
          "name": "stdout",
          "output_type": "stream",
          "text": [
            "Classification report\n",
            "                 precision    recall  f1-score   support\n",
            "\n",
            "        arquero      1.000     1.000     1.000       190\n",
            "         ataque      0.745     0.860     0.799       129\n",
            "        central      0.636     0.430     0.513       272\n",
            " central_ataque      0.458     0.500     0.478       174\n",
            "central_defensa      0.263     0.333     0.294        63\n",
            "        defensa      0.841     0.924     0.880       354\n",
            "\n",
            "       accuracy                          0.722      1182\n",
            "      macro avg      0.657     0.675     0.661      1182\n",
            "   weighted avg      0.722     0.722     0.716      1182\n",
            "\n",
            "Matriz de confusión\n",
            "                      pred_arquero  pred_ataque  pred_central  \\\n",
            "true_arquero                   190            0             0   \n",
            "true_ataque                      0          111             7   \n",
            "true_central                     0           15           117   \n",
            "true_central_ataque              0           23            45   \n",
            "true_central_defensa             0            0             9   \n",
            "true_defensa                     0            0             6   \n",
            "\n",
            "                      pred_central_ataque  pred_central_defensa  pred_defensa  \n",
            "true_arquero                            0                     0             0  \n",
            "true_ataque                            11                     0             0  \n",
            "true_central                           85                    28            27  \n",
            "true_central_ataque                    87                    13             6  \n",
            "true_central_defensa                    4                    21            29  \n",
            "true_defensa                            3                    18           327  \n"
          ]
        }
      ],
      "source": [
        "from sklearn.svm import LinearSVC\n",
        "from sklearn.metrics import confusion_matrix\n",
        "\n",
        "# Features y target\n",
        "X = data_copy.drop(columns=[\"Club_Position\", \"label\"], errors=\"ignore\").copy()\n",
        "y = data_copy[\"label\"].copy()\n",
        "\n",
        "# Columnas\n",
        "num_cols = X.select_dtypes(include=[np.number]).columns.tolist()\n",
        "cat_candidates = [\"Nationality\", \"Preffered_Foot\", \"Work_Rate\"] \n",
        "cat_cols = [c for c in cat_candidates if c in X.columns]\n",
        "\n",
        "# Preprocesamiento\n",
        "num_transformation = Pipeline([\n",
        "    (\"imp\", SimpleImputer(strategy=\"median\")),\n",
        "    (\"sc\",  StandardScaler())\n",
        "])\n",
        "\n",
        "cat_transformation = Pipeline([\n",
        "    (\"imp\", SimpleImputer(strategy=\"most_frequent\")),\n",
        "    (\"ohe\", OneHotEncoder(handle_unknown=\"ignore\", sparse_output=True))\n",
        "])\n",
        "\n",
        "col_transformer = ColumnTransformer(\n",
        "    transformers=[\n",
        "        (\"num\", num_transformation, num_cols),\n",
        "        (\"cat\", cat_transformation, cat_cols),\n",
        "    ],\n",
        "    remainder=\"drop\",\n",
        "    verbose_feature_names_out=False\n",
        ")\n",
        "\n",
        "# Split estratificado\n",
        "X_train, X_test, y_train, y_test = train_test_split(X, y, train_size=0.7, stratify=y, random_state=42)\n",
        "\n",
        "# Pipeline clasificador\n",
        "pipeline_svc = Pipeline([\n",
        "    (\"col_transformer\", col_transformer),\n",
        "    (\"classifier\", LinearSVC(class_weight=\"balanced\", random_state=42, max_iter=10000)) # balanced usa los valores de Y para ajustar\n",
        "])                                                                                      # pesos inversamente proporcional a la frecuencia (clase minoritaria + peso)\n",
        "\n",
        "# Entrenamiento y evaluación\n",
        "pipeline_svc.fit(X_train, y_train)\n",
        "y_pred = pipeline_svc.predict(X_test)\n",
        "\n",
        "print(\"Classification report\")\n",
        "print(classification_report(y_test, y_pred, digits=3))\n",
        "\n",
        "labels_sorted = sorted(y.unique())\n",
        "cm = confusion_matrix(y_test, y_pred, labels=labels_sorted)\n",
        "cm_df = pd.DataFrame(cm, index=[f\"true_{c}\" for c in labels_sorted],\n",
        "                     columns=[f\"pred_{c}\" for c in labels_sorted])\n",
        "print(\"Matriz de confusión\")\n",
        "print(cm_df)"
      ]
    },
    {
      "cell_type": "code",
      "execution_count": 21,
      "metadata": {
        "colab": {
          "base_uri": "https://localhost:8080/"
        },
        "id": "T3FrNSH1ZKQf",
        "outputId": "60153b18-34d8-47aa-91ff-fe6cef7251ac"
      },
      "outputs": [
        {
          "name": "stdout",
          "output_type": "stream",
          "text": [
            "\n",
            "Modelo guardado en: c:\\Users\\senza\\OneDrive\\Escritorio\\Josefa\\9. MDS UCH\\Semestres\\Primavera 2025\\Laboratorio de Programación Científica\\Laboratorios\\TamoJosha\\Laboratorios\\Laboratorio_5\\Laboratorios\\Laboratorio_5\\data\\linear_svc_positions.pkl\n",
            "Predicciones guardadas en: c:\\Users\\senza\\OneDrive\\Escritorio\\Josefa\\9. MDS UCH\\Semestres\\Primavera 2025\\Laboratorio de Programación Científica\\Laboratorios\\TamoJosha\\Laboratorios\\Laboratorio_5\\Laboratorios\\Laboratorio_5\\data\\predicciones_positions.csv\n"
          ]
        }
      ],
      "source": [
        "# Guardar modelo\n",
        "\n",
        "# Definir carpeta base\n",
        "SAVE_DIR = os.path.join(os.getcwd(), \"Laboratorios\", \"Laboratorio_5\", \"data\")\n",
        "os.makedirs(SAVE_DIR, exist_ok=True)\n",
        "\n",
        "# Guardar modelo SVC\n",
        "joblib.dump(pipeline_svc, os.path.join(SAVE_DIR, \"linear_svc_positions.pkl\"))\n",
        "\n",
        "# Guardar predicciones\n",
        "pred_out = pd.DataFrame({\n",
        "    \"y_true\": y_test.values,\n",
        "    \"y_pred\": y_pred\n",
        "})\n",
        "pred_out.to_csv(os.path.join(SAVE_DIR, \"predicciones_positions.csv\"), index=False)\n",
        "\n",
        "print(f\"\\nModelo guardado en: {os.path.join(SAVE_DIR, 'linear_svc_positions.pkl')}\")\n",
        "print(f\"Predicciones guardadas en: {os.path.join(SAVE_DIR, 'predicciones_positions.csv')}\")"
      ]
    },
    {
      "cell_type": "markdown",
      "metadata": {},
      "source": [
        "**Pregunta 4:**"
      ]
    },
    {
      "cell_type": "markdown",
      "metadata": {},
      "source": [
        "**Justificación de SCVLinear**: Después de consultar la guía, se estableció la siguiente ruta:\n",
        "\"Comienzo\" $\\rightarrow$ \">50 samples\"  $\\rightarrow$ \"predicting a category  $\\rightarrow$ \"do you have labeled data\"  $\\rightarrow$ \"<100k samples\"  $\\rightarrow$ *LINEAR SCV*.\n",
        "\n",
        "\n",
        "**Análisis de resultados** \n",
        "\n",
        "\n",
        "Los resultados muestran un desempeño heterogéneo según la clase. En primer lugar, la categoría arquero se predice de manera perfecta, con precisión, recall y F1-score de 1.00, lo que indica que el modelo no tiene dificultades para identificar esta posición, probablemente porque sus atributos físicos y técnicos son muy distintos a los de las demás posiciones. En contraste, las posiciones de campo presentan desempeños más dispares. \n",
        "\n",
        "En defensa, que además es la clase más numerosa (≈30% de los ejemplos), se obtiene un recall de 0.92 y precisión de 0.84, alcanzando un F1 de 0.88; esto refleja que el modelo captura correctamente a la mayoría de los defensas, con algunas confusiones hacia categorías vecinas. La clase ataque también logra resultados satisfactorios, con recall de 0.86 y precisión de 0.75 (F1 = 0.80), lo que sugiere que identifica a la mayoría de los delanteros aunque con cierta confusión hacia posiciones más centrales. \n",
        "\n",
        "En cambio, en central el rendimiento es intermedio: precisión 0.64, recall 0.43 y F1 0.51; la matriz de confusión evidencia que una proporción relevante de jugadores de esta categoría se confunden como central_ataque o incluso como defensa, lo que indica superposición de atributos con ambas posiciones. Este patrón de confusión también aparece en central_ataque, donde se observa recall 0.50, precisión 0.46 y F1 0.48; muchos jugadores son clasificados como central, reflejando la cercanía en perfiles técnicos entre estas dos clases. Finalmente, central_defensa, además de ser la menos representada en el dataset (≈5%), obtiene los peores resultados (precisión 0.26, recall 0.33, F1 0.29), con una fuerte absorción hacia defensa, algo esperable por la proximidad funcional. \n",
        "\n",
        "En términos globales, el modelo alcanza un accuracy de 0.72 y un F1-score macro de 0.66, lo que refleja un desempeño razonable pero con claras diferencias entre clases: el buen rendimiento en arquero, defensa y ataque contrasta con las dificultades en las posiciones intermedias, donde el solapamiento de atributos y la menor representatividad limitan la capacidad del clasificador para distinguirlas correctamente."
      ]
    },
    {
      "cell_type": "markdown",
      "metadata": {
        "id": "9bL2m8nNojXM"
      },
      "source": [
        "## 3. Predicciones de Seleccionados Nacionales para el Jere Klein [30 puntos]"
      ]
    },
    {
      "cell_type": "markdown",
      "metadata": {
        "id": "_2XmRsJdsEh_"
      },
      "source": [
        "<center>\n",
        "<img src='https://www.radioactiva.cl/wp-content/uploads/2024/04/Jere-Klein-1-768x432.webp' width=500 />"
      ]
    },
    {
      "cell_type": "markdown",
      "metadata": {
        "id": "AgmUoVDsqUPu"
      },
      "source": [
        "Después de alcanzar la fama como cantante urbano, Jere Klein decide explorar una nueva faceta. Con su amor por el fútbol y convencido de que los artistas urbanos poseen un talento y versatilidad excepcionales, Jere se embarca en un proyecto innovador: desarrollar un sistema de inteligencia artificial capaz de identificar a jugadores que tienen potencial para convertirse en futbolistas profesionales. Su teoría es que muchos artistas del género urbano chileno, con sus habilidades únicas y su disciplina, podrían destacarse también en el deporte. Con este sistema, Jere espera no solo abrir nuevas oportunidades para sus colegas artistas, sino también demostrar la amplia gama de talentos que pueden ofrecer."
      ]
    },
    {
      "cell_type": "markdown",
      "metadata": {
        "id": "rD8pQ5Zfq8dE"
      },
      "source": [
        "### 2.1 ¿Qué modelo de árbol es más de \"pana\"? [10 puntos]"
      ]
    },
    {
      "cell_type": "markdown",
      "metadata": {
        "id": "zB-KUA4g99eo"
      },
      "source": [
        "<center>\n",
        "<img src='https://64.media.tumblr.com/39189215a7d3d96823cb359f35b44e05/tumblr_psmrhrR3Xw1qf5hjqo4_540.gif' width=300 />"
      ]
    },
    {
      "cell_type": "markdown",
      "metadata": {
        "id": "uL-moVhB9vPH"
      },
      "source": [
        "\n",
        "**Tareas**\n",
        "\n",
        "\n",
        "1. Considerando el la variable llamada `label` creada en la sección 1.1. Para determinar cuál modelo de árbol sería más adecuado para la tarea en cuestión, utilice PyCaret. Este deberá centrarse exclusivamente en modelos de tipo árbol. Jere ha especificado que busca un modelo que tome decisiones rápidamente y que tenga una baja tasa de falsos positivos, ya que planea invertir en estos jugadores. [3 puntos]\n",
        "\n",
        "Para la comparación, utilice los siguientes modelos:\n",
        "\n",
        "```python\n",
        "['et', 'rf', 'dt', 'xgboost', 'lightgbm', 'catboost']\n",
        "```\n",
        "\n",
        "2. Explique en brevemente que son los modelos de la siguiente lista `['et', 'rf', 'dt']` y como funcionan. [3 punto]\n",
        "\n",
        "3. Tras realizar la comparación de modelos, seleccione aquel que muestre el mejor rendimiento en términos de velocidad y precisión, especialmente en la reducción de falsos positivos. Utilice la función `evaluate_model` de PyCaret para revisar y analizar los resultados obtenidos en los siguientes aspectos:\n",
        "\n",
        "  - **Confusión Matrix**: ¿Cómo se encuentran la tasa de verdaderos positivos y verdaderos negativos?\n",
        "  - **Threshold**: ¿Es acaso el umbral por defecto del modelo el mejor para las predicciones?\n",
        "  - **Feature Importance**: ¿Cuáles son las variables con mejor desempeño? ¿A qué podría deberse esto?\n",
        "  - **Learning Curve**: ¿El modelo presenta algún problema?\n",
        "\n",
        "  [4 puntos]"
      ]
    },
    {
      "cell_type": "markdown",
      "metadata": {
        "id": "qY85nrViYROF"
      },
      "source": [
        "**Respuesta**"
      ]
    },
    {
      "cell_type": "markdown",
      "metadata": {},
      "source": [
        "**Pregunta 1**"
      ]
    },
    {
      "cell_type": "code",
      "execution_count": 22,
      "metadata": {
        "colab": {
          "base_uri": "https://localhost:8080/",
          "height": 615,
          "referenced_widgets": [
            "6697c8fb4ff841e09fb4a86ba5be6247",
            "c970ef996cc9498fbe8a086264bd1416",
            "1dd106506ba04af28ce93df918c7896b",
            "e1823ed4e1444a878e289cd475dba0d7",
            "ae2aeacdb5d64377808f56a5635bad87",
            "356551f5d9a64cba8f28b0fc8f1a31b4",
            "60107ddd783a4a5aaa85534022b958d7",
            "61253c98b11340e3800f0a795cef3d2f",
            "7c9302a7572d4d168706526aef414d17",
            "9f264a7092614ae9ae34d1af3db62a73",
            "feb3bb233941446397417b712b9869c3"
          ]
        },
        "id": "kUCjOjsEYUXL",
        "outputId": "119d0511-561f-4190-ff5d-27a8eb0f1f82"
      },
      "outputs": [
        {
          "data": {
            "text/html": [],
            "text/plain": [
              "<IPython.core.display.HTML object>"
            ]
          },
          "metadata": {},
          "output_type": "display_data"
        },
        {
          "data": {
            "text/html": [
              "<style type=\"text/css\">\n",
              "#T_5a82e th {\n",
              "  text-align: left;\n",
              "}\n",
              "#T_5a82e_row0_col0, #T_5a82e_row0_col1, #T_5a82e_row0_col2, #T_5a82e_row0_col3, #T_5a82e_row0_col5, #T_5a82e_row0_col6, #T_5a82e_row0_col7, #T_5a82e_row1_col0, #T_5a82e_row1_col1, #T_5a82e_row1_col2, #T_5a82e_row1_col3, #T_5a82e_row1_col4, #T_5a82e_row1_col5, #T_5a82e_row1_col6, #T_5a82e_row1_col7, #T_5a82e_row2_col0, #T_5a82e_row2_col2, #T_5a82e_row2_col3, #T_5a82e_row2_col4, #T_5a82e_row3_col0, #T_5a82e_row3_col1, #T_5a82e_row3_col3, #T_5a82e_row3_col4, #T_5a82e_row3_col5, #T_5a82e_row3_col6, #T_5a82e_row3_col7, #T_5a82e_row4_col0, #T_5a82e_row4_col1, #T_5a82e_row4_col2, #T_5a82e_row4_col3, #T_5a82e_row4_col4, #T_5a82e_row4_col5, #T_5a82e_row4_col6, #T_5a82e_row4_col7, #T_5a82e_row5_col0, #T_5a82e_row5_col1, #T_5a82e_row5_col2, #T_5a82e_row5_col4, #T_5a82e_row5_col5, #T_5a82e_row5_col6, #T_5a82e_row5_col7 {\n",
              "  text-align: left;\n",
              "}\n",
              "#T_5a82e_row0_col4, #T_5a82e_row2_col1, #T_5a82e_row2_col5, #T_5a82e_row2_col6, #T_5a82e_row2_col7, #T_5a82e_row3_col2, #T_5a82e_row5_col3 {\n",
              "  text-align: left;\n",
              "  background-color: yellow;\n",
              "}\n",
              "#T_5a82e_row0_col8, #T_5a82e_row1_col8, #T_5a82e_row2_col8, #T_5a82e_row3_col8, #T_5a82e_row4_col8 {\n",
              "  text-align: left;\n",
              "  background-color: lightgrey;\n",
              "}\n",
              "#T_5a82e_row5_col8 {\n",
              "  text-align: left;\n",
              "  background-color: yellow;\n",
              "  background-color: lightgrey;\n",
              "}\n",
              "</style>\n",
              "<table id=\"T_5a82e\">\n",
              "  <thead>\n",
              "    <tr>\n",
              "      <th class=\"blank level0\" >&nbsp;</th>\n",
              "      <th id=\"T_5a82e_level0_col0\" class=\"col_heading level0 col0\" >Model</th>\n",
              "      <th id=\"T_5a82e_level0_col1\" class=\"col_heading level0 col1\" >Accuracy</th>\n",
              "      <th id=\"T_5a82e_level0_col2\" class=\"col_heading level0 col2\" >AUC</th>\n",
              "      <th id=\"T_5a82e_level0_col3\" class=\"col_heading level0 col3\" >Recall</th>\n",
              "      <th id=\"T_5a82e_level0_col4\" class=\"col_heading level0 col4\" >Prec.</th>\n",
              "      <th id=\"T_5a82e_level0_col5\" class=\"col_heading level0 col5\" >F1</th>\n",
              "      <th id=\"T_5a82e_level0_col6\" class=\"col_heading level0 col6\" >Kappa</th>\n",
              "      <th id=\"T_5a82e_level0_col7\" class=\"col_heading level0 col7\" >MCC</th>\n",
              "      <th id=\"T_5a82e_level0_col8\" class=\"col_heading level0 col8\" >TT (Sec)</th>\n",
              "    </tr>\n",
              "  </thead>\n",
              "  <tbody>\n",
              "    <tr>\n",
              "      <th id=\"T_5a82e_level0_row0\" class=\"row_heading level0 row0\" >et</th>\n",
              "      <td id=\"T_5a82e_row0_col0\" class=\"data row0 col0\" >Extra Trees Classifier</td>\n",
              "      <td id=\"T_5a82e_row0_col1\" class=\"data row0 col1\" >0.9418</td>\n",
              "      <td id=\"T_5a82e_row0_col2\" class=\"data row0 col2\" >0.9385</td>\n",
              "      <td id=\"T_5a82e_row0_col3\" class=\"data row0 col3\" >0.0917</td>\n",
              "      <td id=\"T_5a82e_row0_col4\" class=\"data row0 col4\" >0.6793</td>\n",
              "      <td id=\"T_5a82e_row0_col5\" class=\"data row0 col5\" >0.1612</td>\n",
              "      <td id=\"T_5a82e_row0_col6\" class=\"data row0 col6\" >0.1487</td>\n",
              "      <td id=\"T_5a82e_row0_col7\" class=\"data row0 col7\" >0.2345</td>\n",
              "      <td id=\"T_5a82e_row0_col8\" class=\"data row0 col8\" >1.6167</td>\n",
              "    </tr>\n",
              "    <tr>\n",
              "      <th id=\"T_5a82e_level0_row1\" class=\"row_heading level0 row1\" >rf</th>\n",
              "      <td id=\"T_5a82e_row1_col0\" class=\"data row1 col0\" >Random Forest Classifier</td>\n",
              "      <td id=\"T_5a82e_row1_col1\" class=\"data row1 col1\" >0.9448</td>\n",
              "      <td id=\"T_5a82e_row1_col2\" class=\"data row1 col2\" >0.9373</td>\n",
              "      <td id=\"T_5a82e_row1_col3\" class=\"data row1 col3\" >0.2088</td>\n",
              "      <td id=\"T_5a82e_row1_col4\" class=\"data row1 col4\" >0.6528</td>\n",
              "      <td id=\"T_5a82e_row1_col5\" class=\"data row1 col5\" >0.3163</td>\n",
              "      <td id=\"T_5a82e_row1_col6\" class=\"data row1 col6\" >0.2954</td>\n",
              "      <td id=\"T_5a82e_row1_col7\" class=\"data row1 col7\" >0.3487</td>\n",
              "      <td id=\"T_5a82e_row1_col8\" class=\"data row1 col8\" >1.3133</td>\n",
              "    </tr>\n",
              "    <tr>\n",
              "      <th id=\"T_5a82e_level0_row2\" class=\"row_heading level0 row2\" >catboost</th>\n",
              "      <td id=\"T_5a82e_row2_col0\" class=\"data row2 col0\" >CatBoost Classifier</td>\n",
              "      <td id=\"T_5a82e_row2_col1\" class=\"data row2 col1\" >0.9487</td>\n",
              "      <td id=\"T_5a82e_row2_col2\" class=\"data row2 col2\" >0.9516</td>\n",
              "      <td id=\"T_5a82e_row2_col3\" class=\"data row2 col3\" >0.3817</td>\n",
              "      <td id=\"T_5a82e_row2_col4\" class=\"data row2 col4\" >0.6354</td>\n",
              "      <td id=\"T_5a82e_row2_col5\" class=\"data row2 col5\" >0.4765</td>\n",
              "      <td id=\"T_5a82e_row2_col6\" class=\"data row2 col6\" >0.4514</td>\n",
              "      <td id=\"T_5a82e_row2_col7\" class=\"data row2 col7\" >0.4678</td>\n",
              "      <td id=\"T_5a82e_row2_col8\" class=\"data row2 col8\" >3.8933</td>\n",
              "    </tr>\n",
              "    <tr>\n",
              "      <th id=\"T_5a82e_level0_row3\" class=\"row_heading level0 row3\" >lightgbm</th>\n",
              "      <td id=\"T_5a82e_row3_col0\" class=\"data row3 col0\" >Light Gradient Boosting Machine</td>\n",
              "      <td id=\"T_5a82e_row3_col1\" class=\"data row3 col1\" >0.9481</td>\n",
              "      <td id=\"T_5a82e_row3_col2\" class=\"data row3 col2\" >0.9522</td>\n",
              "      <td id=\"T_5a82e_row3_col3\" class=\"data row3 col3\" >0.3870</td>\n",
              "      <td id=\"T_5a82e_row3_col4\" class=\"data row3 col4\" >0.6221</td>\n",
              "      <td id=\"T_5a82e_row3_col5\" class=\"data row3 col5\" >0.4764</td>\n",
              "      <td id=\"T_5a82e_row3_col6\" class=\"data row3 col6\" >0.4507</td>\n",
              "      <td id=\"T_5a82e_row3_col7\" class=\"data row3 col7\" >0.4652</td>\n",
              "      <td id=\"T_5a82e_row3_col8\" class=\"data row3 col8\" >1.3600</td>\n",
              "    </tr>\n",
              "    <tr>\n",
              "      <th id=\"T_5a82e_level0_row4\" class=\"row_heading level0 row4\" >xgboost</th>\n",
              "      <td id=\"T_5a82e_row4_col0\" class=\"data row4 col0\" >Extreme Gradient Boosting</td>\n",
              "      <td id=\"T_5a82e_row4_col1\" class=\"data row4 col1\" >0.9454</td>\n",
              "      <td id=\"T_5a82e_row4_col2\" class=\"data row4 col2\" >0.9491</td>\n",
              "      <td id=\"T_5a82e_row4_col3\" class=\"data row4 col3\" >0.3936</td>\n",
              "      <td id=\"T_5a82e_row4_col4\" class=\"data row4 col4\" >0.5784</td>\n",
              "      <td id=\"T_5a82e_row4_col5\" class=\"data row4 col5\" >0.4681</td>\n",
              "      <td id=\"T_5a82e_row4_col6\" class=\"data row4 col6\" >0.4405</td>\n",
              "      <td id=\"T_5a82e_row4_col7\" class=\"data row4 col7\" >0.4497</td>\n",
              "      <td id=\"T_5a82e_row4_col8\" class=\"data row4 col8\" >1.7800</td>\n",
              "    </tr>\n",
              "    <tr>\n",
              "      <th id=\"T_5a82e_level0_row5\" class=\"row_heading level0 row5\" >dt</th>\n",
              "      <td id=\"T_5a82e_row5_col0\" class=\"data row5 col0\" >Decision Tree Classifier</td>\n",
              "      <td id=\"T_5a82e_row5_col1\" class=\"data row5 col1\" >0.9257</td>\n",
              "      <td id=\"T_5a82e_row5_col2\" class=\"data row5 col2\" >0.6819</td>\n",
              "      <td id=\"T_5a82e_row5_col3\" class=\"data row5 col3\" >0.4043</td>\n",
              "      <td id=\"T_5a82e_row5_col4\" class=\"data row5 col4\" >0.3961</td>\n",
              "      <td id=\"T_5a82e_row5_col5\" class=\"data row5 col5\" >0.3991</td>\n",
              "      <td id=\"T_5a82e_row5_col6\" class=\"data row5 col6\" >0.3596</td>\n",
              "      <td id=\"T_5a82e_row5_col7\" class=\"data row5 col7\" >0.3602</td>\n",
              "      <td id=\"T_5a82e_row5_col8\" class=\"data row5 col8\" >1.0567</td>\n",
              "    </tr>\n",
              "  </tbody>\n",
              "</table>\n"
            ],
            "text/plain": [
              "<pandas.io.formats.style.Styler at 0x1a8ef9f7f50>"
            ]
          },
          "metadata": {},
          "output_type": "display_data"
        },
        {
          "data": {
            "text/html": [],
            "text/plain": [
              "<IPython.core.display.HTML object>"
            ]
          },
          "metadata": {},
          "output_type": "display_data"
        },
        {
          "data": {
            "text/html": [
              "<div>\n",
              "<style scoped>\n",
              "    .dataframe tbody tr th:only-of-type {\n",
              "        vertical-align: middle;\n",
              "    }\n",
              "\n",
              "    .dataframe tbody tr th {\n",
              "        vertical-align: top;\n",
              "    }\n",
              "\n",
              "    .dataframe thead th {\n",
              "        text-align: right;\n",
              "    }\n",
              "</style>\n",
              "<table border=\"1\" class=\"dataframe\">\n",
              "  <thead>\n",
              "    <tr style=\"text-align: right;\">\n",
              "      <th></th>\n",
              "      <th>Model</th>\n",
              "      <th>Accuracy</th>\n",
              "      <th>AUC</th>\n",
              "      <th>Recall</th>\n",
              "      <th>Prec.</th>\n",
              "      <th>F1</th>\n",
              "      <th>Kappa</th>\n",
              "      <th>MCC</th>\n",
              "      <th>TT (Sec)</th>\n",
              "    </tr>\n",
              "  </thead>\n",
              "  <tbody>\n",
              "    <tr>\n",
              "      <th>et</th>\n",
              "      <td>Extra Trees Classifier</td>\n",
              "      <td>0.9418</td>\n",
              "      <td>0.9385</td>\n",
              "      <td>0.0917</td>\n",
              "      <td>0.6793</td>\n",
              "      <td>0.1612</td>\n",
              "      <td>0.1487</td>\n",
              "      <td>0.2345</td>\n",
              "      <td>1.6167</td>\n",
              "    </tr>\n",
              "    <tr>\n",
              "      <th>rf</th>\n",
              "      <td>Random Forest Classifier</td>\n",
              "      <td>0.9448</td>\n",
              "      <td>0.9373</td>\n",
              "      <td>0.2088</td>\n",
              "      <td>0.6528</td>\n",
              "      <td>0.3163</td>\n",
              "      <td>0.2954</td>\n",
              "      <td>0.3487</td>\n",
              "      <td>1.3133</td>\n",
              "    </tr>\n",
              "    <tr>\n",
              "      <th>catboost</th>\n",
              "      <td>CatBoost Classifier</td>\n",
              "      <td>0.9487</td>\n",
              "      <td>0.9516</td>\n",
              "      <td>0.3817</td>\n",
              "      <td>0.6354</td>\n",
              "      <td>0.4765</td>\n",
              "      <td>0.4514</td>\n",
              "      <td>0.4678</td>\n",
              "      <td>3.8933</td>\n",
              "    </tr>\n",
              "    <tr>\n",
              "      <th>lightgbm</th>\n",
              "      <td>Light Gradient Boosting Machine</td>\n",
              "      <td>0.9481</td>\n",
              "      <td>0.9522</td>\n",
              "      <td>0.3870</td>\n",
              "      <td>0.6221</td>\n",
              "      <td>0.4764</td>\n",
              "      <td>0.4507</td>\n",
              "      <td>0.4652</td>\n",
              "      <td>1.3600</td>\n",
              "    </tr>\n",
              "    <tr>\n",
              "      <th>xgboost</th>\n",
              "      <td>Extreme Gradient Boosting</td>\n",
              "      <td>0.9454</td>\n",
              "      <td>0.9491</td>\n",
              "      <td>0.3936</td>\n",
              "      <td>0.5784</td>\n",
              "      <td>0.4681</td>\n",
              "      <td>0.4405</td>\n",
              "      <td>0.4497</td>\n",
              "      <td>1.7800</td>\n",
              "    </tr>\n",
              "    <tr>\n",
              "      <th>dt</th>\n",
              "      <td>Decision Tree Classifier</td>\n",
              "      <td>0.9257</td>\n",
              "      <td>0.6819</td>\n",
              "      <td>0.4043</td>\n",
              "      <td>0.3961</td>\n",
              "      <td>0.3991</td>\n",
              "      <td>0.3596</td>\n",
              "      <td>0.3602</td>\n",
              "      <td>1.0567</td>\n",
              "    </tr>\n",
              "  </tbody>\n",
              "</table>\n",
              "</div>"
            ],
            "text/plain": [
              "                                    Model  Accuracy     AUC  Recall   Prec.  \\\n",
              "et                 Extra Trees Classifier    0.9418  0.9385  0.0917  0.6793   \n",
              "rf               Random Forest Classifier    0.9448  0.9373  0.2088  0.6528   \n",
              "catboost              CatBoost Classifier    0.9487  0.9516  0.3817  0.6354   \n",
              "lightgbm  Light Gradient Boosting Machine    0.9481  0.9522  0.3870  0.6221   \n",
              "xgboost         Extreme Gradient Boosting    0.9454  0.9491  0.3936  0.5784   \n",
              "dt               Decision Tree Classifier    0.9257  0.6819  0.4043  0.3961   \n",
              "\n",
              "              F1   Kappa     MCC  TT (Sec)  \n",
              "et        0.1612  0.1487  0.2345    1.6167  \n",
              "rf        0.3163  0.2954  0.3487    1.3133  \n",
              "catboost  0.4765  0.4514  0.4678    3.8933  \n",
              "lightgbm  0.4764  0.4507  0.4652    1.3600  \n",
              "xgboost   0.4681  0.4405  0.4497    1.7800  \n",
              "dt        0.3991  0.3596  0.3602    1.0567  "
            ]
          },
          "metadata": {},
          "output_type": "display_data"
        },
        {
          "name": "stdout",
          "output_type": "stream",
          "text": [
            "\n",
            "Mejor modelo según 'Precision': ExtraTreesClassifier(bootstrap=False, ccp_alpha=0.0, class_weight=None,\n",
            "                     criterion='gini', max_depth=None, max_features='sqrt',\n",
            "                     max_leaf_nodes=None, max_samples=None,\n",
            "                     min_impurity_decrease=0.0, min_samples_leaf=1,\n",
            "                     min_samples_split=2, min_weight_fraction_leaf=0.0,\n",
            "                     monotonic_cst=None, n_estimators=100, n_jobs=-1,\n",
            "                     oob_score=False, random_state=42, verbose=0,\n",
            "                     warm_start=False)\n"
          ]
        }
      ],
      "source": [
        "from pycaret.classification import setup, compare_models, pull, get_config\n",
        "\n",
        "df_tree = data.copy()\n",
        "ignore_cols = [c for c in [\"National_Position\", \"Name\"] if c in df_tree.columns]\n",
        "\n",
        "clf_setup = setup(\n",
        "    data=df_tree,\n",
        "    target=\"label\",\n",
        "    session_id=42,\n",
        "    fold=3,\n",
        "    use_gpu=False,\n",
        "    verbose=False,\n",
        "    ignore_features=ignore_cols\n",
        ")\n",
        "\n",
        "tree_models = ['et', 'rf', 'dt', 'xgboost', 'lightgbm', 'catboost']\n",
        "best_tree = compare_models(include=tree_models, sort='Precision', turbo=True)\n",
        "\n",
        "results_compare = pull()\n",
        "display(results_compare)\n",
        "print(\"\\nMejor modelo según 'Precision':\", best_tree)"
      ]
    },
    {
      "cell_type": "markdown",
      "metadata": {
        "id": "-ElPfMy_ZsDo"
      },
      "source": [
        "**Pregunta 2**\n",
        "\n",
        "**['dt'] Decision Tree:** Un árbol de decisión divide los datos con reglas tipo if-else hasta clasificar. Usa medidas como Gini o Entropía para elegir los cortes. Es fácil de interpretar, pero puede sobreajustar si no se limita la profundidad.\n",
        "\n",
        "**['rf'] Random Forest:** Un bosque aleatorio entrena muchos árboles sobre muestras distintas de datos y variables, y combina sus predicciones por votación. Es más robusto y preciso que un árbol solo, aunque menos interpretable y más pesado.\n",
        "\n",
        "**['et'] Extra Trees:** Los árboles extremadamente aleatorizados funcionan parecido a un Random Forest, pero los cortes de las variables se eligen al azar. Esto hace que entrenen más rápido y tengan menos varianza, aunque a veces con un poco menos de precisión."
      ]
    },
    {
      "cell_type": "markdown",
      "metadata": {},
      "source": [
        "**Pregunta 3**"
      ]
    },
    {
      "cell_type": "code",
      "execution_count": 23,
      "metadata": {
        "colab": {
          "base_uri": "https://localhost:8080/",
          "height": 1000,
          "referenced_widgets": [
            "bed2da2ed91b4545b9f01d2feee3d686",
            "ed349c177c514c9e8969ada611a4315f",
            "306a3a45d8044547b5b940edb32fff0a",
            "272c1c6126e8464db3036f79dc0ac529",
            "f3aeadd0f7774a49956094ec80e043de",
            "7fc4da5409af42dc92a27bee0e5ffa60",
            "fb2920ecade7483f8517da1b61d47ecd"
          ]
        },
        "id": "QRI4uxkPZkZh",
        "outputId": "bee4cc9a-eff0-487c-8fa3-7b3294551834"
      },
      "outputs": [
        {
          "data": {
            "application/vnd.jupyter.widget-view+json": {
              "model_id": "fb3c293f02c74e5c9a65e67a609a71f6",
              "version_major": 2,
              "version_minor": 0
            },
            "text/plain": [
              "interactive(children=(ToggleButtons(description='Plot Type:', icons=('',), options=(('Pipeline Plot', 'pipelin…"
            ]
          },
          "metadata": {},
          "output_type": "display_data"
        },
        {
          "data": {
            "text/html": [],
            "text/plain": [
              "<IPython.core.display.HTML object>"
            ]
          },
          "metadata": {},
          "output_type": "display_data"
        },
        {
          "data": {
            "image/png": "[encoded data removed]",
            "text/plain": [
              "<Figure size 800x550 with 1 Axes>"
            ]
          },
          "metadata": {},
          "output_type": "display_data"
        },
        {
          "data": {
            "text/html": [],
            "text/plain": [
              "<IPython.core.display.HTML object>"
            ]
          },
          "metadata": {},
          "output_type": "display_data"
        },
        {
          "data": {
            "image/png": "[encoded data removed]",
            "text/plain": [
              "<Figure size 800x500 with 1 Axes>"
            ]
          },
          "metadata": {},
          "output_type": "display_data"
        },
        {
          "data": {
            "text/html": [],
            "text/plain": [
              "<IPython.core.display.HTML object>"
            ]
          },
          "metadata": {},
          "output_type": "display_data"
        },
        {
          "data": {
            "image/png": "[encoded data removed]",
            "text/plain": [
              "<Figure size 800x550 with 1 Axes>"
            ]
          },
          "metadata": {},
          "output_type": "display_data"
        },
        {
          "data": {
            "text/html": [],
            "text/plain": [
              "<IPython.core.display.HTML object>"
            ]
          },
          "metadata": {},
          "output_type": "display_data"
        },
        {
          "data": {
            "image/png": "[encoded data removed]",
            "text/plain": [
              "<Figure size 800x550 with 1 Axes>"
            ]
          },
          "metadata": {},
          "output_type": "display_data"
        },
        {
          "data": {
            "text/html": [],
            "text/plain": [
              "<IPython.core.display.HTML object>"
            ]
          },
          "metadata": {},
          "output_type": "display_data"
        },
        {
          "data": {
            "image/png": "[encoded data removed]",
            "text/plain": [
              "<Figure size 700x600 with 1 Axes>"
            ]
          },
          "metadata": {},
          "output_type": "display_data"
        },
        {
          "data": {
            "text/html": [],
            "text/plain": [
              "<IPython.core.display.HTML object>"
            ]
          },
          "metadata": {},
          "output_type": "display_data"
        },
        {
          "name": "stdout",
          "output_type": "stream",
          "text": [
            "Classification report (holdout)\n",
            "              precision    recall  f1-score   support\n",
            "\n",
            "         0.0       0.95      0.99      0.97      4954\n",
            "         1.0       0.69      0.17      0.28       323\n",
            "\n",
            "    accuracy                           0.94      5277\n",
            "   macro avg       0.82      0.58      0.62      5277\n",
            "weighted avg       0.93      0.94      0.93      5277\n",
            "\n",
            "Confusion Matrix (holdout)\n",
            "[[4929   25]\n",
            " [ 267   56]]\n"
          ]
        },
        {
          "data": {
            "text/html": [],
            "text/plain": [
              "<IPython.core.display.HTML object>"
            ]
          },
          "metadata": {},
          "output_type": "display_data"
        },
        {
          "name": "stdout",
          "output_type": "stream",
          "text": [
            "Métricas con umbral 0.60\n",
            "              precision    recall  f1-score   support\n",
            "\n",
            "         0.0       0.94      1.00      0.97      4954\n",
            "         1.0       0.72      0.07      0.12       323\n",
            "\n",
            "    accuracy                           0.94      5277\n",
            "   macro avg       0.83      0.53      0.54      5277\n",
            "weighted avg       0.93      0.94      0.92      5277\n",
            "\n",
            "Confusion Matrix:\n",
            " [[4946    8]\n",
            " [ 302   21]]\n",
            "Transformation Pipeline and Model Successfully Saved\n",
            "\n",
            "Modelo guardado en: (Pipeline(memory=Memory(location=None),\n",
            "         steps=[('numerical_imputer',\n",
            "                 TransformerWrapper(exclude=None,\n",
            "                                    include=['Height', 'Weight', 'Age',\n",
            "                                             'Weak_foot', 'Skill_Moves',\n",
            "                                             'Ball_Control', 'Dribbling',\n",
            "                                             'Marking', 'Sliding_Tackle',\n",
            "                                             'Standing_Tackle', 'Aggression',\n",
            "                                             'Reactions', 'Interceptions',\n",
            "                                             'Vision', 'Composure', 'Crossing',\n",
            "                                             'Short_Pass', 'Long_Pass',\n",
            "                                             'Acceleration', 'Speed',...\n",
            "                 ExtraTreesClassifier(bootstrap=False, ccp_alpha=0.0,\n",
            "                                      class_weight=None, criterion='gini',\n",
            "                                      max_depth=None, max_features='sqrt',\n",
            "                                      max_leaf_nodes=None, max_samples=None,\n",
            "                                      min_impurity_decrease=0.0,\n",
            "                                      min_samples_leaf=1, min_samples_split=2,\n",
            "                                      min_weight_fraction_leaf=0.0,\n",
            "                                      monotonic_cst=None, n_estimators=100,\n",
            "                                      n_jobs=-1, oob_score=False,\n",
            "                                      random_state=42, verbose=0,\n",
            "                                      warm_start=False))],\n",
            "         verbose=False), 'c:\\\\Users\\\\senza\\\\OneDrive\\\\Escritorio\\\\Josefa\\\\9. MDS UCH\\\\Semestres\\\\Primavera 2025\\\\Laboratorio de Programación Científica\\\\Laboratorios\\\\TamoJosha\\\\Laboratorios\\\\Laboratorio_5\\\\Laboratorios\\\\Laboratorio_5\\\\data\\\\best_tree_pycaret.pkl')\n"
          ]
        }
      ],
      "source": [
        "from pycaret.classification import evaluate_model, plot_model, predict_model, get_config, save_model\n",
        "\n",
        "# Evaluación inicial\n",
        "evaluate_model(best_tree)\n",
        "\n",
        "# Plots\n",
        "plot_model(best_tree, plot='confusion_matrix')\n",
        "plot_model(best_tree, plot='feature')\n",
        "plot_model(best_tree, plot='learning')\n",
        "plot_model(best_tree, plot='threshold')    \n",
        "plot_model(best_tree, plot='calibration')  \n",
        "\n",
        "# Predicción en holdout y reporte\n",
        "X_test_pc = get_config('X_test')\n",
        "y_test_pc = get_config('y_test')\n",
        "\n",
        "pred_test = predict_model(best_tree, data=X_test_pc)\n",
        "\n",
        "# Tomamos directamente prediction_label\n",
        "label_col = 'prediction_label'\n",
        "if label_col not in pred_test.columns:\n",
        "    label_col = 'Label' \n",
        "\n",
        "y_true = np.asarray(y_test_pc)\n",
        "y_pred = pred_test[label_col].to_numpy()\n",
        "\n",
        "print(\"Classification report (holdout)\")\n",
        "print(classification_report(y_true, y_pred))\n",
        "print(\"Confusion Matrix (holdout)\")\n",
        "print(confusion_matrix(y_true, y_pred))\n",
        "\n",
        "# Ajuste de umbral\n",
        "proba_df = predict_model(best_tree, data=X_test_pc, raw_score=True)\n",
        "\n",
        "# Tomamos directamente la probabilidad de la clase positiva\n",
        "scores = proba_df.iloc[:, -1].to_numpy() \n",
        "thr = 0.60\n",
        "y_pred_thr = np.where(scores >= thr, 1, 0) \n",
        "\n",
        "print(f\"Métricas con umbral {thr:.2f}\")\n",
        "print(classification_report(y_true, y_pred_thr))\n",
        "print(\"Confusion Matrix:\\n\", confusion_matrix(y_true, y_pred_thr))\n",
        "\n",
        "# Guardar el mejor modelo\n",
        "SAVE_DIR = os.path.join(os.getcwd(), \"Laboratorios\", \"Laboratorio_5\", \"data\")\n",
        "os.makedirs(SAVE_DIR, exist_ok=True)\n",
        "save_path = save_model(best_tree, os.path.join(SAVE_DIR, \"best_tree_pycaret\"))\n",
        "print(f\"\\nModelo guardado en: {save_path}\")"
      ]
    },
    {
      "cell_type": "markdown",
      "metadata": {},
      "source": [
        "**Respuestas preguntas 3:**\n",
        "La evidencia muestra que el modelo seleccionado fue Extra Trees Classifier, y los resultados de sus evaluaciones permiten responder punto por punto:\n",
        "\n",
        "**Confusion Matrix**\n",
        "El modelo clasifica correctamente la gran mayoría de la clase negativa (TN = 4929, FN = 267), con muy pocos falsos positivos (FP = 25). La clase positiva se predice con baja sensibilidad (TP = 56, FN = 267), lo que refleja un desbalance con alta capacidad para detectar negativos, pero limitada para positivos.\n",
        "\n",
        "**Threshold**\n",
        "El umbral por defecto (0.5) ofrece un buen equilibrio en precisión global (94%). Al aumentar el umbral a 0.60 se reducen aún más los falsos positivos (de 25 a 8), pero cae notablemente el recall de la clase positiva (17% → 7%). Esto confirma que el umbral por defecto es más adecuado, ya que ajustar hacia arriba sacrifica demasiado la detección de positivos.\n",
        "\n",
        "**Feature Importance**\n",
        "Las variables más influyentes fueron \"Nationality\" y Reactions. La primera probablemente refleja un sesgo de la base de datos (ciertas nacionalidades dominan en frecuencia o características), mientras que Reactions sí tiene un sentido futbolístico claro, pues captura la capacidad de respuesta del jugador y suele correlacionar con rendimiento general.\n",
        "\n",
        "**Learning Curve**\n",
        "El modelo mantiene un puntaje de entrenamiento cercano al 1.0 y validación estable en torno a 0.94, lo que indica bajo sesgo y varianza controlada. No hay indicios de sobreajuste severo ni de subajuste; el desempeño se mantiene constante al aumentar datos de entrenamiento.\n",
        "\n",
        "Entoncesel modelo Extra Trees muestra **alta precisión global y mínimo número de falsos positivos**, con un desempeño robusto y estable. Su principal debilidad está en el **bajo recall de la clase positiva**, lo que responde al desbalance de clases."
      ]
    },
    {
      "cell_type": "markdown",
      "metadata": {
        "id": "K8DSS3u1xMpB"
      },
      "source": [
        "### 3.2 Reducción de dimensionalidad [14 puntos]"
      ]
    },
    {
      "cell_type": "markdown",
      "metadata": {
        "id": "RLu0543p876P"
      },
      "source": [
        "<center>\n",
        "<img src='https://i.kym-cdn.com/photos/images/original/002/258/560/668.gif' width=400 />"
      ]
    },
    {
      "cell_type": "markdown",
      "metadata": {
        "id": "QT-bxJ0txwNF"
      },
      "source": [
        "A pesar de los resultados obtenidos previamente, el manager de Jere ha solicitado el entrenamiento de un modelo de XGBoost utilizando los datos disponibles. Además, se debe proceder a realizar una reducción de dimensionalidad basada en la importancia de las características.\n",
        "\n",
        "Para llevar a cabo esta tarea:\n",
        "\n",
        "1. Inicie entrenando un modelo XGBoost con todas las características disponibles. [2 puntos]\n",
        "\n",
        "2. Una vez el modelo esté entrenado, evalúe y clasifique las características según su importancia de forma descendente. [2 puntos]\n",
        "\n",
        "3. Utilice esta clasificación para ejecutar una búsqueda recursiva de eliminación de características, eliminando progresivamente las menos importantes y evaluando el impacto en el desempeño del modelo hasta identificar las N características más críticas. [2 puntos]\n",
        "\n",
        "4. Con este conjunto reducido de características, entrene un nuevo modelo y evalúe su rendimiento. [2 puntos]\n",
        "\n",
        "5. Posteriormente, responda a las siguientes preguntas para una comprensión más profunda de los cambios y beneficios:\n",
        "\n",
        "  - ¿El rendimiento del modelo con las características seleccionadas es similar al del modelo original? ¿Cómo se comparan en términos de precisión y robustez? [2 puntos]\n",
        "  - ¿Cuáles son los beneficios potenciales de eliminar variables del modelo? Considere factores como la simplificación del modelo, reducción del tiempo de entrenamiento, y mejora en la capacidad de generalización. [2 puntos]\n",
        "  - Comente si el modelo con menor dimensionalidad es más sencillo de explicar. Explique brevemente por qué la eliminación de ciertas características puede facilitar la comprensión y la explicación del comportamiento del modelo. [2 puntos]\n",
        "\n",
        "Notar que con esta metodologia buscamos encontrar un punto entermedio entre número de festures y desempeño. por esto, si observa que al aumentar festires el aumento es despreciable, puede no considerar agregar más features a su modelo."
      ]
    },
    {
      "cell_type": "markdown",
      "metadata": {
        "id": "NHfmK63TuDOS"
      },
      "source": [
        "**Respuesta**"
      ]
    },
    {
      "cell_type": "markdown",
      "metadata": {},
      "source": [
        "**Pregunta 1**"
      ]
    },
    {
      "cell_type": "code",
      "execution_count": 24,
      "metadata": {
        "colab": {
          "base_uri": "https://localhost:8080/"
        },
        "id": "HQwUd_nsuDOe",
        "outputId": "4ed878d5-073c-4897-db95-636fbd3557d6"
      },
      "outputs": [
        {
          "name": "stdout",
          "output_type": "stream",
          "text": [
            "XGBoost (todas las features)\n",
            "Accuracy: 0.9404964942202009\n",
            "              precision    recall  f1-score   support\n",
            "\n",
            "         0.0       0.94      1.00      0.97      4954\n",
            "         1.0       0.60      0.08      0.15       323\n",
            "\n",
            "    accuracy                           0.94      5277\n",
            "   macro avg       0.77      0.54      0.56      5277\n",
            "weighted avg       0.92      0.94      0.92      5277\n",
            "\n"
          ]
        }
      ],
      "source": [
        "\n",
        "# Datos\n",
        "X = data.drop(columns=[\"National_Position\", \"label\"])\n",
        "y = data[\"label\"]\n",
        "\n",
        "# Columnas por tipo\n",
        "num_cols = X.select_dtypes(include=[np.number]).columns.tolist()\n",
        "cat_cols = [c for c in [\"Club_Position\", \"Preffered_Foot\", \"Work_Rate\"] if c in X.columns]\n",
        "\n",
        "# Preprocesamiento\n",
        "num_pipe = Pipeline([(\"imp\", SimpleImputer(strategy=\"median\")),\n",
        "                     (\"sc\", StandardScaler())])\n",
        "cat_pipe = Pipeline([(\"imp\", SimpleImputer(strategy=\"most_frequent\")),\n",
        "                     (\"ohe\", OneHotEncoder(handle_unknown=\"ignore\", sparse_output=True))])\n",
        "\n",
        "pre = ColumnTransformer([(\"num\", num_pipe, num_cols),\n",
        "                         (\"cat\", cat_pipe, cat_cols)],\n",
        "                        verbose_feature_names_out=True)\n",
        "\n",
        "# Split\n",
        "X_train, X_test, y_train, y_test = train_test_split(X, y, train_size=0.7, stratify=y, random_state=42)\n",
        "\n",
        "# Encode y\n",
        "le = LabelEncoder()\n",
        "y_train_enc = le.fit_transform(y_train)\n",
        "y_test_enc  = le.transform(y_test)\n",
        "n_classes = len(le.classes_)\n",
        "\n",
        "# XGBoost\n",
        "xgb = XGBClassifier(\n",
        "    objective=\"binary:logistic\",\n",
        "    n_estimators=300, learning_rate=0.01, max_depth=6,\n",
        "    subsample=0.8, colsample_bytree=0.8, # colsample_by_tree: ratio de la submuestra de columnas cuando se construye cada árbol.\n",
        "    random_state=42, n_jobs=-1, tree_method=\"gpu_hist\",\n",
        "    device=\"cuda\", verbosity=0\n",
        ")\n",
        "\n",
        "pipe = Pipeline([(\"pre\", pre), (\"xgb\", xgb)])\n",
        "\n",
        "# Entrenar\n",
        "pipe.fit(X_train, y_train_enc)\n",
        "\n",
        "# Evaluar\n",
        "y_pred_enc = pipe.predict(X_test)\n",
        "y_pred = le.inverse_transform(y_pred_enc)\n",
        "\n",
        "print(\"XGBoost (todas las features)\")\n",
        "print(\"Accuracy:\", accuracy_score(y_test, y_pred))\n",
        "print(classification_report(y_test, y_pred))\n",
        "\n",
        "# Para pasos siguientes\n",
        "pipeline_xgb_full = pipe\n",
        "X_train_full, X_test_full, y_train_full, y_test_full = X_train, X_test, y_train, y_test"
      ]
    },
    {
      "cell_type": "markdown",
      "metadata": {
        "id": "Zh-_boATZ_Zv"
      },
      "source": [
        "**Pregunta 2:** Una vez el modelo esté entrenado, evalúe y clasifique las características según su importancia de forma descendente."
      ]
    },
    {
      "cell_type": "code",
      "execution_count": 25,
      "metadata": {
        "colab": {
          "base_uri": "https://localhost:8080/"
        },
        "id": "kjLvBGQxZ8T4",
        "outputId": "be82d12e-cc17-46e9-ab44-bcd80ed4dcd7"
      },
      "outputs": [
        {
          "name": "stdout",
          "output_type": "stream",
          "text": [
            "Top 30 features transformadas:\n",
            "                          feature  importance             base\n",
            "11                num__Reactions    0.101282        Reactions\n",
            "14                num__Composure    0.031840        Composure\n",
            "59        cat__Club_Position_Res    0.027993    Club_Position\n",
            "2                       num__Age    0.027856              Age\n",
            "64    cat__Work_Rate_High / High    0.021371        Work_Rate\n",
            "20                  num__Stamina    0.020387          Stamina\n",
            "8            num__Sliding_Tackle    0.019859   Sliding_Tackle\n",
            "6                 num__Dribbling    0.019745        Dribbling\n",
            "38         cat__Club_Position_GK    0.019476    Club_Position\n",
            "9           num__Standing_Tackle    0.018760  Standing_Tackle\n",
            "7                   num__Marking    0.018758          Marking\n",
            "61        cat__Club_Position_Sub    0.018624    Club_Position\n",
            "67     cat__Work_Rate_Low / High    0.018537        Work_Rate\n",
            "5              num__Ball_Control    0.018506     Ball_Control\n",
            "57         cat__Club_Position_RW    0.018008    Club_Position\n",
            "1                    num__Weight    0.017757           Weight\n",
            "27                num__Finishing    0.017552        Finishing\n",
            "12            num__Interceptions    0.017221    Interceptions\n",
            "25                  num__Heading    0.016623          Heading\n",
            "16               num__Short_Pass    0.016396       Short_Pass\n",
            "15                 num__Crossing    0.016366         Crossing\n",
            "0                    num__Height    0.016098           Height\n",
            "70  cat__Work_Rate_Medium / High    0.015944        Work_Rate\n",
            "19                    num__Speed    0.015892            Speed\n",
            "21                 num__Strength    0.015733         Strength\n",
            "10               num__Aggression    0.015473       Aggression\n",
            "18             num__Acceleration    0.015340     Acceleration\n",
            "45         cat__Club_Position_LM    0.015334    Club_Position\n",
            "22                  num__Balance    0.015262          Balance\n",
            "23                  num__Agility    0.015132          Agility \n",
            "\n",
            "Top 30 columnas base:\n",
            "                  base  importance\n",
            "6       Club_Position    0.227537\n",
            "35          Work_Rate    0.106882\n",
            "22          Reactions    0.101282\n",
            "7           Composure    0.031840\n",
            "1                 Age    0.027856\n",
            "28            Stamina    0.020387\n",
            "26     Sliding_Tackle    0.019859\n",
            "10          Dribbling    0.019745\n",
            "21     Preffered_Foot    0.019429\n",
            "29    Standing_Tackle    0.018760\n",
            "19            Marking    0.018758\n",
            "5        Ball_Control    0.018506\n",
            "34             Weight    0.017757\n",
            "11          Finishing    0.017552\n",
            "15      Interceptions    0.017221\n",
            "13            Heading    0.016623\n",
            "23         Short_Pass    0.016396\n",
            "8            Crossing    0.016366\n",
            "14             Height    0.016098\n",
            "27              Speed    0.015892\n",
            "30           Strength    0.015733\n",
            "2          Aggression    0.015473\n",
            "0        Acceleration    0.015340\n",
            "4             Balance    0.015262\n",
            "3             Agility    0.015132\n",
            "20          Penalties    0.015050\n",
            "9               Curve    0.015044\n",
            "12  Freekick_Accuracy    0.014896\n",
            "25        Skill_Moves    0.014848\n",
            "31             Vision    0.014839\n"
          ]
        }
      ],
      "source": [
        "# Nombres de columnas transformadas\n",
        "feature_names = pipeline_xgb_full.named_steps[\"pre\"].get_feature_names_out()\n",
        "\n",
        "# Importancias\n",
        "importances = pipeline_xgb_full.named_steps[\"xgb\"].feature_importances_\n",
        "\n",
        "imp_df = pd.DataFrame({\"feature\": feature_names, \"importance\": importances})\n",
        "\n",
        "# Función para mapear a columna base\n",
        "def get_base(col):\n",
        "    name = col.split(\"__\")[-1] \n",
        "    for c in cat_cols:\n",
        "        if name.startswith(c + \"_\"): \n",
        "            return c\n",
        "    return name\n",
        "\n",
        "imp_df[\"base\"] = imp_df[\"feature\"].map(get_base)\n",
        "\n",
        "# Ordenar\n",
        "imp_df = imp_df.sort_values(\"importance\", ascending=False)\n",
        "agg_imp = (imp_df.groupby(\"base\", as_index=False)[\"importance\"].sum()\n",
        "                  .sort_values(\"importance\", ascending=False))\n",
        "\n",
        "print(\"Top 30 features transformadas:\\n\", imp_df.head(30), \"\\n\")\n",
        "print(\"Top 30 columnas base:\\n\", agg_imp.head(30))"
      ]
    },
    {
      "cell_type": "markdown",
      "metadata": {
        "id": "QWp9IfkbaCBf"
      },
      "source": [
        "**Pregunta 3:** Utilice esta clasificación para ejecutar una búsqueda recursiva de eliminación de características, eliminando progresivamente las menos importantes y evaluando el impacto en el desempeño del modelo hasta identificar las N características más críticas."
      ]
    },
    {
      "cell_type": "code",
      "execution_count": 26,
      "metadata": {
        "colab": {
          "base_uri": "https://localhost:8080/",
          "height": 376
        },
        "id": "jcuGpLslaHJV",
        "outputId": "8d53a759-1262-4a5f-d9d4-fcd19bd9e46c"
      },
      "outputs": [
        {
          "name": "stdout",
          "output_type": "stream",
          "text": [
            "[11:42:53] WARNING: C:\\buildkite-agent\\builds\\buildkite-windows-cpu-autoscaling-group-i-0fdc6d574b9c0d168-1\\xgboost\\xgboost-ci-windows\\src\\learner.cc:767: \n",
            "Parameters: { \"device\" } are not used.\n",
            "\n",
            "[11:42:54] WARNING: C:\\buildkite-agent\\builds\\buildkite-windows-cpu-autoscaling-group-i-0fdc6d574b9c0d168-1\\xgboost\\xgboost-ci-windows\\src\\learner.cc:767: \n",
            "Parameters: { \"device\" } are not used.\n",
            "\n",
            "[11:42:55] WARNING: C:\\buildkite-agent\\builds\\buildkite-windows-cpu-autoscaling-group-i-0fdc6d574b9c0d168-1\\xgboost\\xgboost-ci-windows\\src\\learner.cc:767: \n",
            "Parameters: { \"device\" } are not used.\n",
            "\n",
            "[11:42:56] WARNING: C:\\buildkite-agent\\builds\\buildkite-windows-cpu-autoscaling-group-i-0fdc6d574b9c0d168-1\\xgboost\\xgboost-ci-windows\\src\\learner.cc:767: \n",
            "Parameters: { \"device\" } are not used.\n",
            "\n",
            "[11:42:58] WARNING: C:\\buildkite-agent\\builds\\buildkite-windows-cpu-autoscaling-group-i-0fdc6d574b9c0d168-1\\xgboost\\xgboost-ci-windows\\src\\learner.cc:767: \n",
            "Parameters: { \"device\" } are not used.\n",
            "\n",
            "[11:42:59] WARNING: C:\\buildkite-agent\\builds\\buildkite-windows-cpu-autoscaling-group-i-0fdc6d574b9c0d168-1\\xgboost\\xgboost-ci-windows\\src\\learner.cc:767: \n",
            "Parameters: { \"device\" } are not used.\n",
            "\n",
            "[11:43:00] WARNING: C:\\buildkite-agent\\builds\\buildkite-windows-cpu-autoscaling-group-i-0fdc6d574b9c0d168-1\\xgboost\\xgboost-ci-windows\\src\\learner.cc:767: \n",
            "Parameters: { \"device\" } are not used.\n",
            "\n",
            "Resultados por K (ordenado por precisión, luego accuracy y tiempo)\n"
          ]
        },
        {
          "data": {
            "text/html": [
              "<div>\n",
              "<style scoped>\n",
              "    .dataframe tbody tr th:only-of-type {\n",
              "        vertical-align: middle;\n",
              "    }\n",
              "\n",
              "    .dataframe tbody tr th {\n",
              "        vertical-align: top;\n",
              "    }\n",
              "\n",
              "    .dataframe thead th {\n",
              "        text-align: right;\n",
              "    }\n",
              "</style>\n",
              "<table border=\"1\" class=\"dataframe\">\n",
              "  <thead>\n",
              "    <tr style=\"text-align: right;\">\n",
              "      <th></th>\n",
              "      <th>K</th>\n",
              "      <th>features_kept</th>\n",
              "      <th>train_time_s</th>\n",
              "      <th>accuracy</th>\n",
              "      <th>precision</th>\n",
              "      <th>f1_macro</th>\n",
              "      <th>keep_num</th>\n",
              "      <th>keep_cat</th>\n",
              "    </tr>\n",
              "  </thead>\n",
              "  <tbody>\n",
              "    <tr>\n",
              "      <th>0</th>\n",
              "      <td>20</td>\n",
              "      <td>20</td>\n",
              "      <td>1.136</td>\n",
              "      <td>0.9405</td>\n",
              "      <td>0.6000</td>\n",
              "      <td>0.5580</td>\n",
              "      <td>[Height, Weight, Age, Ball_Control, Dribbling,...</td>\n",
              "      <td>[Club_Position, Preffered_Foot, Work_Rate]</td>\n",
              "    </tr>\n",
              "    <tr>\n",
              "      <th>1</th>\n",
              "      <td>35</td>\n",
              "      <td>35</td>\n",
              "      <td>1.101</td>\n",
              "      <td>0.9403</td>\n",
              "      <td>0.5952</td>\n",
              "      <td>0.5530</td>\n",
              "      <td>[Height, Weight, Age, Weak_foot, Skill_Moves, ...</td>\n",
              "      <td>[Club_Position, Preffered_Foot, Work_Rate]</td>\n",
              "    </tr>\n",
              "    <tr>\n",
              "      <th>2</th>\n",
              "      <td>10</td>\n",
              "      <td>10</td>\n",
              "      <td>1.081</td>\n",
              "      <td>0.9405</td>\n",
              "      <td>0.5918</td>\n",
              "      <td>0.5625</td>\n",
              "      <td>[Age, Dribbling, Sliding_Tackle, Standing_Tack...</td>\n",
              "      <td>[Club_Position, Preffered_Foot, Work_Rate]</td>\n",
              "    </tr>\n",
              "    <tr>\n",
              "      <th>3</th>\n",
              "      <td>30</td>\n",
              "      <td>30</td>\n",
              "      <td>1.089</td>\n",
              "      <td>0.9403</td>\n",
              "      <td>0.5909</td>\n",
              "      <td>0.5554</td>\n",
              "      <td>[Height, Weight, Age, Skill_Moves, Ball_Contro...</td>\n",
              "      <td>[Club_Position, Preffered_Foot, Work_Rate]</td>\n",
              "    </tr>\n",
              "    <tr>\n",
              "      <th>4</th>\n",
              "      <td>15</td>\n",
              "      <td>15</td>\n",
              "      <td>1.110</td>\n",
              "      <td>0.9403</td>\n",
              "      <td>0.5800</td>\n",
              "      <td>0.5623</td>\n",
              "      <td>[Weight, Age, Ball_Control, Dribbling, Marking...</td>\n",
              "      <td>[Club_Position, Preffered_Foot, Work_Rate]</td>\n",
              "    </tr>\n",
              "    <tr>\n",
              "      <th>5</th>\n",
              "      <td>25</td>\n",
              "      <td>25</td>\n",
              "      <td>1.040</td>\n",
              "      <td>0.9397</td>\n",
              "      <td>0.5510</td>\n",
              "      <td>0.5570</td>\n",
              "      <td>[Height, Weight, Age, Ball_Control, Dribbling,...</td>\n",
              "      <td>[Club_Position, Preffered_Foot, Work_Rate]</td>\n",
              "    </tr>\n",
              "    <tr>\n",
              "      <th>6</th>\n",
              "      <td>5</td>\n",
              "      <td>5</td>\n",
              "      <td>1.071</td>\n",
              "      <td>0.9394</td>\n",
              "      <td>0.5366</td>\n",
              "      <td>0.5447</td>\n",
              "      <td>[Age, Reactions, Composure]</td>\n",
              "      <td>[Club_Position, Work_Rate]</td>\n",
              "    </tr>\n",
              "  </tbody>\n",
              "</table>\n",
              "</div>"
            ],
            "text/plain": [
              "    K  features_kept  train_time_s  accuracy  precision  f1_macro  \\\n",
              "0  20             20         1.136    0.9405     0.6000    0.5580   \n",
              "1  35             35         1.101    0.9403     0.5952    0.5530   \n",
              "2  10             10         1.081    0.9405     0.5918    0.5625   \n",
              "3  30             30         1.089    0.9403     0.5909    0.5554   \n",
              "4  15             15         1.110    0.9403     0.5800    0.5623   \n",
              "5  25             25         1.040    0.9397     0.5510    0.5570   \n",
              "6   5              5         1.071    0.9394     0.5366    0.5447   \n",
              "\n",
              "                                            keep_num  \\\n",
              "0  [Height, Weight, Age, Ball_Control, Dribbling,...   \n",
              "1  [Height, Weight, Age, Weak_foot, Skill_Moves, ...   \n",
              "2  [Age, Dribbling, Sliding_Tackle, Standing_Tack...   \n",
              "3  [Height, Weight, Age, Skill_Moves, Ball_Contro...   \n",
              "4  [Weight, Age, Ball_Control, Dribbling, Marking...   \n",
              "5  [Height, Weight, Age, Ball_Control, Dribbling,...   \n",
              "6                        [Age, Reactions, Composure]   \n",
              "\n",
              "                                     keep_cat  \n",
              "0  [Club_Position, Preffered_Foot, Work_Rate]  \n",
              "1  [Club_Position, Preffered_Foot, Work_Rate]  \n",
              "2  [Club_Position, Preffered_Foot, Work_Rate]  \n",
              "3  [Club_Position, Preffered_Foot, Work_Rate]  \n",
              "4  [Club_Position, Preffered_Foot, Work_Rate]  \n",
              "5  [Club_Position, Preffered_Foot, Work_Rate]  \n",
              "6                  [Club_Position, Work_Rate]  "
            ]
          },
          "metadata": {},
          "output_type": "display_data"
        },
        {
          "name": "stdout",
          "output_type": "stream",
          "text": [
            "\n",
            "K* elegido = 20\n",
            "Num: ['Height', 'Weight', 'Age', 'Ball_Control', 'Dribbling', 'Marking', 'Sliding_Tackle', 'Standing_Tackle', 'Reactions', 'Interceptions', 'Composure', 'Crossing', 'Short_Pass', 'Speed', 'Stamina', 'Heading', 'Finishing']\n",
            "Cat: ['Club_Position', 'Preffered_Foot', 'Work_Rate']\n"
          ]
        }
      ],
      "source": [
        "# Eliminación progresiva \n",
        "import time\n",
        "from sklearn.metrics import f1_score\n",
        "\n",
        "# Target codificado\n",
        "le_y_global = LabelEncoder()\n",
        "y_train_full_enc = le_y_global.fit_transform(y_train_full)\n",
        "y_test_full_enc  = le_y_global.transform(y_test_full)\n",
        "\n",
        "# Clase positiva\n",
        "pos_label_enc = le_y_global.transform([le_y_global.classes_[-1]])[0]\n",
        "\n",
        "# Orden base de features por importancia\n",
        "ordered_base = agg_imp[\"base\"].tolist()\n",
        "\n",
        "# Rango de K a evaluar\n",
        "K_list = list(range(min(5, len(ordered_base)), min(len(ordered_base), 40) + 1, 5))\n",
        "results = []\n",
        "\n",
        "for K in K_list:\n",
        "    keep_base = set(ordered_base[:K])\n",
        "\n",
        "    # Subconjuntos num/cat a conservar\n",
        "    keep_num = [c for c in num_cols if c in keep_base]\n",
        "    keep_cat = [c for c in cat_cols if c in keep_base]\n",
        "\n",
        "    # Preprocesamiento reducido\n",
        "    num_pipe_k = Pipeline([\n",
        "        (\"imp\", SimpleImputer(strategy=\"median\")),\n",
        "        (\"sc\", StandardScaler())\n",
        "    ])\n",
        "    cat_pipe_k = Pipeline([\n",
        "        (\"imp\", SimpleImputer(strategy=\"most_frequent\")),\n",
        "        (\"ohe\", OneHotEncoder(handle_unknown=\"ignore\", sparse_output=True))\n",
        "    ])\n",
        "    col_transformer_k = ColumnTransformer(\n",
        "        [(\"num\", num_pipe_k, keep_num),\n",
        "         (\"cat\", cat_pipe_k, keep_cat)],\n",
        "        verbose_feature_names_out=True\n",
        "    )\n",
        "\n",
        "    # Modelo XGB binario\n",
        "    xgb_k = XGBClassifier(\n",
        "        objective=\"binary:logistic\",\n",
        "        n_estimators=300, learning_rate=0.01, max_depth=6,\n",
        "        subsample=0.8, colsample_bytree=0.8,\n",
        "        random_state=42, n_jobs=-1, tree_method=\"gpu_hist\",\n",
        "        device =\"cuda\"\n",
        "    )\n",
        "\n",
        "    pipe_k = Pipeline([\n",
        "        (\"col_transformer\", col_transformer_k),\n",
        "        (\"xgb\", xgb_k)\n",
        "    ])\n",
        "\n",
        "    # Entrenar y medir tiempo\n",
        "    t0 = time.perf_counter() # tiempo incial\n",
        "    pipe_k.fit(X_train_full, y_train_full_enc)\n",
        "    dur = time.perf_counter() - t0 # duracion\n",
        "\n",
        "    # Métricas\n",
        "    y_pred_enc = pipe_k.predict(X_test_full)\n",
        "    acc  = accuracy_score(y_test_full_enc, y_pred_enc)\n",
        "    prec = precision_score(y_test_full_enc, y_pred_enc, average=\"binary\",\n",
        "                           pos_label=pos_label_enc, zero_division=0)\n",
        "    f1   = f1_score(y_test_full_enc, y_pred_enc, average=\"macro\", zero_division=0)\n",
        "\n",
        "    results.append({\n",
        "        \"K\": K,\n",
        "        \"features_kept\": K,       \n",
        "        \"train_time_s\": round(dur, 3),\n",
        "        \"accuracy\": round(acc, 4),\n",
        "        \"precision\": round(prec, 4),\n",
        "        \"f1_macro\": round(f1, 4),\n",
        "        \"keep_num\": keep_num,\n",
        "        \"keep_cat\": keep_cat\n",
        "    })\n",
        "\n",
        "# Tabla de resultados\n",
        "res_df = pd.DataFrame(results).sort_values(\n",
        "    [\"precision\", \"accuracy\", \"train_time_s\"],\n",
        "    ascending=[False, False, True]\n",
        ").reset_index(drop=True)\n",
        "\n",
        "print(\"Resultados por K (ordenado por precisión, luego accuracy y tiempo)\")\n",
        "display(res_df.head(10))\n",
        "\n",
        "# Mejor K\n",
        "best_row = res_df.iloc[0]\n",
        "K_best = int(best_row[\"K\"])\n",
        "keep_num_best = best_row[\"keep_num\"]\n",
        "keep_cat_best = best_row[\"keep_cat\"]\n",
        "print(f\"\\nK* elegido = {K_best}\\nNum: {keep_num_best}\\nCat: {keep_cat_best}\")\n"
      ]
    },
    {
      "cell_type": "markdown",
      "metadata": {
        "id": "v6joPhJoaJmO"
      },
      "source": [
        "**Pregunta 4:** Con este conjunto reducido de características, entrene un nuevo modelo y evalúe su rendimiento."
      ]
    },
    {
      "cell_type": "code",
      "execution_count": 27,
      "metadata": {
        "colab": {
          "base_uri": "https://localhost:8080/"
        },
        "id": "EPLQ6k8IaOzU",
        "outputId": "2216b2ba-79c4-45fb-d357-bad020a90a88"
      },
      "outputs": [
        {
          "name": "stdout",
          "output_type": "stream",
          "text": [
            "[11:43:01] WARNING: C:\\buildkite-agent\\builds\\buildkite-windows-cpu-autoscaling-group-i-0fdc6d574b9c0d168-1\\xgboost\\xgboost-ci-windows\\src\\learner.cc:767: \n",
            "Parameters: { \"device\" } are not used.\n",
            "\n",
            "XGBoost (conjunto reducido)\n",
            "Accuracy: 0.9404964942202009\n",
            "              precision    recall  f1-score   support\n",
            "\n",
            "         0.0       0.94      1.00      0.97      4954\n",
            "         1.0       0.60      0.08      0.15       323\n",
            "\n",
            "    accuracy                           0.94      5277\n",
            "   macro avg       0.77      0.54      0.56      5277\n",
            "weighted avg       0.92      0.94      0.92      5277\n",
            "\n",
            "Matriz de confusión:\n",
            "[[4936   18]\n",
            " [ 296   27]]\n",
            "\n",
            "Precisión (binary, pos='1.0')  FULL: 0.6000 | REDUCIDO: 0.6000\n"
          ]
        }
      ],
      "source": [
        "# Encoding binario del target\n",
        "le_y = LabelEncoder()\n",
        "y_train_enc = le_y.fit_transform(y_train_full)\n",
        "y_test_enc  = le_y.transform(y_test_full)\n",
        "pos_label_text = le_y.classes_[-1]              \n",
        "pos_label_enc  = le_y.transform([pos_label_text])[0]\n",
        "\n",
        "# Preprocesamiento con el conjunto reducido de features\n",
        "num_pipe_best = Pipeline([\n",
        "    (\"imp\", SimpleImputer(strategy=\"median\")),\n",
        "    (\"sc\", StandardScaler())\n",
        "])\n",
        "\n",
        "cat_pipe_best = Pipeline([\n",
        "    (\"imp\", SimpleImputer(strategy=\"most_frequent\")),\n",
        "    (\"ohe\", OneHotEncoder(handle_unknown=\"ignore\", sparse_output=True))\n",
        "])\n",
        "\n",
        "pre_best = ColumnTransformer([\n",
        "    (\"num\", num_pipe_best, keep_num_best),\n",
        "    (\"cat\", cat_pipe_best, keep_cat_best)\n",
        "], verbose_feature_names_out=True)\n",
        "\n",
        "# Modelo XGBoost\n",
        "xgb_best = XGBClassifier(\n",
        "    objective=\"binary:logistic\",\n",
        "    n_estimators=300, learning_rate=0.01, max_depth=6,\n",
        "    subsample=0.8, colsample_bytree=0.8,\n",
        "    random_state=42, n_jobs=-1, tree_method=\"gpu_hist\",\n",
        "    device=\"cuda\"\n",
        ")\n",
        "\n",
        "pipeline_xgb_reduced = Pipeline([\n",
        "    (\"pre\", pre_best),\n",
        "    (\"xgb\", xgb_best)\n",
        "])\n",
        "\n",
        "# Entrenar y predecir\n",
        "pipeline_xgb_reduced.fit(X_train_full, y_train_enc)\n",
        "y_pred_red_enc = pipeline_xgb_reduced.predict(X_test_full)\n",
        "y_pred_red_txt = le_y.inverse_transform(y_pred_red_enc)\n",
        "\n",
        "# Reporte reducido\n",
        "print(\"XGBoost (conjunto reducido)\")\n",
        "print(\"Accuracy:\", accuracy_score(y_test_full, y_pred_red_txt))\n",
        "print(classification_report(y_test_full, y_pred_red_txt))\n",
        "print(\"Matriz de confusión:\")\n",
        "print(confusion_matrix(y_test_full, y_pred_red_txt))\n",
        "\n",
        "# Comparación rápida con el modelo completo\n",
        "if \"pipeline_xgb_full\" in globals() or \"pipeline_xgb_full\" in locals():\n",
        "    y_pred_full_enc = pipeline_xgb_full.predict(X_test_full)\n",
        "    y_pred_full_txt = le_y.inverse_transform(y_pred_full_enc)\n",
        "\n",
        "    prec_full = precision_score(y_test_full, y_pred_full_txt,\n",
        "                                average=\"binary\", pos_label=pos_label_text, zero_division=0)\n",
        "    prec_red  = precision_score(y_test_full, y_pred_red_txt,\n",
        "                                average=\"binary\", pos_label=pos_label_text, zero_division=0)\n",
        "\n",
        "    print(f\"\\nPrecisión (binary, pos='{pos_label_text}')  FULL: {prec_full:.4f} | REDUCIDO: {prec_red:.4f}\")"
      ]
    },
    {
      "cell_type": "markdown",
      "metadata": {
        "id": "Lc1KhDdmaQKH"
      },
      "source": [
        "**Pregunta 5:** Posteriormente, responda a las siguientes preguntas para una comprensión más profunda de los cambios y beneficios:\n",
        "\n",
        "  - ¿El rendimiento del modelo con las características seleccionadas es similar al del modelo original? ¿Cómo se comparan en términos de precisión y robustez?\n",
        "\n",
        "  **Respuesta**: \n",
        "  \n",
        "  (OJO: Esto fue cuando lo corrimos en colab, pero al correrlo localmente las metricas se conservaron: igual eliminar caracteristicas funciona ya el modelo se hace más simple.)\n",
        "  \n",
        "  \n",
        "   Observando las métricas del modelo original (sin reducir características), se obtuvo para la clase positiva un Precision de 0.58, recall de 0.08 y f1-score de 0.14: El modelo original predijo, de todas las predicciones positivas, el 58% de los casos  que realmente son positivos y de todos los casos que eran realmente positivos, el modelo solo logró identificar un 8% de esos casos. Sobre el macro average, se tiene una precisión de 0.76, 0.54 y f1-score de 0.55, respectivamente.\n",
        "  \n",
        "  Mientras que las métricas del modelo con las características reducidas para la clase positiva de precisión, recall y f1-score fueron de 0.64, 0.19, 0.16, respectivamente. El modelo reducido, de todas las predicciones positivas, predijo el 64% de los casos que realmente son positivos, por lo que hay un aumento en esta métrica de desempeño. El recall mejoró levemente; luego al aumentar ambas métricas, f1-score también aumento ligeramente. Sobre las  métricas macro avg son de 0.79, 0.54, 0.56, respectivamente. Las métricas macro avg también aumentaron levemente.\n",
        "\n",
        "  Se concluye que reducir características si mejoró la precisión del modelo.\n",
        "\n",
        "\n",
        "  - ¿Cuáles son los beneficios potenciales de eliminar variables del modelo? Considere factores como la simplificación del modelo, reducción del tiempo de entrenamiento, y mejora en la capacidad de generalización.\n",
        "\n",
        "  **Respuesta:** Los beneficios de eliminar variables es que el modelo se vuelve más interpretable y más fácil de analizar. También hay un recurso computacional en juego, hubo una leve reducción en el tiempo de\n",
        "ejecución para el entrenamiento (con 225 caracteríticas el tiempo fue de 0.7, mientras que para 35 el tiempo de entrenamiento fue de 0.773)y eliminar variables que no son relevantes resulta útil porque así puede evitarse el overfitting.\n",
        "\n",
        "  - Comente si el modelo con menor dimensionalidad es más sencillo de explicar. Explique brevemente por qué la eliminación de ciertas características puede facilitar la comprensión y la explicación del comportamiento del modelo.\n",
        "\n",
        "  **Respuesta:**\n",
        "\n",
        "Eliminar características ayuda a que el modelo es más sencillo de explicar ya que es menos complejo: como se tiene un menor número de features (se conservan las que son importantes), se reducen las interacciones con características irrelevantes y por tanto, es más fácil de entender que características están influyendo realmente en la predicción, por lo que la explicación de los resultados se enfocan en sólo estas características. \n",
        "En este caso, se vio que reducir las características del modelo de xgboost mejoró el desempeño del modelo; por lo que se ganó facilidad de interpretación y ahora el modelo es más simple.\n",
        "\n",
        "- La característica más importante al momento de realizar la clasificación (feature transformada) es \"Reactions\" (que se asocia a el nivel de respuesta que tiene un jugador). Hay \n",
        " otras características que presentan una importancia un poco menor a \"Reactions\" pero que igual se asocia al rendimiento del jugador, como \"Composure\" y \"Stamina\".\n",
        " - Se observa que hay varias posiciones (del club) en la que el jugador son relevantes, por lo que la posición en la que juega el jugador en su club es un predictor fuerte en el modelo. Sobre todo si el jugador es de reserva.\n",
        " - La edad de un jugador también juega un rol importante en el modelo.\n",
        "\n",
        " - Características del rol defensivo (\"Sliding_tackle\", \"Marking\", \"Standing_tackle\", \"Interceptions\") importan al momento de predecir.\n",
        "\n",
        " De manera general, el modelo predice en base a características asociadas al rendimiento del jugador y  otras variables como el nivel de juego defensivo y a la posición en la que pertenece a su club. La única característica personal del jugador que es importante es la edad: se asume que entre mayor sea un jugador, más experiencia tiene.\n",
        " \n"
      ]
    },
    {
      "cell_type": "markdown",
      "metadata": {
        "id": "PTG5cH9r3M9g"
      },
      "source": [
        "### 3.3 Calibración Probabilistica [6 puntos]"
      ]
    },
    {
      "cell_type": "markdown",
      "metadata": {
        "id": "CDL0VqjR7yvb"
      },
      "source": [
        "<center>\n",
        "<img src='https://media2.giphy.com/media/l2Je4Ku0Cx292KWv6/200w.gif?cid=6c09b952y0sihtq9tb6sz8j2023x3zxxp3qx1ocgonkpkblj&ep=v1_gifs_search&rid=200w.gif&ct=g' width=400 />"
      ]
    },
    {
      "cell_type": "markdown",
      "metadata": {
        "id": "qmOKxhAw3sic"
      },
      "source": [
        "Para lograr modelos más modulares, se recomienda realizar una calibración del modelo entrenado anteriormente, con el objetivo de obtener salidas que reflejen mayor modularidad.\n",
        "\n",
        "1. Se solicita que utilice un método de calibración que asegure que las probabilidades generadas incrementen de manera monótona. Una métrica ampliamente utilizada para evaluar la precisión de la calibración de un modelo es el Brier Score. Calcule el Brier Score para el modelo tanto antes como después de la calibración. Esto le permitirá realizar una comparación cuantitativa y determinar si la calibración ha mejorado el rendimiento del modelo. Para más información sobre el Brier Score, puede consultar el siguiente enlace: [Scikit-Learn - Brier Score Loss](https://scikit-learn.org/stable/modules/generated/sklearn.metrics.brier_score_loss.html). [3 puntos]\n",
        "\n",
        "2. Tras la calibración, examine y comente los resultados obtenidos. A su análisis añada una comparación visual de las ideales versus las salidas del modelo original (sin calibrar) y del modelo calibrado. [3 puntos]"
      ]
    },
    {
      "cell_type": "markdown",
      "metadata": {
        "id": "QIiYz_qLuD19"
      },
      "source": [
        "**Respuesta**"
      ]
    },
    {
      "cell_type": "markdown",
      "metadata": {
        "id": "Co7C-I3Rae7V"
      },
      "source": [
        "**Pregunta 1**"
      ]
    },
    {
      "cell_type": "code",
      "execution_count": 28,
      "metadata": {
        "colab": {
          "base_uri": "https://localhost:8080/"
        },
        "id": "l0bfSuiFuD2I",
        "outputId": "4554caec-6df6-440b-8d94-98a7588af8cc"
      },
      "outputs": [
        {
          "name": "stdout",
          "output_type": "stream",
          "text": [
            "Brier (ANTES): 0.047455\n",
            "Brier (DESPUÉS, isotonic): 0.046432\n",
            "\n",
            "Resumen Brier:\n",
            "                modelo  brier_score\n",
            "0            original     0.047455\n",
            "1  calibrado_isotonic     0.046432\n"
          ]
        }
      ],
      "source": [
        "from sklearn.metrics import brier_score_loss\n",
        "from sklearn.preprocessing import label_binarize\n",
        "from sklearn.calibration import CalibratedClassifierCV\n",
        "from sklearn.base import clone\n",
        "\n",
        "# Brier score \n",
        "def brier_score(y_true, proba, classes):\n",
        "    classes = np.array(classes)\n",
        "    Y = label_binarize(y_true, classes=classes)\n",
        "    if Y.shape[1] == 1:  \n",
        "        return brier_score_loss(Y.ravel(), proba[:, -1])\n",
        "    return np.mean([brier_score_loss(Y[:, k], proba[:, k]) for k in range(len(classes))])\n",
        "\n",
        "# Probabilidades y Brier ANTES\n",
        "proba_before = pipeline_xgb_full.predict_proba(X_test_full)\n",
        "classes_ = np.unique(y_train_full)\n",
        "brier_before = brier_score(y_test_full, proba_before, classes_)\n",
        "print(f\"Brier (ANTES): {brier_before:.6f}\")\n",
        "\n",
        "# Calibración isotónica y Brier DESPUÉS\n",
        "xgb_clf = clone(pipeline_xgb_full.named_steps[\"xgb\"]) \n",
        "\n",
        "pipeline_xgb_cal = Pipeline([\n",
        "    (\"prep\", pre),                           \n",
        "    (\"cal\", CalibratedClassifierCV(xgb_clf, method=\"isotonic\", cv=5))\n",
        "])\n",
        "\n",
        "pipeline_xgb_cal.fit(X_train_full, y_train_full)\n",
        "proba_after = pipeline_xgb_cal.predict_proba(X_test_full)\n",
        "brier_after = brier_score(y_test_full, proba_after, classes_)\n",
        "print(f\"Brier (DESPUÉS, isotonic): {brier_after:.6f}\")\n",
        "\n",
        "# Resumen\n",
        "res_brier = pd.DataFrame({\n",
        "    \"modelo\": [\"original\", \"calibrado_isotonic\"],\n",
        "    \"brier_score\": [brier_before, brier_after]\n",
        "})\n",
        "print(\"\\nResumen Brier:\\n\", res_brier)"
      ]
    },
    {
      "cell_type": "markdown",
      "metadata": {
        "id": "4z3lx879acu5"
      },
      "source": [
        "**Pregunta 2**"
      ]
    },
    {
      "cell_type": "code",
      "execution_count": 29,
      "metadata": {
        "colab": {
          "base_uri": "https://localhost:8080/",
          "height": 1000
        },
        "id": "zOm_Z-VdaaK_",
        "outputId": "806ed618-e1b0-42a9-9bd0-2662595db29c"
      },
      "outputs": [
        {
          "data": {
            "image/png": "[encoded data removed]",
            "text/plain": [
              "<Figure size 600x500 with 1 Axes>"
            ]
          },
          "metadata": {},
          "output_type": "display_data"
        }
      ],
      "source": [
        "from sklearn.calibration import CalibrationDisplay\n",
        "classes = np.array(sorted(pd.Series(y_train_full).unique()))\n",
        "\n",
        "def plot_binary_calibration(y_true, proba_before, proba_after, pos_label):\n",
        "    y_bin = (y_true == pos_label).astype(int)\n",
        "    fig, ax = plt.subplots(figsize=(6, 5))\n",
        "    ax.plot([0, 1], [0, 1], linestyle=\"--\", label=\"Ideal\")\n",
        "    CalibrationDisplay.from_predictions(y_bin, proba_before[:, 1], n_bins=10, name=\"Original\", ax=ax)\n",
        "    CalibrationDisplay.from_predictions(y_bin, proba_after[:, 1],  n_bins=10, name=\"Calibrado (Isotonic)\", ax=ax)\n",
        "    ax.set_title(f\"Calibration curve (pos_label={pos_label})\")\n",
        "    ax.legend(loc=\"best\")\n",
        "    plt.show()\n",
        "\n",
        "\n",
        "pos_label = classes.max()\n",
        "plot_binary_calibration(\n",
        "                        y_true=y_test_full,\n",
        "                        proba_before=proba_before,\n",
        "                        proba_after=proba_after,\n",
        "                        pos_label=pos_label\n",
        "                        )\n"
      ]
    },
    {
      "cell_type": "markdown",
      "metadata": {},
      "source": [
        "**Desarrollo pregunta 2:**\n",
        "Tras la calibración con isotonic regression, el desempeño del modelo muestra una ligera pero consistente mejora en términos de calibración probabilística. El Brier Score pasó de 0.047455 en el modelo original a 0.046432 en el modelo calibrado, lo que representa una reducción en el error medio cuadrático entre las probabilidades predichas y las observaciones reales. Si bien la magnitud de la mejora es pequeña, confirma que las probabilidades del modelo calibrado están más alineadas con las frecuencias observadas.\n",
        "\n",
        "En la comparación visual mediante la curva de calibración, la línea azul punteada representa la calibración ideal (donde la probabilidad predicha coincide exactamente con la frecuencia real). \n",
        "\n",
        "Definiendo por tramos:\n",
        "\n",
        "- Para valores pequeños del eje x (un poco mayor a 0.2), ambos modelos predicen probabilidades que coinciden bien con la frecuencia real. (ambos modelos están como calibrados)\n",
        "\n",
        "- para 0.25 < x < ~0.45, el modelo original esta sobre estimando la probabilidad de la clase positiva; el modelo calibrado baja esas probabilidades, acercandose al valor real. por lo que en este intervalo Isotonic mejora la calibración.\n",
        "\n",
        "- para ~0.45 < x < ~0.52 : el modelo original estaba sub-estimando la probabilidad de la clase positiva, la curva del modelo calibrado está más un poco más lejos de la diagonal, por lo que la calibracion empeoró un poco.\n",
        "\n",
        "para x > 0.65, en particular en x = ~0.7, la curva del modelo calibrado se aleja mucho de la diagonal, por lo que la calibración isotónica empeoró con respecto a la calibración original, pero después vuelve a estar más cerca de la diagonal.\n",
        "\n",
        "Con la información con respecto al brier score y lo observado en el plot de la curva de calibración, concluimos que la calibración isotónica logró mejorar la confiabilidad de las probabilidades predichas, disminuyendo el Brier Score y acercando las curvas de calibración a la línea ideal para ciertos tramos, con lo cual las salidas del modelo calibrado resultan más útiles para la toma de decisiones basada en probabilidades."
      ]
    },
    {
      "cell_type": "markdown",
      "metadata": {
        "id": "uW4ua_Gm2t7k"
      },
      "source": [
        "Mucho éxito!\n",
        "\n",
        "<center>\n",
        "<img src=\"https://i.pinimg.com/originals/55/3d/42/553d42bea9b10e0662a05aa8726fc7f4.gif\" width=300>"
      ]
    }
  ],
  "metadata": {
    "accelerator": "GPU",
    "colab": {
      "collapsed_sections": [
        "k-ao0mOU64Ru",
        "Jg_9jBqtgRDO",
        "JdcucZhp-M_0",
        "Qfre1YsSDqla",
        "Bv1HOfcNEPF4",
        "poc9HSNBFeKO",
        "uy5VMU6ae_g6",
        "9bL2m8nNojXM",
        "rD8pQ5Zfq8dE",
        "K8DSS3u1xMpB",
        "PTG5cH9r3M9g"
      ],
      "gpuType": "T4",
      "provenance": [],
      "runtime_attributes": {
        "runtime_version": "2025.07"
      }
    },
    "kernelspec": {
      "display_name": "Python 3",
      "name": "python3"
    },
    "language_info": {
      "codemirror_mode": {
        "name": "ipython",
        "version": 3
      },
      "file_extension": ".py",
      "mimetype": "text/x-python",
      "name": "python",
      "nbconvert_exporter": "python",
      "pygments_lexer": "ipython3",
      "version": "3.11.9"
    },
    "vscode": {
      "interpreter": {
        "hash": "27f7193e8435d5833318a8779fcc7c01e1e51279cdc9a1fc598f78d31f0d2dc3"
      }
    },
    "widgets": {
      "application/vnd.jupyter.widget-state+json": {
        "1dd106506ba04af28ce93df918c7896b": {
          "model_module": "@jupyter-widgets/controls",
          "model_module_version": "1.5.0",
          "model_name": "FloatProgressModel",
          "state": {
            "_dom_classes": [],
            "_model_module": "@jupyter-widgets/controls",
            "_model_module_version": "1.5.0",
            "_model_name": "FloatProgressModel",
            "_view_count": null,
            "_view_module": "@jupyter-widgets/controls",
            "_view_module_version": "1.5.0",
            "_view_name": "ProgressView",
            "bar_style": "",
            "description": "",
            "description_tooltip": null,
            "layout": "IPY_MODEL_61253c98b11340e3800f0a795cef3d2f",
            "max": 29,
            "min": 0,
            "orientation": "horizontal",
            "style": "IPY_MODEL_7c9302a7572d4d168706526aef414d17",
            "value": 29
          }
        },
        "272c1c6126e8464db3036f79dc0ac529": {
          "model_module": "@jupyter-widgets/base",
          "model_module_version": "1.2.0",
          "model_name": "LayoutModel",
          "state": {
            "_model_module": "@jupyter-widgets/base",
            "_model_module_version": "1.2.0",
            "_model_name": "LayoutModel",
            "_view_count": null,
            "_view_module": "@jupyter-widgets/base",
            "_view_module_version": "1.2.0",
            "_view_name": "LayoutView",
            "align_content": null,
            "align_items": null,
            "align_self": null,
            "border": null,
            "bottom": null,
            "display": null,
            "flex": null,
            "flex_flow": null,
            "grid_area": null,
            "grid_auto_columns": null,
            "grid_auto_flow": null,
            "grid_auto_rows": null,
            "grid_column": null,
            "grid_gap": null,
            "grid_row": null,
            "grid_template_areas": null,
            "grid_template_columns": null,
            "grid_template_rows": null,
            "height": null,
            "justify_content": null,
            "justify_items": null,
            "left": null,
            "margin": null,
            "max_height": null,
            "max_width": null,
            "min_height": null,
            "min_width": null,
            "object_fit": null,
            "object_position": null,
            "order": null,
            "overflow": null,
            "overflow_x": null,
            "overflow_y": null,
            "padding": null,
            "right": null,
            "top": null,
            "visibility": null,
            "width": null
          }
        },
        "306a3a45d8044547b5b940edb32fff0a": {
          "model_module": "@jupyter-widgets/output",
          "model_module_version": "1.0.0",
          "model_name": "OutputModel",
          "state": {
            "_dom_classes": [],
            "_model_module": "@jupyter-widgets/output",
            "_model_module_version": "1.0.0",
            "_model_name": "OutputModel",
            "_view_count": null,
            "_view_module": "@jupyter-widgets/output",
            "_view_module_version": "1.0.0",
            "_view_name": "OutputView",
            "layout": "IPY_MODEL_fb2920ecade7483f8517da1b61d47ecd",
            "msg_id": "",
            "outputs": [
              {
                "data": {
                  "image/png": "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\n",
                  "text/plain": "<Figure size 3200x600 with 1 Axes>"
                },
                "metadata": {},
                "output_type": "display_data"
              }
            ]
          }
        },
        "356551f5d9a64cba8f28b0fc8f1a31b4": {
          "model_module": "@jupyter-widgets/base",
          "model_module_version": "1.2.0",
          "model_name": "LayoutModel",
          "state": {
            "_model_module": "@jupyter-widgets/base",
            "_model_module_version": "1.2.0",
            "_model_name": "LayoutModel",
            "_view_count": null,
            "_view_module": "@jupyter-widgets/base",
            "_view_module_version": "1.2.0",
            "_view_name": "LayoutView",
            "align_content": null,
            "align_items": null,
            "align_self": null,
            "border": null,
            "bottom": null,
            "display": null,
            "flex": null,
            "flex_flow": null,
            "grid_area": null,
            "grid_auto_columns": null,
            "grid_auto_flow": null,
            "grid_auto_rows": null,
            "grid_column": null,
            "grid_gap": null,
            "grid_row": null,
            "grid_template_areas": null,
            "grid_template_columns": null,
            "grid_template_rows": null,
            "height": null,
            "justify_content": null,
            "justify_items": null,
            "left": null,
            "margin": null,
            "max_height": null,
            "max_width": null,
            "min_height": null,
            "min_width": null,
            "object_fit": null,
            "object_position": null,
            "order": null,
            "overflow": null,
            "overflow_x": null,
            "overflow_y": null,
            "padding": null,
            "right": null,
            "top": null,
            "visibility": null,
            "width": null
          }
        },
        "60107ddd783a4a5aaa85534022b958d7": {
          "model_module": "@jupyter-widgets/controls",
          "model_module_version": "1.5.0",
          "model_name": "DescriptionStyleModel",
          "state": {
            "_model_module": "@jupyter-widgets/controls",
            "_model_module_version": "1.5.0",
            "_model_name": "DescriptionStyleModel",
            "_view_count": null,
            "_view_module": "@jupyter-widgets/base",
            "_view_module_version": "1.2.0",
            "_view_name": "StyleView",
            "description_width": ""
          }
        },
        "61253c98b11340e3800f0a795cef3d2f": {
          "model_module": "@jupyter-widgets/base",
          "model_module_version": "1.2.0",
          "model_name": "LayoutModel",
          "state": {
            "_model_module": "@jupyter-widgets/base",
            "_model_module_version": "1.2.0",
            "_model_name": "LayoutModel",
            "_view_count": null,
            "_view_module": "@jupyter-widgets/base",
            "_view_module_version": "1.2.0",
            "_view_name": "LayoutView",
            "align_content": null,
            "align_items": null,
            "align_self": null,
            "border": null,
            "bottom": null,
            "display": null,
            "flex": null,
            "flex_flow": null,
            "grid_area": null,
            "grid_auto_columns": null,
            "grid_auto_flow": null,
            "grid_auto_rows": null,
            "grid_column": null,
            "grid_gap": null,
            "grid_row": null,
            "grid_template_areas": null,
            "grid_template_columns": null,
            "grid_template_rows": null,
            "height": null,
            "justify_content": null,
            "justify_items": null,
            "left": null,
            "margin": null,
            "max_height": null,
            "max_width": null,
            "min_height": null,
            "min_width": null,
            "object_fit": null,
            "object_position": null,
            "order": null,
            "overflow": null,
            "overflow_x": null,
            "overflow_y": null,
            "padding": null,
            "right": null,
            "top": null,
            "visibility": null,
            "width": null
          }
        },
        "6697c8fb4ff841e09fb4a86ba5be6247": {
          "model_module": "@jupyter-widgets/controls",
          "model_module_version": "1.5.0",
          "model_name": "HBoxModel",
          "state": {
            "_dom_classes": [],
            "_model_module": "@jupyter-widgets/controls",
            "_model_module_version": "1.5.0",
            "_model_name": "HBoxModel",
            "_view_count": null,
            "_view_module": "@jupyter-widgets/controls",
            "_view_module_version": "1.5.0",
            "_view_name": "HBoxView",
            "box_style": "",
            "children": [
              "IPY_MODEL_c970ef996cc9498fbe8a086264bd1416",
              "IPY_MODEL_1dd106506ba04af28ce93df918c7896b",
              "IPY_MODEL_e1823ed4e1444a878e289cd475dba0d7"
            ],
            "layout": "IPY_MODEL_ae2aeacdb5d64377808f56a5635bad87"
          }
        },
        "7c9302a7572d4d168706526aef414d17": {
          "model_module": "@jupyter-widgets/controls",
          "model_module_version": "1.5.0",
          "model_name": "ProgressStyleModel",
          "state": {
            "_model_module": "@jupyter-widgets/controls",
            "_model_module_version": "1.5.0",
            "_model_name": "ProgressStyleModel",
            "_view_count": null,
            "_view_module": "@jupyter-widgets/base",
            "_view_module_version": "1.2.0",
            "_view_name": "StyleView",
            "bar_color": null,
            "description_width": ""
          }
        },
        "7fc4da5409af42dc92a27bee0e5ffa60": {
          "model_module": "@jupyter-widgets/controls",
          "model_module_version": "1.5.0",
          "model_name": "ToggleButtonsStyleModel",
          "state": {
            "_model_module": "@jupyter-widgets/controls",
            "_model_module_version": "1.5.0",
            "_model_name": "ToggleButtonsStyleModel",
            "_view_count": null,
            "_view_module": "@jupyter-widgets/base",
            "_view_module_version": "1.2.0",
            "_view_name": "StyleView",
            "button_width": "",
            "description_width": "",
            "font_weight": ""
          }
        },
        "9f264a7092614ae9ae34d1af3db62a73": {
          "model_module": "@jupyter-widgets/base",
          "model_module_version": "1.2.0",
          "model_name": "LayoutModel",
          "state": {
            "_model_module": "@jupyter-widgets/base",
            "_model_module_version": "1.2.0",
            "_model_name": "LayoutModel",
            "_view_count": null,
            "_view_module": "@jupyter-widgets/base",
            "_view_module_version": "1.2.0",
            "_view_name": "LayoutView",
            "align_content": null,
            "align_items": null,
            "align_self": null,
            "border": null,
            "bottom": null,
            "display": null,
            "flex": null,
            "flex_flow": null,
            "grid_area": null,
            "grid_auto_columns": null,
            "grid_auto_flow": null,
            "grid_auto_rows": null,
            "grid_column": null,
            "grid_gap": null,
            "grid_row": null,
            "grid_template_areas": null,
            "grid_template_columns": null,
            "grid_template_rows": null,
            "height": null,
            "justify_content": null,
            "justify_items": null,
            "left": null,
            "margin": null,
            "max_height": null,
            "max_width": null,
            "min_height": null,
            "min_width": null,
            "object_fit": null,
            "object_position": null,
            "order": null,
            "overflow": null,
            "overflow_x": null,
            "overflow_y": null,
            "padding": null,
            "right": null,
            "top": null,
            "visibility": null,
            "width": null
          }
        },
        "ae2aeacdb5d64377808f56a5635bad87": {
          "model_module": "@jupyter-widgets/base",
          "model_module_version": "1.2.0",
          "model_name": "LayoutModel",
          "state": {
            "_model_module": "@jupyter-widgets/base",
            "_model_module_version": "1.2.0",
            "_model_name": "LayoutModel",
            "_view_count": null,
            "_view_module": "@jupyter-widgets/base",
            "_view_module_version": "1.2.0",
            "_view_name": "LayoutView",
            "align_content": null,
            "align_items": null,
            "align_self": null,
            "border": null,
            "bottom": null,
            "display": null,
            "flex": null,
            "flex_flow": null,
            "grid_area": null,
            "grid_auto_columns": null,
            "grid_auto_flow": null,
            "grid_auto_rows": null,
            "grid_column": null,
            "grid_gap": null,
            "grid_row": null,
            "grid_template_areas": null,
            "grid_template_columns": null,
            "grid_template_rows": null,
            "height": null,
            "justify_content": null,
            "justify_items": null,
            "left": null,
            "margin": null,
            "max_height": null,
            "max_width": null,
            "min_height": null,
            "min_width": null,
            "object_fit": null,
            "object_position": null,
            "order": null,
            "overflow": null,
            "overflow_x": null,
            "overflow_y": null,
            "padding": null,
            "right": null,
            "top": null,
            "visibility": "hidden",
            "width": null
          }
        },
        "bed2da2ed91b4545b9f01d2feee3d686": {
          "model_module": "@jupyter-widgets/controls",
          "model_module_version": "1.5.0",
          "model_name": "VBoxModel",
          "state": {
            "_dom_classes": [
              "widget-interact"
            ],
            "_model_module": "@jupyter-widgets/controls",
            "_model_module_version": "1.5.0",
            "_model_name": "VBoxModel",
            "_view_count": null,
            "_view_module": "@jupyter-widgets/controls",
            "_view_module_version": "1.5.0",
            "_view_name": "VBoxView",
            "box_style": "",
            "children": [
              "IPY_MODEL_ed349c177c514c9e8969ada611a4315f",
              "IPY_MODEL_306a3a45d8044547b5b940edb32fff0a"
            ],
            "layout": "IPY_MODEL_272c1c6126e8464db3036f79dc0ac529"
          }
        },
        "c970ef996cc9498fbe8a086264bd1416": {
          "model_module": "@jupyter-widgets/controls",
          "model_module_version": "1.5.0",
          "model_name": "HTMLModel",
          "state": {
            "_dom_classes": [],
            "_model_module": "@jupyter-widgets/controls",
            "_model_module_version": "1.5.0",
            "_model_name": "HTMLModel",
            "_view_count": null,
            "_view_module": "@jupyter-widgets/controls",
            "_view_module_version": "1.5.0",
            "_view_name": "HTMLView",
            "description": "",
            "description_tooltip": null,
            "layout": "IPY_MODEL_356551f5d9a64cba8f28b0fc8f1a31b4",
            "placeholder": "​",
            "style": "IPY_MODEL_60107ddd783a4a5aaa85534022b958d7",
            "value": "Processing: 100%"
          }
        },
        "e1823ed4e1444a878e289cd475dba0d7": {
          "model_module": "@jupyter-widgets/controls",
          "model_module_version": "1.5.0",
          "model_name": "HTMLModel",
          "state": {
            "_dom_classes": [],
            "_model_module": "@jupyter-widgets/controls",
            "_model_module_version": "1.5.0",
            "_model_name": "HTMLModel",
            "_view_count": null,
            "_view_module": "@jupyter-widgets/controls",
            "_view_module_version": "1.5.0",
            "_view_name": "HTMLView",
            "description": "",
            "description_tooltip": null,
            "layout": "IPY_MODEL_9f264a7092614ae9ae34d1af3db62a73",
            "placeholder": "​",
            "style": "IPY_MODEL_feb3bb233941446397417b712b9869c3",
            "value": " 29/29 [01:02&lt;00:00,  3.26s/it]"
          }
        },
        "ed349c177c514c9e8969ada611a4315f": {
          "model_module": "@jupyter-widgets/controls",
          "model_module_version": "1.5.0",
          "model_name": "ToggleButtonsModel",
          "state": {
            "_dom_classes": [],
            "_model_module": "@jupyter-widgets/controls",
            "_model_module_version": "1.5.0",
            "_model_name": "ToggleButtonsModel",
            "_options_labels": [
              "Pipeline Plot",
              "Hyperparameters",
              "AUC",
              "Confusion Matrix",
              "Threshold",
              "Precision Recall",
              "Prediction Error",
              "Class Report",
              "Feature Selection",
              "Learning Curve",
              "Manifold Learning",
              "Calibration Curve",
              "Validation Curve",
              "Dimensions",
              "Feature Importance",
              "Feature Importance (All)",
              "Decision Boundary",
              "Lift Chart",
              "Gain Chart",
              "Decision Tree",
              "KS Statistic Plot"
            ],
            "_view_count": null,
            "_view_module": "@jupyter-widgets/controls",
            "_view_module_version": "1.5.0",
            "_view_name": "ToggleButtonsView",
            "button_style": "",
            "description": "Plot Type:",
            "description_tooltip": null,
            "disabled": false,
            "icons": [
              ""
            ],
            "index": 0,
            "layout": "IPY_MODEL_f3aeadd0f7774a49956094ec80e043de",
            "style": "IPY_MODEL_7fc4da5409af42dc92a27bee0e5ffa60",
            "tooltips": []
          }
        },
        "f3aeadd0f7774a49956094ec80e043de": {
          "model_module": "@jupyter-widgets/base",
          "model_module_version": "1.2.0",
          "model_name": "LayoutModel",
          "state": {
            "_model_module": "@jupyter-widgets/base",
            "_model_module_version": "1.2.0",
            "_model_name": "LayoutModel",
            "_view_count": null,
            "_view_module": "@jupyter-widgets/base",
            "_view_module_version": "1.2.0",
            "_view_name": "LayoutView",
            "align_content": null,
            "align_items": null,
            "align_self": null,
            "border": null,
            "bottom": null,
            "display": null,
            "flex": null,
            "flex_flow": null,
            "grid_area": null,
            "grid_auto_columns": null,
            "grid_auto_flow": null,
            "grid_auto_rows": null,
            "grid_column": null,
            "grid_gap": null,
            "grid_row": null,
            "grid_template_areas": null,
            "grid_template_columns": null,
            "grid_template_rows": null,
            "height": null,
            "justify_content": null,
            "justify_items": null,
            "left": null,
            "margin": null,
            "max_height": null,
            "max_width": null,
            "min_height": null,
            "min_width": null,
            "object_fit": null,
            "object_position": null,
            "order": null,
            "overflow": null,
            "overflow_x": null,
            "overflow_y": null,
            "padding": null,
            "right": null,
            "top": null,
            "visibility": null,
            "width": null
          }
        },
        "fb2920ecade7483f8517da1b61d47ecd": {
          "model_module": "@jupyter-widgets/base",
          "model_module_version": "1.2.0",
          "model_name": "LayoutModel",
          "state": {
            "_model_module": "@jupyter-widgets/base",
            "_model_module_version": "1.2.0",
            "_model_name": "LayoutModel",
            "_view_count": null,
            "_view_module": "@jupyter-widgets/base",
            "_view_module_version": "1.2.0",
            "_view_name": "LayoutView",
            "align_content": null,
            "align_items": null,
            "align_self": null,
            "border": null,
            "bottom": null,
            "display": null,
            "flex": null,
            "flex_flow": null,
            "grid_area": null,
            "grid_auto_columns": null,
            "grid_auto_flow": null,
            "grid_auto_rows": null,
            "grid_column": null,
            "grid_gap": null,
            "grid_row": null,
            "grid_template_areas": null,
            "grid_template_columns": null,
            "grid_template_rows": null,
            "height": null,
            "justify_content": null,
            "justify_items": null,
            "left": null,
            "margin": null,
            "max_height": null,
            "max_width": null,
            "min_height": null,
            "min_width": null,
            "object_fit": null,
            "object_position": null,
            "order": null,
            "overflow": null,
            "overflow_x": null,
            "overflow_y": null,
            "padding": null,
            "right": null,
            "top": null,
            "visibility": null,
            "width": null
          }
        },
        "feb3bb233941446397417b712b9869c3": {
          "model_module": "@jupyter-widgets/controls",
          "model_module_version": "1.5.0",
          "model_name": "DescriptionStyleModel",
          "state": {
            "_model_module": "@jupyter-widgets/controls",
            "_model_module_version": "1.5.0",
            "_model_name": "DescriptionStyleModel",
            "_view_count": null,
            "_view_module": "@jupyter-widgets/base",
            "_view_module_version": "1.2.0",
            "_view_name": "StyleView",
            "description_width": ""
          }
        }
      }
    }
  },
  "nbformat": 4,
  "nbformat_minor": 0
}
