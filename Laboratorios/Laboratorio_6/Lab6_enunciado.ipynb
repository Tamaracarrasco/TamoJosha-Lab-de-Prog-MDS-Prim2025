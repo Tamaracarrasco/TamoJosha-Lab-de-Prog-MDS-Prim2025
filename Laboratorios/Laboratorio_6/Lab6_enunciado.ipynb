{
  "cells": [
    {
      "cell_type": "markdown",
      "metadata": {
        "cell_id": "b5c0d2440b3e4995a794ded565213150",
        "deepnote_cell_type": "markdown",
        "id": "_Mql1uRoI5v5"
      },
      "source": [
        "<h1><center>Laboratorio 6: Optimización de modelos 🧪</center></h1>\n",
        "\n",
        "<center><strong>MDS7202: Laboratorio de Programación Científica para Ciencia de Datos - Primavera 2025</strong></center>"
      ]
    },
    {
      "cell_type": "markdown",
      "metadata": {
        "cell_id": "bfb94b9656f145ad83e81b75d218cb70",
        "deepnote_cell_type": "markdown",
        "id": "FAPGIlEAI5v8"
      },
      "source": [
        "### Cuerpo Docente:\n",
        "\n",
        "- Profesores: Diego Cortez, Gabriel Iturra\n",
        "- Auxiliares: Melanie Peña, Valentina Rojas\n",
        "- Ayudantes: Nicolás Cabello, Cristopher Urbina"
      ]
    },
    {
      "cell_type": "markdown",
      "metadata": {
        "cell_id": "b1b537fdd27c43909a49d3476ce64d91",
        "deepnote_cell_type": "markdown",
        "id": "8NozgbkZI5v9"
      },
      "source": [
        "### Equipo: SUPER IMPORTANTE - notebooks sin nombre no serán revisados\n",
        "\n",
        "- Nombre de alumno 1: Josefa Anselmo.\n",
        "- Nombre de alumno 2: Tamara Carrasco.\n",
        "\n",
        "\n",
        "Reglas:\n",
        "\n",
        "- **Grupos de 2 personas**\n",
        "- Fecha de entrega: Entregas Martes a las 23:59.\n",
        "- Instrucciones del lab el viernes a las 16:15 en formato online. Asistencia no es obligatoria, pero se recomienda **fuertemente** asistir.\n",
        "- <u>Prohibidas las copias</u>. Cualquier intento de copia será debidamente penalizado con el reglamento de la escuela.\n",
        "- Tienen que subir el laboratorio a u-cursos y a su repositorio de github. Labs que no estén en u-cursos no serán revisados. Recuerden que el repositorio también tiene nota.\n",
        "- Cualquier duda fuera del horario de clases al foro. Mensajes al equipo docente serán respondidos por este medio.\n",
        "- Pueden usar cualquier material del curso que estimen conveniente."
      ]
    },
    {
      "cell_type": "markdown",
      "metadata": {
        "id": "e8qWRbJkcwP9"
      },
      "source": [
        "### **Link de repositorio de GitHub:** [TamoJosha](https://github.com/Tamaracarrasco/TamoJosha-Lab-de-Prog-MDS-Prim2025)"
      ]
    },
    {
      "cell_type": "markdown",
      "metadata": {
        "cell_id": "b7dbdd30ab544cb8a8afe00648a586ae",
        "deepnote_cell_type": "markdown",
        "id": "vHU9DI6wI5v9"
      },
      "source": [
        "### Temas a tratar\n",
        "\n",
        "- Predicción de demanda usando `xgboost`\n",
        "- Búsqueda del modelo óptimo de clasificación usando `optuna`\n",
        "- Uso de pipelines.\n",
        "\n",
        "\n",
        "### Reglas:\n",
        "\n",
        "- **Grupos de 2 personas**\n",
        "- Fecha de entrega: 6 días de plazo con descuento de 1 punto por día. Entregas Martes a las 23:59.\n",
        "- Instrucciones del lab el viernes a las 16:15 en formato online. Asistencia no es obligatoria, pero se recomienda fuertemente asistir.\n",
        "- <u>Prohibidas las copias</u>. Cualquier intento de copia será debidamente penalizado con el reglamento de la escuela.\n",
        "- Tienen que subir el laboratorio a u-cursos y a su repositorio de github. Labs que no estén en u-cursos no serán revisados. Recuerden que el repositorio también tiene nota.\n",
        "- Cualquier duda fuera del horario de clases al foro. Mensajes al equipo docente serán respondidos por este medio.\n",
        "- Pueden usar cualquier material del curso que estimen conveniente.\n",
        "\n",
        "El laboratorio deberá ser desarrollado sin el uso indiscriminado de iteradores nativos de python (aka \"for\", \"while\"). La idea es que aprendan a exprimir al máximo las funciones optimizadas que nos entrega `pandas`, las cuales vale mencionar, son bastante más eficientes que los iteradores nativos sobre DataFrames."
      ]
    },
    {
      "cell_type": "markdown",
      "metadata": {
        "id": "y6hJXpLCSspz"
      },
      "source": [
        "# El emprendimiento de Fiu"
      ]
    },
    {
      "cell_type": "markdown",
      "metadata": {
        "cell_id": "44d227389a734ac59189c5e0005bc68a",
        "deepnote_cell_type": "markdown",
        "id": "b0bDalAOI5v-"
      },
      "source": [
        "Tras liderar de manera exitosa la implementación de un proyecto de ciencia de datos para caracterizar los datos generados en Santiago 2023, el misterioso corpóreo **Fiu** se anima y decide levantar su propio negocio de consultoría en machine learning. Tras varias e intensas negociaciones, Fiu logra encontrar su *primera chamba*: predecir la demanda (cantidad de venta) de una famosa productora de bebidas de calibre mundial. Al ver el gran potencial y talento que usted ha demostrado en el campo de la ciencia de datos, Fiu lo contrata como data scientist para que forme parte de su nuevo emprendimiento.\n",
        "\n",
        "Para este laboratorio deben trabajar con los datos `sales.csv` subidos a u-cursos, el cual contiene una muestra de ventas de la empresa para diferentes productos en un determinado tiempo.\n",
        "\n",
        "Para comenzar, cargue el dataset señalado y visualice a través de un `.head` los atributos que posee el dataset.\n",
        "\n",
        "<i><p align=\"center\">Fiu siendo felicitado por su excelente desempeño en el proyecto de caracterización de datos</p></i>\n",
        "<p align=\"center\">\n",
        "  <img src=\"https://media-front.elmostrador.cl/2023/09/A_UNO_1506411_2440e.jpg\">\n",
        "</p>"
      ]
    },
    {
      "cell_type": "code",
      "execution_count": 1,
      "metadata": {
        "cell_id": "2f9c82d204b14515ad27ae07e0b77702",
        "deepnote_cell_type": "code",
        "deepnote_to_be_reexecuted": false,
        "execution_millis": 92,
        "execution_start": 1699544359006,
        "id": "QvMPOqHuI5v-",
        "source_hash": null
      },
      "outputs": [
        {
          "data": {
            "text/html": [
              "<div>\n",
              "<style scoped>\n",
              "    .dataframe tbody tr th:only-of-type {\n",
              "        vertical-align: middle;\n",
              "    }\n",
              "\n",
              "    .dataframe tbody tr th {\n",
              "        vertical-align: top;\n",
              "    }\n",
              "\n",
              "    .dataframe thead th {\n",
              "        text-align: right;\n",
              "    }\n",
              "</style>\n",
              "<table border=\"1\" class=\"dataframe\">\n",
              "  <thead>\n",
              "    <tr style=\"text-align: right;\">\n",
              "      <th></th>\n",
              "      <th>id</th>\n",
              "      <th>date</th>\n",
              "      <th>city</th>\n",
              "      <th>lat</th>\n",
              "      <th>long</th>\n",
              "      <th>pop</th>\n",
              "      <th>shop</th>\n",
              "      <th>brand</th>\n",
              "      <th>container</th>\n",
              "      <th>capacity</th>\n",
              "      <th>price</th>\n",
              "      <th>quantity</th>\n",
              "    </tr>\n",
              "  </thead>\n",
              "  <tbody>\n",
              "    <tr>\n",
              "      <th>0</th>\n",
              "      <td>0</td>\n",
              "      <td>31/01/12</td>\n",
              "      <td>Athens</td>\n",
              "      <td>37.97945</td>\n",
              "      <td>23.71622</td>\n",
              "      <td>672130</td>\n",
              "      <td>shop_1</td>\n",
              "      <td>kinder-cola</td>\n",
              "      <td>glass</td>\n",
              "      <td>500ml</td>\n",
              "      <td>0.96</td>\n",
              "      <td>13280</td>\n",
              "    </tr>\n",
              "    <tr>\n",
              "      <th>1</th>\n",
              "      <td>1</td>\n",
              "      <td>31/01/12</td>\n",
              "      <td>Athens</td>\n",
              "      <td>37.97945</td>\n",
              "      <td>23.71622</td>\n",
              "      <td>672130</td>\n",
              "      <td>shop_1</td>\n",
              "      <td>kinder-cola</td>\n",
              "      <td>plastic</td>\n",
              "      <td>1.5lt</td>\n",
              "      <td>2.86</td>\n",
              "      <td>6727</td>\n",
              "    </tr>\n",
              "    <tr>\n",
              "      <th>2</th>\n",
              "      <td>2</td>\n",
              "      <td>31/01/12</td>\n",
              "      <td>Athens</td>\n",
              "      <td>37.97945</td>\n",
              "      <td>23.71622</td>\n",
              "      <td>672130</td>\n",
              "      <td>shop_1</td>\n",
              "      <td>kinder-cola</td>\n",
              "      <td>can</td>\n",
              "      <td>330ml</td>\n",
              "      <td>0.87</td>\n",
              "      <td>9848</td>\n",
              "    </tr>\n",
              "    <tr>\n",
              "      <th>3</th>\n",
              "      <td>3</td>\n",
              "      <td>31/01/12</td>\n",
              "      <td>Athens</td>\n",
              "      <td>37.97945</td>\n",
              "      <td>23.71622</td>\n",
              "      <td>672130</td>\n",
              "      <td>shop_1</td>\n",
              "      <td>adult-cola</td>\n",
              "      <td>glass</td>\n",
              "      <td>500ml</td>\n",
              "      <td>1.00</td>\n",
              "      <td>20050</td>\n",
              "    </tr>\n",
              "    <tr>\n",
              "      <th>4</th>\n",
              "      <td>4</td>\n",
              "      <td>31/01/12</td>\n",
              "      <td>Athens</td>\n",
              "      <td>37.97945</td>\n",
              "      <td>23.71622</td>\n",
              "      <td>672130</td>\n",
              "      <td>shop_1</td>\n",
              "      <td>adult-cola</td>\n",
              "      <td>can</td>\n",
              "      <td>330ml</td>\n",
              "      <td>0.39</td>\n",
              "      <td>25696</td>\n",
              "    </tr>\n",
              "    <tr>\n",
              "      <th>5</th>\n",
              "      <td>5</td>\n",
              "      <td>31/01/12</td>\n",
              "      <td>Athens</td>\n",
              "      <td>37.97945</td>\n",
              "      <td>23.71622</td>\n",
              "      <td>672130</td>\n",
              "      <td>shop_1</td>\n",
              "      <td>orange-power</td>\n",
              "      <td>glass</td>\n",
              "      <td>500ml</td>\n",
              "      <td>1.00</td>\n",
              "      <td>15041</td>\n",
              "    </tr>\n",
              "    <tr>\n",
              "      <th>6</th>\n",
              "      <td>6</td>\n",
              "      <td>31/01/12</td>\n",
              "      <td>Athens</td>\n",
              "      <td>37.97945</td>\n",
              "      <td>23.71622</td>\n",
              "      <td>672130</td>\n",
              "      <td>shop_1</td>\n",
              "      <td>orange-power</td>\n",
              "      <td>can</td>\n",
              "      <td>330ml</td>\n",
              "      <td>0.43</td>\n",
              "      <td>34578</td>\n",
              "    </tr>\n",
              "    <tr>\n",
              "      <th>7</th>\n",
              "      <td>7</td>\n",
              "      <td>31/01/12</td>\n",
              "      <td>Athens</td>\n",
              "      <td>37.97945</td>\n",
              "      <td>23.71622</td>\n",
              "      <td>672130</td>\n",
              "      <td>shop_1</td>\n",
              "      <td>gazoza</td>\n",
              "      <td>glass</td>\n",
              "      <td>500ml</td>\n",
              "      <td>0.49</td>\n",
              "      <td>44734</td>\n",
              "    </tr>\n",
              "    <tr>\n",
              "      <th>8</th>\n",
              "      <td>8</td>\n",
              "      <td>31/01/12</td>\n",
              "      <td>Athens</td>\n",
              "      <td>37.97945</td>\n",
              "      <td>23.71622</td>\n",
              "      <td>672130</td>\n",
              "      <td>shop_1</td>\n",
              "      <td>lemon-boost</td>\n",
              "      <td>glass</td>\n",
              "      <td>500ml</td>\n",
              "      <td>0.70</td>\n",
              "      <td>18623</td>\n",
              "    </tr>\n",
              "    <tr>\n",
              "      <th>9</th>\n",
              "      <td>9</td>\n",
              "      <td>31/01/12</td>\n",
              "      <td>Athens</td>\n",
              "      <td>37.97945</td>\n",
              "      <td>23.71622</td>\n",
              "      <td>672130</td>\n",
              "      <td>shop_1</td>\n",
              "      <td>lemon-boost</td>\n",
              "      <td>plastic</td>\n",
              "      <td>1.5lt</td>\n",
              "      <td>2.21</td>\n",
              "      <td>9645</td>\n",
              "    </tr>\n",
              "  </tbody>\n",
              "</table>\n",
              "</div>"
            ],
            "text/plain": [
              "   id      date    city       lat      long     pop    shop         brand  \\\n",
              "0   0  31/01/12  Athens  37.97945  23.71622  672130  shop_1   kinder-cola   \n",
              "1   1  31/01/12  Athens  37.97945  23.71622  672130  shop_1   kinder-cola   \n",
              "2   2  31/01/12  Athens  37.97945  23.71622  672130  shop_1   kinder-cola   \n",
              "3   3  31/01/12  Athens  37.97945  23.71622  672130  shop_1    adult-cola   \n",
              "4   4  31/01/12  Athens  37.97945  23.71622  672130  shop_1    adult-cola   \n",
              "5   5  31/01/12  Athens  37.97945  23.71622  672130  shop_1  orange-power   \n",
              "6   6  31/01/12  Athens  37.97945  23.71622  672130  shop_1  orange-power   \n",
              "7   7  31/01/12  Athens  37.97945  23.71622  672130  shop_1        gazoza   \n",
              "8   8  31/01/12  Athens  37.97945  23.71622  672130  shop_1   lemon-boost   \n",
              "9   9  31/01/12  Athens  37.97945  23.71622  672130  shop_1   lemon-boost   \n",
              "\n",
              "  container capacity  price  quantity  \n",
              "0     glass    500ml   0.96     13280  \n",
              "1   plastic    1.5lt   2.86      6727  \n",
              "2       can    330ml   0.87      9848  \n",
              "3     glass    500ml   1.00     20050  \n",
              "4       can    330ml   0.39     25696  \n",
              "5     glass    500ml   1.00     15041  \n",
              "6       can    330ml   0.43     34578  \n",
              "7     glass    500ml   0.49     44734  \n",
              "8     glass    500ml   0.70     18623  \n",
              "9   plastic    1.5lt   2.21      9645  "
            ]
          },
          "execution_count": 1,
          "metadata": {},
          "output_type": "execute_result"
        }
      ],
      "source": [
        "import pandas as pd\n",
        "import numpy as np\n",
        "from datetime import datetime\n",
        "!pip install -qq xgboost optuna\n",
        "\n",
        "df = pd.read_csv(\"sales.csv\")\n",
        "\n",
        "df.head(10)"
      ]
    },
    {
      "cell_type": "code",
      "execution_count": 2,
      "metadata": {},
      "outputs": [
        {
          "name": "stdout",
          "output_type": "stream",
          "text": [
            "\n",
            "Dimensiones del dataset:\n",
            " (7456, 12)\n",
            "<class 'pandas.core.frame.DataFrame'>\n",
            "RangeIndex: 7456 entries, 0 to 7455\n",
            "Data columns (total 12 columns):\n",
            " #   Column     Non-Null Count  Dtype  \n",
            "---  ------     --------------  -----  \n",
            " 0   id         7456 non-null   int64  \n",
            " 1   date       7456 non-null   object \n",
            " 2   city       7456 non-null   object \n",
            " 3   lat        7456 non-null   float64\n",
            " 4   long       7456 non-null   float64\n",
            " 5   pop        7456 non-null   int64  \n",
            " 6   shop       7456 non-null   object \n",
            " 7   brand      7456 non-null   object \n",
            " 8   container  7456 non-null   object \n",
            " 9   capacity   7456 non-null   object \n",
            " 10  price      7456 non-null   float64\n",
            " 11  quantity   7456 non-null   int64  \n",
            "dtypes: float64(3), int64(3), object(6)\n",
            "memory usage: 699.1+ KB\n",
            "\n",
            " Tipo de valores en las columnas: \n",
            " None\n",
            "\n",
            " Cantidad de valores nulos: \n",
            " id           0\n",
            "date         0\n",
            "city         0\n",
            "lat          0\n",
            "long         0\n",
            "pop          0\n",
            "shop         0\n",
            "brand        0\n",
            "container    0\n",
            "capacity     0\n",
            "price        0\n",
            "quantity     0\n",
            "dtype: int64\n",
            "\n",
            " Valores duplicados: \n",
            " 0\n",
            "\n",
            " describe de las variables númericas: \n",
            "                 id          lat         long            pop        price  \\\n",
            "count  7456.000000  7456.000000  7456.000000    7456.000000  7456.000000   \n",
            "mean   3784.926770    38.300616    23.270170  355042.733637     1.197193   \n",
            "std    2185.822361     1.650030     1.086592  232336.703020     0.818175   \n",
            "min       0.000000    35.327870    21.734440  134219.000000     0.110000   \n",
            "25%    1889.750000    37.962450    22.417610  141732.000000     0.620000   \n",
            "50%    3783.500000    38.244440    22.930860  257501.500000     0.930000   \n",
            "75%    5682.250000    39.636890    23.716220  665102.000000     1.510000   \n",
            "max    7559.000000    40.643610    25.143410  672130.000000     4.790000   \n",
            "\n",
            "            quantity  \n",
            "count    7456.000000  \n",
            "mean    29408.428380  \n",
            "std     17652.985675  \n",
            "min      2953.000000  \n",
            "25%     16572.750000  \n",
            "50%     25294.500000  \n",
            "75%     37699.000000  \n",
            "max    145287.000000  \n",
            "\n",
            " Estadísticas de las variables no numéricas: \n",
            "             date    city    shop        brand container capacity\n",
            "count       7456    7456    7456         7456      7456     7456\n",
            "unique        84       5       6            5         3        3\n",
            "top     31/12/18  Athens  shop_4  kinder-cola     glass    330ml\n",
            "freq          90    2482    1246         1495      2486     2486\n",
            "\n",
            " ========= RANGO TEMPORAL (Aparente) =========\n",
            "Fecha inicial:  28/02/13\n",
            "última fecha:  31/12/18\n"
          ]
        }
      ],
      "source": [
        "## Exploración básica de los datos\n",
        "\n",
        "print(\"\\nDimensiones del dataset:\\n\", df.shape)\n",
        "print(\"\\n Tipo de valores en las columnas: \\n\", df.info())\n",
        "print(\"\\n Cantidad de valores nulos: \\n\", df.isna().sum())\n",
        "print(\"\\n Valores duplicados: \\n\", df.duplicated().sum())\n",
        "print(\"\\n describe de las variables númericas: \\n\", df.select_dtypes(include=\"number\").describe())\n",
        "print(\"\\n Estadísticas de las variables no numéricas: \\n\", df.select_dtypes(include=\"object\").describe())\n",
        "\n",
        "## Rango temporal de los datos.\n",
        "\n",
        "print(\"\\n ========= RANGO TEMPORAL (Aparente) =========\")\n",
        "print(\"Fecha inicial: \", df[\"date\"].min())\n",
        "print(\"última fecha: \", df[\"date\"].max())"
      ]
    },
    {
      "cell_type": "markdown",
      "metadata": {},
      "source": [
        "### **Comentarios generales de la base**\n",
        "\n",
        "De las estadísticas y exploraciones iniciales se desprende lo siguiente:\n",
        "\n",
        "- **No existen valores nulos** en ninguna columna.  \n",
        "- **No hay valores duplicados**, lo que indica una correcta unicidad por registro.  \n",
        "- **No se observan valores anómalos evidentes** (por ejemplo, cantidades negativas en `quantity` o precios fuera de rango lógico).  \n",
        "- La variable **`quantity`** (target) es continua, por lo tanto, el problema corresponde a una **tarea de regresión supervisada**.  \n",
        "- Dentro de las variables categóricas, **`capacity`** es una variable **categórica ordinal**, ya que sus niveles representan distintos volúmenes ordenables (*330ml < 500ml < 1.5lt*).  \n",
        "- El resto de variables categóricas (`city`, `shop`, `brand`, `container`) son **nominales**.  \n",
        "- **`date`** representa una **serie temporal discreta** que abarca el período **2013–2018**, lo que permite derivar variables de estacionalidad tales como *año*, *mes* o *día de la semana*, útiles para capturar patrones de demanda a lo largo del tiempo.\n",
        "\n",
        "---\n",
        "\n",
        "#### **Distribución geográfica y estructura de tiendas**\n",
        "- Se identifican **5 ciudades**: `Athens`, `Thessaloniki`, `Patra`, `Larisa`, `Irakleion`.\n",
        "- Se registran **6 tiendas** distintas (`shop_1` a `shop_6`), cada una asociada a una única ciudad, lo que sugiere una estructura **jerárquica ciudad–tienda**:\n",
        "  - `shop_1` → *Athens*  \n",
        "  - `shop_2` → *Irakleion*  \n",
        "  - `shop_3` → *Athens*  \n",
        "  - `shop_4` → *Thessaloniki*  \n",
        "  - `shop_5` → *Larisa*  \n",
        "  - `shop_6` → *Patra*  \n",
        "\n",
        "  Esta relación indica que `city` y `shop` están **altamente correlacionadas** (una relación 1:N), por lo que conviene **evitar incluir ambas sin control de colinealidad**, o bien tratarlas mediante *encoding jerárquico* o eliminación de redundancia.\n",
        "\n",
        "---\n",
        "\n",
        "#### **Marcas y envases**\n",
        "- Se identifican **5 marcas**:\n",
        "  - `kinder-cola`: *plastic, can, glass*  \n",
        "  - `adult-cola`: *plastic, can, glass*  \n",
        "  - `lemon-boost`: *glass, can, plastic*  \n",
        "  - `gazoza`: *glass, plastic, can*  \n",
        "  - `orange-power`: *glass, can, plastic*  \n",
        "\n",
        "- Existen **3 tipos de envase (`container`)**:\n",
        "  - `glass`: con capacidades de *500ml* y *330ml*.  \n",
        "  - `can`: solo disponible en *330ml*.  \n",
        "  - `plastic`: solo disponible en *1.5lt*.  \n",
        "\n",
        "  Esto revela una **dependencia estructural entre `container` y `capacity`**, por lo que se recomienda **no codificarlas de forma completamente independiente**, ya que parte de la información se solapa.\n",
        "\n",
        "---\n",
        "\n",
        "#### **Variables numéricas**\n",
        "- `lat` y `long` son coordenadas geográficas fijas por ciudad, **fuertemente correlacionadas con `city`**, y podrían eliminarse si se mantiene la variable de ciudad.  \n",
        "- `pop` (población) varía por ciudad y podría ser relevante como indicador de tamaño de mercado local.  \n",
        "- `price` presenta un rango entre 0.11 y 4.79, con distribución aparentemente asimétrica (se recomienda inspeccionar outliers).  \n",
        "\n",
        "---\n",
        "\n",
        "#### **Variable objetivo**\n",
        "- La variable **`quantity`** representa la **cantidad vendida** de cada producto en una fecha, tienda y presentación específicas.  \n",
        "- Dado que se trata de un valor numérico continuo, la tarea corresponde a un **problema de regresión**, en el que el objetivo será **predecir la demanda futura** a partir de atributos de producto, localización, precio y tiempo.  \n",
        "- Antes de la modelación será necesario **verificar la distribución de `quantity`** (posible sesgo hacia la derecha), y aplicar transformaciones (por ejemplo, logarítmica) si se observan asimetrías significativas que afecten el ajuste del modelo.\n"
      ]
    },
    {
      "cell_type": "markdown",
      "metadata": {
        "cell_id": "b50db6f2cb804932ae3f9e5748a6ea61",
        "deepnote_cell_type": "markdown",
        "id": "pk4ru76pI5v_"
      },
      "source": [
        "## 1 Generando un Baseline (5 puntos)\n",
        "\n",
        "<p align=\"center\">\n",
        "  <img src=\"https://media.tenor.com/O-lan6TkadUAAAAC/what-i-wnna-do-after-a-baseline.gif\">\n",
        "</p>\n",
        "\n",
        "Antes de entrenar un algoritmo, usted recuerda los apuntes de su magíster en ciencia de datos y recuerda que debe seguir una serie de *buenas prácticas* para entrenar correcta y debidamente su modelo. Después de un par de vueltas, llega a las siguientes tareas:\n",
        "\n",
        "1. Separe los datos en conjuntos de train (70%), validation (20%) y test (10%). Fije una semilla para controlar la aleatoriedad. [0.5 puntos]\n",
        "2. Implemente un `FunctionTransformer` para extraer el día, mes y año de la variable `date`. Guarde estas variables en el formato categorical de pandas. [1 punto]\n",
        "3. Implemente un `ColumnTransformer` para procesar de manera adecuada los datos numéricos y categóricos. Use `OneHotEncoder` para las variables categóricas. `Nota:` Utilice el método `.set_output(transform='pandas')` para obtener un DataFrame como salida del `ColumnTransformer` [1 punto]\n",
        "4. Guarde los pasos anteriores en un `Pipeline`, dejando como último paso el regresor `DummyRegressor` para generar predicciones en base a promedios. [0.5 punto]\n",
        "5. Entrene el pipeline anterior y reporte la métrica `mean_absolute_error` sobre los datos de validación. ¿Cómo se interpreta esta métrica para el contexto del negocio? [0.5 puntos]\n",
        "6. Finalmente, vuelva a entrenar el `Pipeline` pero esta vez usando `XGBRegressor` como modelo **utilizando los parámetros por default**. ¿Cómo cambia el MAE al implementar este algoritmo? ¿Es mejor o peor que el `DummyRegressor`? [1 punto]\n",
        "7. Guarde ambos modelos en un archivo .pkl (uno cada uno) [0.5 puntos]"
      ]
    },
    {
      "cell_type": "code",
      "execution_count": 3,
      "metadata": {},
      "outputs": [
        {
          "name": "stdout",
          "output_type": "stream",
          "text": [
            "Requirement already satisfied: autopep8 in c:\\users\\senza\\appdata\\local\\packages\\pythonsoftwarefoundation.python.3.11_qbz5n2kfra8p0\\localcache\\local-packages\\python311\\site-packages (2.3.2)\n",
            "Requirement already satisfied: pycodestyle>=2.12.0 in c:\\users\\senza\\appdata\\local\\packages\\pythonsoftwarefoundation.python.3.11_qbz5n2kfra8p0\\localcache\\local-packages\\python311\\site-packages (from autopep8) (2.14.0)\n"
          ]
        },
        {
          "name": "stderr",
          "output_type": "stream",
          "text": [
            "WARNING: Ignoring invalid distribution ~ (C:\\Users\\senza\\AppData\\Local\\Packages\\PythonSoftwareFoundation.Python.3.11_qbz5n2kfra8p0\\LocalCache\\local-packages\\Python311\\site-packages)\n",
            "WARNING: Ignoring invalid distribution ~cikit-learn (C:\\Users\\senza\\AppData\\Local\\Packages\\PythonSoftwareFoundation.Python.3.11_qbz5n2kfra8p0\\LocalCache\\local-packages\\Python311\\site-packages)\n",
            "WARNING: Ignoring invalid distribution ~ (C:\\Users\\senza\\AppData\\Local\\Packages\\PythonSoftwareFoundation.Python.3.11_qbz5n2kfra8p0\\LocalCache\\local-packages\\Python311\\site-packages)\n",
            "WARNING: Ignoring invalid distribution ~cikit-learn (C:\\Users\\senza\\AppData\\Local\\Packages\\PythonSoftwareFoundation.Python.3.11_qbz5n2kfra8p0\\LocalCache\\local-packages\\Python311\\site-packages)\n",
            "WARNING: Ignoring invalid distribution ~ (C:\\Users\\senza\\AppData\\Local\\Packages\\PythonSoftwareFoundation.Python.3.11_qbz5n2kfra8p0\\LocalCache\\local-packages\\Python311\\site-packages)\n",
            "WARNING: Ignoring invalid distribution ~cikit-learn (C:\\Users\\senza\\AppData\\Local\\Packages\\PythonSoftwareFoundation.Python.3.11_qbz5n2kfra8p0\\LocalCache\\local-packages\\Python311\\site-packages)\n",
            "WARNING: Ignoring invalid distribution ~ (C:\\Users\\senza\\AppData\\Local\\Packages\\PythonSoftwareFoundation.Python.3.11_qbz5n2kfra8p0\\LocalCache\\local-packages\\Python311\\site-packages)\n",
            "WARNING: Ignoring invalid distribution ~cikit-learn (C:\\Users\\senza\\AppData\\Local\\Packages\\PythonSoftwareFoundation.Python.3.11_qbz5n2kfra8p0\\LocalCache\\local-packages\\Python311\\site-packages)\n",
            "\n",
            "[notice] A new release of pip is available: 25.0.1 -> 25.2\n",
            "[notice] To update, run: C:\\Users\\senza\\AppData\\Local\\Microsoft\\WindowsApps\\PythonSoftwareFoundation.Python.3.11_qbz5n2kfra8p0\\python.exe -m pip install --upgrade pip\n"
          ]
        }
      ],
      "source": [
        "# Deja un output y se ve feo que quede en el resultado de la celda que sigue\n",
        "!pip install autopep8"
      ]
    },
    {
      "cell_type": "code",
      "execution_count": 4,
      "metadata": {
        "cell_id": "1482c992d9494e5582b23dbd3431dbfd",
        "deepnote_cell_type": "code",
        "id": "sfnN7HubI5v_"
      },
      "outputs": [
        {
          "name": "stdout",
          "output_type": "stream",
          "text": [
            "Valor MAE (DummyRegressor) para conjunto Validación:  12518.387190585083\n",
            "MAE (XGBRegressor) validación: 2,678.35\n",
            "ΔMAE vs Dummy: -9840.035081620787\n"
          ]
        }
      ],
      "source": [
        "# importación de librerías importantes.\n",
        "\n",
        "# separacion de conjuntos\n",
        "from sklearn.model_selection import train_test_split\n",
        "\n",
        "# para el pipeline\n",
        "from sklearn.compose import ColumnTransformer\n",
        "from sklearn.preprocessing import StandardScaler, OneHotEncoder, FunctionTransformer\n",
        "from sklearn.impute import SimpleImputer\n",
        "from sklearn.pipeline import Pipeline\n",
        "from sklearn.dummy import DummyRegressor\n",
        "from xgboost import XGBRegressor\n",
        "\n",
        "# métricas\n",
        "\n",
        "from sklearn.metrics import mean_absolute_error as MAE\n",
        "\n",
        "# para guardar los modelos con pickle\n",
        "import os\n",
        "import pickle\n",
        "\n",
        "from sklearn import set_config\n",
        "set_config(transform_output=\"pandas\")\n",
        "\n",
        "# Inserte su código acá\n",
        "\n",
        "# Separo train - test - val + semilla (Punto 1)\n",
        "\n",
        "df_sorted = df.copy()\n",
        "df_sorted[\"date\"] = pd.to_datetime(df_sorted[\"date\"], format=\"%d/%m/%y\", dayfirst=True, errors=\"coerce\")\n",
        "df_sorted = df_sorted.sort_values(\"date\").reset_index(drop=True)\n",
        "\n",
        "df_x = df_sorted.drop(columns=\"quantity\")\n",
        "df_y = df_sorted[\"quantity\"]\n",
        "\n",
        "X_train, X_val, y_train, y_val = train_test_split(\n",
        "    df_x, df_y, random_state=42, shuffle=False, train_size=0.7\n",
        ")\n",
        "X_val, X_test, y_val, y_test = train_test_split(\n",
        "    X_val, y_val, test_size=0.33, shuffle=False, random_state=42\n",
        ")\n",
        "\n",
        "drop_cols = [\"id\"]\n",
        "\n",
        "num_cols = [\"lat\", \"long\", \"pop\", \"price\"]\n",
        "cat_cols = [\"city\", \"shop\", \"brand\", \"container\",\n",
        "            \"capacity\", \"day\", \"month\", \"year\"]\n",
        "\n",
        "# Definición de FunctionTraformer (Punto 2)\n",
        "\n",
        "\n",
        "def extrae_fecha(dataframe_in, col=\"date\"):\n",
        "    \"\"\"\n",
        "    Esta función debería extraer el día, mes y año\n",
        "    de la variable \"date\" de un dataframe.\n",
        "    Guarda las variables en el formato categórico\n",
        "    de pandas.\n",
        "\n",
        "    Parámetros:\n",
        "    -------------------\n",
        "    dataframe_in: dataframe para extraer los datos. \n",
        "    Debe contener columna \"date\".\n",
        "\n",
        "    col: columna de la fecha. Default \"date\".\n",
        "\n",
        "    \"\"\"\n",
        "    # primer transformamos esa columna a una nueva\n",
        "\n",
        "    df_copy = dataframe_in.copy()\n",
        "\n",
        "    df_copy[\"fecha\"] = pd.to_datetime(\n",
        "        df_copy[col], dayfirst=True, errors=\"coerce\", format=\"%d/%m/%y\")\n",
        "\n",
        "    # se crean las columnas de día, mes y año.\n",
        "\n",
        "    df_copy[\"day\"] = df_copy[\"fecha\"].dt.day.astype(\"category\")\n",
        "    df_copy[\"month\"] = df_copy[\"fecha\"].dt.month.astype(\"category\")\n",
        "    df_copy[\"year\"] = df_copy[\"fecha\"].dt.year.astype(\"category\")\n",
        "\n",
        "    # Se elimina columna \"fecha\" y \"date\"\n",
        "    df_copy = df_copy.drop(columns=[\"fecha\", \"date\"]) \n",
        "\n",
        "    return df_copy\n",
        "\n",
        "date_transformer = FunctionTransformer(extrae_fecha, validate=False)\n",
        "\n",
        "# PIPELINES POR GRUPO (punto 3)\n",
        "\n",
        "num_std_pipeline = Pipeline([\n",
        "    (\"imp\", SimpleImputer(strategy=\"median\")),\n",
        "    (\"sc\", StandardScaler())\n",
        "])\n",
        "\n",
        "cat_pipeline = Pipeline([\n",
        "    (\"imp\", SimpleImputer(strategy=\"most_frequent\")),\n",
        "    (\"onehot\", OneHotEncoder(handle_unknown=\"ignore\", sparse_output=False))\n",
        "])\n",
        "\n",
        "col_transformer = ColumnTransformer(\n",
        "    [\n",
        "        (\"drop_ids\", \"drop\", drop_cols),\n",
        "        (\"numerical\", num_std_pipeline, num_cols),\n",
        "        (\"categorical\", cat_pipeline, cat_cols)\n",
        "    ],\n",
        "    verbose_feature_names_out=False,\n",
        "    remainder=\"drop\"\n",
        ").set_output(transform=\"pandas\")\n",
        "\n",
        "\n",
        "# PIPELINE DEL MODELO (Punto 4)\n",
        "\n",
        "pipeline_dummyreg = Pipeline(\n",
        "    steps=[\n",
        "        (\"date_features\", date_transformer),\n",
        "        (\"col_transformer\", col_transformer),\n",
        "        (\"regresor_dummy\", DummyRegressor(strategy=\"mean\"))\n",
        "    ]\n",
        ")\n",
        "\n",
        "# ENTRENAMIENTO DEL MODELO DUMMYREGRESSOR\n",
        "\n",
        "pipeline_dummyreg.fit(X_train, y_train)\n",
        "\n",
        "# PREDICCIONES DUMMYREGRESSOR\n",
        "\n",
        "y_pred_val_dummyreg = pipeline_dummyreg.predict(X_val)\n",
        "\n",
        "mae_dummy = MAE(y_val, y_pred_val_dummyreg)\n",
        "\n",
        "#### REPORTE DUMMY MAE para dummyregressor (Punto 5)\n",
        "\n",
        "print(\"Valor MAE (DummyRegressor) para conjunto Validación: \", mae_dummy)\n",
        "\n",
        "### XGBOOST (Punto 6)\n",
        "\n",
        "pipeline_xgb = Pipeline([\n",
        "    (\"date_features\", FunctionTransformer(extrae_fecha, validate=False)),\n",
        "    (\"col_transformer\", col_transformer),\n",
        "    (\"regresor_xgb\", XGBRegressor(\n",
        "        objective=\"reg:squarederror\",\n",
        "        tree_method=\"hist\",\n",
        "        random_state=42,\n",
        "        n_jobs=-1\n",
        "    ))\n",
        "])\n",
        "\n",
        "#Entrenamiento y predicciones \n",
        "pipeline_xgb.fit(X_train, y_train)\n",
        "y_pred_val_xgb = pipeline_xgb.predict(X_val)\n",
        "\n",
        "#Resultados \n",
        "mae_xgb = MAE(y_val, y_pred_val_xgb)\n",
        "print(f\"MAE (XGBRegressor) validación: {mae_xgb:,.2f}\")\n",
        "print(\"ΔMAE vs Dummy:\", mae_xgb - mae_dummy)\n",
        "\n",
        "# Guardado de modelos (Punto 7)\n",
        "\n",
        "base_path = os.path.join(os.getcwd(), \"Laboratorios\", \"Laboratorio_6\", \"data\")\n",
        "os.makedirs(base_path, exist_ok=True)\n",
        "\n",
        "# Predicciones + y_true (validación)\n",
        "pd.DataFrame({\"y_val\": y_val, \"y_pred_dummy\": y_pred_val_dummyreg}).to_csv(\n",
        "    os.path.join(base_path, \"predicciones_dummy_regressor.csv\"), index=False\n",
        ")\n",
        "pd.DataFrame({\"y_val\": y_val, \"y_pred_xgb\": y_pred_val_xgb}).to_csv(\n",
        "    os.path.join(base_path, \"predicciones_xgb_regressor.csv\"), index=False\n",
        ")\n",
        "\n",
        "# Guardo también el de test de xgboost por sia caso\n",
        "y_pred_test_xgb = pipeline_xgb.predict(X_test)\n",
        "pd.DataFrame({\"y_test\": y_test, \"y_pred_xgb\": y_pred_test_xgb}).to_csv(\n",
        "    os.path.join(base_path, \"predicciones_xgb_test.csv\"), index=False\n",
        ")\n",
        "\n",
        "# Guardar modelos\n",
        "with open(os.path.join(base_path, \"dummy_regressor_model.pkl\"), \"wb\") as f:\n",
        "    pickle.dump(pipeline_dummyreg, f)\n",
        "\n",
        "with open(os.path.join(base_path, \"xgb_regressor_model.pkl\"), \"wb\") as f:\n",
        "    pickle.dump(pipeline_xgb, f)\n",
        "\n",
        "# Cargar y probar\n",
        "with open(os.path.join(base_path, \"xgb_regressor_model.pkl\"), \"rb\") as f:\n",
        "    modelo_loaded = pickle.load(f)\n",
        "_ = modelo_loaded.predict(X_val[:5])"
      ]
    },
    {
      "cell_type": "markdown",
      "metadata": {},
      "source": [
        "**Respuesta desarrollo punto 5:** El MAE (Mean Absolute Error) obtenido para el conjunto de validación fue de 12 518.39 unidades.\n",
        "Esta métrica representa el promedio de error absoluto entre las cantidades reales y las predichas, expresado en las mismas unidades de la variable objetivo (cantidad vendida en este caso).\n",
        "En términos de negocio, significa que, en promedio, el modelo baseline (DummyRegressor) se equivoca en alrededor de 12.500 unidades por observación, por ejemplo, por ciudad, tienda, marca o tipo de contenedor, al estimar la demanda esperada.\n",
        "Dado que el modelo predice siempre la media histórica, este resultado es esperable y refleja un desempeño sin poder predictivo real, ya que no incorpora variaciones por precio, estacionalidad ni diferencias entre tiendas o formatos.\n",
        "En consecuencia, el MAE sirve como referencia inicial pues todo modelo posterior deberá superar esta cifra para considerarse útil desde una perspectiva operativa, pues errores de esta magnitud implicarían desbalances significativos en planificación de producción, inventario y distribución.\n",
        "\n",
        "**Respuesta desarrollo punto 6:** El XGBRegressor (parámetros por defecto) obtuvo un MAE de 2 678.35 en validación, frente a 12 518.39 del DummyRegressor. Esto implica una reducción del error absoluto promedio de ~9 840 unidades (~78.6%), por lo que el XGB es claramente mejor que el baseline. La mejora es consistente con un modelo de gradiente boosting porque captura relaciones no lineales e interacción entre variables (precio, ciudad, tienda, marca, envase y estacionalidad) que el Dummy (promedio constante) no modela."
      ]
    },
    {
      "cell_type": "markdown",
      "metadata": {
        "cell_id": "7e17e46063774ec28226fe300d42ffe0",
        "deepnote_cell_type": "markdown",
        "id": "wnyMINdKI5v_"
      },
      "source": [
        "## 2. Forzando relaciones entre parámetros con XGBoost (10 puntos)\n",
        "\n",
        "<p align=\"center\">\n",
        "  <img src=\"https://64.media.tumblr.com/14cc45f9610a6ee341a45fd0d68f4dde/20d11b36022bca7b-bf/s640x960/67ab1db12ff73a530f649ac455c000945d99c0d6.gif\">\n",
        "</p>\n",
        "\n",
        "Un colega aficionado a la economía le *sopla* que la demanda guarda una relación inversa con el precio del producto. Motivado para impresionar al querido corpóreo, se propone hacer uso de esta información para mejorar su modelo realizando las siguientes tareas:\n",
        "\n",
        "1. Vuelva a entrenar el `Pipeline` con `XGBRegressor`, pero esta vez forzando una relación monótona negativa entre el precio y la cantidad. Para aplicar esta restricción apóyese en la siguiente <a href = https://xgboost.readthedocs.io/en/stable/tutorials/monotonic.html>documentación</a>. [6 puntos]\n",
        "\n",
        ">Hint 1: Para implementar el constraint se le sugiere hacerlo especificando el nombre de la variable. De ser así, probablemente le sea útil **mantener el formato de pandas** antes del step de entrenamiento.\n",
        "\n",
        ">Hint 2: Puede obtener el nombre de las columnas en el paso anterior al modelo regresor mediante el método `.get_feature_names_out()`\n",
        "\n",
        "2. Luego, vuelva a reportar el `MAE` sobre el conjunto de validación. [1 puntos]\n",
        "\n",
        "3. ¿Cómo cambia el error al incluir esta relación? ¿Tenía razón su amigo? [2 puntos]\n",
        "\n",
        "4. Guarde su modelo en un archivo .pkl [1 punto]"
      ]
    },
    {
      "cell_type": "code",
      "execution_count": null,
      "metadata": {
        "cell_id": "f469f3b572be434191d2d5c3f11b20d2",
        "deepnote_cell_type": "code",
        "id": "B7tMnkiAI5v_"
      },
      "outputs": [
        {
          "name": "stdout",
          "output_type": "stream",
          "text": [
            "Total features: 47\n",
            "Columnas en orden del df: ['lat' 'long' 'pop' 'price' 'city_Athens' 'city_Irakleion' 'city_Larisa'\n",
            " 'city_Patra' 'city_Thessaloniki' 'shop_shop_1' 'shop_shop_2'\n",
            " 'shop_shop_3' 'shop_shop_4' 'shop_shop_5' 'shop_shop_6'\n",
            " 'brand_adult-cola' 'brand_gazoza' 'brand_kinder-cola' 'brand_lemon-boost'\n",
            " 'brand_orange-power' 'container_can' 'container_glass'\n",
            " 'container_plastic' 'capacity_1.5lt' 'capacity_330ml' 'capacity_500ml'\n",
            " 'day_28' 'day_29' 'day_30' 'day_31' 'month_1' 'month_2' 'month_3'\n",
            " 'month_4' 'month_5' 'month_6' 'month_7' 'month_8' 'month_9' 'month_10'\n",
            " 'month_11' 'month_12' 'year_2012' 'year_2013' 'year_2014' 'year_2015'\n",
            " 'year_2016']\n",
            "Valor MAE (XGB) Validación [wc = with constraints]: 3,046.18\n"
          ]
        }
      ],
      "source": [
        "# Inserte su código acá\n",
        "\n",
        "# Reentreno o redefino (clonado eso si) el pipe (Punto 1)\n",
        "\n",
        "# Tengo que obtener nombres de columnas en el orden real del modelo entonces tengo que transformar X_train con los pasos previos al estimador y además, \n",
        "# evitar modificar el pipeline ya entrenado usando un clone del ColumnTransformer para que quede menos enredado.\n",
        "\n",
        "from sklearn.base import clone\n",
        "\n",
        "# Primero aplico el FunctionTransformer de fecha\n",
        "X_train_dt = pipeline_xgb.named_steps[\"date_features\"].transform(X_train)\n",
        "\n",
        "# Ajusto con un clone del col_transformer para evitar problemas después\n",
        "col_trans_clone = clone(pipeline_xgb.named_steps[\"col_transformer\"]).set_output(transform=\"pandas\")\n",
        "X_train_trans = col_trans_clone.fit_transform(X_train_dt)\n",
        "\n",
        "# Saco los nombres de las columnas según el orden que están en el modelo\n",
        "feature_names = col_trans_clone.get_feature_names_out()\n",
        "print(\"Total features:\", len(feature_names))\n",
        "\n",
        "# Inspecciono cuales son y el orden\n",
        "print(\"Columnas en orden del df:\", feature_names)\n",
        "\n",
        "# Después toca construir el mapeo de constraints, que lo vamos a definir como 0 para todas las features y -1 para 'price' \n",
        "# (como por la relación inversa con quantity)\n",
        "\n",
        "monotone_map = {name: 0 for name in feature_names}\n",
        "monotone_map[\"price\"] = -1 \n",
        "\n",
        "# Defino entonces el vector de constraints en el orden esperado por XGB\n",
        "monotone_constraints = tuple(monotone_map[name] for name in feature_names)\n",
        "\n",
        "# Cheque que calze la longitud con la cantidad de features\n",
        "assert len(monotone_constraints) == len(feature_names), \"Dimensión de constraints no coincide con # de features.\"\n",
        "\n",
        "# Ahora veo lo del Pipeline con restricciones monotónicas, o sea que con misma estructura de pasos pero pasándole el vector \n",
        "# de monotone_constraints al estimador\n",
        "\n",
        "pipeline_xgb_wc = Pipeline(steps=[\n",
        "    (\"date_features\", date_transformer),\n",
        "    (\"col_transformer\", col_transformer),\n",
        "    (\"regresor_xgb\", XGBRegressor(\n",
        "        random_state=42,\n",
        "        monotone_constraints=monotone_constraints,\n",
        "        objective=\"reg:squarederror\", \n",
        "        tree_method=\"hist\", \n",
        "        n_jobs=-1\n",
        "    ))\n",
        "])\n",
        "\n",
        "# Entrenamiento y predicción en validación\n",
        "pipeline_xgb_wc.fit(X_train, y_train)\n",
        "y_pred_val_xgb_wc = pipeline_xgb_wc.predict(X_val)\n",
        "\n",
        "# Saco el MAE en validación (Punto 2)\n",
        "mae_xgb_wc = MAE(y_val, y_pred_val_xgb_wc)\n",
        "print(\"Valor MAE (XGB) Validación [wc = with constraints]:\", f\"{mae_xgb_wc:,.2f}\")\n",
        "\n",
        "# Ahora para poder guardar el modelo y las predicciones (Punto 4)\n",
        "base_path = os.path.join(os.getcwd(), \"Laboratorios\", \"Laboratorio_6\", \"data\")\n",
        "os.makedirs(base_path, exist_ok=True)\n",
        "\n",
        "# lo de validación también lo guardo\n",
        "pd.DataFrame({\"y_val\": y_val, \"y_pred_xgb_wc\": y_pred_val_xgb_wc}).to_csv(\n",
        "    os.path.join(base_path, \"predicciones_xgb_regressor_wc.csv\"), index=False\n",
        ")\n",
        "\n",
        "# Guardar modelo este es con el pipe completo\n",
        "with open(os.path.join(base_path, \"xgb_regressor_model_wc.sav\"), \"wb\") as f:\n",
        "    pickle.dump(pipeline_xgb_wc, f)\n",
        "\n",
        "# Cargar \n",
        "with open(os.path.join(base_path, \"xgb_regressor_model_wc.sav\"), \"rb\") as f:\n",
        "    modelo_loaded_wc = pickle.load(f)\n",
        "_ = modelo_loaded_wc.predict(X_val[:5])"
      ]
    },
    {
      "cell_type": "markdown",
      "metadata": {},
      "source": [
        "**Respuesta desarrollo punto 3:** Al incorporar la restricción de monotonicidad negativa entre el precio y la cantidad, el error aumentó de 2.678,35 a 3.046,18 unidades en MAE. Esto indica que el modelo con restricción es ligeramente menos preciso en términos de error absoluto promedio. Sin embargo, el resultado mantiene coherencia con la lógica económica, ya que al imponer que un aumento en el precio no pueda generar un incremento en la demanda, se reduce la flexibilidad del modelo y, en consecuencia, puede perder capacidad de ajuste en ciertos casos. Entonces, aunque el desempeño métrico empeora levemente, el modelo gana en interpretabilidad y consistencia teórica, confirmando la hipótesis del compañero ya que existe una relación inversa entre precio y cantidad demandada, pero imponerla estrictamente implica sacrificar una pequeña parte de la precisión predictiva en favor de un mayor realismo económico."
      ]
    },
    {
      "cell_type": "markdown",
      "metadata": {
        "cell_id": "e59ef80ed20b4de8921f24da74e87374",
        "deepnote_cell_type": "markdown",
        "id": "5D5-tX4dI5v_"
      },
      "source": [
        "## 1.3 Optimización de Hiperparámetros con Optuna (20 puntos)\n",
        "\n",
        "<p align=\"center\">\n",
        "  <img src=\"https://media.tenor.com/fmNdyGN4z5kAAAAi/hacking-lucy.gif\">\n",
        "</p>\n",
        "\n",
        "Luego de presentarle sus resultados, Fiu le pregunta si es posible mejorar *aun más* su modelo. En particular, le comenta de la optimización de hiperparámetros con metodologías bayesianas a través del paquete `optuna`. Como usted es un aficionado al entrenamiento de modelos de ML, se propone implementar la descabellada idea de su jefe.\n",
        "\n",
        "A partir de la mejor configuración obtenida en la sección anterior, utilice `optuna` para optimizar sus hiperparámetros. En particular, se pide que su optimización considere lo siguiente:\n",
        "\n",
        "- Fijar una semilla en las instancias necesarias para garantizar la reproducibilidad de resultados\n",
        "- Utilice `TPESampler` como método de muestreo\n",
        "- De `XGBRegressor`, optimice los siguientes hiperparámetros:\n",
        "    - `learning_rate` buscando valores flotantes en el rango (0.001, 0.1)\n",
        "    - `n_estimators` buscando valores enteros en el rango (50, 1000)\n",
        "    - `max_depth` buscando valores enteros en el rango (3, 10)\n",
        "    - `max_leaves` buscando valores enteros en el rango (0, 100)\n",
        "    - `min_child_weight` buscando valores enteros en el rango (1, 5)\n",
        "    - `reg_alpha` buscando valores flotantes en el rango (0, 1)\n",
        "    - `reg_lambda` buscando valores flotantes en el rango (0, 1)\n",
        "- De `OneHotEncoder`, optimice el hiperparámetro `min_frequency` buscando el mejor valor flotante en el rango (0.0, 1.0)\n",
        "\n",
        "Para ello se pide los siguientes pasos:\n",
        "1. Implemente una función `objective()` que permita minimizar el `MAE` en el conjunto de validación. Use el método `.set_user_attr()` para almacenar el mejor pipeline entrenado. [10 puntos]\n",
        "2. Fije el tiempo de entrenamiento a 5 minutos. [1 punto]\n",
        "3. Optimizar el modelo y reportar el número de *trials*, el `MAE` y los mejores hiperparámetros encontrados. ¿Cómo cambian sus resultados con respecto a la sección anterior? ¿A qué se puede deber esto? [3 puntos] \n",
        "4. Explique cada hiperparámetro y su rol en el modelo. ¿Hacen sentido los rangos de optimización indicados? [5 puntos] \n",
        "5. Guardar su modelo en un archivo .pkl [1 punto]"
      ]
    },
    {
      "cell_type": "code",
      "execution_count": null,
      "metadata": {},
      "outputs": [
        {
          "name": "stdout",
          "output_type": "stream",
          "text": [
            "\n",
            "Número de trials: 140\n",
            "Mejor MAE: 2444.1614755546457\n",
            "Mejores hiperparámetros:\n",
            " {'learning_rate': 0.05808160002180267, 'n_estimators': 836, 'max_depth': 10, 'max_leaves': 96, 'min_child_weight': 5, 'reg_alpha': 0.4897592847791519, 'reg_lambda': 0.450717087316721, 'min_frequency': 0.037302133301090765}\n",
            "MAE (best, recomputado): 2444.1614755546457\n"
          ]
        }
      ],
      "source": [
        "import optuna\n",
        "from optuna.samplers import TPESampler\n",
        "optuna.logging.set_verbosity(optuna.logging.WARNING)\n",
        "\n",
        "import time\n",
        "import joblib\n",
        "\n",
        "# Inserte su código acá\n",
        "\n",
        "SEED = 42\n",
        "\n",
        "# Espacios de búsqueda requeridos\n",
        "def suggest_xgb_params(trial):\n",
        "    # Fijamos grow_policy='lossguide' para que max_leaves tenga efecto (no se optimiza grow_policy)\n",
        "    return {\n",
        "        \"learning_rate\":   trial.suggest_float(\"learning_rate\", 0.001, 0.1),\n",
        "        \"n_estimators\":    trial.suggest_int(\"n_estimators\", 50, 1000),\n",
        "        \"max_depth\":       trial.suggest_int(\"max_depth\", 3, 10),\n",
        "        \"max_leaves\":      trial.suggest_int(\"max_leaves\", 0, 100),\n",
        "        \"min_child_weight\":trial.suggest_int(\"min_child_weight\", 1, 5),\n",
        "        \"reg_alpha\":       trial.suggest_float(\"reg_alpha\", 0.0, 1.0),\n",
        "        \"reg_lambda\":      trial.suggest_float(\"reg_lambda\", 0.0, 1.0),\n",
        "        # Fijos (no exigidos optimizar, pero correctos para regresión y performance)\n",
        "        \"objective\":  \"reg:squarederror\",\n",
        "        \"tree_method\":\"hist\",\n",
        "        \"grow_policy\":\"lossguide\",\n",
        "        \"random_state\": SEED,\n",
        "        \"n_jobs\": -1,\n",
        "    }\n",
        "\n",
        "def suggest_ohe_params(trial):\n",
        "    return {\"min_frequency\": trial.suggest_float(\"min_frequency\", 0.0, 1.0)}\n",
        "\n",
        "# Función objective  (Punto 1)\n",
        "def objective(trial):\n",
        "    params_xgb = suggest_xgb_params(trial)\n",
        "    params_ohe = suggest_ohe_params(trial)\n",
        "\n",
        "    # Pipelines unicos por trial (sin estado conocido desde antes por decir)\n",
        "    date_tx  = clone(date_transformer)\n",
        "    num_pipe = Pipeline([\n",
        "        (\"imp\", SimpleImputer(strategy=\"median\")),\n",
        "        (\"sc\",  StandardScaler())\n",
        "    ])\n",
        "    cat_pipe = Pipeline([\n",
        "        (\"imp\", SimpleImputer(strategy=\"most_frequent\")),\n",
        "        (\"onehot\", OneHotEncoder(handle_unknown=\"ignore\",\n",
        "                                 sparse_output=False,\n",
        "                                 **params_ohe))\n",
        "    ])\n",
        "    col_tx = ColumnTransformer(\n",
        "        [\n",
        "            (\"drop_ids\", \"drop\", [\"id\"]),\n",
        "            (\"numerical\",  num_pipe, [\"lat\", \"long\", \"pop\", \"price\"]),\n",
        "            (\"categorical\",cat_pipe, [\"city\", \"shop\", \"brand\", \"container\",\n",
        "                                      \"capacity\", \"day\", \"month\", \"year\"])\n",
        "        ],\n",
        "        verbose_feature_names_out=False,\n",
        "        remainder=\"drop\"\n",
        "    ).set_output(transform=\"pandas\")\n",
        "\n",
        "    pipe = Pipeline(steps=[\n",
        "        (\"date_features\", date_tx),\n",
        "        (\"col_transformer\", col_tx),\n",
        "        (\"regresor_xgb\", XGBRegressor(**params_xgb))\n",
        "    ])\n",
        "\n",
        "    pipe.fit(X_train, y_train)\n",
        "    y_pred = pipe.predict(X_val)\n",
        "    mae = MAE(y_val, y_pred)\n",
        "\n",
        "    # Guardar el pipeline de este trial en los atributos del trial\n",
        "    trial.set_user_attr(\"pipeline\", pipe)\n",
        "    trial.set_user_attr(\"mae\", float(mae))\n",
        "    return mae\n",
        "\n",
        "# Optimización a 5 minutos (Punto 2 y 3)\n",
        "sampler = TPESampler(seed=SEED)\n",
        "study = optuna.create_study(direction=\"minimize\",\n",
        "                            sampler=sampler,\n",
        "                            study_name=\"opt_xgb_ohe_no_constraints\")\n",
        "study.optimize(objective, timeout=5*60, n_jobs=1)\n",
        "\n",
        "# Reporte\n",
        "print(\"\\nNúmero de trials:\", len(study.trials))\n",
        "print(\"Mejor MAE:\", study.best_value)\n",
        "print(\"Mejores hiperparámetros:\\n\", study.best_params)\n",
        "\n",
        "# Guardo mejor pipeline a .pkl (Punto 5)\n",
        "best_pipe = study.best_trial.user_attrs[\"pipeline\"]\n",
        "out_dir = os.path.join(os.getcwd(), \"Laboratorios\", \"Laboratorio_6\", \"data\")\n",
        "os.makedirs(out_dir, exist_ok=True)\n",
        "joblib.dump(best_pipe, os.path.join(out_dir, \"best_pipeline_optuna.pkl\"))\n",
        "\n",
        "y_pred_best = best_pipe.predict(X_val)\n",
        "pd.DataFrame({\"y_val\": y_val, \"y_pred_best\": y_pred_best}).to_csv(\n",
        "    os.path.join(out_dir, \"predicciones_best_optuna.csv\"),\n",
        "    index=False\n",
        ")\n",
        "print(\"MAE (best, recomputado):\", MAE(y_val, y_pred_best))"
      ]
    },
    {
      "cell_type": "markdown",
      "metadata": {},
      "source": [
        "**Respuesta desarrollo punto 3:** Luego de la optimización bayesiana con Optuna, el modelo alcanzó un MAE de 2.444,16 en el conjunto de validación, tras 140 iteraciones. En comparación con el modelo sin optimización (MAE ≈ 2.678,35), se observa una mejora moderada en el desempeño, equivalente a una reducción de aproximadamente un 8,7 % en el error absoluto promedio. Este resultado es coherente con el objetivo de la optimización, ya que el algoritmo TPE (Tree-structured Parzen Estimator) explora de manera eficiente el espacio de hiperparámetros, identificando combinaciones que equilibran la complejidad del modelo y su capacidad de generalización. En este caso, los mejores valores encontrados (por ejemplo, un learning_rate intermedio de 0.058 y una mayor profundidad con max_depth = 10 y max_leaves = 96) permitieron capturar mejor las relaciones no lineales sin sobreajustar. Entonces, el ajuste de hiperparámetros mejoró la precisión del modelo, lo que confirma que una búsqueda sistemática y controlada de parámetros contribuye a un desempeño más robusto que el obtenido con los valores por defecto del algoritmo.\n",
        "\n",
        "**Respuesta desarrollo punto 4:** Cada uno de los hiperparámetros optimizados cumple un rol específico en el comportamiento del modelo y su capacidad de generalización, ahora entenderemos un poco cómo es que influyen en el modelo y si los rangos definidos son adecuados:\n",
        "\n",
        "- **learning_rate:** controla la magnitud de los pasos que da el modelo en cada iteración del proceso de boosting. Valores pequeños (como los explorados entre 0.001 y 0.1) permiten un aprendizaje más estable y gradual, reduciendo el riesgo de sobreajuste, aunque requieren un mayor número de iteraciones para converger. El rango utilizado es apropiado para garantizar un balance entre precisión y velocidad de aprendizaje.\n",
        "\n",
        "- **n_estimators:** corresponde al número total de árboles que se construyen en el modelo. El rango entre 50 y 1000 es adecuado, ya que un número muy bajo puede producir subajuste, mientras que un número excesivo puede aumentar el riesgo de sobreajuste y el costo computacional.\n",
        "\n",
        "- **max_depth:** define la profundidad máxima de los árboles individuales. El rango entre 3 y 10 permite explorar desde estructuras simples y generalistas hasta árboles más complejos que capturen interacciones no lineales sin sobreajustar.\n",
        "\n",
        "- **max_leaves:** determina el número máximo de hojas permitidas por árbol cuando se usa la política de crecimiento *lossguide*. El rango entre 0 y 100 es lógico, ya que controla la granularidad de las divisiones pues valores bajos favorecen modelos más simples, mientras que valores altos incrementan la capacidad de ajuste.\n",
        "\n",
        "- **min_child_weight:** establece el peso mínimo de las observaciones en un nodo hijo. Funciona como un regularizador que evita divisiones con pocas muestras, lo cual contribuye a controlar el sobreajuste. El rango (1–5) es adecuado, pues valores menores podrían generar árboles demasiado profundos y específicos, mientras que valores mayores podrían restringir en exceso el crecimiento del modelo.\n",
        "\n",
        "- **reg_alpha:** representa la penalización L1 (Lasso) aplicada a los coeficientes del modelo. Ayuda a reducir la complejidad eliminando variables poco relevantes. El rango (0–1) permite ajustar su nivel de regularización de manera flexible.\n",
        "\n",
        "- **reg_lambda:** es la penalización L2 (Ridge), que suaviza los coeficientes y ayuda a prevenir el sobreajuste sin forzar a que algunos parámetros se anulen completamente. El rango (0–1) también resulta razonable para controlar su intensidad.\n",
        "\n",
        "- **min_frequency (OneHotEncoder):** especifica la frecuencia mínima con que debe aparecer una categoría para ser incluida como variable independiente en el proceso de codificación. Su rango (0–1) es coherente, ya que permite filtrar categorías poco frecuentes que podrían introducir ruido o provocar esparsidad excesiva en el conjunto de características.\n",
        "\n",
        "Habíendo dicho todo esto entonces, podemos ver que los rangos de optimización definidos son adecuados y coherentes con las mejores prácticas de ajuste en modelos basados en gradient boosting, ya que permiten explorar un espacio suficientemente amplio para equilibrar precisión, interpretabilidad y capacidad de generalización. (Igual esto no asegura 100% que vamos a encontrar si o si el mejor modelo, pero si nos da una buena probabilidad de encontrar un buen modelo)."
      ]
    },
    {
      "cell_type": "markdown",
      "metadata": {
        "cell_id": "5195ccfc37e044ad9453f6eb2754f631",
        "deepnote_cell_type": "markdown",
        "id": "ZglyD_QWI5wA"
      },
      "source": [
        "## 4. Optimización de Hiperparámetros con Optuna y Prunners (17 puntos)\n",
        "\n",
        "<p align=\"center\">\n",
        "  <img src=\"https://i.pinimg.com/originals/90/16/f9/9016f919c2259f3d0e8fe465049638a7.gif\">\n",
        "</p>\n",
        "\n",
        "Después de optimizar el rendimiento de su modelo varias veces, Fiu le pregunta si no es posible optimizar el entrenamiento del modelo en sí mismo. Después de leer un par de post de personas de dudosa reputación en la *deepweb*, usted llega a la conclusión que puede cumplir este objetivo mediante la implementación de **Prunning**.\n",
        "\n",
        "Vuelva a optimizar los mismos hiperparámetros que la sección pasada, pero esta vez utilizando **Prunning** en la optimización. En particular, usted debe:\n",
        "\n",
        "- Responder: ¿Qué es prunning? ¿De qué forma debería impactar en el entrenamiento? [2 puntos]\n",
        "- Redefinir la función `objective()` utilizando `optuna.integration.XGBoostPruningCallback` como método de **Prunning** [10 puntos]\n",
        "- Fijar nuevamente el tiempo de entrenamiento a 5 minutos [1 punto]\n",
        "- Reportar el número de *trials*, el `MAE` y los mejores hiperparámetros encontrados. ¿Cómo cambian sus resultados con respecto a la sección anterior? ¿A qué se puede deber esto? [3 puntos]\n",
        "- Guardar su modelo en un archivo .pkl [1 punto]\n",
        "\n",
        "Nota: Si quieren silenciar los prints obtenidos en el prunning, pueden hacerlo mediante el siguiente comando:\n",
        "\n",
        "```\n",
        "optuna.logging.set_verbosity(optuna.logging.WARNING)\n",
        "```\n",
        "\n",
        "De implementar la opción anterior, pueden especificar `show_progress_bar = True` en el método `optimize` para *más sabor*.\n",
        "\n",
        "Hint: Si quieren especificar parámetros del método .fit() del modelo a través del pipeline, pueden hacerlo por medio de la siguiente sintaxis: `pipeline.fit(stepmodelo__parametro = valor)`\n",
        "\n",
        "Hint2: Este <a href = https://stackoverflow.com/questions/40329576/sklearn-pass-fit-parameters-to-xgboost-in-pipeline>enlace</a> les puede ser de ayuda en su implementación"
      ]
    },
    {
      "cell_type": "code",
      "execution_count": null,
      "metadata": {
        "cell_id": "eeaa967cd8f6426d8c54f276c17dce79",
        "deepnote_cell_type": "code",
        "id": "sST6Wtj5I5wA"
      },
      "outputs": [
        {
          "data": {
            "application/vnd.jupyter.widget-view+json": {
              "model_id": "dd5338a8eace472db311efa9c5ac1c09",
              "version_major": 2,
              "version_minor": 0
            },
            "text/plain": [
              "   0%|          | 00:00/05:00"
            ]
          },
          "metadata": {},
          "output_type": "display_data"
        },
        {
          "name": "stdout",
          "output_type": "stream",
          "text": [
            "\n",
            "Número de trials: 133\n",
            "Mejor MAE: 2587.150638269646\n",
            "Mejores hiperparámetros:\n",
            " {'learning_rate': 0.09840278916775012, 'n_estimators': 459, 'max_depth': 6, 'max_leaves': 63, 'min_child_weight': 2, 'reg_alpha': 0.6725758811844124, 'reg_lambda': 0.20767474414528725, 'min_frequency': 0.07589327686982428}\n"
          ]
        },
        {
          "data": {
            "text/plain": [
              "['c:\\\\Users\\\\senza\\\\OneDrive\\\\Escritorio\\\\Josefa\\\\9. MDS UCH\\\\Semestres\\\\Primavera 2025\\\\Laboratorio de Programación Científica\\\\Laboratorios\\\\TamoJosha\\\\Laboratorios\\\\Laboratorio_6\\\\Laboratorios\\\\Laboratorio_6\\\\data\\\\best_pipeline_optuna_pruning.pkl']"
            ]
          },
          "execution_count": 7,
          "metadata": {},
          "output_type": "execute_result"
        }
      ],
      "source": [
        "# Inserte su código acá\n",
        "\n",
        "from optuna.integration import XGBoostPruningCallback\n",
        "optuna.logging.set_verbosity(optuna.logging.WARNING)\n",
        "SEED = 42\n",
        "\n",
        "# Repito el mismos espacios de búsqueda que la parte anterior\n",
        "def suggest_xgb_params(trial):\n",
        "    return {\n",
        "        \"learning_rate\":    trial.suggest_float(\"learning_rate\", 0.001, 0.1),\n",
        "        \"n_estimators\":     trial.suggest_int(\"n_estimators\", 50, 1000),\n",
        "        \"max_depth\":        trial.suggest_int(\"max_depth\", 3, 10),\n",
        "        \"max_leaves\":       trial.suggest_int(\"max_leaves\", 0, 100),\n",
        "        \"min_child_weight\": trial.suggest_int(\"min_child_weight\", 1, 5),\n",
        "        \"reg_alpha\":        trial.suggest_float(\"reg_alpha\", 0.0, 1.0),\n",
        "        \"reg_lambda\":       trial.suggest_float(\"reg_lambda\", 0.0, 1.0),\n",
        "        # fijos coherentes con la otra parte\n",
        "        \"objective\":  \"reg:squarederror\",\n",
        "        \"tree_method\":\"hist\",\n",
        "        \"grow_policy\":\"lossguide\",\n",
        "        \"random_state\": SEED,\n",
        "        \"n_jobs\": -1,\n",
        "    }\n",
        "\n",
        "def suggest_ohe_params(trial):\n",
        "    return {\"min_frequency\": trial.suggest_float(\"min_frequency\", 0.0, 1.0)}\n",
        "\n",
        "# Redefino objective (Punto 2)\n",
        "\n",
        "def objective(trial):\n",
        "    params_xgb = suggest_xgb_params(trial)\n",
        "    params_ohe = suggest_ohe_params(trial)\n",
        "    # Pipelines únicos por trial (sin estado conocido desde antes por decir)\n",
        "    date_tx  = clone(date_transformer)\n",
        "    num_pipe = Pipeline([(\"imp\", SimpleImputer(strategy=\"median\")),\n",
        "                         (\"sc\",  StandardScaler())])\n",
        "    cat_pipe = Pipeline([(\"imp\", SimpleImputer(strategy=\"most_frequent\")),\n",
        "                         (\"onehot\", OneHotEncoder(handle_unknown=\"ignore\",\n",
        "                                                  sparse_output=False,\n",
        "                                                  **params_ohe))])\n",
        "    col_tx = ColumnTransformer(\n",
        "        [(\"drop_ids\", \"drop\", [\"id\"]),\n",
        "         (\"numerical\",  num_pipe, [\"lat\", \"long\", \"pop\", \"price\"]),\n",
        "         (\"categorical\",cat_pipe, [\"city\", \"shop\", \"brand\", \"container\",\n",
        "                                   \"capacity\", \"day\", \"month\", \"year\"])],\n",
        "        verbose_feature_names_out=False,\n",
        "        remainder=\"drop\"\n",
        "    ).set_output(transform=\"pandas\")\n",
        "\n",
        "    # De ahí transformar datos\n",
        "    pipe_pre = Pipeline([(\"date_features\", date_tx),\n",
        "                         (\"col_transformer\", col_tx)])\n",
        "    X_train_trans = pipe_pre.fit_transform(X_train, y_train)\n",
        "    X_val_trans   = pipe_pre.transform(X_val)\n",
        "\n",
        "    # definimos el prunnignng callback\n",
        "    pruning_cb = XGBoostPruningCallback(trial, \"validation_1-mae\")\n",
        "\n",
        "    # Mmodelo xgb con pruning (fit directo, fuera del Pipeline)\n",
        "    model = XGBRegressor(\n",
        "        **params_xgb,\n",
        "        eval_metric=\"mae\",\n",
        "        callbacks=[pruning_cb]\n",
        "    )\n",
        "    model.fit(\n",
        "        X_train_trans, y_train,\n",
        "        eval_set=[(X_train_trans, y_train), (X_val_trans, y_val)],\n",
        "        verbose=False\n",
        "    )\n",
        "\n",
        "    # Evaluar MAE en validación\n",
        "    y_pred = model.predict(X_val_trans)\n",
        "    mae = MAE(y_val, y_pred)\n",
        "\n",
        "    # Guardar pipeline completo en atributos del trial\n",
        "    full_pipe = Pipeline([(\"date_features\", date_tx),\n",
        "                          (\"col_transformer\", col_tx),\n",
        "                          (\"regresor_xgb\", model)])\n",
        "    trial.set_user_attr(\"pipeline\", full_pipe)\n",
        "    trial.set_user_attr(\"mae\", float(mae))\n",
        "    return mae\n",
        "\n",
        "# Limito a 5 minutos (Punto 3)\n",
        "sampler = TPESampler(seed=SEED)\n",
        "study = optuna.create_study(direction=\"minimize\",\n",
        "                            sampler=sampler,\n",
        "                            study_name=\"opt_xgb_ohe_pruning\")\n",
        "study.optimize(objective, timeout=5*60, n_jobs=1, show_progress_bar=True)\n",
        "\n",
        "# Reporte requerido (Punto 4)\n",
        "print(\"\\nNúmero de trials:\", len(study.trials))\n",
        "print(\"Mejor MAE:\", study.best_value)\n",
        "print(\"Mejores hiperparámetros:\\n\", study.best_params)\n",
        "\n",
        "# Guardo mejor modelo .pkl (Punto 5)\n",
        "best_pipe = study.best_trial.user_attrs[\"pipeline\"]\n",
        "out_dir = os.path.join(os.getcwd(), \"Laboratorios\", \"Laboratorio_6\", \"data\")\n",
        "os.makedirs(out_dir, exist_ok=True)\n",
        "joblib.dump(best_pipe, os.path.join(out_dir, \"best_pipeline_optuna_pruning.pkl\"))"
      ]
    },
    {
      "cell_type": "markdown",
      "metadata": {},
      "source": [
        "**Respuesta desarrollo punto 1:** El pruning es una técnica utilizada durante la optimización de modelos para detener anticipadamente aquellos trials que muestran bajo desempeño parcial en las primeras etapas del entrenamiento. En lugar de completar todas las iteraciones de cada configuración de hiperparámetros, el algoritmo evalúa periódicamente su rendimiento y descarta de forma temprana los modelos que no prometen mejorar el mejor resultado actual. En el contexto de Optuna, esta técnica se implementa mediante el callback `XGBoostPruningCallback`, el cual monitorea una métrica de validación (en este caso, el `MAE`) durante el proceso de entrenamiento. Si el desempeño del modelo se mantiene significativamente por debajo del mejor valor registrado, el trial es interrumpido, liberando recursos computacionales para explorar nuevas combinaciones más prometedoras. En simple, el pruning reduce el tiempo total de búsqueda y mejora la eficiencia del proceso de optimización, ya que concentra el esfuerzo de cómputo en configuraciones con mayor potencial. Sin embargo, su aplicación también puede generar ligeras variaciones en el número de trials ejecutados o incluso en el valor final del MAE, dependiendo de los criterios de corte, dado que algunos modelos podrían detenerse antes de alcanzar su mejor desempeño posible.\n",
        "\n",
        "**Respuesta desarrollo punto 4:** Al incorporar el pruning dentro del proceso de optimización con Optuna, se obtuvieron 133 trials completados, con un MAE de 2.587,15 en el conjunto de validación. \n",
        "\n",
        "Los mejores hiperparámetros encontrados fueron:`learning_rate = 0.0984`, `n_estimators = 459`, `max_depth = 6`, `max_leaves = 63`, `min_child_weight = 2`, `reg_alpha = 0.67`, `reg_lambda = 0.21` y `min_frequency = 0.0759`.\n",
        "\n",
        "En comparación con la sección anterior (sin pruning), el número de trials disminuyó y el valor del MAE aumentó levemente. Esta diferencia es esperable, ya que el pruning interrumpe de forma anticipada aquellos trials que muestran un desempeño poco prometedor, reduciendo así el tiempo total de optimización pero a costa de explorar menos a fondo ciertas configuraciones. Esto implica un compromiso entre eficiencia computacional y precisión pues el pruning acelera la búsqueda al descartar combinaciones subóptimas, pero también puede omitir modelos que habrían mejorado con más iteraciones. Aun así, el resultado se mantiene dentro del mismo orden de magnitud que la optimización sin pruning, lo cual demuestra que el proceso fue estable y consistente, validando la efectividad del ajuste automático con control de recursos.\n"
      ]
    },
    {
      "cell_type": "markdown",
      "metadata": {
        "cell_id": "8a081778cc704fc6bed05393a5419327",
        "deepnote_cell_type": "markdown",
        "id": "ZMiiVaCUI5wA"
      },
      "source": [
        "## 5. Visualizaciones (5 puntos)\n",
        "\n",
        "<p align=\"center\">\n",
        "  <img src=\"https://media.tenor.com/F-LgB1xTebEAAAAd/look-at-this-graph-nickelback.gif\">\n",
        "</p>\n",
        "\n",
        "\n",
        "Satisfecho con su trabajo, Fiu le pregunta si es posible generar visualizaciones que permitan entender el entrenamiento de su modelo.\n",
        "\n",
        "A partir del siguiente <a href = https://optuna.readthedocs.io/en/stable/tutorial/10_key_features/005_visualization.html#visualization>enlace</a>, genere las siguientes visualizaciones:\n",
        "\n",
        "1. Gráfico de historial de optimización [1 punto]\n",
        "2. Gráfico de coordenadas paralelas [1 punto]\n",
        "3. Gráfico de importancia de hiperparámetros [1 punto]\n",
        "\n",
        "Comente sus resultados:\n",
        "\n",
        "4. ¿Desde qué *trial* se empiezan a observar mejoras notables en sus resultados? [0.5 puntos]\n",
        "5. ¿Qué tendencias puede observar a partir del gráfico de coordenadas paralelas? [1 punto]\n",
        "6. ¿Cuáles son los hiperparámetros con mayor importancia para la optimización de su modelo? [0.5 puntos]"
      ]
    },
    {
      "cell_type": "code",
      "execution_count": 8,
      "metadata": {
        "cell_id": "0e706dc9a8d946eda7a9eb1f0463c6d7",
        "deepnote_cell_type": "code",
        "id": "xjxAEENAI5wA"
      },
      "outputs": [
        {
          "data": {
            "application/vnd.plotly.v1+json": {
              "config": {
                "plotlyServerURL": "https://plot.ly"
              },
              "data": [
                {
                  "mode": "markers",
                  "name": "Objective Value",
                  "type": "scatter",
                  "x": [
                    0,
                    1,
                    2,
                    3,
                    4,
                    12,
                    13,
                    14,
                    15,
                    17,
                    19,
                    21,
                    22,
                    26,
                    31,
                    32,
                    35,
                    42,
                    44,
                    47,
                    52,
                    58,
                    61,
                    62,
                    64,
                    65,
                    70,
                    71,
                    72,
                    81,
                    82,
                    83,
                    84,
                    91,
                    92,
                    94,
                    100,
                    101,
                    102,
                    104,
                    110,
                    111,
                    112,
                    113,
                    114,
                    117,
                    124,
                    125,
                    127,
                    131,
                    132
                  ],
                  "y": [
                    8981.526791255528,
                    5444.609704581695,
                    8248.787582988256,
                    5516.81046925686,
                    8294.984557535046,
                    6393.257396560485,
                    2895.0157279204304,
                    3000.380965392007,
                    2709.9694770436104,
                    4487.697732882124,
                    5506.461323431242,
                    2844.4836574090978,
                    2828.928485539313,
                    2873.7025142409934,
                    2827.2401630722475,
                    2860.592155466729,
                    2719.2006552356265,
                    2863.8590891370786,
                    2805.6885800533523,
                    2871.496913609422,
                    2800.617588914125,
                    2698.1941411791245,
                    2805.202038427539,
                    2826.6376646726885,
                    2741.158002662404,
                    2815.405684956244,
                    2780.4301627430323,
                    2742.4831575564294,
                    2862.307844948864,
                    2697.7999984680096,
                    2704.207056674524,
                    2716.93728552132,
                    2694.410468515312,
                    2712.495000413963,
                    2758.65034344295,
                    2780.488126258188,
                    2666.9696209529375,
                    2676.7729466111064,
                    2727.836231104363,
                    2762.9354487624123,
                    2768.4505102669445,
                    2651.3682972152974,
                    2658.539518837617,
                    2638.5429466665187,
                    2630.1829049246653,
                    2587.150638269646,
                    2658.3254803605328,
                    2601.377422663812,
                    2614.336848382479,
                    2600.792098774929,
                    2614.0362525196356
                  ]
                },
                {
                  "mode": "lines",
                  "name": "Best Value",
                  "type": "scatter",
                  "x": [
                    0,
                    1,
                    2,
                    3,
                    4,
                    5,
                    6,
                    7,
                    8,
                    9,
                    10,
                    11,
                    12,
                    13,
                    14,
                    15,
                    16,
                    17,
                    18,
                    19,
                    20,
                    21,
                    22,
                    23,
                    24,
                    25,
                    26,
                    27,
                    28,
                    29,
                    30,
                    31,
                    32,
                    33,
                    34,
                    35,
                    36,
                    37,
                    38,
                    39,
                    40,
                    41,
                    42,
                    43,
                    44,
                    45,
                    46,
                    47,
                    48,
                    49,
                    50,
                    51,
                    52,
                    53,
                    54,
                    55,
                    56,
                    57,
                    58,
                    59,
                    60,
                    61,
                    62,
                    63,
                    64,
                    65,
                    66,
                    67,
                    68,
                    69,
                    70,
                    71,
                    72,
                    73,
                    74,
                    75,
                    76,
                    77,
                    78,
                    79,
                    80,
                    81,
                    82,
                    83,
                    84,
                    85,
                    86,
                    87,
                    88,
                    89,
                    90,
                    91,
                    92,
                    93,
                    94,
                    95,
                    96,
                    97,
                    98,
                    99,
                    100,
                    101,
                    102,
                    103,
                    104,
                    105,
                    106,
                    107,
                    108,
                    109,
                    110,
                    111,
                    112,
                    113,
                    114,
                    115,
                    116,
                    117,
                    118,
                    119,
                    120,
                    121,
                    122,
                    123,
                    124,
                    125,
                    126,
                    127,
                    128,
                    129,
                    130,
                    131,
                    132
                  ],
                  "y": [
                    8981.526791255528,
                    5444.609704581695,
                    5444.609704581695,
                    5444.609704581695,
                    5444.609704581695,
                    5444.609704581695,
                    5444.609704581695,
                    5444.609704581695,
                    5444.609704581695,
                    5444.609704581695,
                    5444.609704581695,
                    5444.609704581695,
                    5444.609704581695,
                    2895.0157279204304,
                    2895.0157279204304,
                    2709.9694770436104,
                    2709.9694770436104,
                    2709.9694770436104,
                    2709.9694770436104,
                    2709.9694770436104,
                    2709.9694770436104,
                    2709.9694770436104,
                    2709.9694770436104,
                    2709.9694770436104,
                    2709.9694770436104,
                    2709.9694770436104,
                    2709.9694770436104,
                    2709.9694770436104,
                    2709.9694770436104,
                    2709.9694770436104,
                    2709.9694770436104,
                    2709.9694770436104,
                    2709.9694770436104,
                    2709.9694770436104,
                    2709.9694770436104,
                    2709.9694770436104,
                    2709.9694770436104,
                    2709.9694770436104,
                    2709.9694770436104,
                    2709.9694770436104,
                    2709.9694770436104,
                    2709.9694770436104,
                    2709.9694770436104,
                    2709.9694770436104,
                    2709.9694770436104,
                    2709.9694770436104,
                    2709.9694770436104,
                    2709.9694770436104,
                    2709.9694770436104,
                    2709.9694770436104,
                    2709.9694770436104,
                    2709.9694770436104,
                    2709.9694770436104,
                    2709.9694770436104,
                    2709.9694770436104,
                    2709.9694770436104,
                    2709.9694770436104,
                    2709.9694770436104,
                    2698.1941411791245,
                    2698.1941411791245,
                    2698.1941411791245,
                    2698.1941411791245,
                    2698.1941411791245,
                    2698.1941411791245,
                    2698.1941411791245,
                    2698.1941411791245,
                    2698.1941411791245,
                    2698.1941411791245,
                    2698.1941411791245,
                    2698.1941411791245,
                    2698.1941411791245,
                    2698.1941411791245,
                    2698.1941411791245,
                    2698.1941411791245,
                    2698.1941411791245,
                    2698.1941411791245,
                    2698.1941411791245,
                    2698.1941411791245,
                    2698.1941411791245,
                    2698.1941411791245,
                    2698.1941411791245,
                    2697.7999984680096,
                    2697.7999984680096,
                    2697.7999984680096,
                    2694.410468515312,
                    2694.410468515312,
                    2694.410468515312,
                    2694.410468515312,
                    2694.410468515312,
                    2694.410468515312,
                    2694.410468515312,
                    2694.410468515312,
                    2694.410468515312,
                    2694.410468515312,
                    2694.410468515312,
                    2694.410468515312,
                    2694.410468515312,
                    2694.410468515312,
                    2694.410468515312,
                    2694.410468515312,
                    2666.9696209529375,
                    2666.9696209529375,
                    2666.9696209529375,
                    2666.9696209529375,
                    2666.9696209529375,
                    2666.9696209529375,
                    2666.9696209529375,
                    2666.9696209529375,
                    2666.9696209529375,
                    2666.9696209529375,
                    2666.9696209529375,
                    2651.3682972152974,
                    2651.3682972152974,
                    2638.5429466665187,
                    2630.1829049246653,
                    2630.1829049246653,
                    2630.1829049246653,
                    2587.150638269646,
                    2587.150638269646,
                    2587.150638269646,
                    2587.150638269646,
                    2587.150638269646,
                    2587.150638269646,
                    2587.150638269646,
                    2587.150638269646,
                    2587.150638269646,
                    2587.150638269646,
                    2587.150638269646,
                    2587.150638269646,
                    2587.150638269646,
                    2587.150638269646,
                    2587.150638269646,
                    2587.150638269646
                  ]
                },
                {
                  "marker": {
                    "color": "#cccccc"
                  },
                  "mode": "markers",
                  "name": "Infeasible Trial",
                  "showlegend": false,
                  "type": "scatter",
                  "x": [],
                  "y": []
                }
              ],
              "layout": {
                "template": {
                  "data": {
                    "bar": [
                      {
                        "error_x": {
                          "color": "#2a3f5f"
                        },
                        "error_y": {
                          "color": "#2a3f5f"
                        },
                        "marker": {
                          "line": {
                            "color": "#E5ECF6",
                            "width": 0.5
                          },
                          "pattern": {
                            "fillmode": "overlay",
                            "size": 10,
                            "solidity": 0.2
                          }
                        },
                        "type": "bar"
                      }
                    ],
                    "barpolar": [
                      {
                        "marker": {
                          "line": {
                            "color": "#E5ECF6",
                            "width": 0.5
                          },
                          "pattern": {
                            "fillmode": "overlay",
                            "size": 10,
                            "solidity": 0.2
                          }
                        },
                        "type": "barpolar"
                      }
                    ],
                    "carpet": [
                      {
                        "aaxis": {
                          "endlinecolor": "#2a3f5f",
                          "gridcolor": "white",
                          "linecolor": "white",
                          "minorgridcolor": "white",
                          "startlinecolor": "#2a3f5f"
                        },
                        "baxis": {
                          "endlinecolor": "#2a3f5f",
                          "gridcolor": "white",
                          "linecolor": "white",
                          "minorgridcolor": "white",
                          "startlinecolor": "#2a3f5f"
                        },
                        "type": "carpet"
                      }
                    ],
                    "choropleth": [
                      {
                        "colorbar": {
                          "outlinewidth": 0,
                          "ticks": ""
                        },
                        "type": "choropleth"
                      }
                    ],
                    "contour": [
                      {
                        "colorbar": {
                          "outlinewidth": 0,
                          "ticks": ""
                        },
                        "colorscale": [
                          [
                            0,
                            "#0d0887"
                          ],
                          [
                            0.1111111111111111,
                            "#46039f"
                          ],
                          [
                            0.2222222222222222,
                            "#7201a8"
                          ],
                          [
                            0.3333333333333333,
                            "#9c179e"
                          ],
                          [
                            0.4444444444444444,
                            "#bd3786"
                          ],
                          [
                            0.5555555555555556,
                            "#d8576b"
                          ],
                          [
                            0.6666666666666666,
                            "#ed7953"
                          ],
                          [
                            0.7777777777777778,
                            "#fb9f3a"
                          ],
                          [
                            0.8888888888888888,
                            "#fdca26"
                          ],
                          [
                            1,
                            "#f0f921"
                          ]
                        ],
                        "type": "contour"
                      }
                    ],
                    "contourcarpet": [
                      {
                        "colorbar": {
                          "outlinewidth": 0,
                          "ticks": ""
                        },
                        "type": "contourcarpet"
                      }
                    ],
                    "heatmap": [
                      {
                        "colorbar": {
                          "outlinewidth": 0,
                          "ticks": ""
                        },
                        "colorscale": [
                          [
                            0,
                            "#0d0887"
                          ],
                          [
                            0.1111111111111111,
                            "#46039f"
                          ],
                          [
                            0.2222222222222222,
                            "#7201a8"
                          ],
                          [
                            0.3333333333333333,
                            "#9c179e"
                          ],
                          [
                            0.4444444444444444,
                            "#bd3786"
                          ],
                          [
                            0.5555555555555556,
                            "#d8576b"
                          ],
                          [
                            0.6666666666666666,
                            "#ed7953"
                          ],
                          [
                            0.7777777777777778,
                            "#fb9f3a"
                          ],
                          [
                            0.8888888888888888,
                            "#fdca26"
                          ],
                          [
                            1,
                            "#f0f921"
                          ]
                        ],
                        "type": "heatmap"
                      }
                    ],
                    "histogram": [
                      {
                        "marker": {
                          "pattern": {
                            "fillmode": "overlay",
                            "size": 10,
                            "solidity": 0.2
                          }
                        },
                        "type": "histogram"
                      }
                    ],
                    "histogram2d": [
                      {
                        "colorbar": {
                          "outlinewidth": 0,
                          "ticks": ""
                        },
                        "colorscale": [
                          [
                            0,
                            "#0d0887"
                          ],
                          [
                            0.1111111111111111,
                            "#46039f"
                          ],
                          [
                            0.2222222222222222,
                            "#7201a8"
                          ],
                          [
                            0.3333333333333333,
                            "#9c179e"
                          ],
                          [
                            0.4444444444444444,
                            "#bd3786"
                          ],
                          [
                            0.5555555555555556,
                            "#d8576b"
                          ],
                          [
                            0.6666666666666666,
                            "#ed7953"
                          ],
                          [
                            0.7777777777777778,
                            "#fb9f3a"
                          ],
                          [
                            0.8888888888888888,
                            "#fdca26"
                          ],
                          [
                            1,
                            "#f0f921"
                          ]
                        ],
                        "type": "histogram2d"
                      }
                    ],
                    "histogram2dcontour": [
                      {
                        "colorbar": {
                          "outlinewidth": 0,
                          "ticks": ""
                        },
                        "colorscale": [
                          [
                            0,
                            "#0d0887"
                          ],
                          [
                            0.1111111111111111,
                            "#46039f"
                          ],
                          [
                            0.2222222222222222,
                            "#7201a8"
                          ],
                          [
                            0.3333333333333333,
                            "#9c179e"
                          ],
                          [
                            0.4444444444444444,
                            "#bd3786"
                          ],
                          [
                            0.5555555555555556,
                            "#d8576b"
                          ],
                          [
                            0.6666666666666666,
                            "#ed7953"
                          ],
                          [
                            0.7777777777777778,
                            "#fb9f3a"
                          ],
                          [
                            0.8888888888888888,
                            "#fdca26"
                          ],
                          [
                            1,
                            "#f0f921"
                          ]
                        ],
                        "type": "histogram2dcontour"
                      }
                    ],
                    "mesh3d": [
                      {
                        "colorbar": {
                          "outlinewidth": 0,
                          "ticks": ""
                        },
                        "type": "mesh3d"
                      }
                    ],
                    "parcoords": [
                      {
                        "line": {
                          "colorbar": {
                            "outlinewidth": 0,
                            "ticks": ""
                          }
                        },
                        "type": "parcoords"
                      }
                    ],
                    "pie": [
                      {
                        "automargin": true,
                        "type": "pie"
                      }
                    ],
                    "scatter": [
                      {
                        "fillpattern": {
                          "fillmode": "overlay",
                          "size": 10,
                          "solidity": 0.2
                        },
                        "type": "scatter"
                      }
                    ],
                    "scatter3d": [
                      {
                        "line": {
                          "colorbar": {
                            "outlinewidth": 0,
                            "ticks": ""
                          }
                        },
                        "marker": {
                          "colorbar": {
                            "outlinewidth": 0,
                            "ticks": ""
                          }
                        },
                        "type": "scatter3d"
                      }
                    ],
                    "scattercarpet": [
                      {
                        "marker": {
                          "colorbar": {
                            "outlinewidth": 0,
                            "ticks": ""
                          }
                        },
                        "type": "scattercarpet"
                      }
                    ],
                    "scattergeo": [
                      {
                        "marker": {
                          "colorbar": {
                            "outlinewidth": 0,
                            "ticks": ""
                          }
                        },
                        "type": "scattergeo"
                      }
                    ],
                    "scattergl": [
                      {
                        "marker": {
                          "colorbar": {
                            "outlinewidth": 0,
                            "ticks": ""
                          }
                        },
                        "type": "scattergl"
                      }
                    ],
                    "scattermap": [
                      {
                        "marker": {
                          "colorbar": {
                            "outlinewidth": 0,
                            "ticks": ""
                          }
                        },
                        "type": "scattermap"
                      }
                    ],
                    "scattermapbox": [
                      {
                        "marker": {
                          "colorbar": {
                            "outlinewidth": 0,
                            "ticks": ""
                          }
                        },
                        "type": "scattermapbox"
                      }
                    ],
                    "scatterpolar": [
                      {
                        "marker": {
                          "colorbar": {
                            "outlinewidth": 0,
                            "ticks": ""
                          }
                        },
                        "type": "scatterpolar"
                      }
                    ],
                    "scatterpolargl": [
                      {
                        "marker": {
                          "colorbar": {
                            "outlinewidth": 0,
                            "ticks": ""
                          }
                        },
                        "type": "scatterpolargl"
                      }
                    ],
                    "scatterternary": [
                      {
                        "marker": {
                          "colorbar": {
                            "outlinewidth": 0,
                            "ticks": ""
                          }
                        },
                        "type": "scatterternary"
                      }
                    ],
                    "surface": [
                      {
                        "colorbar": {
                          "outlinewidth": 0,
                          "ticks": ""
                        },
                        "colorscale": [
                          [
                            0,
                            "#0d0887"
                          ],
                          [
                            0.1111111111111111,
                            "#46039f"
                          ],
                          [
                            0.2222222222222222,
                            "#7201a8"
                          ],
                          [
                            0.3333333333333333,
                            "#9c179e"
                          ],
                          [
                            0.4444444444444444,
                            "#bd3786"
                          ],
                          [
                            0.5555555555555556,
                            "#d8576b"
                          ],
                          [
                            0.6666666666666666,
                            "#ed7953"
                          ],
                          [
                            0.7777777777777778,
                            "#fb9f3a"
                          ],
                          [
                            0.8888888888888888,
                            "#fdca26"
                          ],
                          [
                            1,
                            "#f0f921"
                          ]
                        ],
                        "type": "surface"
                      }
                    ],
                    "table": [
                      {
                        "cells": {
                          "fill": {
                            "color": "#EBF0F8"
                          },
                          "line": {
                            "color": "white"
                          }
                        },
                        "header": {
                          "fill": {
                            "color": "#C8D4E3"
                          },
                          "line": {
                            "color": "white"
                          }
                        },
                        "type": "table"
                      }
                    ]
                  },
                  "layout": {
                    "annotationdefaults": {
                      "arrowcolor": "#2a3f5f",
                      "arrowhead": 0,
                      "arrowwidth": 1
                    },
                    "autotypenumbers": "strict",
                    "coloraxis": {
                      "colorbar": {
                        "outlinewidth": 0,
                        "ticks": ""
                      }
                    },
                    "colorscale": {
                      "diverging": [
                        [
                          0,
                          "#8e0152"
                        ],
                        [
                          0.1,
                          "#c51b7d"
                        ],
                        [
                          0.2,
                          "#de77ae"
                        ],
                        [
                          0.3,
                          "#f1b6da"
                        ],
                        [
                          0.4,
                          "#fde0ef"
                        ],
                        [
                          0.5,
                          "#f7f7f7"
                        ],
                        [
                          0.6,
                          "#e6f5d0"
                        ],
                        [
                          0.7,
                          "#b8e186"
                        ],
                        [
                          0.8,
                          "#7fbc41"
                        ],
                        [
                          0.9,
                          "#4d9221"
                        ],
                        [
                          1,
                          "#276419"
                        ]
                      ],
                      "sequential": [
                        [
                          0,
                          "#0d0887"
                        ],
                        [
                          0.1111111111111111,
                          "#46039f"
                        ],
                        [
                          0.2222222222222222,
                          "#7201a8"
                        ],
                        [
                          0.3333333333333333,
                          "#9c179e"
                        ],
                        [
                          0.4444444444444444,
                          "#bd3786"
                        ],
                        [
                          0.5555555555555556,
                          "#d8576b"
                        ],
                        [
                          0.6666666666666666,
                          "#ed7953"
                        ],
                        [
                          0.7777777777777778,
                          "#fb9f3a"
                        ],
                        [
                          0.8888888888888888,
                          "#fdca26"
                        ],
                        [
                          1,
                          "#f0f921"
                        ]
                      ],
                      "sequentialminus": [
                        [
                          0,
                          "#0d0887"
                        ],
                        [
                          0.1111111111111111,
                          "#46039f"
                        ],
                        [
                          0.2222222222222222,
                          "#7201a8"
                        ],
                        [
                          0.3333333333333333,
                          "#9c179e"
                        ],
                        [
                          0.4444444444444444,
                          "#bd3786"
                        ],
                        [
                          0.5555555555555556,
                          "#d8576b"
                        ],
                        [
                          0.6666666666666666,
                          "#ed7953"
                        ],
                        [
                          0.7777777777777778,
                          "#fb9f3a"
                        ],
                        [
                          0.8888888888888888,
                          "#fdca26"
                        ],
                        [
                          1,
                          "#f0f921"
                        ]
                      ]
                    },
                    "colorway": [
                      "#636efa",
                      "#EF553B",
                      "#00cc96",
                      "#ab63fa",
                      "#FFA15A",
                      "#19d3f3",
                      "#FF6692",
                      "#B6E880",
                      "#FF97FF",
                      "#FECB52"
                    ],
                    "font": {
                      "color": "#2a3f5f"
                    },
                    "geo": {
                      "bgcolor": "white",
                      "lakecolor": "white",
                      "landcolor": "#E5ECF6",
                      "showlakes": true,
                      "showland": true,
                      "subunitcolor": "white"
                    },
                    "hoverlabel": {
                      "align": "left"
                    },
                    "hovermode": "closest",
                    "mapbox": {
                      "style": "light"
                    },
                    "paper_bgcolor": "white",
                    "plot_bgcolor": "#E5ECF6",
                    "polar": {
                      "angularaxis": {
                        "gridcolor": "white",
                        "linecolor": "white",
                        "ticks": ""
                      },
                      "bgcolor": "#E5ECF6",
                      "radialaxis": {
                        "gridcolor": "white",
                        "linecolor": "white",
                        "ticks": ""
                      }
                    },
                    "scene": {
                      "xaxis": {
                        "backgroundcolor": "#E5ECF6",
                        "gridcolor": "white",
                        "gridwidth": 2,
                        "linecolor": "white",
                        "showbackground": true,
                        "ticks": "",
                        "zerolinecolor": "white"
                      },
                      "yaxis": {
                        "backgroundcolor": "#E5ECF6",
                        "gridcolor": "white",
                        "gridwidth": 2,
                        "linecolor": "white",
                        "showbackground": true,
                        "ticks": "",
                        "zerolinecolor": "white"
                      },
                      "zaxis": {
                        "backgroundcolor": "#E5ECF6",
                        "gridcolor": "white",
                        "gridwidth": 2,
                        "linecolor": "white",
                        "showbackground": true,
                        "ticks": "",
                        "zerolinecolor": "white"
                      }
                    },
                    "shapedefaults": {
                      "line": {
                        "color": "#2a3f5f"
                      }
                    },
                    "ternary": {
                      "aaxis": {
                        "gridcolor": "white",
                        "linecolor": "white",
                        "ticks": ""
                      },
                      "baxis": {
                        "gridcolor": "white",
                        "linecolor": "white",
                        "ticks": ""
                      },
                      "bgcolor": "#E5ECF6",
                      "caxis": {
                        "gridcolor": "white",
                        "linecolor": "white",
                        "ticks": ""
                      }
                    },
                    "title": {
                      "x": 0.05
                    },
                    "xaxis": {
                      "automargin": true,
                      "gridcolor": "white",
                      "linecolor": "white",
                      "ticks": "",
                      "title": {
                        "standoff": 15
                      },
                      "zerolinecolor": "white",
                      "zerolinewidth": 2
                    },
                    "yaxis": {
                      "automargin": true,
                      "gridcolor": "white",
                      "linecolor": "white",
                      "ticks": "",
                      "title": {
                        "standoff": 15
                      },
                      "zerolinecolor": "white",
                      "zerolinewidth": 2
                    }
                  }
                },
                "title": {
                  "text": "Optimization History Plot"
                },
                "xaxis": {
                  "title": {
                    "text": "Trial"
                  }
                },
                "yaxis": {
                  "title": {
                    "text": "Objective Value"
                  }
                }
              }
            }
          },
          "metadata": {},
          "output_type": "display_data"
        },
        {
          "data": {
            "application/vnd.plotly.v1+json": {
              "config": {
                "plotlyServerURL": "https://plot.ly"
              },
              "data": [
                {
                  "dimensions": [
                    {
                      "label": "Objective Value",
                      "range": [
                        2587.150638269646,
                        8981.526791255528
                      ],
                      "values": [
                        8981.526791255528,
                        5444.609704581695,
                        8248.787582988256,
                        5516.81046925686,
                        8294.984557535046,
                        6393.257396560485,
                        2895.0157279204304,
                        3000.380965392007,
                        2709.9694770436104,
                        4487.697732882124,
                        5506.461323431242,
                        2844.4836574090978,
                        2828.928485539313,
                        2873.7025142409934,
                        2827.2401630722475,
                        2860.592155466729,
                        2719.2006552356265,
                        2863.8590891370786,
                        2805.6885800533523,
                        2871.496913609422,
                        2800.617588914125,
                        2698.1941411791245,
                        2805.202038427539,
                        2826.6376646726885,
                        2741.158002662404,
                        2815.405684956244,
                        2780.4301627430323,
                        2742.4831575564294,
                        2862.307844948864,
                        2697.7999984680096,
                        2704.207056674524,
                        2716.93728552132,
                        2694.410468515312,
                        2712.495000413963,
                        2758.65034344295,
                        2780.488126258188,
                        2666.9696209529375,
                        2676.7729466111064,
                        2727.836231104363,
                        2762.9354487624123,
                        2768.4505102669445,
                        2651.3682972152974,
                        2658.539518837617,
                        2638.5429466665187,
                        2630.1829049246653,
                        2587.150638269646,
                        2658.3254803605328,
                        2601.377422663812,
                        2614.336848382479,
                        2600.792098774929,
                        2614.0362525196356
                      ]
                    },
                    {
                      "label": "learning_rate",
                      "range": [
                        0.0074401077055426725,
                        0.09989006159786988
                      ],
                      "values": [
                        0.03807947176588889,
                        0.06051038616257767,
                        0.03111998205299424,
                        0.04615092843748656,
                        0.0074401077055426725,
                        0.07143256650213327,
                        0.04976275964784714,
                        0.08166358818148488,
                        0.09989006159786988,
                        0.077472813016042,
                        0.09983645727104781,
                        0.08224408187220297,
                        0.08674197536127438,
                        0.0884696609029997,
                        0.08796470349072524,
                        0.09521850406541406,
                        0.08876316879373553,
                        0.09281271695653869,
                        0.09622460674713275,
                        0.0899681444520248,
                        0.09971169934172247,
                        0.09092064807024736,
                        0.08971320403181592,
                        0.08959685354171465,
                        0.0962436041203942,
                        0.09597798521735344,
                        0.09301439240408779,
                        0.09742276438381427,
                        0.09258486394073248,
                        0.0968005299805827,
                        0.09679434525331378,
                        0.09719105671228787,
                        0.09660699201148958,
                        0.09307537979341457,
                        0.09539351217659502,
                        0.09729147036227673,
                        0.09481831075393526,
                        0.09610955431682978,
                        0.09477217891712221,
                        0.09478323881930688,
                        0.09542841980079736,
                        0.09819263445171623,
                        0.09820692170285988,
                        0.09804306658744569,
                        0.09835052861626456,
                        0.09840278916775012,
                        0.09749601313847539,
                        0.09774178931031573,
                        0.09772649352377295,
                        0.0979943949965251,
                        0.09792805581869266
                      ]
                    },
                    {
                      "label": "max_depth",
                      "range": [
                        3,
                        10
                      ],
                      "values": [
                        8,
                        3,
                        6,
                        4,
                        10,
                        4,
                        4,
                        3,
                        5,
                        7,
                        7,
                        4,
                        4,
                        4,
                        4,
                        4,
                        5,
                        4,
                        4,
                        4,
                        4,
                        6,
                        5,
                        5,
                        7,
                        7,
                        6,
                        6,
                        6,
                        6,
                        6,
                        6,
                        6,
                        6,
                        6,
                        9,
                        6,
                        6,
                        5,
                        5,
                        5,
                        6,
                        6,
                        6,
                        6,
                        6,
                        6,
                        6,
                        6,
                        6,
                        6
                      ]
                    },
                    {
                      "label": "max_leaves",
                      "range": [
                        6,
                        100
                      ],
                      "values": [
                        60,
                        97,
                        29,
                        51,
                        81,
                        6,
                        100,
                        100,
                        100,
                        89,
                        88,
                        100,
                        98,
                        72,
                        72,
                        74,
                        42,
                        93,
                        38,
                        52,
                        95,
                        33,
                        15,
                        11,
                        13,
                        14,
                        19,
                        18,
                        18,
                        23,
                        23,
                        22,
                        24,
                        21,
                        22,
                        21,
                        34,
                        45,
                        45,
                        54,
                        42,
                        50,
                        50,
                        57,
                        62,
                        63,
                        51,
                        70,
                        50,
                        50,
                        49
                      ]
                    },
                    {
                      "label": "min_child_weight",
                      "range": [
                        1,
                        5
                      ],
                      "values": [
                        1,
                        5,
                        4,
                        3,
                        2,
                        4,
                        3,
                        4,
                        3,
                        2,
                        2,
                        4,
                        4,
                        4,
                        4,
                        4,
                        4,
                        4,
                        5,
                        5,
                        4,
                        4,
                        4,
                        4,
                        3,
                        3,
                        3,
                        3,
                        3,
                        2,
                        1,
                        2,
                        1,
                        1,
                        1,
                        1,
                        2,
                        2,
                        2,
                        2,
                        1,
                        2,
                        2,
                        2,
                        2,
                        2,
                        2,
                        2,
                        2,
                        2,
                        2
                      ]
                    },
                    {
                      "label": "min_frequency",
                      "range": [
                        0.00023877202864667655,
                        0.8661761457749352
                      ],
                      "values": [
                        0.8661761457749352,
                        0.18340450985343382,
                        0.3663618432936917,
                        0.17052412368729153,
                        0.4401524937396013,
                        0.23968278799454554,
                        0.004470039476462462,
                        0.0016620296848777441,
                        0.002413954811016586,
                        0.08491087543280404,
                        0.09017405294742792,
                        0.05060378076243879,
                        0.00023877202864667655,
                        0.054173216937622,
                        0.0437437370476423,
                        0.04292928555639446,
                        0.04745575856505764,
                        0.0018225899942728857,
                        0.046257605471953976,
                        0.04137889393291443,
                        0.08125718493830118,
                        0.024112607579675135,
                        0.024292593718886108,
                        0.036362210415511576,
                        0.02425376345804142,
                        0.025153762666055852,
                        0.06766651073137984,
                        0.079086819633328,
                        0.07139870650828352,
                        0.061545994166759106,
                        0.06287206440690946,
                        0.06640513177792143,
                        0.06904501810992758,
                        0.05767028462071318,
                        0.06354325206139272,
                        0.0275848295310542,
                        0.04510945975834043,
                        0.048600080999474264,
                        0.04201198164000822,
                        0.03873662582512629,
                        0.05374973509512034,
                        0.02877246821461593,
                        0.06828940061185063,
                        0.06877593969722146,
                        0.07343375556227945,
                        0.07589327686982428,
                        0.07596070552660436,
                        0.07797597759629543,
                        0.07979216634606588,
                        0.0762404792948924,
                        0.07511694310142396
                      ]
                    },
                    {
                      "label": "n_estimators",
                      "range": [
                        192,
                        954
                      ],
                      "values": [
                        954,
                        723,
                        549,
                        796,
                        952,
                        714,
                        753,
                        669,
                        469,
                        454,
                        623,
                        650,
                        444,
                        617,
                        602,
                        603,
                        558,
                        522,
                        685,
                        351,
                        783,
                        498,
                        436,
                        420,
                        427,
                        256,
                        318,
                        313,
                        192,
                        466,
                        457,
                        476,
                        471,
                        432,
                        433,
                        527,
                        376,
                        370,
                        370,
                        400,
                        509,
                        422,
                        459,
                        459,
                        455,
                        459,
                        442,
                        452,
                        501,
                        443,
                        437
                      ]
                    },
                    {
                      "label": "reg_alpha",
                      "range": [
                        0.007757683332151474,
                        0.8170018013390321
                      ],
                      "values": [
                        0.15599452033620265,
                        0.21233911067827616,
                        0.13949386065204183,
                        0.046450412719997725,
                        0.09767211400638387,
                        0.007757683332151474,
                        0.6608557252922866,
                        0.7267506372103786,
                        0.659028604808974,
                        0.8041831949427773,
                        0.4746404298188024,
                        0.7115118830847291,
                        0.6266020150586852,
                        0.754126800679207,
                        0.7341478320182879,
                        0.7043426429296669,
                        0.6229361154714957,
                        0.6163089338758578,
                        0.6906682404413976,
                        0.6541333771564414,
                        0.684166305390876,
                        0.7986285325177712,
                        0.6863794716392616,
                        0.6910140867902599,
                        0.8170018013390321,
                        0.807717456573757,
                        0.6542985421657468,
                        0.6521959666312451,
                        0.6635796714861482,
                        0.7050753356989112,
                        0.7145142773975606,
                        0.7155339050452991,
                        0.7153399144887557,
                        0.7042815010944385,
                        0.7133264768724882,
                        0.7641903349095485,
                        0.6238454228055097,
                        0.6283115176595734,
                        0.6242099495694048,
                        0.6122747988074156,
                        0.7477857960604015,
                        0.7024340007616235,
                        0.7030551294313452,
                        0.6874134097993865,
                        0.7099151840152998,
                        0.6725758811844124,
                        0.7240691085762622,
                        0.7457356786153349,
                        0.7420894363330544,
                        0.7152643835776314,
                        0.7990178276140354
                      ]
                    },
                    {
                      "label": "reg_lambda",
                      "range": [
                        0.006173369682670737,
                        0.9831797103340575
                      ],
                      "values": [
                        0.05808361216819946,
                        0.18182496720710062,
                        0.29214464853521815,
                        0.6075448519014384,
                        0.6842330265121569,
                        0.9831797103340575,
                        0.48413622534481526,
                        0.1669907218738228,
                        0.15059372704911145,
                        0.1657891744575396,
                        0.5639746990214328,
                        0.07824626064755945,
                        0.08593011587345772,
                        0.11871959893232717,
                        0.12374556127129835,
                        0.006173369682670737,
                        0.06312448117741146,
                        0.06893524060147407,
                        0.12949365044296665,
                        0.26284975902994123,
                        0.17901968787411815,
                        0.1047452919034054,
                        0.1131699601420636,
                        0.17403535991236616,
                        0.11457898388815672,
                        0.1064838995748242,
                        0.06570329017180765,
                        0.09657355531663663,
                        0.08612461093921323,
                        0.14129732067510362,
                        0.1400009405288686,
                        0.1416523687973804,
                        0.14566041486074732,
                        0.0714011658652951,
                        0.08469395395245355,
                        0.026690548557028383,
                        0.12407861948420897,
                        0.15259374586923663,
                        0.15915195463293724,
                        0.23327957723865292,
                        0.0752337892047011,
                        0.11597359909694352,
                        0.14609128579758418,
                        0.10212232732297051,
                        0.13489623414531965,
                        0.20767474414528725,
                        0.19121125137519163,
                        0.21797813808840705,
                        0.2183705674547189,
                        0.27437321553959354,
                        0.2753339791727963
                      ]
                    }
                  ],
                  "labelangle": 30,
                  "labelside": "bottom",
                  "line": {
                    "color": [
                      8981.526791255528,
                      5444.609704581695,
                      8248.787582988256,
                      5516.81046925686,
                      8294.984557535046,
                      6393.257396560485,
                      2895.0157279204304,
                      3000.380965392007,
                      2709.9694770436104,
                      4487.697732882124,
                      5506.461323431242,
                      2844.4836574090978,
                      2828.928485539313,
                      2873.7025142409934,
                      2827.2401630722475,
                      2860.592155466729,
                      2719.2006552356265,
                      2863.8590891370786,
                      2805.6885800533523,
                      2871.496913609422,
                      2800.617588914125,
                      2698.1941411791245,
                      2805.202038427539,
                      2826.6376646726885,
                      2741.158002662404,
                      2815.405684956244,
                      2780.4301627430323,
                      2742.4831575564294,
                      2862.307844948864,
                      2697.7999984680096,
                      2704.207056674524,
                      2716.93728552132,
                      2694.410468515312,
                      2712.495000413963,
                      2758.65034344295,
                      2780.488126258188,
                      2666.9696209529375,
                      2676.7729466111064,
                      2727.836231104363,
                      2762.9354487624123,
                      2768.4505102669445,
                      2651.3682972152974,
                      2658.539518837617,
                      2638.5429466665187,
                      2630.1829049246653,
                      2587.150638269646,
                      2658.3254803605328,
                      2601.377422663812,
                      2614.336848382479,
                      2600.792098774929,
                      2614.0362525196356
                    ],
                    "colorbar": {
                      "title": {
                        "text": "Objective Value"
                      }
                    },
                    "colorscale": [
                      [
                        0,
                        "rgb(247,251,255)"
                      ],
                      [
                        0.125,
                        "rgb(222,235,247)"
                      ],
                      [
                        0.25,
                        "rgb(198,219,239)"
                      ],
                      [
                        0.375,
                        "rgb(158,202,225)"
                      ],
                      [
                        0.5,
                        "rgb(107,174,214)"
                      ],
                      [
                        0.625,
                        "rgb(66,146,198)"
                      ],
                      [
                        0.75,
                        "rgb(33,113,181)"
                      ],
                      [
                        0.875,
                        "rgb(8,81,156)"
                      ],
                      [
                        1,
                        "rgb(8,48,107)"
                      ]
                    ],
                    "reversescale": true,
                    "showscale": true
                  },
                  "type": "parcoords"
                }
              ],
              "layout": {
                "template": {
                  "data": {
                    "bar": [
                      {
                        "error_x": {
                          "color": "#2a3f5f"
                        },
                        "error_y": {
                          "color": "#2a3f5f"
                        },
                        "marker": {
                          "line": {
                            "color": "#E5ECF6",
                            "width": 0.5
                          },
                          "pattern": {
                            "fillmode": "overlay",
                            "size": 10,
                            "solidity": 0.2
                          }
                        },
                        "type": "bar"
                      }
                    ],
                    "barpolar": [
                      {
                        "marker": {
                          "line": {
                            "color": "#E5ECF6",
                            "width": 0.5
                          },
                          "pattern": {
                            "fillmode": "overlay",
                            "size": 10,
                            "solidity": 0.2
                          }
                        },
                        "type": "barpolar"
                      }
                    ],
                    "carpet": [
                      {
                        "aaxis": {
                          "endlinecolor": "#2a3f5f",
                          "gridcolor": "white",
                          "linecolor": "white",
                          "minorgridcolor": "white",
                          "startlinecolor": "#2a3f5f"
                        },
                        "baxis": {
                          "endlinecolor": "#2a3f5f",
                          "gridcolor": "white",
                          "linecolor": "white",
                          "minorgridcolor": "white",
                          "startlinecolor": "#2a3f5f"
                        },
                        "type": "carpet"
                      }
                    ],
                    "choropleth": [
                      {
                        "colorbar": {
                          "outlinewidth": 0,
                          "ticks": ""
                        },
                        "type": "choropleth"
                      }
                    ],
                    "contour": [
                      {
                        "colorbar": {
                          "outlinewidth": 0,
                          "ticks": ""
                        },
                        "colorscale": [
                          [
                            0,
                            "#0d0887"
                          ],
                          [
                            0.1111111111111111,
                            "#46039f"
                          ],
                          [
                            0.2222222222222222,
                            "#7201a8"
                          ],
                          [
                            0.3333333333333333,
                            "#9c179e"
                          ],
                          [
                            0.4444444444444444,
                            "#bd3786"
                          ],
                          [
                            0.5555555555555556,
                            "#d8576b"
                          ],
                          [
                            0.6666666666666666,
                            "#ed7953"
                          ],
                          [
                            0.7777777777777778,
                            "#fb9f3a"
                          ],
                          [
                            0.8888888888888888,
                            "#fdca26"
                          ],
                          [
                            1,
                            "#f0f921"
                          ]
                        ],
                        "type": "contour"
                      }
                    ],
                    "contourcarpet": [
                      {
                        "colorbar": {
                          "outlinewidth": 0,
                          "ticks": ""
                        },
                        "type": "contourcarpet"
                      }
                    ],
                    "heatmap": [
                      {
                        "colorbar": {
                          "outlinewidth": 0,
                          "ticks": ""
                        },
                        "colorscale": [
                          [
                            0,
                            "#0d0887"
                          ],
                          [
                            0.1111111111111111,
                            "#46039f"
                          ],
                          [
                            0.2222222222222222,
                            "#7201a8"
                          ],
                          [
                            0.3333333333333333,
                            "#9c179e"
                          ],
                          [
                            0.4444444444444444,
                            "#bd3786"
                          ],
                          [
                            0.5555555555555556,
                            "#d8576b"
                          ],
                          [
                            0.6666666666666666,
                            "#ed7953"
                          ],
                          [
                            0.7777777777777778,
                            "#fb9f3a"
                          ],
                          [
                            0.8888888888888888,
                            "#fdca26"
                          ],
                          [
                            1,
                            "#f0f921"
                          ]
                        ],
                        "type": "heatmap"
                      }
                    ],
                    "histogram": [
                      {
                        "marker": {
                          "pattern": {
                            "fillmode": "overlay",
                            "size": 10,
                            "solidity": 0.2
                          }
                        },
                        "type": "histogram"
                      }
                    ],
                    "histogram2d": [
                      {
                        "colorbar": {
                          "outlinewidth": 0,
                          "ticks": ""
                        },
                        "colorscale": [
                          [
                            0,
                            "#0d0887"
                          ],
                          [
                            0.1111111111111111,
                            "#46039f"
                          ],
                          [
                            0.2222222222222222,
                            "#7201a8"
                          ],
                          [
                            0.3333333333333333,
                            "#9c179e"
                          ],
                          [
                            0.4444444444444444,
                            "#bd3786"
                          ],
                          [
                            0.5555555555555556,
                            "#d8576b"
                          ],
                          [
                            0.6666666666666666,
                            "#ed7953"
                          ],
                          [
                            0.7777777777777778,
                            "#fb9f3a"
                          ],
                          [
                            0.8888888888888888,
                            "#fdca26"
                          ],
                          [
                            1,
                            "#f0f921"
                          ]
                        ],
                        "type": "histogram2d"
                      }
                    ],
                    "histogram2dcontour": [
                      {
                        "colorbar": {
                          "outlinewidth": 0,
                          "ticks": ""
                        },
                        "colorscale": [
                          [
                            0,
                            "#0d0887"
                          ],
                          [
                            0.1111111111111111,
                            "#46039f"
                          ],
                          [
                            0.2222222222222222,
                            "#7201a8"
                          ],
                          [
                            0.3333333333333333,
                            "#9c179e"
                          ],
                          [
                            0.4444444444444444,
                            "#bd3786"
                          ],
                          [
                            0.5555555555555556,
                            "#d8576b"
                          ],
                          [
                            0.6666666666666666,
                            "#ed7953"
                          ],
                          [
                            0.7777777777777778,
                            "#fb9f3a"
                          ],
                          [
                            0.8888888888888888,
                            "#fdca26"
                          ],
                          [
                            1,
                            "#f0f921"
                          ]
                        ],
                        "type": "histogram2dcontour"
                      }
                    ],
                    "mesh3d": [
                      {
                        "colorbar": {
                          "outlinewidth": 0,
                          "ticks": ""
                        },
                        "type": "mesh3d"
                      }
                    ],
                    "parcoords": [
                      {
                        "line": {
                          "colorbar": {
                            "outlinewidth": 0,
                            "ticks": ""
                          }
                        },
                        "type": "parcoords"
                      }
                    ],
                    "pie": [
                      {
                        "automargin": true,
                        "type": "pie"
                      }
                    ],
                    "scatter": [
                      {
                        "fillpattern": {
                          "fillmode": "overlay",
                          "size": 10,
                          "solidity": 0.2
                        },
                        "type": "scatter"
                      }
                    ],
                    "scatter3d": [
                      {
                        "line": {
                          "colorbar": {
                            "outlinewidth": 0,
                            "ticks": ""
                          }
                        },
                        "marker": {
                          "colorbar": {
                            "outlinewidth": 0,
                            "ticks": ""
                          }
                        },
                        "type": "scatter3d"
                      }
                    ],
                    "scattercarpet": [
                      {
                        "marker": {
                          "colorbar": {
                            "outlinewidth": 0,
                            "ticks": ""
                          }
                        },
                        "type": "scattercarpet"
                      }
                    ],
                    "scattergeo": [
                      {
                        "marker": {
                          "colorbar": {
                            "outlinewidth": 0,
                            "ticks": ""
                          }
                        },
                        "type": "scattergeo"
                      }
                    ],
                    "scattergl": [
                      {
                        "marker": {
                          "colorbar": {
                            "outlinewidth": 0,
                            "ticks": ""
                          }
                        },
                        "type": "scattergl"
                      }
                    ],
                    "scattermap": [
                      {
                        "marker": {
                          "colorbar": {
                            "outlinewidth": 0,
                            "ticks": ""
                          }
                        },
                        "type": "scattermap"
                      }
                    ],
                    "scattermapbox": [
                      {
                        "marker": {
                          "colorbar": {
                            "outlinewidth": 0,
                            "ticks": ""
                          }
                        },
                        "type": "scattermapbox"
                      }
                    ],
                    "scatterpolar": [
                      {
                        "marker": {
                          "colorbar": {
                            "outlinewidth": 0,
                            "ticks": ""
                          }
                        },
                        "type": "scatterpolar"
                      }
                    ],
                    "scatterpolargl": [
                      {
                        "marker": {
                          "colorbar": {
                            "outlinewidth": 0,
                            "ticks": ""
                          }
                        },
                        "type": "scatterpolargl"
                      }
                    ],
                    "scatterternary": [
                      {
                        "marker": {
                          "colorbar": {
                            "outlinewidth": 0,
                            "ticks": ""
                          }
                        },
                        "type": "scatterternary"
                      }
                    ],
                    "surface": [
                      {
                        "colorbar": {
                          "outlinewidth": 0,
                          "ticks": ""
                        },
                        "colorscale": [
                          [
                            0,
                            "#0d0887"
                          ],
                          [
                            0.1111111111111111,
                            "#46039f"
                          ],
                          [
                            0.2222222222222222,
                            "#7201a8"
                          ],
                          [
                            0.3333333333333333,
                            "#9c179e"
                          ],
                          [
                            0.4444444444444444,
                            "#bd3786"
                          ],
                          [
                            0.5555555555555556,
                            "#d8576b"
                          ],
                          [
                            0.6666666666666666,
                            "#ed7953"
                          ],
                          [
                            0.7777777777777778,
                            "#fb9f3a"
                          ],
                          [
                            0.8888888888888888,
                            "#fdca26"
                          ],
                          [
                            1,
                            "#f0f921"
                          ]
                        ],
                        "type": "surface"
                      }
                    ],
                    "table": [
                      {
                        "cells": {
                          "fill": {
                            "color": "#EBF0F8"
                          },
                          "line": {
                            "color": "white"
                          }
                        },
                        "header": {
                          "fill": {
                            "color": "#C8D4E3"
                          },
                          "line": {
                            "color": "white"
                          }
                        },
                        "type": "table"
                      }
                    ]
                  },
                  "layout": {
                    "annotationdefaults": {
                      "arrowcolor": "#2a3f5f",
                      "arrowhead": 0,
                      "arrowwidth": 1
                    },
                    "autotypenumbers": "strict",
                    "coloraxis": {
                      "colorbar": {
                        "outlinewidth": 0,
                        "ticks": ""
                      }
                    },
                    "colorscale": {
                      "diverging": [
                        [
                          0,
                          "#8e0152"
                        ],
                        [
                          0.1,
                          "#c51b7d"
                        ],
                        [
                          0.2,
                          "#de77ae"
                        ],
                        [
                          0.3,
                          "#f1b6da"
                        ],
                        [
                          0.4,
                          "#fde0ef"
                        ],
                        [
                          0.5,
                          "#f7f7f7"
                        ],
                        [
                          0.6,
                          "#e6f5d0"
                        ],
                        [
                          0.7,
                          "#b8e186"
                        ],
                        [
                          0.8,
                          "#7fbc41"
                        ],
                        [
                          0.9,
                          "#4d9221"
                        ],
                        [
                          1,
                          "#276419"
                        ]
                      ],
                      "sequential": [
                        [
                          0,
                          "#0d0887"
                        ],
                        [
                          0.1111111111111111,
                          "#46039f"
                        ],
                        [
                          0.2222222222222222,
                          "#7201a8"
                        ],
                        [
                          0.3333333333333333,
                          "#9c179e"
                        ],
                        [
                          0.4444444444444444,
                          "#bd3786"
                        ],
                        [
                          0.5555555555555556,
                          "#d8576b"
                        ],
                        [
                          0.6666666666666666,
                          "#ed7953"
                        ],
                        [
                          0.7777777777777778,
                          "#fb9f3a"
                        ],
                        [
                          0.8888888888888888,
                          "#fdca26"
                        ],
                        [
                          1,
                          "#f0f921"
                        ]
                      ],
                      "sequentialminus": [
                        [
                          0,
                          "#0d0887"
                        ],
                        [
                          0.1111111111111111,
                          "#46039f"
                        ],
                        [
                          0.2222222222222222,
                          "#7201a8"
                        ],
                        [
                          0.3333333333333333,
                          "#9c179e"
                        ],
                        [
                          0.4444444444444444,
                          "#bd3786"
                        ],
                        [
                          0.5555555555555556,
                          "#d8576b"
                        ],
                        [
                          0.6666666666666666,
                          "#ed7953"
                        ],
                        [
                          0.7777777777777778,
                          "#fb9f3a"
                        ],
                        [
                          0.8888888888888888,
                          "#fdca26"
                        ],
                        [
                          1,
                          "#f0f921"
                        ]
                      ]
                    },
                    "colorway": [
                      "#636efa",
                      "#EF553B",
                      "#00cc96",
                      "#ab63fa",
                      "#FFA15A",
                      "#19d3f3",
                      "#FF6692",
                      "#B6E880",
                      "#FF97FF",
                      "#FECB52"
                    ],
                    "font": {
                      "color": "#2a3f5f"
                    },
                    "geo": {
                      "bgcolor": "white",
                      "lakecolor": "white",
                      "landcolor": "#E5ECF6",
                      "showlakes": true,
                      "showland": true,
                      "subunitcolor": "white"
                    },
                    "hoverlabel": {
                      "align": "left"
                    },
                    "hovermode": "closest",
                    "mapbox": {
                      "style": "light"
                    },
                    "paper_bgcolor": "white",
                    "plot_bgcolor": "#E5ECF6",
                    "polar": {
                      "angularaxis": {
                        "gridcolor": "white",
                        "linecolor": "white",
                        "ticks": ""
                      },
                      "bgcolor": "#E5ECF6",
                      "radialaxis": {
                        "gridcolor": "white",
                        "linecolor": "white",
                        "ticks": ""
                      }
                    },
                    "scene": {
                      "xaxis": {
                        "backgroundcolor": "#E5ECF6",
                        "gridcolor": "white",
                        "gridwidth": 2,
                        "linecolor": "white",
                        "showbackground": true,
                        "ticks": "",
                        "zerolinecolor": "white"
                      },
                      "yaxis": {
                        "backgroundcolor": "#E5ECF6",
                        "gridcolor": "white",
                        "gridwidth": 2,
                        "linecolor": "white",
                        "showbackground": true,
                        "ticks": "",
                        "zerolinecolor": "white"
                      },
                      "zaxis": {
                        "backgroundcolor": "#E5ECF6",
                        "gridcolor": "white",
                        "gridwidth": 2,
                        "linecolor": "white",
                        "showbackground": true,
                        "ticks": "",
                        "zerolinecolor": "white"
                      }
                    },
                    "shapedefaults": {
                      "line": {
                        "color": "#2a3f5f"
                      }
                    },
                    "ternary": {
                      "aaxis": {
                        "gridcolor": "white",
                        "linecolor": "white",
                        "ticks": ""
                      },
                      "baxis": {
                        "gridcolor": "white",
                        "linecolor": "white",
                        "ticks": ""
                      },
                      "bgcolor": "#E5ECF6",
                      "caxis": {
                        "gridcolor": "white",
                        "linecolor": "white",
                        "ticks": ""
                      }
                    },
                    "title": {
                      "x": 0.05
                    },
                    "xaxis": {
                      "automargin": true,
                      "gridcolor": "white",
                      "linecolor": "white",
                      "ticks": "",
                      "title": {
                        "standoff": 15
                      },
                      "zerolinecolor": "white",
                      "zerolinewidth": 2
                    },
                    "yaxis": {
                      "automargin": true,
                      "gridcolor": "white",
                      "linecolor": "white",
                      "ticks": "",
                      "title": {
                        "standoff": 15
                      },
                      "zerolinecolor": "white",
                      "zerolinewidth": 2
                    }
                  }
                },
                "title": {
                  "text": "Parallel Coordinate Plot"
                }
              }
            }
          },
          "metadata": {},
          "output_type": "display_data"
        },
        {
          "data": {
            "application/vnd.plotly.v1+json": {
              "config": {
                "plotlyServerURL": "https://plot.ly"
              },
              "data": [
                {
                  "cliponaxis": false,
                  "hovertemplate": [
                    "min_child_weight (IntDistribution): 0.009808959409419579<extra></extra>",
                    "max_leaves (IntDistribution): 0.009920570212164389<extra></extra>",
                    "n_estimators (IntDistribution): 0.018068675974609483<extra></extra>",
                    "reg_lambda (FloatDistribution): 0.02096614184385798<extra></extra>",
                    "max_depth (IntDistribution): 0.03683430933357106<extra></extra>",
                    "learning_rate (FloatDistribution): 0.09961884540564783<extra></extra>",
                    "min_frequency (FloatDistribution): 0.3724737627446473<extra></extra>",
                    "reg_alpha (FloatDistribution): 0.43230873507608236<extra></extra>"
                  ],
                  "name": "Objective Value",
                  "orientation": "h",
                  "text": [
                    "<0.01",
                    "<0.01",
                    "0.02",
                    "0.02",
                    "0.04",
                    "0.10",
                    "0.37",
                    "0.43"
                  ],
                  "textposition": "outside",
                  "type": "bar",
                  "x": [
                    0.009808959409419579,
                    0.009920570212164389,
                    0.018068675974609483,
                    0.02096614184385798,
                    0.03683430933357106,
                    0.09961884540564783,
                    0.3724737627446473,
                    0.43230873507608236
                  ],
                  "y": [
                    "min_child_weight",
                    "max_leaves",
                    "n_estimators",
                    "reg_lambda",
                    "max_depth",
                    "learning_rate",
                    "min_frequency",
                    "reg_alpha"
                  ]
                }
              ],
              "layout": {
                "template": {
                  "data": {
                    "bar": [
                      {
                        "error_x": {
                          "color": "#2a3f5f"
                        },
                        "error_y": {
                          "color": "#2a3f5f"
                        },
                        "marker": {
                          "line": {
                            "color": "#E5ECF6",
                            "width": 0.5
                          },
                          "pattern": {
                            "fillmode": "overlay",
                            "size": 10,
                            "solidity": 0.2
                          }
                        },
                        "type": "bar"
                      }
                    ],
                    "barpolar": [
                      {
                        "marker": {
                          "line": {
                            "color": "#E5ECF6",
                            "width": 0.5
                          },
                          "pattern": {
                            "fillmode": "overlay",
                            "size": 10,
                            "solidity": 0.2
                          }
                        },
                        "type": "barpolar"
                      }
                    ],
                    "carpet": [
                      {
                        "aaxis": {
                          "endlinecolor": "#2a3f5f",
                          "gridcolor": "white",
                          "linecolor": "white",
                          "minorgridcolor": "white",
                          "startlinecolor": "#2a3f5f"
                        },
                        "baxis": {
                          "endlinecolor": "#2a3f5f",
                          "gridcolor": "white",
                          "linecolor": "white",
                          "minorgridcolor": "white",
                          "startlinecolor": "#2a3f5f"
                        },
                        "type": "carpet"
                      }
                    ],
                    "choropleth": [
                      {
                        "colorbar": {
                          "outlinewidth": 0,
                          "ticks": ""
                        },
                        "type": "choropleth"
                      }
                    ],
                    "contour": [
                      {
                        "colorbar": {
                          "outlinewidth": 0,
                          "ticks": ""
                        },
                        "colorscale": [
                          [
                            0,
                            "#0d0887"
                          ],
                          [
                            0.1111111111111111,
                            "#46039f"
                          ],
                          [
                            0.2222222222222222,
                            "#7201a8"
                          ],
                          [
                            0.3333333333333333,
                            "#9c179e"
                          ],
                          [
                            0.4444444444444444,
                            "#bd3786"
                          ],
                          [
                            0.5555555555555556,
                            "#d8576b"
                          ],
                          [
                            0.6666666666666666,
                            "#ed7953"
                          ],
                          [
                            0.7777777777777778,
                            "#fb9f3a"
                          ],
                          [
                            0.8888888888888888,
                            "#fdca26"
                          ],
                          [
                            1,
                            "#f0f921"
                          ]
                        ],
                        "type": "contour"
                      }
                    ],
                    "contourcarpet": [
                      {
                        "colorbar": {
                          "outlinewidth": 0,
                          "ticks": ""
                        },
                        "type": "contourcarpet"
                      }
                    ],
                    "heatmap": [
                      {
                        "colorbar": {
                          "outlinewidth": 0,
                          "ticks": ""
                        },
                        "colorscale": [
                          [
                            0,
                            "#0d0887"
                          ],
                          [
                            0.1111111111111111,
                            "#46039f"
                          ],
                          [
                            0.2222222222222222,
                            "#7201a8"
                          ],
                          [
                            0.3333333333333333,
                            "#9c179e"
                          ],
                          [
                            0.4444444444444444,
                            "#bd3786"
                          ],
                          [
                            0.5555555555555556,
                            "#d8576b"
                          ],
                          [
                            0.6666666666666666,
                            "#ed7953"
                          ],
                          [
                            0.7777777777777778,
                            "#fb9f3a"
                          ],
                          [
                            0.8888888888888888,
                            "#fdca26"
                          ],
                          [
                            1,
                            "#f0f921"
                          ]
                        ],
                        "type": "heatmap"
                      }
                    ],
                    "histogram": [
                      {
                        "marker": {
                          "pattern": {
                            "fillmode": "overlay",
                            "size": 10,
                            "solidity": 0.2
                          }
                        },
                        "type": "histogram"
                      }
                    ],
                    "histogram2d": [
                      {
                        "colorbar": {
                          "outlinewidth": 0,
                          "ticks": ""
                        },
                        "colorscale": [
                          [
                            0,
                            "#0d0887"
                          ],
                          [
                            0.1111111111111111,
                            "#46039f"
                          ],
                          [
                            0.2222222222222222,
                            "#7201a8"
                          ],
                          [
                            0.3333333333333333,
                            "#9c179e"
                          ],
                          [
                            0.4444444444444444,
                            "#bd3786"
                          ],
                          [
                            0.5555555555555556,
                            "#d8576b"
                          ],
                          [
                            0.6666666666666666,
                            "#ed7953"
                          ],
                          [
                            0.7777777777777778,
                            "#fb9f3a"
                          ],
                          [
                            0.8888888888888888,
                            "#fdca26"
                          ],
                          [
                            1,
                            "#f0f921"
                          ]
                        ],
                        "type": "histogram2d"
                      }
                    ],
                    "histogram2dcontour": [
                      {
                        "colorbar": {
                          "outlinewidth": 0,
                          "ticks": ""
                        },
                        "colorscale": [
                          [
                            0,
                            "#0d0887"
                          ],
                          [
                            0.1111111111111111,
                            "#46039f"
                          ],
                          [
                            0.2222222222222222,
                            "#7201a8"
                          ],
                          [
                            0.3333333333333333,
                            "#9c179e"
                          ],
                          [
                            0.4444444444444444,
                            "#bd3786"
                          ],
                          [
                            0.5555555555555556,
                            "#d8576b"
                          ],
                          [
                            0.6666666666666666,
                            "#ed7953"
                          ],
                          [
                            0.7777777777777778,
                            "#fb9f3a"
                          ],
                          [
                            0.8888888888888888,
                            "#fdca26"
                          ],
                          [
                            1,
                            "#f0f921"
                          ]
                        ],
                        "type": "histogram2dcontour"
                      }
                    ],
                    "mesh3d": [
                      {
                        "colorbar": {
                          "outlinewidth": 0,
                          "ticks": ""
                        },
                        "type": "mesh3d"
                      }
                    ],
                    "parcoords": [
                      {
                        "line": {
                          "colorbar": {
                            "outlinewidth": 0,
                            "ticks": ""
                          }
                        },
                        "type": "parcoords"
                      }
                    ],
                    "pie": [
                      {
                        "automargin": true,
                        "type": "pie"
                      }
                    ],
                    "scatter": [
                      {
                        "fillpattern": {
                          "fillmode": "overlay",
                          "size": 10,
                          "solidity": 0.2
                        },
                        "type": "scatter"
                      }
                    ],
                    "scatter3d": [
                      {
                        "line": {
                          "colorbar": {
                            "outlinewidth": 0,
                            "ticks": ""
                          }
                        },
                        "marker": {
                          "colorbar": {
                            "outlinewidth": 0,
                            "ticks": ""
                          }
                        },
                        "type": "scatter3d"
                      }
                    ],
                    "scattercarpet": [
                      {
                        "marker": {
                          "colorbar": {
                            "outlinewidth": 0,
                            "ticks": ""
                          }
                        },
                        "type": "scattercarpet"
                      }
                    ],
                    "scattergeo": [
                      {
                        "marker": {
                          "colorbar": {
                            "outlinewidth": 0,
                            "ticks": ""
                          }
                        },
                        "type": "scattergeo"
                      }
                    ],
                    "scattergl": [
                      {
                        "marker": {
                          "colorbar": {
                            "outlinewidth": 0,
                            "ticks": ""
                          }
                        },
                        "type": "scattergl"
                      }
                    ],
                    "scattermap": [
                      {
                        "marker": {
                          "colorbar": {
                            "outlinewidth": 0,
                            "ticks": ""
                          }
                        },
                        "type": "scattermap"
                      }
                    ],
                    "scattermapbox": [
                      {
                        "marker": {
                          "colorbar": {
                            "outlinewidth": 0,
                            "ticks": ""
                          }
                        },
                        "type": "scattermapbox"
                      }
                    ],
                    "scatterpolar": [
                      {
                        "marker": {
                          "colorbar": {
                            "outlinewidth": 0,
                            "ticks": ""
                          }
                        },
                        "type": "scatterpolar"
                      }
                    ],
                    "scatterpolargl": [
                      {
                        "marker": {
                          "colorbar": {
                            "outlinewidth": 0,
                            "ticks": ""
                          }
                        },
                        "type": "scatterpolargl"
                      }
                    ],
                    "scatterternary": [
                      {
                        "marker": {
                          "colorbar": {
                            "outlinewidth": 0,
                            "ticks": ""
                          }
                        },
                        "type": "scatterternary"
                      }
                    ],
                    "surface": [
                      {
                        "colorbar": {
                          "outlinewidth": 0,
                          "ticks": ""
                        },
                        "colorscale": [
                          [
                            0,
                            "#0d0887"
                          ],
                          [
                            0.1111111111111111,
                            "#46039f"
                          ],
                          [
                            0.2222222222222222,
                            "#7201a8"
                          ],
                          [
                            0.3333333333333333,
                            "#9c179e"
                          ],
                          [
                            0.4444444444444444,
                            "#bd3786"
                          ],
                          [
                            0.5555555555555556,
                            "#d8576b"
                          ],
                          [
                            0.6666666666666666,
                            "#ed7953"
                          ],
                          [
                            0.7777777777777778,
                            "#fb9f3a"
                          ],
                          [
                            0.8888888888888888,
                            "#fdca26"
                          ],
                          [
                            1,
                            "#f0f921"
                          ]
                        ],
                        "type": "surface"
                      }
                    ],
                    "table": [
                      {
                        "cells": {
                          "fill": {
                            "color": "#EBF0F8"
                          },
                          "line": {
                            "color": "white"
                          }
                        },
                        "header": {
                          "fill": {
                            "color": "#C8D4E3"
                          },
                          "line": {
                            "color": "white"
                          }
                        },
                        "type": "table"
                      }
                    ]
                  },
                  "layout": {
                    "annotationdefaults": {
                      "arrowcolor": "#2a3f5f",
                      "arrowhead": 0,
                      "arrowwidth": 1
                    },
                    "autotypenumbers": "strict",
                    "coloraxis": {
                      "colorbar": {
                        "outlinewidth": 0,
                        "ticks": ""
                      }
                    },
                    "colorscale": {
                      "diverging": [
                        [
                          0,
                          "#8e0152"
                        ],
                        [
                          0.1,
                          "#c51b7d"
                        ],
                        [
                          0.2,
                          "#de77ae"
                        ],
                        [
                          0.3,
                          "#f1b6da"
                        ],
                        [
                          0.4,
                          "#fde0ef"
                        ],
                        [
                          0.5,
                          "#f7f7f7"
                        ],
                        [
                          0.6,
                          "#e6f5d0"
                        ],
                        [
                          0.7,
                          "#b8e186"
                        ],
                        [
                          0.8,
                          "#7fbc41"
                        ],
                        [
                          0.9,
                          "#4d9221"
                        ],
                        [
                          1,
                          "#276419"
                        ]
                      ],
                      "sequential": [
                        [
                          0,
                          "#0d0887"
                        ],
                        [
                          0.1111111111111111,
                          "#46039f"
                        ],
                        [
                          0.2222222222222222,
                          "#7201a8"
                        ],
                        [
                          0.3333333333333333,
                          "#9c179e"
                        ],
                        [
                          0.4444444444444444,
                          "#bd3786"
                        ],
                        [
                          0.5555555555555556,
                          "#d8576b"
                        ],
                        [
                          0.6666666666666666,
                          "#ed7953"
                        ],
                        [
                          0.7777777777777778,
                          "#fb9f3a"
                        ],
                        [
                          0.8888888888888888,
                          "#fdca26"
                        ],
                        [
                          1,
                          "#f0f921"
                        ]
                      ],
                      "sequentialminus": [
                        [
                          0,
                          "#0d0887"
                        ],
                        [
                          0.1111111111111111,
                          "#46039f"
                        ],
                        [
                          0.2222222222222222,
                          "#7201a8"
                        ],
                        [
                          0.3333333333333333,
                          "#9c179e"
                        ],
                        [
                          0.4444444444444444,
                          "#bd3786"
                        ],
                        [
                          0.5555555555555556,
                          "#d8576b"
                        ],
                        [
                          0.6666666666666666,
                          "#ed7953"
                        ],
                        [
                          0.7777777777777778,
                          "#fb9f3a"
                        ],
                        [
                          0.8888888888888888,
                          "#fdca26"
                        ],
                        [
                          1,
                          "#f0f921"
                        ]
                      ]
                    },
                    "colorway": [
                      "#636efa",
                      "#EF553B",
                      "#00cc96",
                      "#ab63fa",
                      "#FFA15A",
                      "#19d3f3",
                      "#FF6692",
                      "#B6E880",
                      "#FF97FF",
                      "#FECB52"
                    ],
                    "font": {
                      "color": "#2a3f5f"
                    },
                    "geo": {
                      "bgcolor": "white",
                      "lakecolor": "white",
                      "landcolor": "#E5ECF6",
                      "showlakes": true,
                      "showland": true,
                      "subunitcolor": "white"
                    },
                    "hoverlabel": {
                      "align": "left"
                    },
                    "hovermode": "closest",
                    "mapbox": {
                      "style": "light"
                    },
                    "paper_bgcolor": "white",
                    "plot_bgcolor": "#E5ECF6",
                    "polar": {
                      "angularaxis": {
                        "gridcolor": "white",
                        "linecolor": "white",
                        "ticks": ""
                      },
                      "bgcolor": "#E5ECF6",
                      "radialaxis": {
                        "gridcolor": "white",
                        "linecolor": "white",
                        "ticks": ""
                      }
                    },
                    "scene": {
                      "xaxis": {
                        "backgroundcolor": "#E5ECF6",
                        "gridcolor": "white",
                        "gridwidth": 2,
                        "linecolor": "white",
                        "showbackground": true,
                        "ticks": "",
                        "zerolinecolor": "white"
                      },
                      "yaxis": {
                        "backgroundcolor": "#E5ECF6",
                        "gridcolor": "white",
                        "gridwidth": 2,
                        "linecolor": "white",
                        "showbackground": true,
                        "ticks": "",
                        "zerolinecolor": "white"
                      },
                      "zaxis": {
                        "backgroundcolor": "#E5ECF6",
                        "gridcolor": "white",
                        "gridwidth": 2,
                        "linecolor": "white",
                        "showbackground": true,
                        "ticks": "",
                        "zerolinecolor": "white"
                      }
                    },
                    "shapedefaults": {
                      "line": {
                        "color": "#2a3f5f"
                      }
                    },
                    "ternary": {
                      "aaxis": {
                        "gridcolor": "white",
                        "linecolor": "white",
                        "ticks": ""
                      },
                      "baxis": {
                        "gridcolor": "white",
                        "linecolor": "white",
                        "ticks": ""
                      },
                      "bgcolor": "#E5ECF6",
                      "caxis": {
                        "gridcolor": "white",
                        "linecolor": "white",
                        "ticks": ""
                      }
                    },
                    "title": {
                      "x": 0.05
                    },
                    "xaxis": {
                      "automargin": true,
                      "gridcolor": "white",
                      "linecolor": "white",
                      "ticks": "",
                      "title": {
                        "standoff": 15
                      },
                      "zerolinecolor": "white",
                      "zerolinewidth": 2
                    },
                    "yaxis": {
                      "automargin": true,
                      "gridcolor": "white",
                      "linecolor": "white",
                      "ticks": "",
                      "title": {
                        "standoff": 15
                      },
                      "zerolinecolor": "white",
                      "zerolinewidth": 2
                    }
                  }
                },
                "title": {
                  "text": "Hyperparameter Importances"
                },
                "xaxis": {
                  "title": {
                    "text": "Hyperparameter Importance"
                  }
                },
                "yaxis": {
                  "title": {
                    "text": "Hyperparameter"
                  }
                }
              }
            }
          },
          "metadata": {},
          "output_type": "display_data"
        }
      ],
      "source": [
        "# Inserte su código acá\n",
        "from optuna.visualization import (\n",
        "    plot_optimization_history,\n",
        "    plot_parallel_coordinate,\n",
        "    plot_param_importances,\n",
        ")\n",
        "\n",
        "# Gráfico de historial de optimización (Punto 1)\n",
        "fig_hist = plot_optimization_history(study)\n",
        "fig_hist.show()\n",
        "\n",
        "# Gráfico de coordenadas paralelas (Punto 2)\n",
        "fig_pc = plot_parallel_coordinate(\n",
        "    study,\n",
        "    params=[\n",
        "        \"learning_rate\", \"n_estimators\", \"max_depth\", \"max_leaves\",\n",
        "        \"min_child_weight\", \"reg_alpha\", \"reg_lambda\", \"min_frequency\"\n",
        "    ],\n",
        ")\n",
        "fig_pc.show()\n",
        "\n",
        "# Gráfico de importancia de hiperparámetros (Punto 3)\n",
        "fig_imp = plot_param_importances(study)\n",
        "fig_imp.show()\n"
      ]
    },
    {
      "cell_type": "markdown",
      "metadata": {},
      "source": [
        "**Respuesta desarrollo punto 4:** A partir del gráfico de historial de optimización se observa que las mejoras más significativas en el valor objetivo ocurren durante los primeros trials, particularmente entre el trial 0 y el trial 20, donde el error (MAE) disminuye drásticamente desde valores superiores a 9.000 hasta estabilizarse cerca de los 2.800. Después de ese punto, las variaciones se vuelven marginales, indicando que el algoritmo de búsqueda encontró una región óptima del espacio de hiperparámetros y que las mejoras posteriores fueron menores.\n",
        "\n",
        "**Respuesta desarrollo punto 5:** En el gráfico de coordenadas paralelas se aprecian ciertas tendencias en los hiperparámetros asociados a mejores resultados. Los trials con menor error (tonos más oscuros) tienden a presentar un learning_rate medio-alto (entre 0.05 y 0.1), una profundidad max_depth intermedia (cercana a 6), y valores de max_leaves moderados (alrededor de 60–70). Asimismo, los modelos con mejor desempeño muestran min_frequency baja (inferior a 0.1), lo cual sugiere que incluir categorías poco frecuentes aportó información relevante para el ajuste del modelo. Estas relaciones reflejan un equilibrio entre complejidad del modelo y capacidad de generalización.\n",
        "\n",
        "**Respuesta desarrollo punto 6:** Según el gráfico de importancia de hiperparámetros, los factores que más influyeron en la optimización del modelo fueron reg_alpha (penalización L1), min_frequency (frecuencia mínima del OneHotEncoder) y learning_rate. Esto indica que la regularización y la representación categórica fueron determinantes para reducir el error, mientras que otros parámetros como max_depth, reg_lambda y n_estimators tuvieron un impacto menor. Los resultados sugieren que la capacidad del modelo para evitar el sobreajuste (a través de la regularización y la codificación eficiente) fue más relevante que aumentar su complejidad estructural."
      ]
    },
    {
      "cell_type": "markdown",
      "metadata": {
        "cell_id": "ac8a20f445d045a3becf1a518d410a7d",
        "deepnote_cell_type": "markdown",
        "id": "EoW32TA9I5wA"
      },
      "source": [
        "## 6. Síntesis de resultados (3 puntos)\n",
        "\n",
        "Finalmente:\n",
        "\n",
        "1. Genere una tabla resumen del MAE en el conjunto de validación obtenido en los 5 modelos entrenados desde Baseline hasta XGBoost con Constraints, Optuna y Prunning. [1 punto]\n",
        "2. Compare los resultados de la tabla y responda, ¿qué modelo obtiene el mejor rendimiento? [0.5 puntos]\n",
        "3. Cargue el mejor modelo, prediga sobre el conjunto de **test** y reporte su MAE. [0.5 puntos]\n",
        "4. ¿Existen diferencias con respecto a las métricas obtenidas en el conjunto de validación? ¿Porqué puede ocurrir esto? [1 punto]"
      ]
    },
    {
      "cell_type": "code",
      "execution_count": 9,
      "metadata": {
        "id": "jq5C6cDnJg9h"
      },
      "outputs": [
        {
          "name": "stdout",
          "output_type": "stream",
          "text": [
            "\n",
            "Resumen MAE (validación)\n"
          ]
        },
        {
          "data": {
            "text/html": [
              "<div>\n",
              "<style scoped>\n",
              "    .dataframe tbody tr th:only-of-type {\n",
              "        vertical-align: middle;\n",
              "    }\n",
              "\n",
              "    .dataframe tbody tr th {\n",
              "        vertical-align: top;\n",
              "    }\n",
              "\n",
              "    .dataframe thead th {\n",
              "        text-align: right;\n",
              "    }\n",
              "</style>\n",
              "<table border=\"1\" class=\"dataframe\">\n",
              "  <thead>\n",
              "    <tr style=\"text-align: right;\">\n",
              "      <th></th>\n",
              "      <th>modelo</th>\n",
              "      <th>ruta</th>\n",
              "      <th>MAE_valid</th>\n",
              "    </tr>\n",
              "  </thead>\n",
              "  <tbody>\n",
              "    <tr>\n",
              "      <th>0</th>\n",
              "      <td>XGB + Optuna</td>\n",
              "      <td>Laboratorios\\Laboratorio_6\\data\\best_pipeline_...</td>\n",
              "      <td>2444.161476</td>\n",
              "    </tr>\n",
              "    <tr>\n",
              "      <th>1</th>\n",
              "      <td>XGB + Optuna + Pruning</td>\n",
              "      <td>Laboratorios\\Laboratorio_6\\data\\best_pipeline_...</td>\n",
              "      <td>2587.150638</td>\n",
              "    </tr>\n",
              "    <tr>\n",
              "      <th>2</th>\n",
              "      <td>XGBRegressor (default)</td>\n",
              "      <td>Laboratorios\\Laboratorio_6\\data\\xgb_regressor_...</td>\n",
              "      <td>2678.352109</td>\n",
              "    </tr>\n",
              "    <tr>\n",
              "      <th>3</th>\n",
              "      <td>XGBRegressor (constraints)</td>\n",
              "      <td>Laboratorios\\Laboratorio_6\\data\\xgb_regressor_...</td>\n",
              "      <td>3046.176833</td>\n",
              "    </tr>\n",
              "    <tr>\n",
              "      <th>4</th>\n",
              "      <td>DummyRegressor (baseline)</td>\n",
              "      <td>Laboratorios\\Laboratorio_6\\data\\dummy_regresso...</td>\n",
              "      <td>12518.387191</td>\n",
              "    </tr>\n",
              "  </tbody>\n",
              "</table>\n",
              "</div>"
            ],
            "text/plain": [
              "                       modelo  \\\n",
              "0                XGB + Optuna   \n",
              "1      XGB + Optuna + Pruning   \n",
              "2      XGBRegressor (default)   \n",
              "3  XGBRegressor (constraints)   \n",
              "4   DummyRegressor (baseline)   \n",
              "\n",
              "                                                ruta     MAE_valid  \n",
              "0  Laboratorios\\Laboratorio_6\\data\\best_pipeline_...   2444.161476  \n",
              "1  Laboratorios\\Laboratorio_6\\data\\best_pipeline_...   2587.150638  \n",
              "2  Laboratorios\\Laboratorio_6\\data\\xgb_regressor_...   2678.352109  \n",
              "3  Laboratorios\\Laboratorio_6\\data\\xgb_regressor_...   3046.176833  \n",
              "4  Laboratorios\\Laboratorio_6\\data\\dummy_regresso...  12518.387191  "
            ]
          },
          "metadata": {},
          "output_type": "display_data"
        },
        {
          "name": "stdout",
          "output_type": "stream",
          "text": [
            "\n",
            "Mejor modelo según validación: XGB + Optuna\n",
            "Ruta: Laboratorios\\Laboratorio_6\\data\\best_pipeline_optuna.pkl\n",
            "\n",
            "MAE (TEST) del mejor modelo [XGB + Optuna]: 3,381.1894\n"
          ]
        }
      ],
      "source": [
        "# Inserte su código acá\n",
        "from sklearn.metrics import mean_absolute_error as MAE\n",
        "from IPython.display import display\n",
        "\n",
        "# Carpeta donde están modelos\n",
        "base_path = os.path.join(\"Laboratorios\", \"Laboratorio_6\", \"data\")\n",
        "os.makedirs(base_path, exist_ok=True)\n",
        "\n",
        "# Rescato los modelos y calculo MAE en validación\n",
        "def _load_model(path):\n",
        "    if path.endswith(\".pkl\") and \"best_pipeline_optuna\" in path:\n",
        "        return joblib.load(path)\n",
        "    elif path.endswith(\".pkl\") and (\"dummy_regressor_model\" in path or \"xgb_regressor_model\" in path):\n",
        "        with open(path, \"rb\") as f:\n",
        "            return pickle.load(f)\n",
        "    elif path.endswith(\".sav\"):\n",
        "        with open(path, \"rb\") as f:\n",
        "            return pickle.load(f)\n",
        "    else:\n",
        "        with open(path, \"rb\") as f:\n",
        "            return pickle.load(f)\n",
        "\n",
        "def _mae_en_valid(modelo, X_val, y_val):\n",
        "    y_pred = modelo.predict(X_val)\n",
        "    return MAE(y_val, y_pred)\n",
        "\n",
        "# Rutas de los 5 modelos\n",
        "rutas_modelos = {\n",
        "    \"DummyRegressor (baseline)\": os.path.join(base_path, \"dummy_regressor_model.pkl\"),\n",
        "    \"XGBRegressor (default)\":    os.path.join(base_path, \"xgb_regressor_model.pkl\"),\n",
        "    \"XGBRegressor (constraints)\":os.path.join(base_path, \"xgb_regressor_model_wc.sav\"),\n",
        "    \"XGB + Optuna\":              os.path.join(base_path, \"best_pipeline_optuna.pkl\"),\n",
        "    \"XGB + Optuna + Pruning\":    os.path.join(base_path, \"best_pipeline_optuna_pruning.pkl\"),\n",
        "}\n",
        "\n",
        "# Genero tabla MAE (Punto 1)\n",
        "filas = []\n",
        "for nombre, ruta in rutas_modelos.items():\n",
        "    try:\n",
        "        modelo = _load_model(ruta)\n",
        "        mae_val = _mae_en_valid(modelo, X_val, y_val)\n",
        "        filas.append({\"modelo\": nombre, \"ruta\": ruta, \"MAE_valid\": mae_val})\n",
        "    except Exception as e:\n",
        "        filas.append({\"modelo\": nombre, \"ruta\": ruta, \"MAE_valid\": None})\n",
        "        print(f\"[WARN] No se pudo evaluar {nombre} en validación. Error: {e}\")\n",
        "\n",
        "df_mae_val = (\n",
        "    pd.DataFrame(filas)\n",
        "    .sort_values(\"MAE_valid\", na_position=\"last\")\n",
        "    .reset_index(drop=True)\n",
        ")\n",
        "\n",
        "print(\"\\nResumen MAE (validación)\")\n",
        "display(df_mae_val)\n",
        "df_mae_val.to_csv(\n",
        "    os.path.join(base_path, \"resumen_mae_validacion.csv\"),\n",
        "    index=False\n",
        ")\n",
        "\n",
        "# Cargo mejor modelo (Punto 3)\n",
        "mejor_fila = df_mae_val.iloc[0]\n",
        "mejor_modelo_nombre = mejor_fila[\"modelo\"]\n",
        "mejor_modelo_ruta   = mejor_fila[\"ruta\"]\n",
        "\n",
        "print(f\"\\nMejor modelo según validación: {mejor_modelo_nombre}\")\n",
        "print(f\"Ruta: {mejor_modelo_ruta}\")\n",
        "\n",
        "mejor_modelo = _load_model(mejor_modelo_ruta)\n",
        "y_pred_test = mejor_modelo.predict(X_test)\n",
        "mae_test = MAE(y_test, y_pred_test)\n",
        "\n",
        "print(f\"\\nMAE (TEST) del mejor modelo [{mejor_modelo_nombre}]: {mae_test:,.4f}\")\n",
        "\n",
        "pd.DataFrame({\"y_test\": y_test, \"y_pred_test\": y_pred_test}).to_csv(\n",
        "    os.path.join(base_path, \"predicciones_mejor_modelo_test.csv\"), index=False\n",
        ")"
      ]
    },
    {
      "cell_type": "markdown",
      "metadata": {},
      "source": [
        "**Respuesta desarrollo parte 2:** El modelo con mejor rendimiento en validación es **XGB + Optuna**, que alcanza un MAE de 2.444,16, superando al resto de las configuraciones. Este resultado refleja que la optimización de hiperparámetros mediante Optuna y permitió ajustar de forma precisa la complejidad del modelo, mejorando su capacidad predictiva respecto a las versiones anteriores (más efectiva al equilibrar complejidad, regularización y poder predictivo.).\n",
        "En comparación, el modelo **XGB + Optuna + Pruning** obtiene un MAE levemente superior (2.587,15), lo que indica que el pruning no mejoró el desempeño, posiblemente porque detuvo anticipadamente algunas configuraciones prometedoras.\n",
        "El modelo **XGBRegressor (default)** logra un MAE de 2.678,35, mostrando un avance importante frente al **DummyRegressor (12.518,39)**, pero sin alcanzar el nivel de ajuste del modelo optimizado.\n",
        "Por último, la versión con restricciones monotónicas (MAE = 3.046,18) mantiene coherencia teórica, aunque con una ligera pérdida de precisión.\n",
        "\n",
        "**Respuesta desarrollo punto 4:** El mejor modelo en validación fue **XGB + Optuna**, con un MAE de 2.444,16, mientras que en el conjunto de test el error aumentó a 3.381,19. Esta diferencia es esperable y se debe principalmente a que el modelo fue ajustado y evaluado durante la optimización utilizando únicamente los datos de entrenamiento y validación. El conjunto de test representa información completamente nueva que el modelo no ha visto antes, por lo tanto, el incremento del error refleja la capacidad real de generalización del modelo. En este caso, el aumento moderado del MAE sugiere que el modelo mantiene un buen desempeño fuera de la muestra usada para calibrarlo, aunque es inevitable cierta pérdida de precisión. Entonces, la diferencia entre ambos conjuntos se explica por la variabilidad inherente de los datos, el riesgo de sobreajuste parcial durante la optimización y el hecho de que la validación tiende a ser más \"optimista\", ya que influye directamente en el proceso de selección de hiperparámetros."
      ]
    },
    {
      "cell_type": "markdown",
      "metadata": {},
      "source": [
        "# Conclusión\n",
        "Exito!\n",
        "<p align=\"center\">\n",
        "  <img src=\"https://i.pinimg.com/originals/55/3d/42/553d42bea9b10e0662a05aa8726fc7f4.gif\">\n",
        "</p>"
      ]
    }
  ],
  "metadata": {
    "colab": {
      "provenance": []
    },
    "deepnote": {},
    "deepnote_execution_queue": [],
    "deepnote_notebook_id": "f63d38450a6b464c9bb6385cf11db4d9",
    "deepnote_persisted_session": {
      "createdAt": "2023-11-09T16:18:30.203Z"
    },
    "kernelspec": {
      "display_name": "Python 3",
      "language": "python",
      "name": "python3"
    },
    "language_info": {
      "codemirror_mode": {
        "name": "ipython",
        "version": 3
      },
      "file_extension": ".py",
      "mimetype": "text/x-python",
      "name": "python",
      "nbconvert_exporter": "python",
      "pygments_lexer": "ipython3",
      "version": "3.11.9"
    }
  },
  "nbformat": 4,
  "nbformat_minor": 0
}
