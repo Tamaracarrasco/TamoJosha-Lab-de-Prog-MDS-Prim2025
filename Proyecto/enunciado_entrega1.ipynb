{
 "cells": [
  {
   "cell_type": "markdown",
   "metadata": {},
   "source": [
    "![](https://www.dii.uchile.cl/wp-content/uploads/2021/06/Magi%CC%81ster-en-Ciencia-de-Datos.png)"
   ]
  },
  {
   "cell_type": "markdown",
   "metadata": {},
   "source": [
    "**MDS7202: Laboratorio de Programación Científica para Ciencia de Datos**\n",
    "\n",
    "### 👨‍🏫👩‍🏫 Cuerpo Docente:\n",
    "\n",
    "- Profesores: Diego Cortez, Gabriel Iturra\n",
    "- Auxiliares: Melanie Peña, Valentina Rojas\n",
    "- Ayudantes: Nicolás Cabello, Cristopher Urbina\n",
    "\n",
    "### 👨‍💻👩‍💻 Estudiantes:\n",
    "- Estudiante n°1: Josefa Anselmo.\n",
    "- Estudiante n°2: Tamara Carrasco.\n",
    "\n",
    "_Por favor, lean detalladamente las instrucciones de la tarea antes de empezar a escribir._\n",
    "\n",
    "---"
   ]
  },
  {
   "cell_type": "markdown",
   "metadata": {},
   "source": [
    "---\n",
    "\n",
    "## 📖 Enunciado "
   ]
  },
  {
   "cell_type": "markdown",
   "metadata": {},
   "source": [
    "<div align=\"center\">\n",
    "    <img src='https://github.com/MDS7202/MDS7202/blob/main/recursos/2025-01/proyecto/proyecto.png?raw=true' style=\"border-radius: 12px\"> \n",
    "</div>"
   ]
  },
  {
   "cell_type": "markdown",
   "metadata": {},
   "source": [
    "En el competitivo universo de las bebidas gaseosas, la empresa **SodAI Drinks 🥤** ha logrado destacarse por su creatividad, diversidad de productos y enfoque centrado en el cliente. Ofrece una extensa gama de bebidas carbonatadas que abarca distintos segmentos del mercado: desde productos premium en presentaciones sofisticadas, hasta gaseosas accesibles para el consumo masivo, disponibles en diversos tamaños y tipos de envases. \n",
    "\n",
    "La compañía opera en múltiples regiones y zonas, sirviendo a una variedad de puntos de venta que incluyen desde tiendas de conveniencia y minimarkets hasta el canal frío tradicional. Cada tipo de cliente tiene sus particularidades: algunos reciben entregas hasta 4 veces por semana, mientras que otros son visitados por la fuerza de ventas solo una vez semanalmente. Esta diversidad de perfiles representa tanto una oportunidad como un desafío comercial: ¿cómo saber qué productos tienen más chances de ser comprados por cada cliente en un momento dado?\n",
    "\n",
    "Con el objetivo de aumentar la facturación de forma inteligente y mejorar la eficiencia de su estrategia de ventas, **SodAI Drinks** decide crear una nueva célula interna de innovación: el equipo **Deep Drinkers 🤖**, cuyo propósito es aplicar ciencia de datos para anticiparse a las necesidades del cliente y potenciar el negocio desde una perspectiva basada en información.\n",
    "\n",
    "El corazón de esta iniciativa es el desarrollo de un sistema predictivo personalizado para cada cliente. Para ello, **Deep Drinkers** convoca a un equipo de Data Scientists y especialistas en *machine learning* con una misión clara: construir un modelo predictivo que, cada semana, pueda estimar la probabilidad de compra de cada producto del portafolio para cada cliente activo.\n",
    "\n",
    "El modelo deberá tener en cuenta múltiples factores, incluyendo:\n",
    "- **Tipo de cliente**, ej. \"TIENDA DE CONVENIENCIA\", \"MINIMARKET\".\n",
    "- **Frecuencia de entregas y visitas**, indicadores del nivel de actividad comercial.\n",
    "- **Ubicación geográfica** (por región y zona).\n",
    "- **Preferencias históricas de consumo**, inferidas por patrones de compra anteriores.\n",
    "- **Características del producto**, como marca, categoría, segmento, tipo de envase y tamaño\n",
    "\n",
    "El objetivo final es que, **cada semana**, se genere una tabla de productos priorizados: para cada cliente, un listado de productos ordenado por su probabilidad estimada de compra. Esta información será enviada al equipo comercial, que podrá usarla en call center, para incrementar las chances de concretar ventas al ofrecer justo lo que el cliente probablemente quiere comprar.\n",
    "\n",
    "Este proyecto representa un cambio de paradigma en la forma en que **SodAI Drinks** gestiona su fuerza de ventas: de un enfoque reactivo y generalista, a uno proactivo, basado en datos y profundamente personalizado. Así, la empresa no solo espera aumentar su rentabilidad, sino también construir relaciones más sólidas con sus clientes, ofreciéndoles recomendaciones más relevantes y oportunas.\n",
    "\n",
    "Para lograr lo anterior, el equipo **Deep Drinkers** contará con los siguientes conjuntos de datos, junto a sus respectivos atributos:\n",
    "\n",
    "- **Datos transaccionales** (`transacciones.parquet`): contiene el historial de compras realizadas por los clientes.\n",
    "\t- `customer_id`: identificador único del cliente que realizó la compra.\n",
    "\t- `product_id`: identificador único del producto comprado.\n",
    "\t- `purchase_date`: fecha en que se realizó la transacción.\n",
    "\t- `order_id`: identificar de la orden de su pedido.\n",
    "\t- `items`: cantidad de bultos comprados por cliente en aquella transacción.\n",
    "\n",
    "- **Datos de clientes** (`clientes.parquet`): incluye las características de cada cliente.\n",
    "\t- `customer_id`: identificador único del cliente.\n",
    "\t- `region_id`: identificador de la región geográfica donde se encuentra el cliente.\n",
    "\t- `customer_type`: tipo de cliente según el canal comercial, por ejemplo, “TIENDA DE CONVENIENCIA”.\n",
    "\t- `Y`: coordenada geográfica de latitud.\n",
    "\t- `X`: coordenada geográfica de longitud.\n",
    "\t- `num_deliver_per_week`: cantidad de entregas semanales que recibe el cliente.\n",
    "\t- `num_visit_per_week`: frecuencia de visitas de la fuerza de ventas por semana.\n",
    "\n",
    "- **Datos de productos** (`productos.parquet`): describe las características de los productos del portafolio.\n",
    "\t- `product_id`: identificador único del producto.\n",
    "\t- `brand`: marca comercial del producto.\n",
    "\t- `category`: categoría general del producto, como “BEBIDAS CARBONATADAS”.\n",
    "\t- `sub_category`: subcategoría dentro de la categoría principal, por ejemplo, “GASEOSAS”.\n",
    "\t- `segment`: segmento de mercado al que pertenece el producto, como “PREMIUM”.\n",
    "\t- `package`: tipo de envase del producto.\n",
    "\t- `size`: tamaño del producto en litros."
   ]
  },
  {
   "cell_type": "markdown",
   "metadata": {},
   "source": [
    "## 📚 Reglas"
   ]
  },
  {
   "cell_type": "markdown",
   "metadata": {},
   "source": [
    "<center>\n",
    "<img src=\"https://media1.tenor.com/m/0Qtv_cQ4ITsAAAAd/necohaus-grey-name.gif\" width=\"450\">"
   ]
  },
  {
   "cell_type": "markdown",
   "metadata": {},
   "source": [
    "\n",
    "\n",
    "El proyecto consta de **dos entregas parciales** y una **entrega final** en donde la primera entrega la idea es poder reflejar lo aprendido durante la primera mitad del curso, que será sobre los contenidos relacionados a *machine learning*, la segunda será sobre los contenidos de la segunda mitad del curso relacionados a *MLOps* y por último la entrega final constará de dos partes, donde la primera será relacionada con experimentación sobre nuevos datasets que serán disponibilizados durante las últimas semanas del curso de manera incremental y una segunda parte que será el informe final escrito que deberá explicar el desarrollo del proyecto completo, como tambien los resultados y análisis de los experimentos realizados sobre los datasets incrementales. La idea es que todo el código esté desarrollado durante las primeras dos entregas y luego en la entrega final sólo se ejecute el código sobre nuevos conjuntos de datos.\n",
    "\n",
    "La idea de generar el proyecto por etapas es poder aliviar la carga de trabajo en las últimas semanas del semestre donde sabemos que están muy cargado con entregas, pruebas y exámenes de otros ramos, y así garantizamos que habiendo la desarrollado las dos primeras entregas parciales, tendrán el grueso del proyecto listo para luego experimentar y documentar.\n",
    "\n",
    "---\n",
    "### **Fechas de entrega**\n",
    "- **Entrega parcial 1**: 12 de Septiembre\n",
    "- **Entrega parcial 2**: Por definir\n",
    "- **Entrega final**: Por definir\n",
    "\n",
    "---\n",
    "\n",
    "### **Requisitos del proyecto**\n",
    "- **Grupos**: Formar equipos de **2 personas**. No se aceptarán trabajos individuales o grupos con más integrantes.\n",
    "- **Consultas**: Cualquier duda fuera del horario de clases debe ser planteada en el foro correspondiente. Los mensajes enviados al equipo docente serán respondidos únicamente por este medio. Por favor, revisen las respuestas anteriores en el foro antes de realizar nuevas consultas.\n",
    "- **Plagio**: La copia o reutilización no autorizada de trabajos de otros grupos está **estrictamente prohibida**. El incumplimiento de esta norma implicará la anulación inmediata del proyecto y una posible sanción académica.\n",
    "- **Material permitido**: Pueden usar cualquier material del curso, ya sea notas, lecturas, códigos, o referencias proporcionadas por los docentes, que consideren útil para el desarrollo del proyecto.\n",
    "\n",
    "---\n",
    "\n",
    "### **Entregables y etapas**\n",
    "\n",
    "#### **1. Entrega Parcial 1**  \n",
    "- Dispondrán de los archivos de datos **productos.parquet**, **clientes.parquet** y **transacciones.parquet** para el modelamiento inicial.  \n",
    "- Utilizarán estos archivos para desarrollar lo solicitado para la entrega 1. \n",
    "- En esta etapa, se espera que apliquen todos los conocimientos aprendidos durante la primera parte del curso relacionados con *machine learning*.\n",
    "- **Informe**: No se exige un avance del informe en esta etapa, sólo un notebook con su desarrollo actual, pero se **recomienda comenzar** a redactar el informe final en paralelo para disminuir la carga académica en las etapas posteriores.  \n",
    "\n",
    "#### **2. Entrega Parcial 2**  \n",
    "- En esta entrega, deberán aplicar los conocimientos aprendidos durante la segunda mitad del curso sobre *MLOps*  \n",
    "- Se espera que implementen estos conocimientos para desplegar su modelo elegido en la primera entrega y crear *pipelines* automatizados que simulen un entorno productivo.\n",
    "- **Informe**: similar a la primera etapa, no se exige un avance del informe, pero se **recomienda avanzar con su redacción** para evitar una acumulación de trabajo en la etapa final.  \n",
    "\n",
    "#### **3. Entrega Final**  \n",
    "- En la entrega final, deberán realizar dos etapas:\n",
    "\t- La primera etapa es sobre experimentación utilizando datasets incrementales que se irán disponibilizando de manera parcial, para que vayan generando predicciones con su modelo ya desplegado. El objetivo de esta etapa es poder testear su solución *end-to-end* y que vayan analizando los resultados obtenidos a medida que se van agregando más datos.\n",
    "\t- La segunda etapa consiste en redactar un informe final que deberá explicar el desarrollo completo de tu proyecto y un análisis profundo de sus resultados de experimentación. Este informe debera incluir a lo menos las siguientes secciones:\n",
    "\t\t- Análisis exploratorio de datos  \n",
    "\t\t- Metodología aplicada  \n",
    "\t\t- Selección y entrenamiento de modelos  \n",
    "\t\t- Evaluación de resultados  \n",
    "\t\t- Optimización de modelos\n",
    "\t\t- Interpretabilidad\n",
    "\t\t- Re-entrenamiento\n",
    "\t\t- Tracking con MLFlow\n",
    "\t\t- Creación de la aplicación web con Gradio y FastAPI\n",
    "\n",
    "Es **altamente recomendable** ir redactando el informe en paralelo al desarrollo de los modelos para garantizar que toda la información relevante quede documentada adecuadamente.  \n",
    "\n",
    "### Nota Final\n",
    "\n",
    "La calificación final de su proyecto se calculará utilizando la siguiente ponderación: \n",
    "\n",
    "$$Nota Final = 0.30 * EntregaParcial1 + 0.40 * EntregaParcial2 + 0.30 * EntregaFinal$$\n",
    "\n",
    "---\n",
    "\n",
    "### **Instrucciones importantes**\n",
    "\n",
    "1. **Formato del informe**:  \n",
    "   - El informe debe estar integrado dentro de un **Jupyter Notebook**. No es necesario subirlo a una plataforma externa, pero debe cumplir con los siguientes requisitos:  \n",
    "     - Estructura clara y ordenada.  \n",
    "     - Código acompañado de explicaciones detalladas.  \n",
    "     - Resultados presentados de forma visual y analítica.  \n",
    "\n",
    "2. **Descuento por informes deficientes**:  \n",
    "   - Cualquier sección del informe que no tenga una explicación adecuada o no respete el formato será penalizada con un descuento en la nota. Esto incluye código sin comentarios o análisis que no sean coherentes con los resultados presentados.\n",
    "   - Comentarios sin formatear de ChatGPT o herramientas similares serán penalizados (e.g: \"Inserta tu modelo acá\", etc.)"
   ]
  },
  {
   "cell_type": "markdown",
   "metadata": {},
   "source": [
    "# 📬 Entrega Parcial 1 (30% del Proyecto)"
   ]
  },
  {
   "cell_type": "markdown",
   "metadata": {},
   "source": [
    "### 📪 Fecha de Entrega: 12 de Septiembre"
   ]
  },
  {
   "cell_type": "markdown",
   "metadata": {},
   "source": [
    "## 📌 Abstract [0.25 puntos]\n",
    "\n",
    "<center>\n",
    "<img src=\"https://i.redd.it/h5ptnsyabqvd1.gif\" width=\"400\" height=\"300\">"
   ]
  },
  {
   "cell_type": "markdown",
   "metadata": {},
   "source": [
    "En esta sección, deben redactar un Abstract claro y conciso para su proyecto. El Abstract debe responder a las siguientes preguntas clave:\n",
    "\n",
    "- **Descripción del problema**: ¿Cuál es el objetivo del proyecto? ¿Qué se intenta predecir o analizar?\n",
    "- **Datos de entrada**: ¿Qué datos tienen disponibles? ¿Cuáles son sus principales características?\n",
    "- **Métrica de evaluación**: ¿Cómo medirán el desempeño de sus modelos? Expliquen por qué eligieron esta métrica basándose en el análisis exploratorio de los datos.\n",
    "- **Modelos y transformaciones**: ¿Qué modelos utilizarán y por qué? ¿Qué transformaciones o preprocesamientos aplicaron a los datos?\n",
    "- **Resultados generales**: ¿El modelo final cumplió con los objetivos del proyecto? ¿Cuáles fueron las conclusiones más importantes?\n",
    "\n",
    "**Importante**: Escriban esto despues de haber resuelto el resto de la tarea."
   ]
  },
  {
   "cell_type": "markdown",
   "metadata": {},
   "source": [
    "> [Escriba aquí su Abstract]"
   ]
  },
  {
   "cell_type": "markdown",
   "metadata": {},
   "source": [
    "## 📌 Pre-procesamiento [0.5 puntos]\n",
    "\n",
    "<center>\n",
    "<img src=\"https://media0.giphy.com/media/10zsjaH4g0GgmY/giphy.gif?cid=6c09b9523xtlunksc9amikw09zk1bmiqwjqnt70ae82rk877&ep=v1_gifs_search&rid=giphy.gif&ct=g\" width=\"400\" height=\"300\">"
   ]
  },
  {
   "cell_type": "markdown",
   "metadata": {},
   "source": [
    "Tal como en muchos otros problemas de negocio, los datos probablemente deben ser pre procesados antes de aplicar cualquier técnica de analítica. Bajo esa premisa, en esta sección deben desarrollar código que les permita **preparar los datos** de tal forma que les permita resolver el problema planteado. Para esto, pueden aplicar procesamientos como:\n",
    "\n",
    "- Transformaciones de tipo de dato (str, int, etc)\n",
    "- Cruce de información\n",
    "- Eliminación de duplicados\n",
    "- Filtros de fila y/o columnas\n",
    "\n",
    "*Hint: ¿Qué forma debería tener la data para resolver un problema de aprendizaje supervisado?*\n",
    "\n",
    "Todo proceso llevado a cabo debe estar bien documentado y justificado en el informe, explicando el por qué se decidió realizar en funcion de los datos presentados y los objetivos planteados del proyecto."
   ]
  },
  {
   "cell_type": "code",
   "execution_count": 1,
   "metadata": {},
   "outputs": [],
   "source": [
    "# Desarrolle aquí su código\n",
    "\n",
    "# librerías para EDA\n",
    "\n",
    "import pandas as pd\n",
    "import numpy as np\n",
    "import seaborn as sns\n",
    "import matplotlib.pyplot as plt\n",
    "import plotly.express as px\n",
    "\n",
    "# Carga de archivos\n",
    "\n",
    "clientes = pd.read_parquet(\"clientes.parquet\")\n",
    "productos = pd.read_parquet(\"productos.parquet\")\n",
    "transacciones = pd.read_parquet(\"transacciones.parquet\")"
   ]
  },
  {
   "cell_type": "markdown",
   "metadata": {},
   "source": [
    "**Aplicamos .head() para ver cómo es cada tabla gráficamente**"
   ]
  },
  {
   "cell_type": "code",
   "execution_count": 2,
   "metadata": {},
   "outputs": [
    {
     "name": "stdout",
     "output_type": "stream",
     "text": [
      "========== Primeros 3 registros del dataset Clientes ==========\n"
     ]
    },
    {
     "data": {
      "text/html": [
       "<div>\n",
       "<style scoped>\n",
       "    .dataframe tbody tr th:only-of-type {\n",
       "        vertical-align: middle;\n",
       "    }\n",
       "\n",
       "    .dataframe tbody tr th {\n",
       "        vertical-align: top;\n",
       "    }\n",
       "\n",
       "    .dataframe thead th {\n",
       "        text-align: right;\n",
       "    }\n",
       "</style>\n",
       "<table border=\"1\" class=\"dataframe\">\n",
       "  <thead>\n",
       "    <tr style=\"text-align: right;\">\n",
       "      <th></th>\n",
       "      <th>customer_id</th>\n",
       "      <th>region_id</th>\n",
       "      <th>zone_id</th>\n",
       "      <th>customer_type</th>\n",
       "      <th>Y</th>\n",
       "      <th>X</th>\n",
       "      <th>num_deliver_per_week</th>\n",
       "      <th>num_visit_per_week</th>\n",
       "    </tr>\n",
       "  </thead>\n",
       "  <tbody>\n",
       "    <tr>\n",
       "      <th>10705</th>\n",
       "      <td>256017</td>\n",
       "      <td>80</td>\n",
       "      <td>5148</td>\n",
       "      <td>ABARROTES</td>\n",
       "      <td>-46.474800</td>\n",
       "      <td>-108.045140</td>\n",
       "      <td>1</td>\n",
       "      <td>1</td>\n",
       "    </tr>\n",
       "    <tr>\n",
       "      <th>10706</th>\n",
       "      <td>255780</td>\n",
       "      <td>80</td>\n",
       "      <td>5148</td>\n",
       "      <td>ABARROTES</td>\n",
       "      <td>-46.520282</td>\n",
       "      <td>-107.961052</td>\n",
       "      <td>1</td>\n",
       "      <td>1</td>\n",
       "    </tr>\n",
       "    <tr>\n",
       "      <th>10707</th>\n",
       "      <td>254655</td>\n",
       "      <td>80</td>\n",
       "      <td>5148</td>\n",
       "      <td>ABARROTES</td>\n",
       "      <td>-46.537640</td>\n",
       "      <td>-107.909280</td>\n",
       "      <td>1</td>\n",
       "      <td>1</td>\n",
       "    </tr>\n",
       "  </tbody>\n",
       "</table>\n",
       "</div>"
      ],
      "text/plain": [
       "       customer_id  region_id  zone_id customer_type          Y           X  \\\n",
       "10705       256017         80     5148     ABARROTES -46.474800 -108.045140   \n",
       "10706       255780         80     5148     ABARROTES -46.520282 -107.961052   \n",
       "10707       254655         80     5148     ABARROTES -46.537640 -107.909280   \n",
       "\n",
       "       num_deliver_per_week  num_visit_per_week  \n",
       "10705                     1                   1  \n",
       "10706                     1                   1  \n",
       "10707                     1                   1  "
      ]
     },
     "execution_count": 2,
     "metadata": {},
     "output_type": "execute_result"
    }
   ],
   "source": [
    "print(\"=\"*10 + \" Primeros 3 registros del dataset Clientes \"+ \"=\"*10)\n",
    "clientes.head(3)"
   ]
  },
  {
   "cell_type": "code",
   "execution_count": 3,
   "metadata": {},
   "outputs": [
    {
     "name": "stdout",
     "output_type": "stream",
     "text": [
      "========== Primeros 3 registros del dataset Productos ==========\n"
     ]
    },
    {
     "data": {
      "text/html": [
       "<div>\n",
       "<style scoped>\n",
       "    .dataframe tbody tr th:only-of-type {\n",
       "        vertical-align: middle;\n",
       "    }\n",
       "\n",
       "    .dataframe tbody tr th {\n",
       "        vertical-align: top;\n",
       "    }\n",
       "\n",
       "    .dataframe thead th {\n",
       "        text-align: right;\n",
       "    }\n",
       "</style>\n",
       "<table border=\"1\" class=\"dataframe\">\n",
       "  <thead>\n",
       "    <tr style=\"text-align: right;\">\n",
       "      <th></th>\n",
       "      <th>product_id</th>\n",
       "      <th>brand</th>\n",
       "      <th>category</th>\n",
       "      <th>sub_category</th>\n",
       "      <th>segment</th>\n",
       "      <th>package</th>\n",
       "      <th>size</th>\n",
       "    </tr>\n",
       "  </thead>\n",
       "  <tbody>\n",
       "    <tr>\n",
       "      <th>0</th>\n",
       "      <td>34092</td>\n",
       "      <td>Brand 31</td>\n",
       "      <td>BEBIDAS CARBONATADAS</td>\n",
       "      <td>GASEOSAS</td>\n",
       "      <td>PREMIUM</td>\n",
       "      <td>BOTELLA</td>\n",
       "      <td>0.66</td>\n",
       "    </tr>\n",
       "    <tr>\n",
       "      <th>1</th>\n",
       "      <td>57290</td>\n",
       "      <td>Brand 31</td>\n",
       "      <td>BEBIDAS CARBONATADAS</td>\n",
       "      <td>GASEOSAS</td>\n",
       "      <td>PREMIUM</td>\n",
       "      <td>BOTELLA</td>\n",
       "      <td>0.66</td>\n",
       "    </tr>\n",
       "    <tr>\n",
       "      <th>2</th>\n",
       "      <td>56714</td>\n",
       "      <td>Brand 31</td>\n",
       "      <td>BEBIDAS CARBONATADAS</td>\n",
       "      <td>GASEOSAS</td>\n",
       "      <td>PREMIUM</td>\n",
       "      <td>BOTELLA</td>\n",
       "      <td>0.66</td>\n",
       "    </tr>\n",
       "  </tbody>\n",
       "</table>\n",
       "</div>"
      ],
      "text/plain": [
       "   product_id     brand              category sub_category  segment  package  \\\n",
       "0       34092  Brand 31  BEBIDAS CARBONATADAS     GASEOSAS  PREMIUM  BOTELLA   \n",
       "1       57290  Brand 31  BEBIDAS CARBONATADAS     GASEOSAS  PREMIUM  BOTELLA   \n",
       "2       56714  Brand 31  BEBIDAS CARBONATADAS     GASEOSAS  PREMIUM  BOTELLA   \n",
       "\n",
       "   size  \n",
       "0  0.66  \n",
       "1  0.66  \n",
       "2  0.66  "
      ]
     },
     "execution_count": 3,
     "metadata": {},
     "output_type": "execute_result"
    }
   ],
   "source": [
    "print(\"=\"*10 + \" Primeros 3 registros del dataset Productos \"+ \"=\"*10)\n",
    "productos.head(3)"
   ]
  },
  {
   "cell_type": "code",
   "execution_count": 4,
   "metadata": {},
   "outputs": [
    {
     "name": "stdout",
     "output_type": "stream",
     "text": [
      "========== Primeros 3 registros del dataset Transacciones ==========\n"
     ]
    },
    {
     "data": {
      "text/html": [
       "<div>\n",
       "<style scoped>\n",
       "    .dataframe tbody tr th:only-of-type {\n",
       "        vertical-align: middle;\n",
       "    }\n",
       "\n",
       "    .dataframe tbody tr th {\n",
       "        vertical-align: top;\n",
       "    }\n",
       "\n",
       "    .dataframe thead th {\n",
       "        text-align: right;\n",
       "    }\n",
       "</style>\n",
       "<table border=\"1\" class=\"dataframe\">\n",
       "  <thead>\n",
       "    <tr style=\"text-align: right;\">\n",
       "      <th></th>\n",
       "      <th>customer_id</th>\n",
       "      <th>product_id</th>\n",
       "      <th>order_id</th>\n",
       "      <th>purchase_date</th>\n",
       "      <th>items</th>\n",
       "    </tr>\n",
       "  </thead>\n",
       "  <tbody>\n",
       "    <tr>\n",
       "      <th>124</th>\n",
       "      <td>61353</td>\n",
       "      <td>61364</td>\n",
       "      <td>411145</td>\n",
       "      <td>2024-04-27</td>\n",
       "      <td>-0.333333</td>\n",
       "    </tr>\n",
       "    <tr>\n",
       "      <th>127</th>\n",
       "      <td>61899</td>\n",
       "      <td>1370</td>\n",
       "      <td>411156</td>\n",
       "      <td>2024-04-27</td>\n",
       "      <td>3.666667</td>\n",
       "    </tr>\n",
       "    <tr>\n",
       "      <th>344</th>\n",
       "      <td>154077</td>\n",
       "      <td>30500</td>\n",
       "      <td>417911</td>\n",
       "      <td>2024-04-29</td>\n",
       "      <td>2.333333</td>\n",
       "    </tr>\n",
       "  </tbody>\n",
       "</table>\n",
       "</div>"
      ],
      "text/plain": [
       "     customer_id  product_id  order_id purchase_date     items\n",
       "124        61353       61364    411145    2024-04-27 -0.333333\n",
       "127        61899        1370    411156    2024-04-27  3.666667\n",
       "344       154077       30500    417911    2024-04-29  2.333333"
      ]
     },
     "execution_count": 4,
     "metadata": {},
     "output_type": "execute_result"
    }
   ],
   "source": [
    "print(\"=\"*10 + \" Primeros 3 registros del dataset Transacciones \"+ \"=\"*10)\n",
    "transacciones.head(3)"
   ]
  },
  {
   "cell_type": "markdown",
   "metadata": {},
   "source": [
    "**Revisamos los .shape (dimensiones) de las tablas**"
   ]
  },
  {
   "cell_type": "code",
   "execution_count": 5,
   "metadata": {},
   "outputs": [
    {
     "name": "stdout",
     "output_type": "stream",
     "text": [
      "========== Dimensiones de los datasets ==========\n",
      "Clientes:  (1569, 8)\n",
      "Productos:  (971, 7)\n",
      "Transacciones:  (254936, 5)\n"
     ]
    }
   ],
   "source": [
    "# dimensiones de los dataset\n",
    "\n",
    "print(\"=\"*10 + \" Dimensiones de los datasets \" + \"=\"*10)\n",
    "\n",
    "print(\"Clientes: \", clientes.shape)\n",
    "\n",
    "print(\"Productos: \", productos.shape)\n",
    "\n",
    "print(\"Transacciones: \", transacciones.shape)"
   ]
  },
  {
   "cell_type": "markdown",
   "metadata": {},
   "source": [
    "**Aplicamos .tolist() para poder tener identificados los nombres de las variables que usamos en cada tabla**"
   ]
  },
  {
   "cell_type": "code",
   "execution_count": 6,
   "metadata": {},
   "outputs": [
    {
     "name": "stdout",
     "output_type": "stream",
     "text": [
      "columnas del archivo cliente:  ['customer_id', 'region_id', 'zone_id', 'customer_type', 'Y', 'X', 'num_deliver_per_week', 'num_visit_per_week']\n",
      "Columnas del archivo productos:  ['product_id', 'brand', 'category', 'sub_category', 'segment', 'package', 'size']\n",
      "Columnas del archivo transacciones ['customer_id', 'product_id', 'order_id', 'purchase_date', 'items']\n"
     ]
    }
   ],
   "source": [
    "# Nombres de columnas identificadas de cada archivo\n",
    "\n",
    "client_columns = clientes.columns.tolist()\n",
    "\n",
    "products_columns = productos.columns.tolist()\n",
    "\n",
    "transactions_columns = transacciones.columns.tolist()\n",
    "\n",
    "print(\"columnas del archivo cliente: \", client_columns)\n",
    "\n",
    "print(\"Columnas del archivo productos: \", products_columns)\n",
    "\n",
    "print(\"Columnas del archivo transacciones\", transactions_columns)\n"
   ]
  },
  {
   "cell_type": "markdown",
   "metadata": {},
   "source": [
    "**Aquí dejo los tipos de dato que tiene cada tabla con .dtypes**"
   ]
  },
  {
   "cell_type": "code",
   "execution_count": 7,
   "metadata": {},
   "outputs": [
    {
     "name": "stdout",
     "output_type": "stream",
     "text": [
      "==============================Tipo de valores en las columnas (Cliente) ==============================\n",
      "customer_id               int64\n",
      "region_id                 int64\n",
      "zone_id                   int64\n",
      "customer_type            object\n",
      "Y                       float64\n",
      "X                       float64\n",
      "num_deliver_per_week      int64\n",
      "num_visit_per_week        int64\n",
      "dtype: object\n",
      "==============================Tipo de valores en las columnas (productos) ==============================\n",
      "product_id        int64\n",
      "brand            object\n",
      "category         object\n",
      "sub_category     object\n",
      "segment          object\n",
      "package          object\n",
      "size            float64\n",
      "dtype: object\n",
      "==============================Tipo de valores en las columnas (transacciones) ==============================\n",
      "customer_id               int64\n",
      "product_id                int64\n",
      "order_id                  int64\n",
      "purchase_date    datetime64[ns]\n",
      "items                   float64\n",
      "dtype: object\n",
      "================================================================================\n"
     ]
    }
   ],
   "source": [
    "# Tipo de datos identificados en las columnas\n",
    "print(\"=\"*30 + \"Tipo de valores en las columnas (Cliente) \"+ \"=\"*30)\n",
    "print(clientes.dtypes)\n",
    "\n",
    "\n",
    "print(\"=\"*30 + \"Tipo de valores en las columnas (productos) \"+ \"=\"*30)\n",
    "print(productos.dtypes)\n",
    "\n",
    "\n",
    "print(\"=\"*30 + \"Tipo de valores en las columnas (transacciones) \"+ \"=\"*30)\n",
    "print(transacciones.dtypes)\n",
    "print(\"=\"*80)"
   ]
  },
  {
   "cell_type": "markdown",
   "metadata": {},
   "source": [
    "**Las columnas que funcionana como un id (\"customer_id\", \"region_id\" y \"zone_id\", product_id, \"order_id\") en las 3 tablas ahora estan como número y no deberiamos tratarlas porque estas son más bien identificadores nominales o sea que deberian ser texto en el fondo. En las tablas, las varibales customer_type, brand, category, sub_category, segmente y package estan como object, pero para orden y para que sea más explicita la convertiremos en category directamete. Además, esto disminuye el costo computacional del código porque si usamos clase object, pandas considera cada valor como un puntero a un objeto de Python mientras qeu al estar como category se crea como \"un diccionario\" interno y eso pesa menos.**"
   ]
  },
  {
   "cell_type": "code",
   "execution_count": 8,
   "metadata": {},
   "outputs": [],
   "source": [
    "# Modificamos dtypes pues habían ciertas incongruencias con los dtypes actuales\n",
    "\n",
    "# Clientes\n",
    "clientes = clientes.astype({\n",
    "    \"customer_id\": \"string\",\n",
    "    \"region_id\": \"string\",\n",
    "    \"zone_id\": \"string\",\n",
    "    \"customer_type\": \"category\"\n",
    "})\n",
    "\n",
    "# Productos\n",
    "productos = productos.astype({\n",
    "    \"product_id\": \"string\", # Podría considerarse como category??\n",
    "    \"brand\": \"category\",\n",
    "    \"category\": \"category\",\n",
    "    \"sub_category\": \"category\",\n",
    "    \"segment\": \"category\",\n",
    "    \"package\": \"category\"\n",
    "})\n",
    "\n",
    "# Transacciones\n",
    "transacciones = transacciones.astype({\n",
    "    \"customer_id\": \"string\",\n",
    "    \"product_id\": \"string\",\n",
    "    \"order_id\": \"string\"\n",
    "})"
   ]
  },
  {
   "cell_type": "code",
   "execution_count": 9,
   "metadata": {},
   "outputs": [
    {
     "name": "stdout",
     "output_type": "stream",
     "text": [
      "==============================Tipo de valores en las columnas (Cliente) ==============================\n",
      "customer_id             string[python]\n",
      "region_id               string[python]\n",
      "zone_id                 string[python]\n",
      "customer_type                 category\n",
      "Y                              float64\n",
      "X                              float64\n",
      "num_deliver_per_week             int64\n",
      "num_visit_per_week               int64\n",
      "dtype: object\n",
      "==============================Tipo de valores en las columnas (productos) ==============================\n",
      "product_id      string[python]\n",
      "brand                 category\n",
      "category              category\n",
      "sub_category          category\n",
      "segment               category\n",
      "package               category\n",
      "size                   float64\n",
      "dtype: object\n",
      "==============================Tipo de valores en las columnas (transacciones) ==============================\n",
      "customer_id      string[python]\n",
      "product_id       string[python]\n",
      "order_id         string[python]\n",
      "purchase_date    datetime64[ns]\n",
      "items                   float64\n",
      "dtype: object\n",
      "================================================================================\n"
     ]
    }
   ],
   "source": [
    "# Confirmo cambios\n",
    "print(\"=\"*30 + \"Tipo de valores en las columnas (Cliente) \"+ \"=\"*30)\n",
    "print(clientes.dtypes)\n",
    "\n",
    "\n",
    "print(\"=\"*30 + \"Tipo de valores en las columnas (productos) \"+ \"=\"*30)\n",
    "print(productos.dtypes)\n",
    "\n",
    "\n",
    "print(\"=\"*30 + \"Tipo de valores en las columnas (transacciones) \"+ \"=\"*30)\n",
    "print(transacciones.dtypes)\n",
    "print(\"=\"*80)"
   ]
  },
  {
   "cell_type": "markdown",
   "metadata": {},
   "source": [
    "**Aplico estadísticas descriptivas básicas ahora que tengo correcto el tipo de dato -> solo se aplica a las columnas numéricas en este caso**"
   ]
  },
  {
   "cell_type": "code",
   "execution_count": 10,
   "metadata": {},
   "outputs": [
    {
     "name": "stdout",
     "output_type": "stream",
     "text": [
      "==========Estadística descriptiva clientes (numérico)==========\n",
      "                 Y            X  num_deliver_per_week  num_visit_per_week\n",
      "count  1569.000000  1568.000000           1569.000000              1569.0\n",
      "mean    -46.700549  -107.743548              3.104525                 1.0\n",
      "std       2.700406     2.693112              0.515610                 0.0\n",
      "min    -109.002508  -108.620920              1.000000                 1.0\n",
      "25%     -46.586122  -107.934477              3.000000                 1.0\n",
      "50%     -46.555514  -107.894765              3.000000                 1.0\n",
      "75%     -46.513968  -107.862156              3.000000                 1.0\n",
      "max     -46.161950   -46.442785              6.000000                 1.0\n",
      "==========Estadística descriptiva productos (numérico)==========\n",
      "             size\n",
      "count  971.000000\n",
      "mean     1.420525\n",
      "std      3.897778\n",
      "min      0.125000\n",
      "25%      0.310000\n",
      "50%      0.500000\n",
      "75%      1.000000\n",
      "max     20.000000\n",
      "==========Estadística descriptiva transacciones (numérico)==========\n",
      "                       purchase_date          items\n",
      "count                         254936  254936.000000\n",
      "mean   2024-07-11 07:49:38.893526016       4.378552\n",
      "min              2024-01-01 00:00:00    -399.666667\n",
      "25%              2024-03-26 00:00:00       1.000000\n",
      "50%              2024-07-23 00:00:00       2.333333\n",
      "75%              2024-10-23 00:00:00       3.666667\n",
      "max              2024-12-31 00:00:00    1000.333333\n",
      "std                              NaN      12.098818\n"
     ]
    }
   ],
   "source": [
    "# Aplico la función definida sobre el dataset clientes\n",
    "print(\"=\"*10 + \"Estadística descriptiva clientes (numérico)\" + \"=\"*10)\n",
    "print(clientes.describe())\n",
    "print(\"=\"*10 + \"Estadística descriptiva productos (numérico)\" + \"=\"*10)\n",
    "print(productos.describe())\n",
    "print(\"=\"*10 + \"Estadística descriptiva transacciones (numérico)\" + \"=\"*10)\n",
    "print(transacciones.describe())"
   ]
  },
  {
   "cell_type": "markdown",
   "metadata": {},
   "source": [
    "**Aplico para string y separado para category**"
   ]
  },
  {
   "cell_type": "code",
   "execution_count": 11,
   "metadata": {},
   "outputs": [
    {
     "name": "stdout",
     "output_type": "stream",
     "text": [
      "==========Estadística descriptiva clientes (string)==========\n",
      "       customer_id region_id zone_id\n",
      "count         1569      1569    1569\n",
      "unique        1569         1       1\n",
      "top         253866        80    5148\n",
      "freq             1      1569    1569\n",
      "==========Estadística descriptiva productos (string)==========\n",
      "       product_id\n",
      "count         971\n",
      "unique        971\n",
      "top         53072\n",
      "freq            1\n",
      "==========Estadística descriptiva transacciones (string)==========\n",
      "       customer_id product_id order_id\n",
      "count       254936     254936   254936\n",
      "unique        1490        114    64600\n",
      "top         183105       1370    23039\n",
      "freq          1619      37710       47\n"
     ]
    }
   ],
   "source": [
    "print(\"=\"*10 + \"Estadística descriptiva clientes (string)\" + \"=\"*10)\n",
    "print(clientes.describe(include=\"string\"))\n",
    "print(\"=\"*10 + \"Estadística descriptiva productos (string)\" + \"=\"*10)\n",
    "print(productos.describe(include=\"string\"))\n",
    "print(\"=\"*10 + \"Estadística descriptiva transacciones (string)\" + \"=\"*10)\n",
    "print(transacciones.describe(include=\"string\"))"
   ]
  },
  {
   "cell_type": "markdown",
   "metadata": {},
   "source": [
    "**Transacciones no tiene una varible tipo category**"
   ]
  },
  {
   "cell_type": "code",
   "execution_count": 12,
   "metadata": {},
   "outputs": [
    {
     "name": "stdout",
     "output_type": "stream",
     "text": [
      "==========Estadística descriptiva clientes (category)==========\n",
      "       customer_type\n",
      "count           1569\n",
      "unique             7\n",
      "top        ABARROTES\n",
      "freq            1160\n",
      "==========Estadística descriptiva productos (category)==========\n",
      "          brand              category sub_category  segment  package\n",
      "count       971                   971          971      971      971\n",
      "unique       61                     2            3        4        4\n",
      "top     Brand 7  BEBIDAS CARBONATADAS     GASEOSAS  PREMIUM  BOTELLA\n",
      "freq        104                   743          673      310      597\n"
     ]
    }
   ],
   "source": [
    "print(\"=\"*10 + \"Estadística descriptiva clientes (category)\" + \"=\"*10)\n",
    "print(clientes.describe(include=\"category\"))\n",
    "print(\"=\"*10 + \"Estadística descriptiva productos (category)\" + \"=\"*10)\n",
    "print(productos.describe(include=\"category\"))"
   ]
  },
  {
   "cell_type": "markdown",
   "metadata": {},
   "source": [
    "Las estadísticas que importan del dataset de ``clientes.parquet`` son de las columnas ``num_deliver_per_week``, ``num_visit_per_week`` y ``customer_type``"
   ]
  },
  {
   "cell_type": "markdown",
   "metadata": {},
   "source": [
    "Acá se identifica que tal vez sea más conveniente transformar la columna fecha de compra -> que aparezcan 3 columnas extras (año, mes, día).\n",
    "\n",
    "Las columnas cuyas estadísticas importan: ``items``: Se identifca un valor negativo, cuando esta columna representa a cantidad de bultos comprados por el cliente en aquella transacción."
   ]
  },
  {
   "cell_type": "markdown",
   "metadata": {},
   "source": [
    "**La variable purchase_date tiene otro tipo de dato (datetime64[ns]) por lo que la revisaremos por separado**"
   ]
  },
  {
   "cell_type": "code",
   "execution_count": 13,
   "metadata": {},
   "outputs": [
    {
     "name": "stdout",
     "output_type": "stream",
     "text": [
      "124   2024-04-27\n",
      "127   2024-04-27\n",
      "344   2024-04-29\n",
      "Name: purchase_date, dtype: datetime64[ns]\n",
      "Min: 2024-01-01 00:00:00\n",
      "Max: 2024-12-31 00:00:00\n",
      "Unique: 366\n",
      "Nulos: 0\n"
     ]
    }
   ],
   "source": [
    "# Tipo de dato\n",
    "transacciones[\"purchase_date\"].dtype\n",
    "\n",
    "# Ver encabezado para saber como \n",
    "print(transacciones[\"purchase_date\"].head(3))\n",
    "\n",
    "# Reviso rango\n",
    "print(\"Min:\", transacciones[\"purchase_date\"].min())\n",
    "print(\"Max:\", transacciones[\"purchase_date\"].max())\n",
    "\n",
    "# Veo nulos y únicos\n",
    "print(\"Unique:\", transacciones[\"purchase_date\"].nunique())\n",
    "print(\"Nulos:\", transacciones[\"purchase_date\"].isna().sum())"
   ]
  },
  {
   "cell_type": "markdown",
   "metadata": {},
   "source": [
    "**Si bien pareciera que solo se presenta en la columna el año, mes y día (en ese orden), queremos confirmar que no hayan registos de hora que en el fondo igual son soportados por lo que se muestra en la estadística básica de los mínimos y máximos.**\n",
    "**Transacciones de un año**"
   ]
  },
  {
   "cell_type": "code",
   "execution_count": 14,
   "metadata": {},
   "outputs": [
    {
     "name": "stdout",
     "output_type": "stream",
     "text": [
      "1\n"
     ]
    }
   ],
   "source": [
    "from datetime import time # Para poder trabajar directamente con fechas/tiempo\n",
    "\n",
    "print(transacciones[\"purchase_date\"].dt.time.nunique())  # quiero saber si la parte del tiempo es el mismo en todas, o sea como 00:00:00 y así asegurarme que es como \"por defecto\" o si es que de hecho la columna captura esa información"
   ]
  },
  {
   "cell_type": "code",
   "execution_count": 15,
   "metadata": {},
   "outputs": [],
   "source": [
    "# Agregaremos las variables de fecha específica (día, mes y año) para posibles futuros desarrollos\n",
    "transacciones[\"year\"] = transacciones[\"purchase_date\"].dt.year\n",
    "transacciones[\"month\"] = transacciones[\"purchase_date\"].dt.month\n",
    "transacciones[\"day\"] = transacciones[\"purchase_date\"].dt.day"
   ]
  },
  {
   "cell_type": "code",
   "execution_count": 16,
   "metadata": {},
   "outputs": [
    {
     "data": {
      "text/html": [
       "<div>\n",
       "<style scoped>\n",
       "    .dataframe tbody tr th:only-of-type {\n",
       "        vertical-align: middle;\n",
       "    }\n",
       "\n",
       "    .dataframe tbody tr th {\n",
       "        vertical-align: top;\n",
       "    }\n",
       "\n",
       "    .dataframe thead th {\n",
       "        text-align: right;\n",
       "    }\n",
       "</style>\n",
       "<table border=\"1\" class=\"dataframe\">\n",
       "  <thead>\n",
       "    <tr style=\"text-align: right;\">\n",
       "      <th></th>\n",
       "      <th>customer_id</th>\n",
       "      <th>product_id</th>\n",
       "      <th>order_id</th>\n",
       "      <th>purchase_date</th>\n",
       "      <th>items</th>\n",
       "      <th>year</th>\n",
       "      <th>month</th>\n",
       "      <th>day</th>\n",
       "    </tr>\n",
       "  </thead>\n",
       "  <tbody>\n",
       "    <tr>\n",
       "      <th>124</th>\n",
       "      <td>61353</td>\n",
       "      <td>61364</td>\n",
       "      <td>411145</td>\n",
       "      <td>2024-04-27</td>\n",
       "      <td>-0.333333</td>\n",
       "      <td>2024</td>\n",
       "      <td>4</td>\n",
       "      <td>27</td>\n",
       "    </tr>\n",
       "    <tr>\n",
       "      <th>127</th>\n",
       "      <td>61899</td>\n",
       "      <td>1370</td>\n",
       "      <td>411156</td>\n",
       "      <td>2024-04-27</td>\n",
       "      <td>3.666667</td>\n",
       "      <td>2024</td>\n",
       "      <td>4</td>\n",
       "      <td>27</td>\n",
       "    </tr>\n",
       "  </tbody>\n",
       "</table>\n",
       "</div>"
      ],
      "text/plain": [
       "    customer_id product_id order_id purchase_date     items  year  month  day\n",
       "124       61353      61364   411145    2024-04-27 -0.333333  2024      4   27\n",
       "127       61899       1370   411156    2024-04-27  3.666667  2024      4   27"
      ]
     },
     "execution_count": 16,
     "metadata": {},
     "output_type": "execute_result"
    }
   ],
   "source": [
    "transacciones.head(2)"
   ]
  },
  {
   "cell_type": "markdown",
   "metadata": {},
   "source": [
    "**Vamos a dejar igual la variable de purchase_date**"
   ]
  },
  {
   "cell_type": "code",
   "execution_count": 17,
   "metadata": {},
   "outputs": [
    {
     "data": {
      "text/plain": [
       "(254936, 8)"
      ]
     },
     "execution_count": 17,
     "metadata": {},
     "output_type": "execute_result"
    }
   ],
   "source": [
    "transacciones.shape"
   ]
  },
  {
   "cell_type": "markdown",
   "metadata": {},
   "source": [
    "**Reviso si hay valores nulos en las tablas con isna**"
   ]
  },
  {
   "cell_type": "code",
   "execution_count": 18,
   "metadata": {},
   "outputs": [
    {
     "name": "stdout",
     "output_type": "stream",
     "text": [
      " Identificación de valores nulos por columna de cada dataset\n",
      "============================== Dataset clientes ==============================\n",
      "customer_id             0\n",
      "region_id               0\n",
      "zone_id                 0\n",
      "customer_type           0\n",
      "Y                       0\n",
      "X                       1\n",
      "num_deliver_per_week    0\n",
      "num_visit_per_week      0\n",
      "dtype: int64\n",
      "============================== Dataset productos ==============================\n",
      "product_id      0\n",
      "brand           0\n",
      "category        0\n",
      "sub_category    0\n",
      "segment         0\n",
      "package         0\n",
      "size            0\n",
      "dtype: int64\n",
      "============================== Dataset transacciones ==============================\n",
      "customer_id      0\n",
      "product_id       0\n",
      "order_id         0\n",
      "purchase_date    0\n",
      "items            0\n",
      "year             0\n",
      "month            0\n",
      "day              0\n",
      "dtype: int64\n"
     ]
    }
   ],
   "source": [
    "# Identificación de valores nulos\n",
    "\n",
    "print(\" Identificación de valores nulos por columna de cada dataset\")\n",
    "\n",
    "print(\"=\"*30 + \" Dataset clientes \"+ \"=\"*30)\n",
    "print(clientes.isna().sum())\n",
    "\n",
    "print(\"=\"*30 + \" Dataset productos \"+ \"=\"*30)\n",
    "print(productos.isna().sum())\n",
    "\n",
    "print(\"=\"*30 + \" Dataset transacciones \"+ \"=\"*30)\n",
    "print(transacciones.isna().sum())"
   ]
  },
  {
   "cell_type": "markdown",
   "metadata": {},
   "source": [
    "En el dataset de ``clientes.parquet``, hay un registro que no cuenta con coordenada geográfica X (longitud)."
   ]
  },
  {
   "cell_type": "markdown",
   "metadata": {},
   "source": [
    "**Reviso los duplicados con duplicated**"
   ]
  },
  {
   "cell_type": "code",
   "execution_count": 19,
   "metadata": {},
   "outputs": [
    {
     "name": "stdout",
     "output_type": "stream",
     "text": [
      " Identificación de registros duplicados por columna de cada dataset\n",
      "============================== Dataset clientes ==============================\n",
      "0\n",
      "============================== Dataset productos ==============================\n",
      "0\n",
      "============================== Dataset transacciones ==============================\n",
      "885\n"
     ]
    }
   ],
   "source": [
    "# identificación de valores duplicados\n",
    "\n",
    "print(\" Identificación de registros duplicados por columna de cada dataset\")\n",
    "print(\"=\"*30 + \" Dataset clientes \"+ \"=\"*30)\n",
    "print(clientes.duplicated(subset=[\"customer_id\"]).sum())\n",
    "\n",
    "print(\"=\"*30 + \" Dataset productos \"+ \"=\"*30)\n",
    "print(productos.duplicated().sum())\n",
    "\n",
    "print(\"=\"*30 + \" Dataset transacciones \"+ \"=\"*30)\n",
    "print(transacciones.duplicated().sum())"
   ]
  },
  {
   "cell_type": "markdown",
   "metadata": {},
   "source": [
    "Existen 885 transacciones duplicadas, las cuales tendrán que ser trabajadas también"
   ]
  },
  {
   "cell_type": "code",
   "execution_count": 20,
   "metadata": {},
   "outputs": [
    {
     "name": "stdout",
     "output_type": "stream",
     "text": [
      "Dimension del dataset después de eliminar duplicados:  (243338, 8)\n"
     ]
    },
    {
     "data": {
      "text/html": [
       "<div>\n",
       "<style scoped>\n",
       "    .dataframe tbody tr th:only-of-type {\n",
       "        vertical-align: middle;\n",
       "    }\n",
       "\n",
       "    .dataframe tbody tr th {\n",
       "        vertical-align: top;\n",
       "    }\n",
       "\n",
       "    .dataframe thead th {\n",
       "        text-align: right;\n",
       "    }\n",
       "</style>\n",
       "<table border=\"1\" class=\"dataframe\">\n",
       "  <thead>\n",
       "    <tr style=\"text-align: right;\">\n",
       "      <th></th>\n",
       "      <th>customer_id</th>\n",
       "      <th>product_id</th>\n",
       "      <th>order_id</th>\n",
       "      <th>purchase_date</th>\n",
       "      <th>items</th>\n",
       "      <th>year</th>\n",
       "      <th>month</th>\n",
       "      <th>day</th>\n",
       "    </tr>\n",
       "  </thead>\n",
       "  <tbody>\n",
       "    <tr>\n",
       "      <th>124</th>\n",
       "      <td>61353</td>\n",
       "      <td>61364</td>\n",
       "      <td>411145</td>\n",
       "      <td>2024-04-27</td>\n",
       "      <td>-0.333333</td>\n",
       "      <td>2024</td>\n",
       "      <td>4</td>\n",
       "      <td>27</td>\n",
       "    </tr>\n",
       "    <tr>\n",
       "      <th>127</th>\n",
       "      <td>61899</td>\n",
       "      <td>1370</td>\n",
       "      <td>411156</td>\n",
       "      <td>2024-04-27</td>\n",
       "      <td>3.666667</td>\n",
       "      <td>2024</td>\n",
       "      <td>4</td>\n",
       "      <td>27</td>\n",
       "    </tr>\n",
       "  </tbody>\n",
       "</table>\n",
       "</div>"
      ],
      "text/plain": [
       "    customer_id product_id order_id purchase_date     items  year  month  day\n",
       "124       61353      61364   411145    2024-04-27 -0.333333  2024      4   27\n",
       "127       61899       1370   411156    2024-04-27  3.666667  2024      4   27"
      ]
     },
     "execution_count": 20,
     "metadata": {},
     "output_type": "execute_result"
    }
   ],
   "source": [
    "# Eliminamos tuplas duplicadas\n",
    "\n",
    "transacciones = transacciones.drop_duplicates(subset=[\"order_id\", \"product_id\"], keep=\"first\") # Defino que revise y bote duplicados basandose en la llave de alguna forma, en el fonod cada producto se asocia a una orden y el cliente esta implicito\n",
    "print(\"Dimension del dataset después de eliminar duplicados: \", transacciones.shape) \n",
    "transacciones.head(2)"
   ]
  },
  {
   "cell_type": "markdown",
   "metadata": {},
   "source": [
    "# Cruce de información.\n",
    "En este punto, es válido realizar un cruce de información usando las llaves primarias, tales como ``Customer ID`` del dataset Clientes y ``Product ID`` del dataset Productos. En el dataset de transacciones, las llaves mencionadas ahora son llaves foráneas y se tiene la llave primaria ``Order ID``.\n",
    "\n",
    "Como el dataset Transacciones contiene esas 3 llaves, comenzamos el merge desde ahí: primero con clientes y luego con productos."
   ]
  },
  {
   "cell_type": "markdown",
   "metadata": {},
   "source": [
    "**Entonces hare los merge y después volveré a revisar los datos más o menos para saber cómo quedo y asegurarme de que quedo bien**"
   ]
  },
  {
   "cell_type": "code",
   "execution_count": 21,
   "metadata": {},
   "outputs": [],
   "source": [
    "# Hago merge de los dataset en un solo dataframe -> df\n",
    "\n",
    "df = transacciones.merge(clientes, on=\"customer_id\", how=\"left\") # how = left significa que usa solo las llaves del frame izquierdo, como un\n",
    "                                                                # sql left outer join: preserva el orden de la llave -> deberia aparecer customer id como \n",
    "                                                                # primera columna\n",
    "\n",
    "df = df.merge(productos, on=\"product_id\", how=\"left\") "
   ]
  },
  {
   "cell_type": "markdown",
   "metadata": {},
   "source": [
    "**Entonces ahora los 3 quedan como un gran data frame que convservan la información principalmente de las transacciones, esto debido a que eso es lo que \"confirma\" que hubo una compra. Puedo tener quizas algunos clientes que se eliminen en le merge o productos que se eliminen, pero debería primar el tema de las transacciones porque ahí queda registrada la compra por decir. Los otros son como \"perfil\" de cliente y \"perfil\" de objeto que se vende**"
   ]
  },
  {
   "cell_type": "code",
   "execution_count": 22,
   "metadata": {},
   "outputs": [
    {
     "name": "stdout",
     "output_type": "stream",
     "text": [
      "Dimensiones del dataset:  (243338, 21)\n"
     ]
    },
    {
     "data": {
      "text/html": [
       "<div>\n",
       "<style scoped>\n",
       "    .dataframe tbody tr th:only-of-type {\n",
       "        vertical-align: middle;\n",
       "    }\n",
       "\n",
       "    .dataframe tbody tr th {\n",
       "        vertical-align: top;\n",
       "    }\n",
       "\n",
       "    .dataframe thead th {\n",
       "        text-align: right;\n",
       "    }\n",
       "</style>\n",
       "<table border=\"1\" class=\"dataframe\">\n",
       "  <thead>\n",
       "    <tr style=\"text-align: right;\">\n",
       "      <th></th>\n",
       "      <th>customer_id</th>\n",
       "      <th>product_id</th>\n",
       "      <th>order_id</th>\n",
       "      <th>purchase_date</th>\n",
       "      <th>items</th>\n",
       "      <th>year</th>\n",
       "      <th>month</th>\n",
       "      <th>day</th>\n",
       "      <th>region_id</th>\n",
       "      <th>zone_id</th>\n",
       "      <th>...</th>\n",
       "      <th>Y</th>\n",
       "      <th>X</th>\n",
       "      <th>num_deliver_per_week</th>\n",
       "      <th>num_visit_per_week</th>\n",
       "      <th>brand</th>\n",
       "      <th>category</th>\n",
       "      <th>sub_category</th>\n",
       "      <th>segment</th>\n",
       "      <th>package</th>\n",
       "      <th>size</th>\n",
       "    </tr>\n",
       "  </thead>\n",
       "  <tbody>\n",
       "    <tr>\n",
       "      <th>0</th>\n",
       "      <td>61353</td>\n",
       "      <td>61364</td>\n",
       "      <td>411145</td>\n",
       "      <td>2024-04-27</td>\n",
       "      <td>-0.333333</td>\n",
       "      <td>2024</td>\n",
       "      <td>4</td>\n",
       "      <td>27</td>\n",
       "      <td>80</td>\n",
       "      <td>5148</td>\n",
       "      <td>...</td>\n",
       "      <td>-46.558718</td>\n",
       "      <td>-107.860564</td>\n",
       "      <td>3</td>\n",
       "      <td>1</td>\n",
       "      <td>Brand 35</td>\n",
       "      <td>BEBIDAS CARBONATADAS</td>\n",
       "      <td>GASEOSAS</td>\n",
       "      <td>MEDIUM</td>\n",
       "      <td>BOTELLA</td>\n",
       "      <td>1.0</td>\n",
       "    </tr>\n",
       "    <tr>\n",
       "      <th>1</th>\n",
       "      <td>61899</td>\n",
       "      <td>1370</td>\n",
       "      <td>411156</td>\n",
       "      <td>2024-04-27</td>\n",
       "      <td>3.666667</td>\n",
       "      <td>2024</td>\n",
       "      <td>4</td>\n",
       "      <td>27</td>\n",
       "      <td>80</td>\n",
       "      <td>5148</td>\n",
       "      <td>...</td>\n",
       "      <td>-46.557632</td>\n",
       "      <td>-107.896470</td>\n",
       "      <td>3</td>\n",
       "      <td>1</td>\n",
       "      <td>Brand 34</td>\n",
       "      <td>BEBIDAS CARBONATADAS</td>\n",
       "      <td>GASEOSAS</td>\n",
       "      <td>MEDIUM</td>\n",
       "      <td>BOTELLA</td>\n",
       "      <td>1.0</td>\n",
       "    </tr>\n",
       "  </tbody>\n",
       "</table>\n",
       "<p>2 rows × 21 columns</p>\n",
       "</div>"
      ],
      "text/plain": [
       "  customer_id product_id order_id purchase_date     items  year  month  day  \\\n",
       "0       61353      61364   411145    2024-04-27 -0.333333  2024      4   27   \n",
       "1       61899       1370   411156    2024-04-27  3.666667  2024      4   27   \n",
       "\n",
       "  region_id zone_id  ...          Y           X  num_deliver_per_week  \\\n",
       "0        80    5148  ... -46.558718 -107.860564                     3   \n",
       "1        80    5148  ... -46.557632 -107.896470                     3   \n",
       "\n",
       "   num_visit_per_week     brand              category sub_category segment  \\\n",
       "0                   1  Brand 35  BEBIDAS CARBONATADAS     GASEOSAS  MEDIUM   \n",
       "1                   1  Brand 34  BEBIDAS CARBONATADAS     GASEOSAS  MEDIUM   \n",
       "\n",
       "   package size  \n",
       "0  BOTELLA  1.0  \n",
       "1  BOTELLA  1.0  \n",
       "\n",
       "[2 rows x 21 columns]"
      ]
     },
     "execution_count": 22,
     "metadata": {},
     "output_type": "execute_result"
    }
   ],
   "source": [
    "print(\"Dimensiones del dataset: \",df.shape)\n",
    "df.head(2)"
   ]
  },
  {
   "cell_type": "code",
   "execution_count": 23,
   "metadata": {},
   "outputs": [
    {
     "name": "stdout",
     "output_type": "stream",
     "text": [
      "Valores Nulos en dataset df\n",
      "customer_id             0\n",
      "product_id              0\n",
      "order_id                0\n",
      "purchase_date           0\n",
      "items                   0\n",
      "year                    0\n",
      "month                   0\n",
      "day                     0\n",
      "region_id               0\n",
      "zone_id                 0\n",
      "customer_type           0\n",
      "Y                       0\n",
      "X                       0\n",
      "num_deliver_per_week    0\n",
      "num_visit_per_week      0\n",
      "brand                   0\n",
      "category                0\n",
      "sub_category            0\n",
      "segment                 0\n",
      "package                 0\n",
      "size                    0\n",
      "dtype: int64\n"
     ]
    }
   ],
   "source": [
    "print(\"Valores Nulos en dataset df\")\n",
    "print(df.isna().sum())"
   ]
  },
  {
   "cell_type": "markdown",
   "metadata": {},
   "source": [
    "Acá desapareció el único cliente que tenía una coordenada \"X\" como NaN. Por cómo se hizo el merge, capaz que el cliente no estaba en transacciones y ahora desapareció del df final."
   ]
  },
  {
   "cell_type": "markdown",
   "metadata": {},
   "source": [
    "**Ya entonces viendo las dimensiones y si es que hay nulos, puedo presumir que todas las transacciones fueron hechas por clientes que exitian y se vendieron items que estaban registrados. Además, podría ser que en el merge se perdio info de los items o de los clientes pero apra terminos de compras esta informacion no debiera ser relevante y por ella esta bien si se perdió pues no nos aporta concretamente algo ahora**"
   ]
  },
  {
   "cell_type": "code",
   "execution_count": 24,
   "metadata": {},
   "outputs": [
    {
     "name": "stdout",
     "output_type": "stream",
     "text": [
      "Clientes en clientes: 1569\n",
      "Clientes en transacciones: 1490\n",
      "Clientes faltantes: 79\n",
      "Productos en productos: 971\n",
      "Productos en transacciones: 114\n",
      "Productos faltantes: 857\n"
     ]
    }
   ],
   "source": [
    "# Revisar si efectivamente hubieron registros de cliente y de producto que no se mergearon con la tabla transacciones pues no compraron/no figuraban en inventario\n",
    "\n",
    "print(\"Clientes en clientes:\", clientes[\"customer_id\"].nunique())\n",
    "print(\"Clientes en transacciones:\", df[\"customer_id\"].nunique())\n",
    "print(\"Clientes faltantes:\", len(set(clientes[\"customer_id\"]) - set(df[\"customer_id\"])))\n",
    "\n",
    "print(\"Productos en productos:\", productos[\"product_id\"].nunique())\n",
    "print(\"Productos en transacciones:\", df[\"product_id\"].nunique())\n",
    "print(\"Productos faltantes:\", len(set(productos[\"product_id\"]) - set(df[\"product_id\"])))"
   ]
  },
  {
   "cell_type": "markdown",
   "metadata": {},
   "source": [
    "**Efectivamente entonces no todos los clientes y productos pasan al merge, pero esto se explica en lo que ya dijimos antes, o sea, no todos los clientes han comprado ni todos los productos se han transado**"
   ]
  },
  {
   "cell_type": "markdown",
   "metadata": {},
   "source": [
    "\n",
    "Sobre la columna de la fecha: ya está en un buen formato, pero en el momento en que se requiera un análisis temporar: mes, semana, día... se pueden crear \n",
    "columnas auxiliares.\n"
   ]
  },
  {
   "cell_type": "code",
   "execution_count": 25,
   "metadata": {},
   "outputs": [
    {
     "data": {
      "text/plain": [
       "np.int64(0)"
      ]
     },
     "execution_count": 25,
     "metadata": {},
     "output_type": "execute_result"
    }
   ],
   "source": [
    "# valores duplicados en df nuevo mergeado\n",
    "\n",
    "df.duplicated().sum()"
   ]
  },
  {
   "cell_type": "markdown",
   "metadata": {},
   "source": [
    "**como se puede ver tenemos 885 transacciones duplicadas, como esto no es \"posibble\" teneoms que droppear las tuplas duplicadas pues solo nos estan duplicando, valga la redundancia, la información y no nos estan aportando más datos**"
   ]
  },
  {
   "cell_type": "markdown",
   "metadata": {},
   "source": [
    "**Super importante no olvidar que el drop y las modificaciones se han hecho todo el tiempo considerando que una transacción equivale a 1 registro. Que la primary key es el order_id, por lo que solo puede haber 1 order_id x registro**"
   ]
  },
  {
   "cell_type": "markdown",
   "metadata": {},
   "source": [
    "## 📌 EDA [0.5 puntos]\n",
    "\n",
    "<center>\n",
    "<img src=\"https://media3.giphy.com/media/v1.Y2lkPTc5MGI3NjExbHZ6aGdkd21tYTI3cW8zYWhyYW5wdGlyb2s3MmRzeTV0dzQ1NWlueiZlcD12MV9pbnRlcm5hbF9naWZfYnlfaWQmY3Q9Zw/3k1hJubTtOAKPKx4k3/giphy.gif\" width=\"400\" height=\"200\">"
   ]
  },
  {
   "cell_type": "markdown",
   "metadata": {},
   "source": [
    "En esta sección, se debe realizar un análisis exploratorio de los datos para comprender su estructura, detectar posibles problemas y obtener información relevante para el entrenamiento de los modelos. La idea es que puedan detectar **patrones en los datos** que les permitan resolver el problema con mayor facilidad.\n",
    "\n",
    "Se deben responder preguntas a partir de lo que puedan visualizar/obtener, por ejemplo:\n",
    "\n",
    "- Clientes y productos\n",
    "\n",
    "    - ¿Cuántos clientes únicos hay en el dataset?\n",
    "\n",
    "    - ¿Cuántos productos únicos se encuentran en los datos?\n",
    "\n",
    "- Periodo y frecuencia\n",
    "\n",
    "    - ¿De qué periodo es la información disponible?\n",
    "\n",
    "    - ¿Cuál es la frecuencia de los registros (diaria, semanal, mensual, etc.)?\n",
    "\n",
    "- Calidad de los datos\n",
    "\n",
    "    - ¿Existen valores nulos en el dataset? ¿Cuántos? ¿Cómo se pueden tratar?\n",
    "\n",
    "    - ¿Hay datos raros, como cantidades negativas o inconsistencias? Genere tests de validación para identificar estos problemas.\n",
    "\n",
    "- Patrones de compra\n",
    "\n",
    "    - ¿Cuántos productos compra en promedio cada cliente semana a semana?\n",
    "\n",
    "    - ¿Cuántas transacciones ha realizado cada cliente?\n",
    "\n",
    "    - ¿Cuál es el periodo de recompra promedio de cada SKU?"
   ]
  },
  {
   "cell_type": "code",
   "execution_count": 26,
   "metadata": {},
   "outputs": [
    {
     "data": {
      "text/plain": [
       "(114,)"
      ]
     },
     "execution_count": 26,
     "metadata": {},
     "output_type": "execute_result"
    }
   ],
   "source": [
    "# Desarrolle aquí su código\n",
    "\n",
    "# clientes y productos\n",
    "\n",
    "df[\"customer_id\"].value_counts().shape # hay 1490 clientes únicos\n",
    "\n",
    "df[\"product_id\"].value_counts().shape # hay 114 productos únicos"
   ]
  },
  {
   "cell_type": "code",
   "execution_count": 27,
   "metadata": {},
   "outputs": [
    {
     "name": "stdout",
     "output_type": "stream",
     "text": [
      "Fecha inicio de observaciones:  2024-01-01 00:00:00\n",
      "Fecha final de observaciones:  2024-12-31 00:00:00\n"
     ]
    }
   ],
   "source": [
    "# sobre las fechas\n",
    "\n",
    "fecha_inicio = df[\"purchase_date\"].min()\n",
    "\n",
    "fecha_final = df[\"purchase_date\"].max()\n",
    "\n",
    "print(\"Fecha inicio de observaciones: \", fecha_inicio)# los registros son desde el 1 de enero del año 2024?\n",
    "\n",
    "print(\"Fecha final de observaciones: \", fecha_final )\n",
    "\n"
   ]
  },
  {
   "cell_type": "code",
   "execution_count": 28,
   "metadata": {},
   "outputs": [
    {
     "name": "stdout",
     "output_type": "stream",
     "text": [
      "    purchase_date  frecuencia\n",
      "0      2024-01-01         159\n",
      "1      2024-01-02        1084\n",
      "2      2024-01-03         724\n",
      "3      2024-01-04        1028\n",
      "4      2024-01-05         878\n",
      "..            ...         ...\n",
      "361    2024-12-27        1484\n",
      "362    2024-12-28        1120\n",
      "363    2024-12-29        1077\n",
      "364    2024-12-30        1207\n",
      "365    2024-12-31         235\n",
      "\n",
      "[366 rows x 2 columns]\n"
     ]
    }
   ],
   "source": [
    "df = df.set_index(\"purchase_date\") # esto ordena las filas del df según la fecha\n",
    "\n",
    "frecuencia_diaria = df.resample('D').size().reset_index(name='frecuencia')\n",
    "print(frecuencia_diaria)"
   ]
  },
  {
   "cell_type": "code",
   "execution_count": 29,
   "metadata": {},
   "outputs": [
    {
     "name": "stdout",
     "output_type": "stream",
     "text": [
      "   purchase_date  frecuencia\n",
      "0     2024-01-07        4321\n",
      "1     2024-01-14        4967\n",
      "2     2024-01-21        5268\n",
      "3     2024-01-28        4890\n",
      "4     2024-02-04        5058\n",
      "5     2024-02-11        5300\n",
      "6     2024-02-18        4406\n",
      "7     2024-02-25        4816\n",
      "8     2024-03-03        4573\n",
      "9     2024-03-10        4393\n",
      "10    2024-03-17        5233\n",
      "11    2024-03-24        5526\n",
      "12    2024-03-31        4789\n",
      "13    2024-04-07        4495\n",
      "14    2024-04-14        3748\n",
      "15    2024-04-21        3120\n",
      "16    2024-04-28        4613\n",
      "17    2024-05-05        4547\n",
      "18    2024-05-12        4641\n",
      "19    2024-05-19        1866\n",
      "20    2024-05-26        2132\n",
      "21    2024-06-02        1896\n",
      "22    2024-06-09        4269\n",
      "23    2024-06-16        5066\n",
      "24    2024-06-23        4153\n",
      "25    2024-06-30        3211\n",
      "26    2024-07-07        2765\n",
      "27    2024-07-14        1606\n",
      "28    2024-07-21        3461\n",
      "29    2024-07-28        5126\n",
      "30    2024-08-04        4211\n",
      "31    2024-08-11        3829\n",
      "32    2024-08-18        4164\n",
      "33    2024-08-25        4172\n",
      "34    2024-09-01        4264\n",
      "35    2024-09-08        4348\n",
      "36    2024-09-15        4884\n",
      "37    2024-09-22        4870\n",
      "38    2024-09-29        6510\n",
      "39    2024-10-06        4896\n",
      "40    2024-10-13        4344\n",
      "41    2024-10-20        4774\n",
      "42    2024-10-27        5807\n",
      "43    2024-11-03        5173\n",
      "44    2024-11-10        5075\n",
      "45    2024-11-17        5351\n",
      "46    2024-11-24        6842\n",
      "47    2024-12-01        5831\n",
      "48    2024-12-08        5778\n",
      "49    2024-12-15        5310\n",
      "50    2024-12-22        9590\n",
      "51    2024-12-29        7618\n",
      "52    2025-01-05        1442\n"
     ]
    }
   ],
   "source": [
    "frecuencia_semanal = df.resample('W').size().reset_index(name='frecuencia')\n",
    "print(frecuencia_semanal)"
   ]
  },
  {
   "cell_type": "code",
   "execution_count": 30,
   "metadata": {},
   "outputs": [
    {
     "name": "stdout",
     "output_type": "stream",
     "text": [
      "   purchase_date  frecuencia\n",
      "0     2024-01-31       21897\n",
      "1     2024-02-29       20952\n",
      "2     2024-03-31       20691\n",
      "3     2024-04-30       17950\n",
      "4     2024-05-31       12856\n",
      "5     2024-06-30       16951\n",
      "6     2024-07-31       14826\n",
      "7     2024-08-31       18709\n",
      "8     2024-09-30       21451\n",
      "9     2024-10-31       22761\n",
      "10    2024-11-30       24326\n",
      "11    2024-12-31       29968\n"
     ]
    }
   ],
   "source": [
    "frecuencia_mensual = df.resample(\"ME\").size().reset_index(name=\"frecuencia\") # M o ME para \"month\"\n",
    "print(frecuencia_mensual)"
   ]
  },
  {
   "cell_type": "markdown",
   "metadata": {},
   "source": [
    "De acá, los meses en donde se compran más productos son  los menes de fin de año (Noviembre-Diciembre) y principio de año (Enero). El mes con ventas más bajas es el mes de Mayo.\n",
    "Sobre cantidades negativas, hay items que salen con signo negativo.\n"
   ]
  },
  {
   "cell_type": "code",
   "execution_count": 31,
   "metadata": {},
   "outputs": [],
   "source": [
    "# Columnas del dataset mergeado\n",
    "\n",
    "# cat_columns = column_type(df, printeo=\"no\")[0]\n",
    "# binary_columns = column_type(df, printeo=\"no\")[1]\n",
    "# num_columns = column_type(df, printeo=\"no\")[2]\n",
    "# cat_nominal_columns = column_type(df, printeo=\"no\")[3]\n",
    "# cat_ordinal_columns = column_type(df, printeo=\"no\")[4]\n",
    "\n"
   ]
  },
  {
   "cell_type": "markdown",
   "metadata": {},
   "source": [
    "Comentario: Acá me di cuenta cuenta que hay variables categóricas nominales que fueron colocadas como ordinales Como customer_type y package, que son variables categóricas nominales (Aunque customer_type es debatible).\n",
    "En cualquier caso, solo hay que modificar la función column_type, colocando las variables categoricas nominales a mano.\n",
    "\n",
    "La distirbución que vale la pena sería de las variables categóricas y de la variable numérica como el tamaño del producto, items, número de visitas por semana y número de delivery. Tal vez se podría hacer una distribución de las coordenadas geográficas, pero no estoy segura.\n"
   ]
  },
  {
   "cell_type": "code",
   "execution_count": 32,
   "metadata": {},
   "outputs": [],
   "source": [
    "# para las columnas categóricas: \"category\" solo tiene un valor es ques \"BEBIDA GASEOSA\", Asi que la distribución no tiene mucho sentido.\n",
    "\n",
    "# for i in cat_nominal_columns:\n",
    "#     plt.figure()\n",
    "#     plt.title(f\"Distribucion de {i}\")\n",
    "#     sns.histplot(data=df, x=i, shrink=0.5)\n",
    "#     plt.xticks(fontsize=8, rotation=45)\n",
    "#     plt.show()\n"
   ]
  },
  {
   "cell_type": "code",
   "execution_count": 33,
   "metadata": {},
   "outputs": [
    {
     "data": {
      "image/png": "[encoded data removed]",
      "text/plain": [
       "<Figure size 640x480 with 1 Axes>"
      ]
     },
     "metadata": {},
     "output_type": "display_data"
    },
    {
     "data": {
      "image/png": "[encoded data removed]",
      "text/plain": [
       "<Figure size 640x480 with 1 Axes>"
      ]
     },
     "metadata": {},
     "output_type": "display_data"
    },
    {
     "data": {
      "image/png": "[encoded data removed]",
      "text/plain": [
       "<Figure size 640x480 with 1 Axes>"
      ]
     },
     "metadata": {},
     "output_type": "display_data"
    }
   ],
   "source": [
    "\n",
    "# items\n",
    "plt.figure(1)\n",
    "plt.clf()\n",
    "plt.title(\"Distribución de Items\")\n",
    "sns.histplot(data=df, x=\"items\", log_scale=True, bins=20)\n",
    "plt.yscale(\"log\")\n",
    "plt.show()\n",
    "\n",
    "# size\n",
    "plt.figure(2)\n",
    "plt.clf()\n",
    "plt.title(\"Distribución de tamaño del producto\")\n",
    "sns.histplot(data=df, x=\"size\", log_scale=True, bins=20)\n",
    "plt.yscale(\"log\")\n",
    "plt.show()\n",
    "\n",
    "# num_deliver_per_week\n",
    "\n",
    "plt.figure(3)\n",
    "plt.clf()\n",
    "plt.title(\"Distribución de Número de entregas por semana\")\n",
    "sns.histplot(data=df, x=\"num_deliver_per_week\", log_scale=False, bins=20)\n",
    "plt.yscale(\"log\")\n",
    "plt.show()\n",
    "\n"
   ]
  },
  {
   "cell_type": "code",
   "execution_count": 34,
   "metadata": {},
   "outputs": [],
   "source": [
    "# Acá: transformar ciertas variables categóricas a tipo string\n",
    "\n",
    "df[\"customer_id\"] = df[\"customer_id\"].astype(str)\n"
   ]
  },
  {
   "cell_type": "markdown",
   "metadata": {},
   "source": [
    "### Obtención de algunas estadísticas.\n",
    "\n",
    "Acá lo que buscaré será obtener estadísticas por cliente, tales como por ejemplo: Número de transacciones totales, número de productos comprados\n",
    "promedio de productos comprados por semana, etc."
   ]
  },
  {
   "cell_type": "code",
   "execution_count": 133,
   "metadata": {},
   "outputs": [
    {
     "data": {
      "text/html": [
       "<div>\n",
       "<style scoped>\n",
       "    .dataframe tbody tr th:only-of-type {\n",
       "        vertical-align: middle;\n",
       "    }\n",
       "\n",
       "    .dataframe tbody tr th {\n",
       "        vertical-align: top;\n",
       "    }\n",
       "\n",
       "    .dataframe thead th {\n",
       "        text-align: right;\n",
       "    }\n",
       "</style>\n",
       "<table border=\"1\" class=\"dataframe\">\n",
       "  <thead>\n",
       "    <tr style=\"text-align: right;\">\n",
       "      <th></th>\n",
       "      <th>customer_id</th>\n",
       "      <th>X</th>\n",
       "      <th>Y</th>\n",
       "      <th>primera_visita</th>\n",
       "      <th>ultima_visita</th>\n",
       "      <th>transacciones_tot</th>\n",
       "      <th>productos_tot</th>\n",
       "    </tr>\n",
       "  </thead>\n",
       "  <tbody>\n",
       "    <tr>\n",
       "      <th>0</th>\n",
       "      <td>123150</td>\n",
       "      <td>-107.832138</td>\n",
       "      <td>-46.694530</td>\n",
       "      <td>2024-01-10</td>\n",
       "      <td>2024-12-25</td>\n",
       "      <td>32</td>\n",
       "      <td>72</td>\n",
       "    </tr>\n",
       "    <tr>\n",
       "      <th>1</th>\n",
       "      <td>128334</td>\n",
       "      <td>-107.880666</td>\n",
       "      <td>-46.562958</td>\n",
       "      <td>2024-01-05</td>\n",
       "      <td>2024-12-28</td>\n",
       "      <td>85</td>\n",
       "      <td>241</td>\n",
       "    </tr>\n",
       "    <tr>\n",
       "      <th>2</th>\n",
       "      <td>128469</td>\n",
       "      <td>-107.857682</td>\n",
       "      <td>-46.722186</td>\n",
       "      <td>2024-01-02</td>\n",
       "      <td>2024-12-30</td>\n",
       "      <td>97</td>\n",
       "      <td>273</td>\n",
       "    </tr>\n",
       "    <tr>\n",
       "      <th>3</th>\n",
       "      <td>128502</td>\n",
       "      <td>-107.826734</td>\n",
       "      <td>-46.455780</td>\n",
       "      <td>2024-01-03</td>\n",
       "      <td>2024-12-27</td>\n",
       "      <td>95</td>\n",
       "      <td>537</td>\n",
       "    </tr>\n",
       "    <tr>\n",
       "      <th>4</th>\n",
       "      <td>128526</td>\n",
       "      <td>-107.908336</td>\n",
       "      <td>-46.537758</td>\n",
       "      <td>2024-01-05</td>\n",
       "      <td>2024-12-30</td>\n",
       "      <td>123</td>\n",
       "      <td>478</td>\n",
       "    </tr>\n",
       "  </tbody>\n",
       "</table>\n",
       "</div>"
      ],
      "text/plain": [
       "  customer_id           X          Y primera_visita ultima_visita  \\\n",
       "0      123150 -107.832138 -46.694530     2024-01-10    2024-12-25   \n",
       "1      128334 -107.880666 -46.562958     2024-01-05    2024-12-28   \n",
       "2      128469 -107.857682 -46.722186     2024-01-02    2024-12-30   \n",
       "3      128502 -107.826734 -46.455780     2024-01-03    2024-12-27   \n",
       "4      128526 -107.908336 -46.537758     2024-01-05    2024-12-30   \n",
       "\n",
       "   transacciones_tot  productos_tot  \n",
       "0                 32             72  \n",
       "1                 85            241  \n",
       "2                 97            273  \n",
       "3                 95            537  \n",
       "4                123            478  "
      ]
     },
     "execution_count": 133,
     "metadata": {},
     "output_type": "execute_result"
    }
   ],
   "source": [
    "# hago una copia porque me da cosa trabajar sobre el dataframe\n",
    "\n",
    "copia = df.copy()\n",
    "\n",
    "copia = copia.sort_values([\"customer_id\", \"purchase_date\"]).reset_index() \n",
    "\n",
    "# dataframe visitas: contiene info por cliente sobre la primera visita, última visita, número de transacciones (únicas) y número de\n",
    "# productos comprados por cada cliente\n",
    "\n",
    "visitas = copia.groupby([\"customer_id\", \"X\", \"Y\"], observed=True).agg(primera_visita=(\"purchase_date\",\"min\"), ultima_visita=(\"purchase_date\",\"max\"),\n",
    "                                                        transacciones_tot=(\"order_id\", \"nunique\"),\n",
    "                                                        productos_tot =(\"product_id\", \"count\")\n",
    "                                                   ).reset_index()\n",
    "\n",
    "visitas.head(5)"
   ]
  },
  {
   "cell_type": "code",
   "execution_count": 134,
   "metadata": {},
   "outputs": [],
   "source": [
    "# Estadisticas por cliente\n",
    "copia[\"purchase_date\"] = pd.to_datetime(copia[\"purchase_date\"])\n",
    "\n",
    "# Acá se obtiene número de semanas, se redondea un deciman y se aproxima. por ejemplo num semanas = 51.9 -> 52\n",
    "visitas[\"num_semanas\"] = ((visitas[\"ultima_visita\"] - visitas[\"primera_visita\"]).dt.days / 7).round(1).apply(lambda x: max(1, np.ceil(x)))\n",
    "\n",
    "# Promedio de productos por semana\n",
    "visitas[\"promedio_productos_por_semana\"] = (visitas[\"productos_tot\"] / visitas[\"num_semanas\"])"
   ]
  },
  {
   "cell_type": "code",
   "execution_count": 135,
   "metadata": {},
   "outputs": [
    {
     "data": {
      "text/html": [
       "<div>\n",
       "<style scoped>\n",
       "    .dataframe tbody tr th:only-of-type {\n",
       "        vertical-align: middle;\n",
       "    }\n",
       "\n",
       "    .dataframe tbody tr th {\n",
       "        vertical-align: top;\n",
       "    }\n",
       "\n",
       "    .dataframe thead th {\n",
       "        text-align: right;\n",
       "    }\n",
       "</style>\n",
       "<table border=\"1\" class=\"dataframe\">\n",
       "  <thead>\n",
       "    <tr style=\"text-align: right;\">\n",
       "      <th></th>\n",
       "      <th>customer_id</th>\n",
       "      <th>X</th>\n",
       "      <th>Y</th>\n",
       "      <th>primera_visita</th>\n",
       "      <th>ultima_visita</th>\n",
       "      <th>transacciones_tot</th>\n",
       "      <th>productos_tot</th>\n",
       "      <th>num_semanas</th>\n",
       "      <th>promedio_productos_por_semana</th>\n",
       "    </tr>\n",
       "  </thead>\n",
       "  <tbody>\n",
       "    <tr>\n",
       "      <th>0</th>\n",
       "      <td>123150</td>\n",
       "      <td>-107.832138</td>\n",
       "      <td>-46.694530</td>\n",
       "      <td>2024-01-10</td>\n",
       "      <td>2024-12-25</td>\n",
       "      <td>32</td>\n",
       "      <td>72</td>\n",
       "      <td>50.0</td>\n",
       "      <td>1.440000</td>\n",
       "    </tr>\n",
       "    <tr>\n",
       "      <th>1</th>\n",
       "      <td>128334</td>\n",
       "      <td>-107.880666</td>\n",
       "      <td>-46.562958</td>\n",
       "      <td>2024-01-05</td>\n",
       "      <td>2024-12-28</td>\n",
       "      <td>85</td>\n",
       "      <td>241</td>\n",
       "      <td>52.0</td>\n",
       "      <td>4.634615</td>\n",
       "    </tr>\n",
       "    <tr>\n",
       "      <th>2</th>\n",
       "      <td>128469</td>\n",
       "      <td>-107.857682</td>\n",
       "      <td>-46.722186</td>\n",
       "      <td>2024-01-02</td>\n",
       "      <td>2024-12-30</td>\n",
       "      <td>97</td>\n",
       "      <td>273</td>\n",
       "      <td>52.0</td>\n",
       "      <td>5.250000</td>\n",
       "    </tr>\n",
       "    <tr>\n",
       "      <th>3</th>\n",
       "      <td>128502</td>\n",
       "      <td>-107.826734</td>\n",
       "      <td>-46.455780</td>\n",
       "      <td>2024-01-03</td>\n",
       "      <td>2024-12-27</td>\n",
       "      <td>95</td>\n",
       "      <td>537</td>\n",
       "      <td>52.0</td>\n",
       "      <td>10.326923</td>\n",
       "    </tr>\n",
       "    <tr>\n",
       "      <th>4</th>\n",
       "      <td>128526</td>\n",
       "      <td>-107.908336</td>\n",
       "      <td>-46.537758</td>\n",
       "      <td>2024-01-05</td>\n",
       "      <td>2024-12-30</td>\n",
       "      <td>123</td>\n",
       "      <td>478</td>\n",
       "      <td>52.0</td>\n",
       "      <td>9.192308</td>\n",
       "    </tr>\n",
       "    <tr>\n",
       "      <th>...</th>\n",
       "      <td>...</td>\n",
       "      <td>...</td>\n",
       "      <td>...</td>\n",
       "      <td>...</td>\n",
       "      <td>...</td>\n",
       "      <td>...</td>\n",
       "      <td>...</td>\n",
       "      <td>...</td>\n",
       "      <td>...</td>\n",
       "    </tr>\n",
       "    <tr>\n",
       "      <th>1485</th>\n",
       "      <td>88920</td>\n",
       "      <td>-107.885828</td>\n",
       "      <td>-46.536400</td>\n",
       "      <td>2024-01-02</td>\n",
       "      <td>2024-12-27</td>\n",
       "      <td>88</td>\n",
       "      <td>581</td>\n",
       "      <td>52.0</td>\n",
       "      <td>11.173077</td>\n",
       "    </tr>\n",
       "    <tr>\n",
       "      <th>1486</th>\n",
       "      <td>89013</td>\n",
       "      <td>-107.909634</td>\n",
       "      <td>-46.548024</td>\n",
       "      <td>2024-01-03</td>\n",
       "      <td>2024-11-22</td>\n",
       "      <td>26</td>\n",
       "      <td>72</td>\n",
       "      <td>47.0</td>\n",
       "      <td>1.531915</td>\n",
       "    </tr>\n",
       "    <tr>\n",
       "      <th>1487</th>\n",
       "      <td>95988</td>\n",
       "      <td>-107.874346</td>\n",
       "      <td>-46.551422</td>\n",
       "      <td>2024-02-19</td>\n",
       "      <td>2024-11-21</td>\n",
       "      <td>15</td>\n",
       "      <td>27</td>\n",
       "      <td>40.0</td>\n",
       "      <td>0.675000</td>\n",
       "    </tr>\n",
       "    <tr>\n",
       "      <th>1488</th>\n",
       "      <td>96138</td>\n",
       "      <td>-107.876340</td>\n",
       "      <td>-46.571100</td>\n",
       "      <td>2024-01-02</td>\n",
       "      <td>2024-12-29</td>\n",
       "      <td>31</td>\n",
       "      <td>62</td>\n",
       "      <td>52.0</td>\n",
       "      <td>1.192308</td>\n",
       "    </tr>\n",
       "    <tr>\n",
       "      <th>1489</th>\n",
       "      <td>96444</td>\n",
       "      <td>-108.230922</td>\n",
       "      <td>-46.524252</td>\n",
       "      <td>2024-01-03</td>\n",
       "      <td>2024-12-27</td>\n",
       "      <td>53</td>\n",
       "      <td>264</td>\n",
       "      <td>52.0</td>\n",
       "      <td>5.076923</td>\n",
       "    </tr>\n",
       "  </tbody>\n",
       "</table>\n",
       "<p>1490 rows × 9 columns</p>\n",
       "</div>"
      ],
      "text/plain": [
       "     customer_id           X          Y primera_visita ultima_visita  \\\n",
       "0         123150 -107.832138 -46.694530     2024-01-10    2024-12-25   \n",
       "1         128334 -107.880666 -46.562958     2024-01-05    2024-12-28   \n",
       "2         128469 -107.857682 -46.722186     2024-01-02    2024-12-30   \n",
       "3         128502 -107.826734 -46.455780     2024-01-03    2024-12-27   \n",
       "4         128526 -107.908336 -46.537758     2024-01-05    2024-12-30   \n",
       "...          ...         ...        ...            ...           ...   \n",
       "1485       88920 -107.885828 -46.536400     2024-01-02    2024-12-27   \n",
       "1486       89013 -107.909634 -46.548024     2024-01-03    2024-11-22   \n",
       "1487       95988 -107.874346 -46.551422     2024-02-19    2024-11-21   \n",
       "1488       96138 -107.876340 -46.571100     2024-01-02    2024-12-29   \n",
       "1489       96444 -108.230922 -46.524252     2024-01-03    2024-12-27   \n",
       "\n",
       "      transacciones_tot  productos_tot  num_semanas  \\\n",
       "0                    32             72         50.0   \n",
       "1                    85            241         52.0   \n",
       "2                    97            273         52.0   \n",
       "3                    95            537         52.0   \n",
       "4                   123            478         52.0   \n",
       "...                 ...            ...          ...   \n",
       "1485                 88            581         52.0   \n",
       "1486                 26             72         47.0   \n",
       "1487                 15             27         40.0   \n",
       "1488                 31             62         52.0   \n",
       "1489                 53            264         52.0   \n",
       "\n",
       "      promedio_productos_por_semana  \n",
       "0                          1.440000  \n",
       "1                          4.634615  \n",
       "2                          5.250000  \n",
       "3                         10.326923  \n",
       "4                          9.192308  \n",
       "...                             ...  \n",
       "1485                      11.173077  \n",
       "1486                       1.531915  \n",
       "1487                       0.675000  \n",
       "1488                       1.192308  \n",
       "1489                       5.076923  \n",
       "\n",
       "[1490 rows x 9 columns]"
      ]
     },
     "execution_count": 135,
     "metadata": {},
     "output_type": "execute_result"
    }
   ],
   "source": [
    "visitas"
   ]
  },
  {
   "cell_type": "code",
   "execution_count": 136,
   "metadata": {},
   "outputs": [],
   "source": [
    "# Acá quiero ver la frecuencia de productos comprados por semana\n",
    "\n",
    "copia[\"week\"] = copia[\"purchase_date\"].dt.to_period(\"W\").apply(lambda r: r.start_time)\n",
    "\n",
    "# Agrupar por cliente, semana y atributos del producto\n",
    "weekly_freq = copia.groupby( [\"customer_id\", \"week\", \"segment\", \"brand\", \"package\"], observed=True)[\"product_id\"].count().reset_index(\n",
    "                                                                                                                name=\"productos_comprados\")"
   ]
  },
  {
   "cell_type": "code",
   "execution_count": 137,
   "metadata": {},
   "outputs": [
    {
     "data": {
      "text/html": [
       "<div>\n",
       "<style scoped>\n",
       "    .dataframe tbody tr th:only-of-type {\n",
       "        vertical-align: middle;\n",
       "    }\n",
       "\n",
       "    .dataframe tbody tr th {\n",
       "        vertical-align: top;\n",
       "    }\n",
       "\n",
       "    .dataframe thead th {\n",
       "        text-align: right;\n",
       "    }\n",
       "</style>\n",
       "<table border=\"1\" class=\"dataframe\">\n",
       "  <thead>\n",
       "    <tr style=\"text-align: right;\">\n",
       "      <th></th>\n",
       "      <th>customer_id</th>\n",
       "      <th>week</th>\n",
       "      <th>segment</th>\n",
       "      <th>brand</th>\n",
       "      <th>package</th>\n",
       "      <th>productos_comprados</th>\n",
       "    </tr>\n",
       "  </thead>\n",
       "  <tbody>\n",
       "    <tr>\n",
       "      <th>0</th>\n",
       "      <td>123150</td>\n",
       "      <td>2024-01-08</td>\n",
       "      <td>LOW</td>\n",
       "      <td>Brand 24</td>\n",
       "      <td>LATA</td>\n",
       "      <td>1</td>\n",
       "    </tr>\n",
       "    <tr>\n",
       "      <th>1</th>\n",
       "      <td>123150</td>\n",
       "      <td>2024-01-08</td>\n",
       "      <td>MEDIUM</td>\n",
       "      <td>Brand 3</td>\n",
       "      <td>BOTELLA</td>\n",
       "      <td>1</td>\n",
       "    </tr>\n",
       "    <tr>\n",
       "      <th>2</th>\n",
       "      <td>123150</td>\n",
       "      <td>2024-01-08</td>\n",
       "      <td>MEDIUM</td>\n",
       "      <td>Brand 3</td>\n",
       "      <td>LATA</td>\n",
       "      <td>1</td>\n",
       "    </tr>\n",
       "    <tr>\n",
       "      <th>3</th>\n",
       "      <td>123150</td>\n",
       "      <td>2024-01-08</td>\n",
       "      <td>MEDIUM</td>\n",
       "      <td>Brand 34</td>\n",
       "      <td>BOTELLA</td>\n",
       "      <td>1</td>\n",
       "    </tr>\n",
       "    <tr>\n",
       "      <th>4</th>\n",
       "      <td>123150</td>\n",
       "      <td>2024-01-15</td>\n",
       "      <td>MEDIUM</td>\n",
       "      <td>Brand 3</td>\n",
       "      <td>BOTELLA</td>\n",
       "      <td>1</td>\n",
       "    </tr>\n",
       "    <tr>\n",
       "      <th>5</th>\n",
       "      <td>123150</td>\n",
       "      <td>2024-01-22</td>\n",
       "      <td>MEDIUM</td>\n",
       "      <td>Brand 3</td>\n",
       "      <td>BOTELLA</td>\n",
       "      <td>1</td>\n",
       "    </tr>\n",
       "    <tr>\n",
       "      <th>6</th>\n",
       "      <td>123150</td>\n",
       "      <td>2024-01-29</td>\n",
       "      <td>HIGH</td>\n",
       "      <td>Brand 44</td>\n",
       "      <td>BOTELLA</td>\n",
       "      <td>1</td>\n",
       "    </tr>\n",
       "    <tr>\n",
       "      <th>7</th>\n",
       "      <td>123150</td>\n",
       "      <td>2024-01-29</td>\n",
       "      <td>MEDIUM</td>\n",
       "      <td>Brand 3</td>\n",
       "      <td>BOTELLA</td>\n",
       "      <td>1</td>\n",
       "    </tr>\n",
       "    <tr>\n",
       "      <th>8</th>\n",
       "      <td>123150</td>\n",
       "      <td>2024-01-29</td>\n",
       "      <td>MEDIUM</td>\n",
       "      <td>Brand 34</td>\n",
       "      <td>BOTELLA</td>\n",
       "      <td>1</td>\n",
       "    </tr>\n",
       "    <tr>\n",
       "      <th>9</th>\n",
       "      <td>123150</td>\n",
       "      <td>2024-02-05</td>\n",
       "      <td>MEDIUM</td>\n",
       "      <td>Brand 3</td>\n",
       "      <td>BOTELLA</td>\n",
       "      <td>1</td>\n",
       "    </tr>\n",
       "  </tbody>\n",
       "</table>\n",
       "</div>"
      ],
      "text/plain": [
       "  customer_id       week segment     brand  package  productos_comprados\n",
       "0      123150 2024-01-08     LOW  Brand 24     LATA                    1\n",
       "1      123150 2024-01-08  MEDIUM   Brand 3  BOTELLA                    1\n",
       "2      123150 2024-01-08  MEDIUM   Brand 3     LATA                    1\n",
       "3      123150 2024-01-08  MEDIUM  Brand 34  BOTELLA                    1\n",
       "4      123150 2024-01-15  MEDIUM   Brand 3  BOTELLA                    1\n",
       "5      123150 2024-01-22  MEDIUM   Brand 3  BOTELLA                    1\n",
       "6      123150 2024-01-29    HIGH  Brand 44  BOTELLA                    1\n",
       "7      123150 2024-01-29  MEDIUM   Brand 3  BOTELLA                    1\n",
       "8      123150 2024-01-29  MEDIUM  Brand 34  BOTELLA                    1\n",
       "9      123150 2024-02-05  MEDIUM   Brand 3  BOTELLA                    1"
      ]
     },
     "execution_count": 137,
     "metadata": {},
     "output_type": "execute_result"
    }
   ],
   "source": [
    "weekly_freq.head(10)"
   ]
  },
  {
   "cell_type": "code",
   "execution_count": 138,
   "metadata": {},
   "outputs": [],
   "source": [
    "# Acá hago un resumen de lo de arriba\n",
    "freq_summary = weekly_freq.groupby([\"customer_id\", \"segment\", \"brand\", \"package\"], observed=True)[\"productos_comprados\"].mean().reset_index(name=\n",
    "                                                                                                                \"promedio_productos_por_semana\")"
   ]
  },
  {
   "cell_type": "code",
   "execution_count": 139,
   "metadata": {},
   "outputs": [
    {
     "data": {
      "text/html": [
       "<div>\n",
       "<style scoped>\n",
       "    .dataframe tbody tr th:only-of-type {\n",
       "        vertical-align: middle;\n",
       "    }\n",
       "\n",
       "    .dataframe tbody tr th {\n",
       "        vertical-align: top;\n",
       "    }\n",
       "\n",
       "    .dataframe thead th {\n",
       "        text-align: right;\n",
       "    }\n",
       "</style>\n",
       "<table border=\"1\" class=\"dataframe\">\n",
       "  <thead>\n",
       "    <tr style=\"text-align: right;\">\n",
       "      <th></th>\n",
       "      <th>customer_id</th>\n",
       "      <th>segment</th>\n",
       "      <th>brand</th>\n",
       "      <th>package</th>\n",
       "      <th>promedio_productos_por_semana</th>\n",
       "    </tr>\n",
       "  </thead>\n",
       "  <tbody>\n",
       "    <tr>\n",
       "      <th>0</th>\n",
       "      <td>123150</td>\n",
       "      <td>HIGH</td>\n",
       "      <td>Brand 44</td>\n",
       "      <td>BOTELLA</td>\n",
       "      <td>1.0</td>\n",
       "    </tr>\n",
       "    <tr>\n",
       "      <th>1</th>\n",
       "      <td>123150</td>\n",
       "      <td>LOW</td>\n",
       "      <td>Brand 24</td>\n",
       "      <td>LATA</td>\n",
       "      <td>1.0</td>\n",
       "    </tr>\n",
       "    <tr>\n",
       "      <th>2</th>\n",
       "      <td>123150</td>\n",
       "      <td>MEDIUM</td>\n",
       "      <td>Brand 3</td>\n",
       "      <td>BOTELLA</td>\n",
       "      <td>1.0</td>\n",
       "    </tr>\n",
       "    <tr>\n",
       "      <th>3</th>\n",
       "      <td>123150</td>\n",
       "      <td>MEDIUM</td>\n",
       "      <td>Brand 3</td>\n",
       "      <td>LATA</td>\n",
       "      <td>1.0</td>\n",
       "    </tr>\n",
       "    <tr>\n",
       "      <th>4</th>\n",
       "      <td>123150</td>\n",
       "      <td>MEDIUM</td>\n",
       "      <td>Brand 34</td>\n",
       "      <td>BOTELLA</td>\n",
       "      <td>1.0</td>\n",
       "    </tr>\n",
       "    <tr>\n",
       "      <th>5</th>\n",
       "      <td>123150</td>\n",
       "      <td>MEDIUM</td>\n",
       "      <td>Brand 34</td>\n",
       "      <td>LATA</td>\n",
       "      <td>1.0</td>\n",
       "    </tr>\n",
       "    <tr>\n",
       "      <th>6</th>\n",
       "      <td>123150</td>\n",
       "      <td>PREMIUM</td>\n",
       "      <td>Brand 31</td>\n",
       "      <td>LATA</td>\n",
       "      <td>1.0</td>\n",
       "    </tr>\n",
       "    <tr>\n",
       "      <th>7</th>\n",
       "      <td>128334</td>\n",
       "      <td>HIGH</td>\n",
       "      <td>Brand 33</td>\n",
       "      <td>BOTELLA</td>\n",
       "      <td>1.0</td>\n",
       "    </tr>\n",
       "    <tr>\n",
       "      <th>8</th>\n",
       "      <td>128334</td>\n",
       "      <td>HIGH</td>\n",
       "      <td>Brand 33</td>\n",
       "      <td>LATA</td>\n",
       "      <td>1.0</td>\n",
       "    </tr>\n",
       "    <tr>\n",
       "      <th>9</th>\n",
       "      <td>128334</td>\n",
       "      <td>LOW</td>\n",
       "      <td>Brand 24</td>\n",
       "      <td>LATA</td>\n",
       "      <td>1.3</td>\n",
       "    </tr>\n",
       "  </tbody>\n",
       "</table>\n",
       "</div>"
      ],
      "text/plain": [
       "  customer_id  segment     brand  package  promedio_productos_por_semana\n",
       "0      123150     HIGH  Brand 44  BOTELLA                            1.0\n",
       "1      123150      LOW  Brand 24     LATA                            1.0\n",
       "2      123150   MEDIUM   Brand 3  BOTELLA                            1.0\n",
       "3      123150   MEDIUM   Brand 3     LATA                            1.0\n",
       "4      123150   MEDIUM  Brand 34  BOTELLA                            1.0\n",
       "5      123150   MEDIUM  Brand 34     LATA                            1.0\n",
       "6      123150  PREMIUM  Brand 31     LATA                            1.0\n",
       "7      128334     HIGH  Brand 33  BOTELLA                            1.0\n",
       "8      128334     HIGH  Brand 33     LATA                            1.0\n",
       "9      128334      LOW  Brand 24     LATA                            1.3"
      ]
     },
     "execution_count": 139,
     "metadata": {},
     "output_type": "execute_result"
    }
   ],
   "source": [
    "freq_summary.head(10)"
   ]
  },
  {
   "cell_type": "code",
   "execution_count": 145,
   "metadata": {},
   "outputs": [
    {
     "data": {
      "text/html": [
       "<div>            <script src=\"https://cdnjs.cloudflare.com/ajax/libs/mathjax/2.7.5/MathJax.js?config=TeX-AMS-MML_SVG\"></script><script type=\"text/javascript\">if (window.MathJax && window.MathJax.Hub && window.MathJax.Hub.Config) {window.MathJax.Hub.Config({SVG: {font: \"STIX-Web\"}});}</script>                    <div id=\"8d9c27fa-3329-4ab9-afa3-ac703227e6cb\" class=\"plotly-graph-div\" style=\"height:525px; width:100%;\"></div>            <script type=\"text/javascript\">                window.PLOTLYENV=window.PLOTLYENV || {};                                if (document.getElementById(\"8d9c27fa-3329-4ab9-afa3-ac703227e6cb\")) {                    Plotly.newPlot(                        \"8d9c27fa-3329-4ab9-afa3-ac703227e6cb\",                        [{\"hovertemplate\":\"X=%{x}\\u003cbr\\u003eY=%{y}\\u003cbr\\u003epromedio_productos_por_semana=%{marker.size}\\u003cextra\\u003e\\u003c\\u002fextra\\u003e\",\"legendgroup\":\"\",\"marker\":{\"color\":\"#636efa\",\"size\":{\"dtype\":\"f8\",\"bdata\":\"CtejcD0K9z+e2Imd2IkSQAAAAAAAABVAdmIndmKnJEAndmIndmIiQCd2Yid2YhtAKCgoKCgoFEAK16NwPQrXPy+66KKLLvo\\u002fY31orA+N9T\\u002fFTuzETuwWQE\\u002fsxE7sxBtAJ3ZiJ3biIEB2Yid2YicCQNPS0tLS0vI\\u002f7MRO7MROAEAUrkfhehQSQBQ7sRM7sfs\\u002feHh4eHh46D87sRM7sRMDQAAAAAAAAOY\\u002fsK+vr6+vE0A9CtejcD3qPwAAAAAAAAhAbm5ubm5uDkCcm5ubm5v7P7Cvr6+vr\\u002f8\\u002fip3YiZ3YB0AKCgoKCgoCQHg26jsb9e0\\u002fO7ETO7GTNkBVVVVVVVX3P8VO7MRO7BlAAAAAAAAA+D+rqqqqqqrePzuxEzuxEw1AxU7sxE7sAEB9fX19fX3tP5ybm5ubmwtAMzMzMzMz8z\\u002f1pje96U3vP8VO7MRO7Pw\\u002f7MRO7MRO7D8AAAAAAAAUQArXo3A9Ctc\\u002feHh4eHh46D\\u002fe3d3d3d3dP3TRRRdddOk\\u002fntiJndiJE0ApXI\\u002fC9SjsP1VVVVVVVQ1AVVVVVVVV1T92Yid2YicMQAAAAAAAAOA\\u002fntiJndgJJ0AUO7ETO7H\\u002fP5GFLGQhC+k\\u002f9vX19fX1BUAAAAAAAAD4PxdswRZswdY\\u002fdmIndmInFUAndmIndmIRQB4eHh4eHt4\\u002fBQUFBQUFBUA7sRM7sRMSQI2MjIyMjAxA5+bm5ubmDkBiJ3ZiJ3YEQDuxEzuxEwtAJ3ZiJ3ZiEED2OaQmGG8jQNmJndiJnfQ\\u002fsRM7sRM7EUCDLdiCLdjyP05vetOb3uQ\\u002fAAAAAAAA8D\\u002fFTuzETuz4PzuxEzuxEwNA7MRO7MROCEAAAAAAAAAAQIqd2Imd2BBA9ihcj8L18D9aWlpaWlr6P5qZmZmZmek\\u002fntiJndiJAUAKCgoKCgoKQDMzMzMzM\\u002fM\\u002fFDuxEzuxEkCamZmZmZnJPwAAAAAAAARADw8PDw8PD0B2Yid2YiciQLdt27Zt2\\u002fY\\u002fkpGRkZGR8T8UO7ETO7EFQK5H4XoUrv8\\u002fxU7sxE7sEEDE5ApicgXxPyd2Yid24ilAFDuxEzuxEEDRRRdddNHVP83MzMzMzABA9ihcj8L16D87sRM7sRMQQGIndmIndhtA2Ymd2ImdBkDZiZ3YiR0qQOzETuzETvQ\\u002fWlpaWlpaCkCyPjTWh8bqP57YiZ3Yic0\\u002fAAAAAAAA8D+PwvUoXI\\u002fiP9PS0tLS0uI\\u002fJ3ZiJ3Zi5z+KndiJndgLQAAAAAAAAAxA7Ovr6+vrE0D29fX19fXlP1yPwvUoXANA7FG4HoXr4T8AAAAAAADwPwoKCgoKCgJAJ3ZiJ3ZiAUBP7MRO7MTyP1BQUFBQUBRAC2JyBTG58j\\u002fOzc3Nzc0hQJ7YiZ3YiQtAWlpaWlpa6j+rqqqqqqrqP2IndmIndhpAQUyuICZX8D+rqqqqqqraPwrXo3A9CgtAAAAAAAAAHkC8nIKXU\\u002fDiP1VVVVVVVeU\\u002fAAAAAAAAFEDNzMzMzMz0P4qd2Imd2B5AT+zETuzE\\u002fj900UUXXXThP57YiZ3YiRVA5DiO4ziOBUAAAAAAAAAUQClcj8L1KPw\\u002fVVVVVVVVBUA7sRM7sRMbQOxRuB6F6\\u002fE\\u002fGRkZGRkZAUDoeZ7neZ73P4OCgoKCggJA8GzUdzbq6z8LWchCFrLQP6RwPQrXowhAJO6IO+KO6D9P7MRO7MQEQHZiJ3ZiJwxAxU7sxE7sDkAAAAAAAAD4PwAAAAAAAAJAbtu2bdu2\\u002fT9iJ3ZiJ3YGQM7Nzc3NzQ1AntiJndiJGUAUO7ETO7H7P87Nzc3NzRFAj8L1KFyP8j8AAAAAAIADQOzETuzETvw\\u002fnYKXU\\u002fByFkAAAAAAAAAaQCMjIyMjIwNAIQtZyEIW4j8UO7ETO7H\\u002fP2VNWVPWlOU\\u002fYid2Yid2AkA7sRM7sZMkQAAAAAAAAClAZGRkZGRk9D+xEzuxEzsBQAAAAAAAAPA\\u002fMjIyMjIy4j9P7MRO7MT6PxQ7sRM7sRJAT+zETuzEG0B2Yid2YicRQCd2Yid2YhRAUrgehetRAED43nvvvffeP57YiZ3YifU\\u002f2Ymd2ImdCkAzMzMzMzPjPyd2Yid2Yvc\\u002fhetRuB6FE0CrqqqqqqoCQG5ubm5ubv4\\u002fAAAAAAAA4D8pXI\\u002fC9SjsP3E9CtejcAFAWlpaWlpaCkAAAAAAAAAQQE7Byyl4OfU\\u002fdmIndmInEUA7sRM7sRMWQJqZmZmZ2SBAcT0K16Nw7T9dQUyuICbXP0jhehSuRwVAFDuxEzuxB0CkcD0K16MEQJ7YiZ3YiQVAO7ETO7ETI0B2Yid2Yif+P4qd2Imd2P0\\u002fAAAAAAAAEEDZiZ3YiZ30P9mJndiJnSVAuB6F61G49j9fX19fX1\\u002f\\u002fP6uqqqqqqvU\\u002fdmIndmInI0AUO7ETO7EJQLETO7ETOxBAHh4eHh4e3j8UO7ETO7ERQAAAAAAAAOg\\u002f27Zt27Zt6z87sRM7sRMBQOUKYnIFMfk\\u002fAAAAAAAAEkDEw8PDw8MTQEfcEXfEHfE\\u002fS0tLS0tLGUA8PDw8PDwQQMVO7MRO7CxALS0tLS0tDUAUO7ETO7EYQIqd2Imd2P0\\u002f7MRO7MROBEAUO7ETO7EFQEN5DeU1lB9AdmIndmIn+j+PwvUoXI\\u002fiP0ZGRkZGRvY\\u002fxU7sxE7s9D9iJ3ZiJ3YMQDkFL6fg5fQ\\u002fCl5Owcsp6D8AAAAAAAAAQCd2Yid2ojFA4uHh4eHhCUDXo3A9CtfjP3ZiJ3ZiJx5AiIeHh4eHB0BVVVVVVVXyP19fX19fX98\\u002f4uHh4eHhAUAAAAAAAIAAQLETO7ETOxNAdmIndmInMkCNjIyMjIwgQJeWlpaWlvY\\u002f+ZZv+ZZv6T9BQUFBQUHxPyd2Yid2YhBAXI\\u002fC9Shc9z+KndiJndgTQAAAAAAAAABA7MRO7MROBkAhC1nIQhbiPwUvp+DlFOw\\u002fVVVVVVVV8z8UO7ETO7EQQIqd2Imd2BlAYid2Yic2MkDUrkTtStT+P\\u002fHw8PDw8NA\\u002fl5aWlpaWGkCN9aGxPjTWP57YiZ3YifU\\u002fmpmZmZmZ6T9P7MRO7MQKQAAAAAAAAOw\\u002f2NfX19fX9z92Yid2YicMQE\\u002fsxE7sxBNAg5dT8HIK3j+rqqqqqqriP8f60FgfGgNAXXTRRRddxD\\u002fPRn1no77zP4qd2ImdWCtAYnIFMbmC+D+KndiJndgTQEFBQUFBQfE\\u002fj8L1KFyPCkAKCgoKCgoCQLq5ubm5uQlAVxCTK4jJ5T8KXk7ByynoPyd2Yid2YgFAO7ETO7ETIUD2KFyPwvUEQC+n4OUUvOw\\u002fNzc3Nzc35z\\u002fFTuzETuwuQMVO7MRO7DxA7MRO7MROIUDsxE7sxM4wQFK4HoXrUdg\\u002f05ve9KY33T\\u002fsxE7sxE4ZQFVVVVVVVeU\\u002fDw8PDw8PE0AfhetRuB71P2IndmIndgpA7MRO7MROKkDsxE7sxM4yQCd2Yid2Yh5AdmIndmIn\\u002fj9xPQrXo3ABQLgehetRuP4\\u002fsK+vr6+vB0A3Nzc3Nzf3PwAAAAAAAPA\\u002fc3Nzc3NzF0BVVVVVVVXyP57YiZ3YiQ1ANzc3Nzc39z9zCl5Owcv5P3ZiJ3ZiJwpAAAAAAAAA6D92Yid2YifuP5ybm5ubm\\u002fs\\u002f+85GfWej\\u002fj+uICZXEJMDQApeTsHLKeg\\u002fip3YiZ3YCUAUO7ETO7HzPz3P8zzP8wxA3t3d3d3dJUCKndiJndgTQGIndmIndhJAtbS0tLS0BEDpoosuuujiP7ETO7ETOxBAJ3ZiJ3aiN0AUO7ETO7ERQIqd2Imd2BVA2Ymd2ImdAkAndmIndmIfQCd2Yid2YiJAYid2Yid2GED70FgfGuvzPxQ7sRM7sRxAntiJndiJE0BP7MRO7MQUQMVO7MRO7Ow\\u002fFBQUFBQU9D\\u002fZiZ3YiZ0EQLETO7ETOxlA2Ymd2IkdL0BP7MRO7MT2P57YiZ3YiQVAAAAAAAAA8D99aKwPjfXxP4qd2Imd2AFAexSuR+F69D+1tLS0tLQEQMVO7MRObDFA7MRO7MROEkDx8PDw8PAIQDuxEzuxExpAntiJndgJNEAFBQUFBQUFQKuqqqqqqvk\\u002fdmIndmInBkBLS0tLS0v7Pyd2Yid2YgFAAAAAAACAAkBiJ3ZiJ3b+P3E9CtejcN0\\u002fsRM7sRM7NUB7FK5H4Xr0PwAAAAAAABBAxMPDw8PD8z\\u002fZiZ3YiZ0TQIOCgoKCggJA7MRO7MROEkCKndiJndghQI2MjIyMjBhAdmIndmInE0ApXI\\u002fC9SjsP\\u002fYoXI\\u002fC9fg\\u002fFDuxEzuxFECe2Imd2In5P1VVVVVVVfA\\u002fip3YiZ3YB0DsxE7sxM4gQPqkT\\u002fqkT+o\\u002fyEIWspCF\\u002fD\\u002fv7u7u7u4GQFK4HoXrUQBA8fDw8PDwFEByHMdxHMf1Pyd2Yid24ihAHh4eHh4e\\u002fj8ndmIndmIfQEtLS0tLSwNAUFBQUFBQAED70FgfGuvzP3E9CtejcAFAtbS0tLS09D\\u002f29fX19fX1PwpeTsHLKQhA7mmE5Z5G6D\\u002fsxE7sxM4hQC0tLS0tLQ1AntiJndiJ8T8AAAAAAIAhQNmJndiJneA\\u002fmpmZmZmZ8T8ndmIndmIDQHTRRRdddOk\\u002fYid2Yid2AkDZiZ3YiZ0AQF9fX19fX+8\\u002fT+zETuxEIEDsxE7sxE4aQAAAAAAAgCdAJUmSJEmS5D\\u002flNZTXUF7jPwAAAAAAAPw\\u002fJ3ZiJ3ZiFECcm5ubm5sDQE\\u002fsxE7sRDRAJ3ZiJ3ZiAUBjfWisD431PwrXo3A9Cvc\\u002ffWejvrNRG0DkOI7jOI7zP4qd2Imd2BhAO7ETO7ETKEAndmIndmIgQBQ7sRM7sQ1AdmIndmInCECSJEmSJEkCQCgoKCgoKABAC2JyBTG58j8ndmIndmIJQOF6FK5H4fI\\u002f7MRO7MROG0Ccm5ubm5sLQJybm5ubm\\u002fs\\u002fntiJndiJEUA7sRM7sRMBQAAAAAAAAPA\\u002fFDuxEzuxCUBP7MRO7IQ0QAAAAAAAAPA\\u002fntiJndgJN0DsxE7sxE4cQLETO7ETOwVA2Ymd2ImdCEBLS0tLS0sLQGIndmIndv4\\u002f7MRO7MROCkCe2Imd2AkgQNmJndiJndg\\u002fFDuxEzuxDUDFTuzETuwKQIqd2Imd2Ok\\u002fWchCFrKQBUA9CtejcD36P57YiZ3YiRBAVVVVVVVV9T9cj8L1KFwTQN3c3Nzc3Pw\\u002fxU7sxE7sG0A7sRM7sRMFQCd2Yid2Yi9AMjIyMjIyAkAndmInduIgQHNzc3Nzc\\u002fM\\u002faKwPjfWh4T\\u002fsxE7sxE4CQArXo3A9CgdAnJubm5ubH0A7sRM7sRMcQDuxEzuxEwlAH4XrUbge5T+KndiJndgTQMTDw8PDwwNAdmIndmInHEAsUbsStSvhP0FBQUFBQfE\\u002f7Ovr6+vr+z9P7MRO7MQZQKuqqqqqqg9A7MRO7MROBEAAAAAAAAAAQAAAAAAAABhAnJubm5ub6z\\u002f7+vr6+voSQAAAAAAAAABA2Ymd2ImdBECDgoKCgoLyPzuxEzuxEyRAdNFFF1100T9iJ3ZiJ3YVQEFBQUFBQQFANuo7G\\u002fWd\\u002fT\\u002fsxE7sxE7cP9FYHxrrQ\\u002fM\\u002fYid2Yid2DkCamZmZmZkBQPQFfUFf0Mc\\u002ffWejvrNR3z9zc3Nzc3MXQCd2Yid2YgVA7MRO7MROFECSJEmSJEkiQGIndmIndhRAsRM7sRM7BUA7sRM7sRMUQAUvp+DlFOw\\u002frkfhehSu5z9P7MRO7MT6Pylcj8L1KPw\\u002fLS0tLS0tBUAAAAAAAADwP2IndmInduI\\u002fntiJndgJJEAAAAAAAAAjQIqd2Imd2AdAYid2Yid2AkBfX19fX1\\u002f\\u002fPwrXo3A9Ctc\\u002f5QpicgUx6T87sRM7sRMVQOzr6+vr6\\u002fs\\u002fO7ETO7ETB0CKndiJndgDQHZiJ3ZiJwZAg4KCgoKC8j8QkyuIyRX0P9mJndiJnRNAT+zETuzECEA01ofG+tDYP7q5ubm5uQFANzc3Nzc3E0AAAAAAAADwPyd2Yid2YhBAAAAAAAAA8D\\u002fsxE7sxE4GQJ7YiZ3YiQFAFDuxEzuxDUDMKXg5BS\\u002f3P83MzMzMzABA9ihcj8L18D\\u002fZiZ3YiZ0jQI2MjIyMjBxA0VgfGutD8z+rqqqqqqroP4qd2Imd2B9AFBQUFBQU9D8KCgoKCgoKQKRwPQrXo\\u002fA\\u002feHh4eHh46D\\u002fXo3A9CtfzPyd2Yid2YhRAAAAAAAAAHkDD9Shcj8L9P9mJndiJnRNAdmIndmInE0DWh8b60FgHQNmJndiJnfQ\\u002fO7ETO7ETA0Df2ajvbNTnP8P1KFyPwgFAO7ETO7ETEUAfhetRuB4FQOzETuzETh5A7MRO7MROIkAndmIndmIFQCd2Yid2YgVAJ3ZiJ3ZiAUBfX19fX1\\u002fvP57YiZ3YiRNAO7ETO7ETEEDKFcTkCmLyP4OCgoKCggJAFK5H4XoUEEDFTuzETuz8PzbZZJNNNtk\\u002f7MRO7MROHEAAAAAAAAAeQB4eHh4eHt4\\u002fYid2Yid2FEDZiZ3YiZ3oP3ZiJ3ZiJwZAaKwPjfWh4T\\u002fZiZ3YiZ0dQIqd2Imd2BFAAAAAAAAA4j\\u002f29fX19fUNQBQ7sRM7sRFAq6qqqqqq6D\\u002fsxE7sxE4WQG5ubm5ubv4\\u002fKVyPwvUoAEA7sRM7sRMXQMVO7MRO7BBAorE+NNaH9j+sD431obHuPyMjIyMjI\\u002fM\\u002fAAAAAAAA0j\\u002fn5ubm5ub2P3sUrkfhegRA2Ymd2ImdBkD0PM\\u002fzPM8DQE\\u002fsxE7sxPo\\u002fAAAAAAAA8D9kZGRkZGQYQB+F61G4HvU\\u002fkpGRkZGRAUAndmIndmIDQGIndmIndgpAchzHcRzHGUCxEzuxEzswQDuxEzuxEwVADw8PDw8P\\u002fz\\u002fsxE7sxE4YQBCN9aGxPgRAxU7sxE7sJEAUO7ETO7EVQIqd2ImdGDJAT+zETuxELECKndiJnVggQI2MjIyMjAxAYid2Yif2JkDlNZTXUF4DQOzETuzETiBAT+zETuxEJkB2Yid2YicOQGRkZGRkZPQ\\u002fAAAAAAAAAEDY19fX19cHQEJ7Ce0ltNc\\u002f7MRO7MROAEDXo3A9CtfzPxQUFBQUFPQ\\u002fXXTRRRddFEBpaWlpaWkJQJ7YiZ3YiQdA7MRO7MROBEAqeDkFL6fwP8MwDMMwDANAVVVVVVVV1T9P7MRO7MQAQFcQkyuIydU\\u002f7MRO7MROEkBiJ3ZiJ3b+P+zETuzEThJAntiJndiJHEAUO7ETO7EFQIqd2Imd2A1A09LS0tLS8j92Yid2YicMQGIndmIn9jJA2IIt2IItKECsD431obH+P2IndmIndhZAntiJndiJDUC6ubm5ubkBQBSuR+F6FO4\\u002fYid2Yid2BEB2Yid2YicRQL++vr6+vv4\\u002fYid2Yid2EkAUO7ETO7H7P57YiZ3YiQNAFDuxEzuxIkCn4OUUvJwCQFVVVVVV1QVAdmIndmInIUB2Yid2YicEQE\\u002fsxE7sRCFAip3YiZ1YIUAvp+DlFLz8P15OwcspeOk\\u002fFDuxEzsxIEAndmIndmIPQI\\u002fC9Shcj\\u002fI\\u002fntiJndiJAUCxEzuxEzsUQIqd2Imd2A1AJ3ZiJ3ZiA0Ce53me53nePx+F61G4HglApqWlpaWlBUCGLGQhC1n4P0mSJEmSJPE\\u002fntiJndiJFEB9fX19fX0NQLycgpdT8PI\\u002fRkZGRkZGFkApXI\\u002fC9SgEQCd2Yid2Yg1AsRM7sRM7DUA8PDw8PDwiQIOCgoKCgvI\\u002f16NwPQrXD0BHfWejvrPhP+zETuzETvQ\\u002fdmIndmInCEA7sRM7sRMiQOQ4juM4jidAUFBQUFBQFECKndiJndgLQH19fX19ff0\\u002fMzMzMzMz4z\\u002fbtm3btm3LP+zETuzETvg\\u002f8fDw8PDw8D92Yid2YifWP2ZmZmZmZuY\\u002frkfhehSu5z9iJ3ZiJ3YTQLETO7ETOxJA+\\u002fr6+vr66j8ndmIndmIkQPv6+vr6+vo\\u002fnJubm5ub+z9GRkZGRkYOQE\\u002fsxE7sxBdAFDuxEzux8z+rqqqqqqroP1100UUXXeQ\\u002fmVxBTK4g9j9fX19fX1\\u002fvP\\u002fvORn1no+4\\u002fq6qqqqqq8D\\u002fZiZ3YiZ0eQB4eHh4eHgZAtbS0tLS0DEAKCgoKCgr6PwoKCgoKCgJAT+zETuzEFkDNzMzMzMzgPzw8PDw8PARAFDuxEzuxDUAAAAAAAAAUQOzETuzEThRAAAAAAAAA\\u002fD\\u002fFTuzETuzwP57YiZ3Yif0\\u002fAAAAAACAAEDd3Nzc3Nz8PwAAAAAAAP0\\u002fY31orA+N9T8ndmIndmImQGIndmIndvY\\u002fsK+vr6+v\\u002fz8vp+DlFLwEQGZmZmZmZgJAip3YiZ3YCUBxR9wRd8TdPxkZGRkZGfk\\u002f7MRO7MRODkCe2Imd2IkNQHNzc3Nzc\\u002fM\\u002fWR8a60Nj7T8Yb2WfQ2okQOU1lNdQXgtAvelNb3rT6z8AAAAAAAAGQJ7YiZ3YiRZA09LS0tLSAkDsxE7sxE4XQJ7YiZ3YiQVA2NfX19fXIUBaWlpaWloCQEFMriAmV\\u002fA\\u002fip3YiZ3YEEAndmIndmIQQLETO7ETOwFA2Ymd2ImdFkAK16NwPQrXP7q5ubm5ufk\\u002fFDuxEzuxA0AAAAAAAADoP7W0tLS0tAxAFDuxEzux6z8jIyMjIyPzP+xRuB6F6\\u002fE\\u002fVVVVVVVV8T87sRM7sRMZQD801ofG+uA\\u002f2Ymd2Imd\\u002fD\\u002fFTuzETuwEQNmJndiJnQpAw\\u002fUoXI\\u002fCDUC1tLS0tLQEQKGgoKCgoABAO7ETO7ET\\u002fz\\u002fmFLycgpfTP0\\u002fsxE7sxBNAAAAAAAAAE0DXo3A9CtfzP6uqqqqqquw\\u002fYid2Yid2+j\\u002fNzMzMzMzUP57YiZ3YiRVAJ3ZiJ3Zi\\u002fz+rqqqqqqroPxQ7sRM7sRNALS0tLS0tGUCDgoKCgoICQF9fX19fXw9ACgoKCgoKJkB9fX19fX0NQHZiJ3ZiJxZATK4gJlcQ0z9S39mo72zkP+miiy666BpAj8L1KFyPIUBP7MRO7MQKQLCvr6+vr\\u002f8\\u002f7MRO7MROF0DEw8PDw8MDQKuqqqqqquw\\u002f2FBeQ3kN5T\\u002fsUbgehevxPz801ofG+vA\\u002fXUFMriAm5z8UO7ETO7EDQDuxEzuxE\\u002fs\\u002fFBQUFBQU9D\\u002fsxE7sxE4KQDuxEzuxkyBAFDuxEzuxB0AZGRkZGRn5PzIyMjIyMuI\\u002fx\\u002frQWB8aE0A7sRM7sRMQQBQ7sRM7sRNAcT0K16NwAUA3Nzc3Nzf3P57YiZ3YiR9AtbS0tLS09D9u27Zt27YFQJqZmZmZmQVAycjIyMjIAED2KFyPwvUIQGIndmIndg5AFDuxEzuxHEB2Yid2YicOQBQ7sRM7sSFAYid2Yid2MkA7sRM7sRMiQFLf2ajvbOQ\\u002fVVVVVVXVCUB7FK5H4Xr8P2IndmIndv4\\u002f7MRO7MRO9D97FK5H4XoAQBj0BX1BX+A\\u002fntiJndiJAUBiJ3ZiJ3YAQMVO7MRO7ABAcgUxuYKY\\u002fD8UO7ETO7HrPxSuR+F6FBJAw\\u002fUoXI\\u002fC5T9P7MRO7MQeQJ7YiZ3YCSFAxU7sxE7s8D\\u002fFTuzETuwKQKuqqqqqquw\\u002fO7ETO7ETF0BiJ3ZiJ\\u002fYpQEZGRkZGRvY\\u002fd3d3d3d35z+cm5ubm5sLQE\\u002fsxE7sxA5A2Ymd2ImdH0DsxE7sxE4EQN3TCMs9jQhAMzMzMzMz8z87sRM7sRMgQAAAAAAAAABAT+zETuxEIkCwr6+vr68PQGIndmIndhZAip3YiZ3YE0AaYbmnEZb7P1paWlpaWuo\\u002fl2\\u002f5lm\\u002f51j+6ubm5ubkVQCd2Yid2YgFAAAAAAAAA+D9605ve9KbXPyMjIyMjIwtAn3WDKfJZ9z9DFrKQhSwYQAAAAAAAAOA\\u002fAAAAAADgEUC4HoXrUbjuP2IndmIn9iRA7MRO7MROAkB2Yid2YicYQOzETuzETvw\\u002f7MRO7MRODECe2Imd2IkqQBhvZZ9DaiBAYid2Yid2BECF61G4HoUgQE\\u002fsxE7sxAJAxU7sxE7s5D8AAAAAAAAIQFVVVVVVVfU\\u002fFDuxEzuxAUCkcD0K16PwP2JyBTG5gghAVVVVVVVV\\u002fj8AAAAAAAAGQHsUrkfhevw\\u002fPQrXo3A96j+xEzuxEzvpPxO1K1G7EgVAO7ETO7ETIkCN9aGxPjTmP4OYXEFMrgBAWlpaWlpa6j8Y9AV9QV\\u002fgPyd2Yid2YhlAmVxBTK4g9j\\u002fY19fX19cTQHTRRRdddAdAYid2Yid2AkBaWlpaWloCQHZiJ3ZiJwZAnYKXU\\u002fBy+j8AAAAAAAD4PzIyMjIyMgJA11prrbXW2j9VVVVVVVUFQFVVVVVVVQVAdmIndmInKkDsxE7sxM4mQAAAAAAAAOY\\u002f7MRO7MROAEDe3d3d3d0FQNmJndiJnRFAcT0K16NwAUCDl1PwcgruP4qd2Imd2BhAtbS0tLS09D8UO7ETO7EWQHZiJ3ZiJwRAT+zETuzE9j+SkZGRkZEBQAAAAAAAAPw\\u002fsRM7sRM7D0CamZmZmZnpP8VO7MRO7PQ\\u002fxMPDw8PDA0BmZmZmZmb0Pz801ofG+uA\\u002fq6qqqqqq+j+N9aGxPjTmP0tLS0tLSwNAFDuxEzuxK0BVVVVVVVUFQAAAAAAAAAxAYid2Yid2F0A7sRM7sRMWQEtLS0tLSxNAUFBQUFBQ8D\\u002fE5ApicgXhP4YsZCELWfA\\u002faWlpaWlpJUBaWlpaWloCQPb19fX19Q1Ao76zUd\\u002fZAEAAAAAAAADwP8EWbMEWbPE\\u002fFDuxEzuxFUBu27Zt27b9P4qd2Imd2AdAxU7sxE7sFkA7sRM7sRPLP2ZmZmZmZuY\\u002fQh3UQR3U8T87sRM7sRMaQL+zUd\\u002fZqP8\\u002fg4KCgoKCCkD43nvvvfcGQH19fX19fe0\\u002f3t3d3d3d3T9iJ3ZiJ3YEQOzETuzETiNAip3YiZ3Y+T8AAAAAAAAKQGIndmIndgxAtbS0tLS09D8AAAAAAADoP2lpaWlpaQFAVVVVVVVV3T\\u002fn5ubm5uYGQGIndmIndhVAntiJndiJCUAUO7ETO7ENQNmJndiJnRpAkpGRkZGRGUAAAAAAAIAlQJqZmZmZmQFAQV\\u002fQF\\u002fQFDUCamZmZmZkBQH19fX19fQ1Ag4KCgoKCAkDzGsprKK8FQLETO7ETOwVAPQrXo3A9BkBP7MRO7MT+PxQ7sRM7sQFAUrgehetR+D\\u002fZiZ3YiZ0OQPHw8PDw8ABA7MRO7MRO+D92Yid2YmcwQNaHxvrQWO8\\u002fBQUFBQUF9T+xEzuxEzsoQNQIyz2NsPw\\u002f2Ymd2ImdG0B4eHh4eHgIQDuxEzuxEwtA2Ymd2ImdEECN9aGxPjTmP3FH3BF3xL0\\u002fAAAAAAAA8j8AAAAAAAAMQNmJndiJnSFA6aKLLrroCkBVVVVVVVX1P9mJndiJnQRA9ihcj8L18D8eHh4eHh7uP+zETuzETiFAAAAAAAAADkDsxE7sxE4WQMVO7MRO7BlAsRM7sRM7E0CamZmZmZkNQOzETuzETgpAQUFBQUFBEUA7sRM7sRMFQBQ7sRM7sQNAJ3ZiJ3ZiGEB7FK5H4XoEQAAAAAAAAB9ArkfhehSu\\u002fz\\u002fx8PDw8PDwPzkFL6fg5dQ\\u002fsRM7sRM76T\\u002fsxE7sxE4kQPb19fX19fU\\u002fxU7sxE7s8D+NjIyMjIwEQGN9aKwPjeU\\u002f2Ymd2ImdCkAjIyMjIyMLQNmJndiJnSBAntiJndiJFEDqOxv1nY3qP7ETO7ETOwlA9vX19fX1BUApXI\\u002fC9SgEQFuwBVuwBes\\u002fl5aWlpaWDkBiJ3ZiJ3YOQNmJndiJnRFAH4XrUbgeE0CuR+F6FK4XQBQ7sRM7sQ1AT+zETuzEDkAAAAAAAAAOQF9fX19fXwdAnJubm5ubH0AUrkfhehTuPxQ7sRM7sRRADw8PDw8PB0A7sRM7sRP\\u002fP65H4XoUrgtAKVyPwvUo\\u002fD9dQUyuICbXP4qd2Imd2P0\\u002f5+bm5ubmBkAUO7ETO7H7P3ZiJ3ZiJxhAbm5ubm5uBkB9fX19fX39P8VO7MRO7BFAxU7sxE5sIkB7FK5H4XokQGIndmIndhJAbbLJJpts4j\\u002fsxE7sxE4YQIqd2Imd2A1A2Ymd2ImdEEAUrkfhehT2PxQ7sRM7sRhAxhhjjDHG+D8AAAAAAAD8P5ybm5ubm\\u002fs\\u002fC1nIQhay+D+bsqasKWv6P+zETuzEThpAAAAAAAAA3D+NjIyMjIwMQOxRuB6F6+E\\u002fUFBQUFBQ4D9zc3Nzc3PzP5U1ZU1ZU9Y\\u002f4XoUrkfh6j8UO7ETO7ELQOzETuzEThVAdmIndmInGEA7sRM7sRP3P57YiZ3YCSFAYid2Yid2AEAAAAAAAADiP1VVVVVV1QZAntiJndiJFUBDFrKQhSz0P+zr6+vr6wNARkZGRkZG9j\\u002fFTuzETuwZQHZiJ3ZiJ\\u002f4\\u002f2Ymd2ImdCkDsxE7sxE4AQAAAAAAAAOg\\u002fjfWhsT409j8LWchCFrLgPxQ7sRM7sQlAZGRkZGRkDEAndmIndmIaQMVO7MRO7Pw\\u002fdmIndmInCEAUO7ETO7ETQHZiJ3ZiJwxAFDuxEzuxA0Anm2yyySbLPxQ7sRM7sfM\\u002f7MRO7MROAEBpaWlpaWkBQDc3Nzc3NwdAdmIndmInGkB7FK5H4Xr0P+zETuzETuw\\u002f9ihcj8L1DEC2YAu2YAvmP0\\u002fsxE7sxBFAAAAAAAAACkDEw8PDw8MDQOzETuzETg5A4uHh4eHhI0AUFBQUFBQQQHZiJ3ZiJwZAiIeHh4eHB0Ce2Imd2IkJQLETO7ETO\\u002fE\\u002fO7ETO7ETBUDd3Nzc3NwMQEFBQUFBQQFAip3YiZ3YD0Cwr6+vr68HQAAAAAAAAOQ\\u002fc3Nzc3Nz4z8UFBQUFBQQQIYsZCELWfg\\u002fREREREREFEAtZCELWcgOQDZlTVlT1tQ\\u002fEnfEHXFH\\u002fD\\u002fpoosuuujyP4wuuuiii94\\u002fmpmZmZmZCUBVVVVVVVURQNInfdInfQpAR31no76z8T8mVxCTK4j5P5Q+6ZM+6eM\\u002fZCELWchC9j8LtmALtmAXQCIiIiIiIgJA3\\u002fIt3\\u002fIt7z8AAAAAAAAQQNFFF1100RJA0UUXXXTRA0DpoosuuugXQAAAAAAAgCRAdNFFF110HkB00UUXXXQTQAAAAAAAYBBAFl\\u002fxFV\\u002fx5T884o64I+74P7rooosuuhlAxB1xR9wRJUDP8zzP8zz3P0Ff0Bf0BSFAUV5DeQ3l9T+kQRqkQRoEQLW0tLS0tBJAXonalahdCUARERERERHRP3qe53me5+k\\u002fLFG7ErUrFUBvMEU+6wbzPwAAAAAAAANArRtMkc+6CUDzGsprKK8kQI7jOI7jOOY\\u002fkiRJkiRJ8j8AAAAAAMAUQIp81g2myAdAC1nIQhayFECamZmZmZnpP5IkSZIkSQJAq6qqqqqqAkAAAAAAAAAcQD7rBlPksx5AKvJZN5giD0DHcRzHcRwHQGGKfNYNpgBAOY7jOI7j\\u002fD+rqqqqqqrqP0REREREROQ\\u002f5DiO4zgOIkDT0tLS0tIkQAAAAAAAAN4\\u002fO7ETO7ET6z8AAAAAAIAKQAAAAAAAwA5AAAAAAAAA9j+U11BeQ3kRQKgRlnsaYRlAX0J7Ce0l5D\\u002fe3d3d3d3dP1VVVVVVVfU\\u002f0UUXXXTREUBoL6G9hPbSPx4eHh4eHs4\\u002fkiRJkiRJBkAAAAAAAAAKQI7jOI7jOCJAAAAAAAAA8D9605ve9Kb3P8hCFrKQhQxA05ve9KY3HUBI4XoUrkcJQGZmZmZmZhJAAAAAAAAA\\u002fj+rqqqqqqoMQEmSJEmSJAFAq6qqqqqqA0DTm970pjcnQF100UUXXdQ\\u002f6aKLLrroBkCMLrrooovuP9FFF1100QVAZmZmZmZmEkDzGsprKK\\u002fxPwAAAAAAABFAmpmZmZmZBUBeQ3kN5TUUQAAAAAAAAABADeU1lNdQGkAAAAAAAMAgQMTDw8PDwwtAh\\u002fIaymsoJ0BVVVVVVVUTQHIcx3EcxyBAG8prKK+hEEBDeQ3lNZQbQGZmZmZmZv4\\u002fx3Ecx3Ec9z9yHMdxHMcVQFVVVVVVVQ1AeQ3lNZTXCEAAAAAAAAAWQBzHcRzHcRxAaWlpaWlpCUAAAAAAAAAJQAAAAAAAAAhAvLu7u7u7+z8AAAAAAAD9PwAAAAAAABBA7+7u7u7uIEAiIiIiIiICQAAAAAAAAApAsRM7sRM7EUAlSZIkSZIAQAAAAAAAAABAAAAAAAAAHEBVVVVVVVXlPwAAAAAAAAhAJUmSJEmSCEBVVVVVVZUxQAAAAAAAAAhAFDuxEzuxE0CrqqqqqqoAQKuqqqqqqhdAOY7jOI7j6D\\u002fRRRdddNH1PwAAAAAAACRAq6qqqqqqF0DsxE7sxE4QQAAAAAAAAAhAAAAAAAAABECrqqqqqqogQBdddNFFFxVAL7rooosuFkAAAAAAAAAjQBdddNFFFxVA27Zt27Zt2z8AAAAAAAAAQM3MzMzMzABAMzMzMzMzNkAAAAAAAAAIQGZmZmZmZiJAAAAAAAAACEBmZmZmZmYKQMdxHMdxHPc\\u002fAAAAAAAAHEAAAAAAAAAUQDmO4ziO4xhAq6qqqqqqFkAAAAAAAAAhQAAAAAAAAAJASZIkSZIkAUAlSZIkSZIMQAAAAAAAAAhAAAAAAACAFUAlSZIkSZIQQJqZmZmZmQFAMzMzMzMz4z8AAAAAAAAsQDMzMzMzMwtAAAAAAAAAKEBVVVVVVVUtQAAAAAAAABhAVVVVVVVVK0CrqqqqqqoiQAAAAAAAACJAZmZmZmZmBkAAAAAAAADwP6uqqqqqqhhAAAAAAAAAFEAzMzMzMzPjPwAAAAAAABJAAAAAAAAACEBmZmZmZmYeQM3MzMzMzCZAAAAAAAAAHEAAAAAAAAAQQAAAAAAAAAxAq6qqqqqqFkAAAAAAAAAQQAAAAAAAAARAAAAAAAAAHkAAAAAAAAAAQFVVVVVVVRFAAAAAAAAAIkAAAAAAAAAYQAAAAAAAAABAAAAAAAAAIkAAAAAAAAAKQHZiJ3ZiJyRAJ3ZiJ3biNUCamZmZmZnpPxQ7sRM7sfM\\u002fAAAAAAAABEBfX19fX1\\u002f\\u002fPzuxEzuxEwNAxU7sxE7sFECrqqqqqqroP4qd2Imd2A9ATsHLKXg59T9w+ZZv+ZYTQBQ7sRM7sSBAd3d3d3d31z9GRkZGRkb2P3ZiJ3ZiJxBAxU7sxE7s9D+dc84555wDQJ7YiZ3YiRJATK4gJlcQ4z\\u002fFTuzETuwhQCd2Yid2YgtAMjIyMjIyFkA8PDw8PDzsP7ETO7ETuyBAKCgoKCgo+D+e2Imd2IkDQOzETuzEThpA+9BYHxrr8z8AAAAAAAAfQLETO7ETOwNAip3YiZ3YFkAUFBQUFBQEQEyuICZXEOM\\u002fNmVNWVPW1D87sRM7sRP\\u002fPwUFBQUFBQVAip3YiZ3YFkA8PDw8PDwEQC0tLS0tLf0\\u002fdmIndmInDEBLS0tLS0vrP+YUvJyCl\\u002fM\\u002fAAAAAAAA7j9paWlpaWn5P7q5ubm5ufk\\u002f4XwMzsfg7D\\u002f7+vr6+vr6PwAAAAAAAPM\\u002fAAAAAAAA8D\\u002fmFLycgpfzP9PS0tLS0uI\\u002fc3Nzc3Nz4z8AAAAAAADmP6uqqqqqqvo\\u002fmpmZmZmZAUDZiZ3YiZ0TQOF6FK5H4eo\\u002fFK5H4XoUAkBkcD4G52MIQIqd2Imd2CFAsRM7sRM7EkA7sRM7sRMaQNmJndiJnRRAJ3ZiJ3ZiEEChoKCgoKDwP57YiZ3YifU\\u002f3dzc3Nzc\\u002fD9jfWisD43lPzwb9Z2N+v4\\u002fg5dT8HIK3j\\u002fsxE7sxE7cP3sUrkfhevQ\\u002fntiJndiJ5T\\u002fFTuzETuzwP7dt27Zt2+Y\\u002fiIeHh4eHD0AndmIndmLvP7ETO7ETOwNAdmIndmInAkDsxE7sxE7sP2ZmZmZmZvw\\u002fbm5ubm5uKEBcj8L1KFwlQHg5BS+n4PU\\u002fpHA9Ctej+D\\u002fFTuzETmwnQDMzMzMzM\\u002fM\\u002fO7ETO7GTKkB2Yid2YicEQHZiJ3ZiJxVAVVVVVVXVAEBP7MRO7EQmQBQ7sRM7sRhAT+zETuzEAEAndmIndmINQOzETuzETiFAFDuxEzuxG0DZiZ3Yid0zQJ7YiZ3YiQ1AAAAAAACAIEBVVVVVVVXrPzuxEzuxExNAip3YiZ1YJkBicgUxuYL4P5qZmZmZmeU\\u002fO7ETO7ET8z\\u002fsxE7sxE4UQA==\"},\"sizemode\":\"area\",\"sizeref\":0.07230769230769231,\"symbol\":\"circle\"},\"mode\":\"markers\",\"name\":\"\",\"showlegend\":false,\"x\":{\"dtype\":\"f8\",\"bdata\":\"kfC9v0H1WsC\\u002fLO3UXPhawIsXC0Pk9lrAcR+5Nen0WsDjcVEtIvpawN82UyEe+VrAvMtFfCf4WsBOfLWjOPNawLth26LM3lrA1\\u002foioS33WsBksOJUa\\u002fNawBIu5BHcAlvAKzBkdav5WsDX3qeq0BZbwJlLqrab\\u002flrAXtVZLbDzWsDDZ+vgYOtawB0gmKPHAVvACYhJuJAVW8AvaverAANbwMQihh3G+FrASvCGNCr4WsBDHOviNvhawJynOuRm+FrAOdbFbTT4WsAKEtvdA\\u002fhawNuF5jqN+FrAqRPQRNj4WsBGelG7X\\u002fdawGa7Qh8s91rAVIzzN6H4WsAdA7LXu\\u002fdawGRYxRuZ91rAHZCEfTv3WsCbkqzD0fdawEYJ+gs9+FrAOlrVko74WsBN+KV+3vhawEpiSbn7+FrAbRyxFp\\u002f4WsDMme0KffhawDKwjuOH+FrA4pLjTun4WsBxPQrXo\\u002fhawF+0xwvp+FrAw5s1eF\\u002f5WsAaqIx\\u002fn\\u002flawMB4Bg39+VrAroGtEiz6WsAlW11OCfpawKnBNAwf+VrACoMyjSb5WsDmHhK+9\\u002fdawMFu2LYo91rAxH6qZcb3WsBJSQ9Dq\\u002fdawPbv+sxZ91rApgux+iP4WsAHCObo8fdawJz51Rwg+FrA0bLuHwv3WsAIILWJk\\u002fdawIQNT6+U91rAfcucLov3WsCt9rAXCvhawD1Jumby91rAZMxdS8j3WsAIlE25wvdawA4tsp3v+VrAyFuufmz6WsDvIHam0PlawEATYcPT+VrAS+XtCKf5WsBJ10y+2fpawJsCmZ1F+1rAguFcwwz7WsAfgxWnWvtawHtKzok9+lrAa\\u002fC+Khf6WsAbZmg8EfpawLDjv0AQ+lrATMEaZ9P5WsDT9NkB1\\u002flawK\\u002fqrBbY+VrAVYmyt5T5WsCe0VYlkflawO7rwDkj+lrAQbYsX5f5WsBh\\u002fZ\\u002fDfPlawB9JSQ9D+VrAhqqYSj\\u002f5WsB1kxgEVvhawGmoUUgy+VrAfAqA8Qz6WsDnjCjtDfpawHzvb9Be+VrA9E9wsaL4WsBhbCHIQflawCXnxB7a+VrAWmjnNAv6WsD3OT5anPlawI1Cklm9+VrALxaGyOn5WsBcIEHxY\\u002fpawNUl4xjJ+lrA+5EiMqz6WsB0QBL27fpawCIZcmw9+1rAcM0d\\u002fS\\u002f7WsD2XnzRHvtawP\\u002fsR4rI+lrAkGeXb336WsB6Oey+Y\\u002fpawC6thsQ9+lrA4978hon6WsBQVDasqfpawJkPCHQm+1rAlC79S1L7WsDfUzntKftawMVyS6sh+1rATBb3H5n4WsAX8Z2Y9fpawA6itaLN+VrAuCOcFrz4WsC6h4Tv\\u002ffdawKs97IUC+FrAysABLV35WsBoke18P\\u002flawJ\\u002fpJcYy+1rA11HVBFH7WsDytWeWBPhawB3lYDYB+FrADAbX3NH5WsAAyAkTRvlawIl46\\u002fzb91rAti41Qj\\u002f3WsATm49rQ\\u002fdawMaFAyFZ+FrArroO1ZT6WsA7NCxGXftawB5rRga591rAw9hCkIP+WsANwtzu5RJbwJkSSfQyAFvAQS5x5IH0WsA41zBD4\\u002fdawAK4WbxYFFvA3JxKBoAMW8AnMJ3WbfZawI3vi0tVwFrAet6NBYX1WsAtCyb+KPhawPpGdM+6\\u002flrAybCKNzLXWsDKNJpcjP1awDuscMtH+FrAr83GSsz3WsAxeQPMfPlawLiP3Jp0\\u002f1rAHa1qSUf3WsCsNv+vOvxawJfhP91A91rAnRIQk3D5WsB0XI3sSvdawO3xQjo8+lrACoMyjSb7WsCPAG4WL\\u002fpawOS9amXC91rAAcKHEi35WsDCobd4ePdawPdXj\\u002ftW91rAesN95Nb4WsBfQgWHF\\u002fpawE6XxcTm81rALEZda+\\u002fzWsClhcsqbPRawDY8vVKW91rA2JqtvOTzWsAkm6vmOfRawCaPp+UH9FrA6udNRSr4WsBNvtnmxvhawABXsmMj9FrAjL6CNGP5WsD4bB0c7PlawMQKt3wk+1rAFi8Whsj5WsB8ZHPVPPdawA+byMwF+FrAEHS0qiX7WsCeRIR\\u002fEfhawKAZxAd2\\u002fFrA1edqK\\u002fbzWsBxBKkUO\\u002fpawIo+H2XE91rA+WcG8YH5WsAea0YGuUtHwKispuuJ+lrAeo1donrzWsD\\u002feRowSPhawL4R3bOu+1rATWpoA7D7WsBzZyYYzvtawKRTVz7L+1rAjCsujsr7WsCqDrkZbvxawBMro5HP+1rAwmwCDMv5WsD6t8t+3fdawMQGCydp9FrAzt+EQgT0WsBVpS2u8fNawF9BmrFo+FrA3+ALk6n4WsCndLD+z\\u002flawP2gLlIo91rAu2BwzR35WsAvw3+6gfZawPQZUG9G9VrAqMXgYdr5WsAmVkYjn\\u002fVawPSLEvQX+lrAjniymxnzWsDImSZsP\\u002flawLX\\u002fAdaq+VrAH9eGinH4WsBlwi\\u002f18\\u002fZawORJ0jWT91rAghyUMNP4WsA8E5oklvpawHB87Zkl91rA+THmriX0WsCILxNFSPdawOwYV1wc+VrAATRKl\\u002f73WsCsRfqjXvtawBGPxMvT+VrAF9S3zOn4WsBbejTVk\\u002fdawFABMJ5B91rACD2bVZ\\u002f3WsD430p2bPRawO4IpwUv+lrA2ht8YTL7WsASaLCp8\\u002fZawHaIf9jS+VrAdy0hH\\u002fT4WsAW31D4bPdawG6mQjwS91rAfo\\u002f66xX6WsCl3H2Oj\\u002fhawHuhgO1g+FrAiGTIsfX2WsBDO6dZoPNawEZfQZqx+FrAxvgwe9n6WsDk2lAxzvlawKQ4Rx0d+1rA2ht8YTL3WsA3wqIiTvdawDCBW3fz+FrAO\\u002f2gLlL4WsAH7kCd8vZawFoRNdHn91rAmUaTizH4WsDlJ9U+HfdawNzxJr9F91rAOWQD6WL3WsB4DI\\u002f9LPhawDsBTYQN91rA5rD7juH5WsBpxqLp7PhawOQvLeqT+lrA14hgHFz6WsDikXh5OvlawP8+48KB9lrABDi9i\\u002ff3WsBE3QcgtfdawMtJKH0h+lrAUvF\\u002fR1T4WsC0ccRafPpawIIclDDT+lrAbhRZayj5WsDW4egq3ftawNI2\\u002fkRl+1rAwlCHFW73WsDU0XE1svtawKLsLeV8+VrA3MmBMTX4WsDon+BiRftawHIaogp\\u002f+lrAR6zFpwD4WsBLAz+qYflawMwMG2X9+lrAPpY+dEH5WsD+X3XkSPdawI4EGmzq+FrAbOun\\u002f6z5WsAn2epySvhawAgAjj17+lrAdoh\\u002f2NL7WsDXpNsSufhawIDvNm+c8lrAmKHxRBD7WsDymld1VvtawJilnZrL+VrAdsQhG0j7WsDoL\\u002fSI0fdawHcv98lR+FrAxJRIopf5WsA7YA0GjfRawPUtc7os+lrAUrXdBN\\u002f4WsBDAdvBiPdawJQSglX1+FrACMiXUMH3WsC536Eo0PtawC+KHvgY9FrAYygn2lX4WsB+jo8WZ\\u002fhawHizBu+r+FrAqDRiZp\\u002f3WsATChFwCPlawOqymNh8+lrAs82N6Qn7WsDhs3VwsPtawMSVs3dG+1rA9fdSeND6WsCRmnYxzfhawDY656c4+FrAOsssQrH9WsAzUYTU7fpawLQEGQEV+lrAjgJEwYz7WsBeaK7TSPtawMx\\u002fSL99+VrASgwCK4f4WsAJi4o4nfpawIL917lp+1rA+6wyU1r7WsB3ZKw2\\u002f\\u002fNawHPaU3JO9FrAvOtsyD\\u002f5WsCCHmrbMPxawF8HzhlR+lrAqOMxA5X5WsDNH9PaNPpawN8a2CrB+lrAbVhTWRT0WsCoyCHi5vpawNMXQs7791rAX7cIjPX3WsA8LxUb8\\u002fpawL1uERjr+VrAzJvDtdr3WsAw8rImFvpawBQlIZG291rAmx9\\u002faVHzWsBSSDKrd\\u002fhawFoO9FDb+lrAHSJuTiX3WsBEb\\u002fHwnvlawFzknq7u+FrAz4QmiSX7WsDzABb59fdawBy1wvS99lrAluzYCMT3WsAW9x+ZDvlawM\\u002fabRea+VrAzZdyGRL4WsA0vFmD9\\u002fdawJMBoIob+VrAgxWnWgv3WsCdhNIXQvhawN82UyEe+1rAbazEPCv5WsDk9WBSfPZawOaTFcPV+1rA22lrRDD0WsC\\u002fRSdLrftawBFxcyoZ+FrAQ+Vfyyv5WsBmpN5TOftawNaryOiA+lrA0Amhgy75WsD5Tsx6MfxawJPEknL391rA3eo56X37WsBrf2d79PZawPYHym37+lrA6svSTs37WsDqdvaVB\\u002fdawEMc6+I2+lrAqDY4Ef36WsCk+s4vSvhawBQEj2\\u002fv9lrARuo9ldP2WsBzS6shcfdawCeIug9A+FrAD5iHTPn4WsACEHf1KvpawLBXWHA\\u002f9FrA1SE3ww3AWsA\\u002fcJUnEMBawOVjd4GS\\u002fFrA\\u002f8wgPrD5WsCQSxx5IPRawMzs8xjl+1rAnE8dq5T6WsD4pumzA\\u002fxawLsLlBRY+lrAfEW3XtP5WsCTx9PyA\\u002flawAsNxLKZ91rAtFn1udr6WsCGVidnKPpawIwQHm0c+VrAl+E\\u002f3UD3WsAxW7IqwgtbwJV+wtmt+VrA7pbkgF35WsAv3o\\u002fbLxNbwPusMlNa+1rAx4Mtdvv6WsBYc4BgjgBbwAwepn1z+VrAaogq\\u002fBn6WsClvcEXJiNbwIRkARO4FVvADVGFP8MVW8A\\u002fU69bBMBawCyf5XlwzVrAlBEXgEb5WsDyCdl5GxNbwEnZImk3+FrAychZ2NP2WsAN4ZhlT8BawE57Ss6J+1rARuuoaoLsWsCxv+yePPRawIOKql\\u002fpElvA3PY96q\\u002f5WsCbWOAruv1awEhOJm4V\\u002fFrAxeQNMPP7WsDhsgqbAfxawKFJYkm591rA\\u002fU\\u002f+7h35WsDiBKbTuvdawM6taw\\u002fW3lrAl+SAXU3AWsD\\u002fW8mOjfxawIwubw7XAFvAqMe2DDj1WsBQNXo1QPpawOdUMgBU9VrAWKmgourbWsA0Zacf1L9awOo+AKlN\\u002flrAY5tUNNYOW8DUu3g\\u002f7hJbwFR+CGC5DlvAjfv+6WD+WsCXkXpP5QJbwONRbP3b91rAyDsseeH7WsDkrhS4K\\u002fVawC5fTVQlFVvAle6usyH3WsAoLPGAsvlawFn8prBSD1vAFHe8yW\\u002f5WsCxv+yePPxawI8zTdh+21rA2NKjqZ76WsBOtKuQ8vtawDNrKSDt+VrAAOFDiZb0WsA0vi8uVfhawCqNmNnn91rA1XYTfNMCW8DVZf6\\u002flPlawBDs+C8Q\\u002flrAhbacS3H5WsATVJ6KZfdawAskKH6Mv1rAql4j7lb4WsBHWb+ZmPhawBxF1hpK91rAm1lLAWn9WsDc8\\u002fxpoxRbwJ8DyxEy+FrAq94rBIMBW8DY8PRKWf5awKWjHMwm\\u002fFrArrg4Kjf1WsBgCmpT0PdawBKifEEL91rARAaoX9j4WsC05VyKq\\u002fxawJUMAFXc9lrAhFPVusMBW8BiTWVR2P1awIoD6Pf991rAd6XAXVEOW8BxrUI\\u002f3RJbwPbeznRl\\u002fFrAjWK5pdUSW8D2lnK+2P9awCY1tAHYFlvA5l31gHkWW8DUWXc94v9awM2TawpkAFvARmEXRQ8CW8DT+fAsQQJbwF+WdmouHVvAEXAIVWoWW8BW9fI7TRZbwOxOd554FlvAhXr6CPwVW8BQGf8+4wJbwMMoCB7fAlvA+U7MejEOW8Bl3xXB\\u002fwJbwKJinL8JE1vAZLK4\\u002f8gSW8DXEvJBzxJbwAJmvoOfElvABvUtc7oSW8DvOhvyzxJbwAQ8aeGyDlvAuXGL+bkLW8BQq+gPzQ5bwFXBqKRODFvAIazGEtYOW8D+tFGdDg5bwNcv2A3bDlvATDj0Fg8PW8AXDoRkAQ9bwOWzPA\\u002fuDlvA1y\\u002fYDdsOW8CzJasi3PxawHe\\u002fCvDd\\u002fFrA38FPHED\\u002fWsBJEK6AQv9awEt4Qq8\\u002f\\u002f1rAuyu7YHABW8CW6gJeZvxawL9DUaBPDlvA0VynkZYOW8ADJQUWwA5bwK1u9Zz0DlvAPYBFfv0OW8Ae3J212wJbwPflzHaFFlvAPE1mvK0SW8CNDd3sD\\u002fpawKNAn8iT\\u002fFrA8s8M4gMZW8AzUu+pnP5awBdlNsgkD1vAe737470OW8A25Qrvcg9bwFgDlIYaE1vA76mc9pT8WsB4RfC\\u002flfxawMY0071O\\u002fFrAX1\\u002frUiP8WsD0pbc\\u002fFw9bwN53DI\\u002f9DlvACTTY1HkIW8CKr3YU5xJbwMwpATEJD1vAhgMhWcAOW8DfawiOyxJbwJP8iF+xElvAseHplbISW8DCaFa2DxNbwOUoQBTMElvALuOmBpofW8B6w33k1vhawPuvc9Nm+FrABfpEniT3WsDmWUkrvvdawHe+nxov91rAC3+GN2v4WsA1RBX+DPtawN\\u002fgC5Op+lrA14hgHFz6WsASa\\u002fEpAPhawANckC3L81rACkrRyr34WsBK0jWTb\\u002fpawN\\u002f42jNL+lrAyOvBpPj6WsB7vma5bPpawMcvvJLk+1rAK4arAyD6WsBJ9DKK5Q5bwJ3VAntM+lrAhc0AF2QDW8CduvJZngVbwHCaPjvgElvAigCnd\\u002fESW8AUtMnhkxJbwAso1NNH\\u002fFrAf2399J\\u002f5WsBPvuoSH8BawIBqFy4GHVvA8aTghJ39WsBPstXllPhawPhT46Wb+VrAu+6tSEz6WsC05PG0\\u002fBJbwB+DFada\\u002f1rAnIcTmE7\\u002fWsD2KcdkcftawDMWTWcnFVvAKAr0iTz\\u002fWsD20akrnwVbwEBPAwZJ91rAY9F0djL4WsC1TlyOV\\u002fhawAra5PBJD1vAXi7iOzEPW8CTc2IP7fdawEClSpS9+VrAFkuRfCUOW8BUrYVZaAFbwAG9cOfC+FrAV+2akNbGWsCH+fIC7L9awJ2huONNwFrAn1p9dVXAWsCQ+YBAZ8BawGFT51Hxv1rAI6Et51LAWsC9HHbfMcBawPIMGvonwFrA8umxLQPAWsBR24ZREMBawNBefTz0v1rABW1y+KTDWsD19BH4w8NawC8UsB2MzFrAXvQVpBnNWsBS7j7HR81awJ1Hxf8dzVrA9bpFYKzNWsC2+BQA481awFpKlpNQzlrA5gZDHVbOWsByUpj3ONdawEF9y5wu11rAiSmRRC\\u002fXWsC0A64rZthawAr3yrxV11rAvtu8cVLYWsCVYdwNottawA+0AkNW61rAipKQSNvqWsDrO78oQelawLR224Xm6FrA9RQ5RNzoWsBFR3L5D+VawObOTDCc4VrA\\u002fb0UHjThWsAsDmd+NeFawN9qnbgc31rAuHNhpBfjWsDKjLeVXutawM5vmGiQ3lrAxr5k48HeWsD6Cz1i9N5awDUMHxFT3lrAgVoMHqbbWsDHSzeJQdxawHbdW5GY3lrApTLFHATrWsAvqG+Z0+dawHDRyVLr51rAOV\\u002fsvfjyWsBMiLmkattawEURUrez3VrASu6wiczeWsCetkYE499awDtT6LzG3lrARdrGn6jeWsBH5SZqad5awLXFNT6T3VrAPUSjO4jdWsBlyLH1DN1awCv6QzNP3lrA0jQomgfAWsDGMZI9Qt9awJATJoxm31rAOGVuvhHlWsAYX7THC+lawJlGk4sx3lrA\\u002fI123PC\\u002fWsA5m44AbsBawM7HtaFiwFrAYrt7gO6\\u002fWsDnbWx2pMBawIy8rIkFwFrActwpHazfWsA50ENtG8BawE4oRMAhwFrAcokjD0TAWsA7iQj\\u002fIsBawDquRnal81rAeVvptdn2WsCaBdodUvhawLn98smK81rA9poeFJT4WsASTaCIRdpawPktOllq31rAYvNxbaj6WsB2btqM095awEAyHTo921rAlUbM7PPoWsCuYYbGE\\u002fdawBxClZo9\\u002fFrAjjulg\\u002fX7WsC8I2O1+RVbwJHz\\u002fj9O+FrArW71nPT4WsDZImk3+g5bwO0pOSf2ElvA7Eyh8xr7WsDcLckBuxJbwDqwHCED+1rAqFfKMsT3WsClFd9Q+MJawD0nvW98+VrAFasGYW73WsCc+kDyzvdawKacL\\u002fZe+FrAZvol4q33WsDWx0Pf3QJbwGSuDKoN\\u002flrAGapiKv36WsBmiGNd3A5bwODW3TzV+VrAM\\u002f59xoX3WsAKD5pd9w5bwIAtr1xvAVvAXmOXqN4CW8DJqgg3GftawDkM5q+Q91rAdt7GZkf+WsCDaK1oc\\u002f5awIYb8Plh\\u002flrAPDHrxVD+WsA\\u002fx0eLM\\u002f5awLPttDUi\\u002flrApMFtbeH9WsBOf\\u002fYjRf5awHh7EALy\\u002fVrAXtbEAl\\u002f3WsAUev1JfP5awFGgT+RJ\\u002flrAYkz6eyn+WsD+tFGdDv5awLVU3o5w\\u002flrA2C0CY339WsB+c3\\u002f1uP1awMDnhxHC\\u002fVrAsOJUa2H+WsBDyk+qff5awD4GK061\\u002flrAmfViKCf+WsDnbtdLU\\u002f5awKxVuyak\\u002fVrASx3k9WD+WsBvKeeLvf1awMoV3uUi\\u002flrAuVLPglD+WsCug4O9ifFawMITev1J\\u002flrA+HE0R1b+WsDaxTTTve5awBh47j1c\\u002flrA2ZlC5zX+WsBFup9TkPFawLR3RluV\\u002flrA8nub\\u002fuz9WsCs4SL3dPFawI50BkZe\\u002flrAv\\u002fIgPUX+WsDY9Qt2w\\u002f5awJgTtMnh\\u002fVrAT+lg\\u002fZ\\u002f9WsB79Ib7yP1awLu3IjFB9VrAqKym64n4WsBVh9wMN\\u002fxawBSVDWsq9VrAdcx5xr4SW8CsGRnkLvxawJZ2ai43+lrAfv0QGyz4WsBycOmY8\\u002fZawKpDboYb3FrAqkTZW8r5WsBZMVwdAPlawNxmKsQj91rA7idjfJj5WsAJiEm4kPdawC+kw0MY91rA3iHFAIn6WsB0fLQ4Y\\u002fpawMGopE5A+1rANsr6zcT6WsBMUpliDvpawEbvVMA991rASIld29v5WsDd09Udi\\u002f1awM+\\u002fXfbr9lrAmgmGcw0TW8BBt5c0RvdawOwWgbG+11rAvVXXoZroWsAfEr73N\\u002fhawCbHndLBElvAfcoxWdz5WsBJZB9kWRZbwLoRFhVxwFrAaOc0C7T5WsB4KuCe5\\u002flawM\\u002f26A3381rA5dU5BmT\\u002fWsCWWYRiK\\u002f5awEfmkT8Y+FrAMc10r5P4WsDjcOZXc\\u002fhawAsMWd3q91rAJctJKH0PW8AgRgiPNgxbwNQNFHgn31rAKPOPvknnWsArhxbZzhdbwAGG5c+3+1rAblFmg0wOW8DZzYx+NMBawPbQPlbw+VrAie5Z12j5WsAt7j8yHfpawPxvJTs29FrABrth26L6WsCiYweVuPhawGu4yD1d+VrA1gEQd\\u002fX8WsD8q8d9qxNbwBYYsrrV11rA\\u002f3dEher6WsACYhIu5L9awAoQBTOm\\u002fFrAIuAQqtT2WsC\\u002fuipQi\\u002fdawHxGIjSCzVrAuJIdG4HYWsBLqyFxj\\u002ftawIIDWrqC\\u002fVrACMcsexL+WsDmB67yBPhawFsMHqZ93VrAO1RTknXAWsCh9fBlovpawHNKQEzC81rA2VvK+WL5WsCQos7cQ\\u002fZawH9QFymU+1rAyHn\\u002fHyf4WsBIbeLkfvdawFOSdTi69FrAstZQai\\u002f+WsAUl+MViP5awNV3flGC\\u002flrAeAyP\\u002fSz8WsD+CwQBMg5bwHCaPjvg+lrAHLRXHw\\u002f7WsDWNzC5UfhawE8GR8mrC1vAlzyelh\\u002f6WsAI5ujxe\\u002ftawPvV0pJ9+lrAF+2WicfeWsAVHF4QkfxawBmsONVa+FrAacTMPo\\u002f5WsBJhEawcfdawF3mzxK\\u002f3VrA6fLmcK3cWsBb6iCvB+VawJFEL6NY3lrAy03U0twCW8BWTWsukvdawL6DnziA+lrAWFaalIIWW8DkafmBq\\u002fpawLt9Vpkp+VrAAyfbwB3+WsASTgte9PdawM6OVN\\u002f5+VrAT+lg\\u002fZ\\u002f7WsB2NXnKavZawNhK6C6J3VrAVP61vHLDWsDr4ctEEfpawP1MvW4R9FrAJV0z+Wb7WsBWfa62YttawMeePZep91rAMuVDUDUTW8DZPuQtV\\u002fdawLoRFhVx6lrAmUP3UbLzWsAf14aKcfhawLZN8bio+FrA220Xmuv3WsDkDdU5q\\u002fdawGwhyEEJ\\u002fVrAlL2lnC\\u002f2WsD7WwLwT\\u002flawC7lfLH39FrAwTv59NgSW8A57\\u002f\\u002fjhPlawFJAf0aO+FrAGTigpSveWsBlpIOaxt5awEM6PITx+VrA1wwViEP1WsAaGHlZEwNbwFBvRs1X+VrAv9NkxtviWsDaOc0C7fhawHFV2XdF+FrADhKifEH5WsBAAABgrhdbwFw+kpIeD1vAj9ZiAV34WsDbV3ldGvhawBWGbTB59lrAEA8Xbxr8WsBSOw1isQJbwI0HADOE+1rAAWn\\u002fA6zdWsDDe7Ny1PpawCTtRh\\u002fz+VrAaydKQiL5WsBv4S8cvs5awF4N9WD38FrAwF32604PW8ChAavZuftawDVfJR+7AVvAsvM2Njv8WsAVKYNZV\\u002fhawIJXy52Z+lrArtPtkXL6WsAANiBCXPtawJje\\u002flw0\\u002fFrAPJUdLK04R8DzTxX4L\\u002fdawIk5Usd09FrA5KCEmbbzWsAKSzygbPxawFXCE3r9AVvADDREukTzWsD+7h01JvhawPCwPz9C+1rA\\u002f4wcM5oVW8Cns5PBUfhawI\\u002fGoX4X+lrA9WOT\\u002fIj5WsBkz57L1N5awCKYWTrV+lrA9tA+VvDzWsABE7h1N8tawEM1yp8U81rAI1BYPbsZW8A2P\\u002f7Sov5awLWNP1HZ+FrAnPurx335WsBuMxXikfZawC5zuiwm\\u002flrAx9Rd2QX5WsAr+64I\\u002fr9awD9ya9Jt91rA6jbyivH6WsCokCv1LMBawFzjM9k\\u002f\\u002f1rAqDY4Ef36WsBPIsK\\u002fCPxawDXxDvCk91rAvGMMB535WsAWS5F8JcBawByz7Elg91rA1JrmHaf6WsBGtvP91N5awB88JMZ83VrA1ZcAVw34WsDbDx2njfdawFa45SMp+VrAwC558p\\u002f3WsAh6dMq+vlawB30tuOX+lrAp5q0BHT4WsCEDyVa8vhawElHOZhNDFvAVgflImMFW8BUVWgglh9bwDxmoDL+8VrAi2zn+6n3WsB4KAr0ifZawD\\u002fYc+Mn+FrAAKE\\u002ffoAWW8AqnsQx3PlawDNTWn9L+FrASwxd5Pn4WsDaLVVyMw5bwEIlrmNc+VrA\\u002frYnSGz5WsB\\u002f8bFgh9xawOs6VFOS81rAIn4PqEj5WsC1I4vqY\\u002fpawF6Y8VsZ+lrANS89UF3+WsBAo3TpX\\u002fxawGeY2lIH91rAvoQKDi\\u002f6WsCQ2sTJ\\u002fdZawASv8fSl+VrACewgZXoSW8BkzF1LyPdawFMlyt5S+FrA275H\\u002ffXCWsDrjzAMWPpawD2mpD0U9FrAcneM4aD5WsDCM6FJYvNawEEsmzkk+1rA533SP3f5WsD9CA0OQPxawAYq499n\\u002flrAlE25wrvwWsCGfCttzPtawLcKYqBr\\u002f1rANGYS9YL7WsDolmdvOg5bwOrpI\\u002fCH91rAVpqUgm73WsB3EhH+Rf5awLoVwmos+1rAF5tWCoH4WsAX1o13R+pawPTg7qzdElvAKKVWTjEMW8DsziT7McBawNmLssjADFvAsHWpEfrzWsBflnZqLvdawF+1MuGXzlrAehwG81f6WsDTvrm\\u002fevZawKm8HeG0+FrAHY8ZqIz5WsDspL4s7fZawDp0et6N91rAUJN0KJ73WsABMQkX8vJawKGfqdct+lrAbFopBHL7WsBeLuI7MfdawNAPI4RHI1vACmZMwRr5WsCyZ89lavhawLSqymNy+VrA5j45ChDpWsDX22YqxPlawFTGv8+49lrAS8yzklb4WsBBSBYwgfNawMSvWMNF5lrAGptnNtn6WsBnCp3X2PlawAgddAmH+lrA5NpQMc73WsB720yFePBawHNmu0If\\u002fFrAOgg6WtXcWsCXXlEAe\\u002ftawMwlVdtN+FrAvFetTPj3WsCpUN1c\\u002fPdawFMhHomX+VrAAKlNnNz9WsAl5llJK\\u002fpawIK\\u002fBBMk+1rARn2SO2z+WsDcvHFSmPtawI564\\u002f\\u002fpv1rA51Hxf0f6WsB8ZHPVPPtawEvPT8zV8lrApg2HpYH9WsBFniRdM\\u002flawP58W7BU+1rAmTFgJA\\u002f5WsC6S+KsiMpawLQiaqLPzVrAy\\u002f\\u002f\\u002f\\u002f3r7WsCF7LyNzfpawHF0le6uAVvAK4iBrn35WsBZv5mYLvhawBvUfmsn+lrAX5fhP934WsATLA5nfvtawP+VlSal\\u002fFrA\\u002frrTnSf6WsAqjZjZ5\\u002fdawPnAjv8C+VrASYCaWrYCW8D5gas8gfdawMxAZfz71lrAtMu3Pqz3WsDtKM5RR\\u002fVawEDDmzV4+1rAYToIlRPLWsDcSxqjdf5awCBdbFopEFvAPBQF+kT+WsDJkGPrGd5awILF4cyvylrAM23\\u002fykr1WsBoHyv4bf5awKpm1lJA+FrAsfm4NlT4WsDFPZY+dPtawEbQmEnU\\u002fVrA3GeVmdLyWsDy6hwDsvlawPZefNEeHVvABduIJ7v5WsCI1R9hGPhawNldoKTAzlrA20yFeCT0WsADJnDrbvhawKM883LY+1rAUFJgAUz1WsDarPpcbflawD8AqU2cTEfAavtXVprwWsBiSE4mbvlawKd5xyk6\\u002flrAM+GX+nnzWsDajxSRYfdawEqaP6a1+1rAlX8tr1z\\u002fWsCpZ0Eo7\\u002fdawFOzB1qB\\u002fVrAAkUsYtj5WsDV7x2Q3\\u002fhawL\\u002fyID1FzFrAptB5jV32WsDRIXAk0PZawOFgb2JIFlvAjNzT1R35WsCpSltc4xVbwFFPH4E\\u002f+lrAd7rzxHPAWsBe8dQjDfhawGnlXmBWAFvARkHw+Pb8WsC4zVSIR8BawCRh304i+lrA8rBQa5r5WsBUHAdeLfdawNnsSPWdD1vAfbH34ov+WsB4R8Zq88lawJ32lJwT+VrA\\u002fdgkP+LzWsCBP\\u002fz89\\u002fZawNKrAUpD+VrANnf0v1z7WsDZdtoaEfxawKiKqfQT\\u002fFrAkNeDSfH3WsDLngQ25xJbwJ33\\u002f3HCFFvAiXssfejeWsDf\\u002ffFetf5awEXURJ+P+FrAjKNyE7X6WsBC7bd2ov5awDs2AvG6+FrAmgtcHmv4WsAuAI3SpfdawDLH8q56ylrA8KfGSzf5WsBdpibBG\\u002f5awNaqXRPS3lrAl6jeGtjGWsAMlBRYAPtawFsKSPsf\\u002flrAByP2CaD4WsDvyFht\\u002fvdawPsD5bZ9+1rAQDIdOj3bWsC13QTfNPtawEc9RKM79FrAbA5rhUT+WsCYaftXVvhawCY2H9eGDFvAE9bG2AkTW8ATDOcaZvhawGg+527X+VrAE0ceiCz8WsClMsUcBPtawAmNYOP6v1rAy9sRTgv+WsCTG0XWGvpawKJgxhSs+1rA\\u002fkgRGVb5WsCvsUtUb\\u002flawC7\\u002fIf3281rAVBwHXi35WsDartAHy\\u002fpawC2wx0RK91rA5iMp6WH4WsDNIhRbQfVawB1WuOUj+VrAMxgjEoXcWsCRK\\u002fUsCPtawJCDEmba+FrAb0p5rYT6WsDjGMkeofxawKXd6GM++lrAteGwNPD7WsBSoprYQPlawFXBqKRODlvAFt9Q+GzvWsAUIApmTP1awKd38X7c+FrAIv5hS4\\u002fWWsAbuW5KefdawBvzOuKQ+VrACWzOwTP3WsDvWGyTivZawMNJmj+m+VrAVFInoIn+WsCiKNAn8vhawKlPcodN+lrAHQJHAg34WsA0LhwIyfpawPlmmxvT+VrARfKVQEr8WsCpa+19qv5awBRBnIcT\\u002flrAmG4Sg8D8WsCZRSi2gvhawHxI+N7f9lrAJ77aUZz5WsAFbXL4pAtbwKtbPSe9J1vAqWvtfar6WsCzJEBNLfNawPw1WaMe+lrAH2lwW1v4WsAuHAjJAvxawPiImBJJ9FrAa378pUX7WsCVnX5QF\\u002flawC9szVZe+FrAGHeDaK34WsDOqs\\u002fVVvhawMXkDTDz91rANIC3QIL6WsBTBaOSOtdawMSvWMNF+lrASvcpfdfeWsBLPnYXKAVbwPnaM0sC+FrA7fSDukgPW8CyuWqeI\\u002fhawGHEPgEU91rAW7QAbav9WsCKlGbzOPhawF3BNuLJ+lrArdwLzAoPW8A7pu7KLvpawOnVAKWh9lrAdsb3xaX+WsAIAmTo2AFbwDgVqTC28lrA6Zyf4jjAWsAVGR2QhPNawFzHuOLiAlvAUz2Zf\\u002fT3WsC0xwvp8PBawCnQJ\\u002fIk+VrAvJLkub7zWsB7+DJRhPBawO9yEd+J81rAnRGlvcHDWsAP1ZRkHfRawFouG53zBVvA+13Ymq34WsDj\\u002f46oUOtawIm0jT9R61rAAMYzaOjfWsA4L058tf1awNS19j5V91rATODW3Tz5WsBZiA6BIw9bwPynGyjw+lrALgJjfQPxWsBcA1slWP5awFCNl24SwVrAYrt7gO6\\u002fWsCLNVzknvZawAclzLT9v1rATl\\u002fP1ywPW8C5pdWQuOdawNx4f9V031rAqtctAmP5WsCR0JZzKeRawLOWAtL+EVvAhnZOs0D3WsDqeMxAZSJbwA+3Q8Ni\\u002flrAJemayTcPW8DyCG6kbMNawKvN\\u002f6uO+FrAfJi9bDv\\u002fWsBg5dAi2\\u002flawEbSbvQx+1rAOj3vxoIWW8DhXS7iO\\u002fFawMMRpFLs+lrAI57sZkb3WsCV88Xei\\u002ftawG\\u002fXS1ME\\u002flrAzv5AuW33WsA2I4PcRfxawKzijcwj\\u002f1rAFzDcFOr4WsDys5HrpvRawF\\u002fP1yyXzVrAbCQJwhX6WsC8eD9uv95awJLn+j4c9lrAOL9hokH+WsDbozfcR\\u002fRawAGG5c+3\\u002fVrA9Z81P\\u002f72WsCv6xfshvlawLQc6KG2+1rAI\\u002fPIHwzAWsCE04IXfflawPsgy4KJ+1rAzH1yFCDAWsDRsu4fCxNbwFJlGHeD\\u002flrAXaYmwRsYW8DzPo7myN5awIb\\u002fdAMF9FrAndSXpZ32WsA5nWSry\\u002ftawHdJnBVR+VrAiSZQxCIWW8A5KGGm7fdawKsHzEOm8FrA4nK8AtH7WsA9DoP5K\\u002fhawPNV8rG7\\u002flrAxMw+j1H4WsDxnZj1YsZawCZxVkRN+FrAm5Ksw9H5WsAvTny1o\\u002fpawKhUibK3+lrAePLpsS37WsBwJqYLsfZawDp15bM891rA\\u002fiYUIuAWW8CGAyFZwPhawHeiJCTS+lrAN2xblNn6WsCCAYQPJfhawIYDIVnA+lrAIVnABG79WsDcNdcfFxNbwErwhjQq9FrAkBFQ4Qj4WsBbBwd7E\\u002fdawGMIAI49+VrA0XR2Mjj+WsAkgQabOhNbwH\\u002feVKTCElvAFva0w1\\u002f5WsAjEK\\u002frF\\u002fpawELPZtXnDlvAujDSi9r5WsCp9X6jHd1awCAIkKFj+VrAY+yEl+ACW8DMKQExCftawItUGFsIFlvAMj1hiQfAWsC1FmahnQNbwEmAmlq2\\u002flrANxd\\u002f2xPiWsAk1AypovhawPrRcMrc+lrA9gfKbfv6WsArFOl+TvtawPWfNT\\u002f+9lrASIeHMH76WsDUX6+w4PhawEFK7Nre+lrAbosyG2T6WsD21Oqrq\\u002fpawDV7oBUY+lrAq65DNSX5WsCVRWEXRflawC4CY30D+VrAC32wjA35WsDG20qvzfpawPbtJCL8+VrAttYXCW35WsByo8haQ\\u002flawJllTwKb91rA+rg2VIz3WsCIaHQHsfdawOse2Vw1+1rAqu\\u002f8ogT7WsDd0mpI3PNawNtq1hnfFVvA2gQYlj\\u002f3WsCbH39pUfNawORO6WD991rAY2NeRxz4WsCrPeyFAvhawANAFTdu91rAPIOG\\u002fgn4WsAId2fttvdawIv\\u002fO6JC91rANIKN69\\u002f\\u002fWsBhcM0d\\u002ffdawBpvK70291rAhGHAkqv2WsAQWDm0yPZawLoxPWGJ91rAh8Jn6+D2WsBwehfvx\\u002fdawKD7cma7+FrACTiEKjUDW8A8vr1r0PlawGiVmdL6v1rAw9Zs5SX5WsANqg1ORPlawPlISnoY+FrA4ScOoN\\u002f3WsBIaww6If5awJeQD3o291rAV1wclZv4WsDd0JSdfvZawPYmhuRk9FrAoGtfQC\\u002f2WsCqnsw\\u002f+g5bwJy\\u002fCYUI\\u002flrAUMQihh36WsApP6n26RJbwHtq9dVV\\u002f1rAiSZQxCL8WsBo6Qq2EftawBzsTQzJ+VrADoY6rHD9WsCM22gAb+9awKnaboJv\\u002fFrAZHjsZ7H4WsAZVYZxN\\u002fpawNzY7Ej191rATgte9BX4WsBTexFtxw5bwA==\"},\"xaxis\":\"x\",\"y\":{\"dtype\":\"f8\",\"bdata\":\"ogvqW+ZYR8DDgvsBD0hHwIXQQZdwXEfA3xXB\\u002f1Y6R8DIlA9B1URHwFeUEoJVRUfANuSfGcRHR8A6evzepkdHwJ5BQ\\u002f8EN0fAVyHlJ9VGR8DoFORnI0tHwHDRyVLrPUfAIEHxY8xJR8BrD3uhgGFHwBrAWyBBjUfA5h99k6Y5R8DMY83IIDdHwKOUEKyqP0fA\\u002fnxbsFRrR8Bpq5LIPjxHwAzNdRppSUfAPPiJA+hHR8AaU7DG2UhHwLqhKTv9SEfA\\u002faTap+NJR8DO4O8Xs0lHwGAA4UOJSkfAS5ARUOFIR8DTad0GtUdHwKiQK\\u002fUsSEfA9N4YAoBHR8BFKowtBElHwOuoaoKoS0fACFqBIatLR8AOLbKd70tHwPMf0m9fS0fACK7yBMJKR8CgUiXK3kpHwI+NQLyuS0fAmYHK+PdFR8BljA+zl0VHwJ7uPPGcRUfAhlW8kXlER8CH4SNiSkRHwG0dHOxNREfAZtmTwOZER8D3AUht4kRHwCo6kst\\u002fREfAnDHMCdpER8Dyd++oMUVHwGxaKQRyRUfAxmzJqghHR8AuPC8VG0dHwFw9J71vSEfA5FN8U8NGR8Ca7J+nAUdHwC43GOqwRkfAJ8KGp1dGR8AcQL\\u002fv30hHwHy6umOxRUfAKo2Y2edFR8B1PGagMkZHwHztmSUBRkfAYtnMIalFR8Ccbtkh\\u002fkVHwOQViJ6URUfAPSe9b3xFR8Dvkc1V80RHwNwRTgteSEfAti+gF+5IR8Cg\\u002fx68dklHwJiiXBq\\u002fSEfAIsMq3shIR8DtSstIvUtHwA5nfjUHTEfAahfTTPdKR8AttHOaBUpHwBXFq6xtSkfAEHf1KjJKR8BVTKWfcEpHwLO3lPPFSkfAE0VI3c5KR8CAC7Jl+UpHwIeHMH4aS0fArg6AuKtLR8ARjln2JExHwN3SakjcS0fAPMCTFi5LR8BN1xNdF0ZHwDBK0F\\u002foRUfA\\u002f+bFia9GR8DmBdhHp0ZHwNGxg0pcR0fAZDvfT41HR8AMHqZ9c0dHwHUDBd7JR0fA2bPnMjVJR8A6QDBHj0dHwHh+UYL+RkfA7BLVWwNHR8Cvz5z1KUdHwJshVRSvRkfAeVxUi4hGR8CRR3AjZUdHwAIMy59vR0fASE4mbhVIR8Bdp5GWykdHwN2YnrDER0fA+3d95qxHR8DooEs49EZHwIHR5c3hRkfAdZFCWfhGR8AhPUUOEUdHwFmLTwEwRkfAu0bLgR5GR8ADWyVYHEZHwMKIfQIoRkfABrzMsFFGR8AmrI2xE0ZHwHH\\u002fkenQRUfA4A7UKY9KR8BoImx4ekVHwNI3aRoURUfAc6JdhZRHR8DOGyeFeUtHwOaxZmSQS0fAkuhlFMtJR8Afv7fpz0ZHwKSnyCHiSkfAy7kUV5VFR8DTwfo\\u002fh0lHwFjiAWVTRkfA8tB3t7JIR8B6qG3DKExHwH+FzJVBSUfAnMB0WrdFR8DUu3g\\u002fbkdHwC1b64uERkfAsvLLYIxIR8DZXDXPEUVHwJhp+1dWRkfA0QMfgxWPR8Bag\\u002fdVuUhHwLJoOjsZSEfAOQ1RhT83R8AmOsssQklHwBH+RdCYbUfARDF5A8w8R8CwO9154lFHwBb8NsR4OUfAN8e5TbhHR8BgWtQnuUdHwA9Dq5MzSEfAUBpqFJI0R8ANjSeCOI9HwGFVvfxOS0fA4gZ8fhhJR8DaqiSyD0ZHwPVoqifzc0fALqwb745cR8CcNuM0RElHwG\\u002f2B8ptR0fAx53SwfpLR8Cs4o3MI0tHwPXzpiIVSkfAOuY8Y19GR8C\\u002f0Y4bfkdHwP4mFCLgSEfAj41AvK5LR8A1XrpJDEZHwDVB1H0ARkfAl8gFZ\\u002fBHR8CXAWcpWUpHwGXCL\\u002fXzNkfAdlCJ6xg3R8D5Eb9iDTdHwG+bqRCPQEfA0\\u002fTZAdc1R8BCQSlauTdHwK2JBb6iN0fAXMmOjUBMR8AvF\\u002fGdmEVHwG0a22tBN0fAgXhdv2BHR8B8X1yq0kZHwGvXhLTGREfAKej2ksZIR8DYDdsWZUZHwPgYrDjVRkfAQ6ooXmVFR8C6SnfX2UhHwKxVuyakSUfAptB5jV1KR8CR0mweh0VHwDenkgGgRkfAa2PshJdIR8B1cobijvlawHb+7bJfS0fA5wDBHD02R8DHLHsS2EhHwEBoPXyZMEfAsP7PYb4wR8Be9BWkGS9HwHIz3IDPL0fAXMtkOJ4vR8CV0jO9xDBHwKpgVFInMEfAbm3healER8A0oN6MmktHwCmzQSYZSUfAXwfOGVFKR8C8eapDbkpHwBGo\\u002fkEkS0fAcoxkj1BHR8BjuaXVkEhHwF7ZBYNrRkfA1PGYgcpIR8Cn591YUFBHwB5Robq5SEfAI\\u002fWeymlLR8Dcn4uGjEdHwHsRbcfUSUfAfa1LjdBHR8AnvW987UlHwJDaxMn9RkfAN6YnLPFER8CfyJOka0ZHwNl8XBsqRkfA1elA1lNHR8BrmnecokdHwM1y2eicM0fAGsOcoE02R8B95qxPOU5HwLIsmPijREfAj6omiLpLR8DeIxdzQkhHwJD4FWu4SEfAYOrnTUVGR8BCzCVV20VHwHam0HmNRUfAvko+dhdIR8Dwp8ZLN0lHwPUqMjogSUfA3H9kOnRGR8CduvJZnkdHwI0o7Q2+SEfAxCPx8nRKR8CunL0z2kpHwJLOwMjLRkfAF2U2yCRLR8DhRV9BmkVHwHO4VnvYR0fAuqRquwlGR8AqApzexTdHwPMC7KNTR0fAUn+9woJLR8B8mL1sO0VHwJLM6h1uL0fAAW2rWWdIR8DbwvNSsUVHwDcz+tFwSkfAYJD0aRVFR8Bzol2FlEdHwOS9amXCR0fAP8iyYOJLR8C7m6c65EZHwGQHlbiORUfAhugQOBJIR8Cph2h0B01HwDhr8L4qR0fAxjL9EvFKR8AXnwJgPEtHwJSjAFEwR0fAJqyNsRNKR8CmmIOgo0VHwFxXzAhvR0fAVKuvrgpMR8DlZOJWQUhHwIuMDkjCSkfAKHy2Dg5GR8CR0JZzKUZHwB4Wak3zRkfAilqaWyFMR8DQfM7drkdHwAJiEi7kSUfAX9TuVwFGR8A3bFuU2TBHwOzbSUT4R0fAxSGWulFFR8B15bM8D0ZHwOgVTz3SREfARuuoaoJIR8BhNgGG5UdHwJ\\u002fIk6RrRkfAybCKNzJHR8D9M4P4wEZHwOqXiLfOS0fAQN1AgXdKR8CYMnBAS0tHwKExk6gXSEfAowbTMHwwR8AS91j60ElHwA3iAzv+S0fApztPPGdLR8D5vyMqVEdHwFVLOsrBREfASREZVvFGR8Ajopi8AUZHwLkcr0D0REfAyk+qfTpGR8Cvtr04TDlHwIPdsG1RRkfAsD2zJEBFR8D2fqMdN0hHwHQmbaruSUfAQbyuX7BLR8BHdxA7UzBHwHeiJCTSNkfASP31CgtGR8BAFqJD4EhHwOlkqfV+R0fARL5LqUtKR8AH0O\\u002f7N0tHwApNEkvKSUfAwjQMHxFLR8ChL739uTBHwLwGfentS0fAjUXT2clER8Ap6zcT00lHwB+eJcgITEfA\\u002fUtSmWJGR8C54Az+fkVHwJXTnpJzSkfAaVIKur0wR8DxaOOItTBHwIsWoG01S0fATraBO1BHR8BjX7LxYEtHwMReKGA7TEfAfIDuy5lJR8DwFHKlnjVHwIHNOXgmOEfA58Qe2sdGR8BXz0nvG09HwG8QrRVtSkfAvJLkub5LR8AW\\u002fDbEeElHwBdjYB3HR0fAcm9+w0Q3R8Bgdk8eFkZHwIMwt3u5R0fA2qhOB7JGR8CloxzMJjBHwJt1xvfFSUfAwvwVMldGR8BdaoR+pkZHwOlF7X4VTEfAJ\\u002fkRv2JJR8C95erHJkVHwB8PfXcrL0fAnIwqw7hHR8CHhzB+GkdHwL9IaMu5TEfAPs40YftFR8A5fNKJBEdHwCQqVDcXR0fARtPZyeBIR8CxM4XOa0hHwOZ1xCEbTEfA0LO8H3VHR8C29GiqJ0dHwN9uSQ7YSUfALPUsCOVFR8BEi2zn+0VHwODYs+cySUfAvcXDew5IR8DHndLB+kdHwFDFjVvMR0fAXJAty9c1R8DPwMjLmjBHwJD4FWu4REfA492RsdpIR8D5odKImUlHwMQHdvwXSEfAuYrFbwpHR8BIbeLkfkdHwCf20D5WTEfA0ZLH0\\u002fJHR8BCBvLs8kVHwHB31m67REfACp5CrtQvR8DRQZdw6EVHwDuqmiDqRkfAPiE7b2NHR8C6vDlcq0lHwMMtH0lJR0fAQxoVONlGR8DdXtIYrUtHwD4D6s2oSUfAGNLhIYxLR8B3TUhrDEZHwDrObcK9NkfAKuPfZ1w4R8DqzhPP2TZHwNxHbk26SUfAURToE3lKR8BJD0OrkzdHwNI0KJoHSEfA6zU9KChFR8DaAGxAhDBHwIC4q1eRRUfAGmzqPCpGR8D3d7ZHb0RHwJM16iEaSUfAgnNGlPZGR8C+aI8X0kVHwBQ\\u002fxty1REfAlwM91LZFR8BV2XdF8DtHwN7M6EfDSUfANgNckC1HR8BaZ3xfXEZHwAFqatlaL0fA3GgAb4FER8CiXYWUnzxHwHxkc9U8S0fAbECEuHJKR8B4l4v4TmRHwBfZzvdTa0fA41C\\u002fC1trR8AaGk8EcTZHwE7xuKgWOUfAWMudmWBIR8C2EyUhkUZHwPuRIjKsQkfAGjOJesFLR8BW1cvvNDlHwPbQPlbwL0fAVwT\\u002fW8lmR8C8eapDbjZHwHTudr00SUfAv30dOGdIR8Bxj6UPXYxHwCVdM\\u002flmQ0fADeIDO\\u002f5HR8AdrP9zmEdHwJt0WyIXTEfAnWUWodhKR8BkXHFxVEZHwLRPEfEgN0fAhxVu+Ug2R8BVpS2u8XFHwALVP4hkPEfA2SQ\\u002f4ldYR8Aw\\u002fJbvz0lHwCtrm+JxRUfANgGG5c83R8AbYye8BDdHwPCl8KDZjUfAWp4Hd2dBR8AMNhplokZHwJO8hFSbQUfAXRrbNU+OR8A\\u002fqfbpeDxHwLtBWZ1BSUfAL3cc9cYtR8CyZI7lXUVHwI2U0tgDWEfACVBTy9ZGR8BVaYtrfEpHwBE5fT1fQ0fAS5S9pZxLR8BFuwopP0lHwIgkxKbfNUfAUS0iislLR8DvrUhMUC9HwDqVDABVTEfA5aa8DLVIR8Cb7ivFREdHwItQbAVNR0fAgPJ376g9R8Dh\\u002f\\u002f+\\u002fFUtHwDK8oxASj0fAKsjPRq5LR8C5cvbOaEdHwEq1T8djNkfAtaqh5EBHR8Dd6c4Tz0lHwAYZXM4ARkfAVK2FWWhHR8DFUkVt8mxHwGZK628JTEfA\\u002fnBGg8o8R8BMqUvGMY5HwH0iT5KucUfAWABTBg5YR8D6ZYv\\u002flktHwOfgmdAkXUfAnRIxoVlER8DTEcDN4nFHwGGNs+kISEfAq5xRTg89R8DtjtZiAY1HwHJQwkzbS0fAchQgCmZCR8AnPeEMnEZHwAheiDDZb0fAXrpJDAJvR8BZxLDDmDxHwNF2TN2VYUfAfERMiSRmR8DrS4CrhjxHwO9v0F59PEfAlPlH36Q9R8D+YyE6BD5HwDVh+8kYa0fA0jqqmiBqR8DXpUboZ2pHwLSrkPKTakfAJc6KqIlqR8D5hOy8jT1HwFmmXyLePkfAY5gTtMlBR8DXhopx\\u002fj5HwIP26uOhR0fAKAtfX+tGR8C8d9SYEEdHwFRSJ6CJSEfAkYE8u3xHR8B1dFyN7EZHwJl\\u002f9E2aQkfAboeGxag7R8B3n+OjxUFHwMwolltaPUfAcVga+FFBR8DkMQOV8T9HwD6zJEBNQUfASOLl6VxBR8CoOuRmuEFHwG6LMhtkQkfApUkp6PZCR8AwL8A+OnFHwFMFo5I6cUfAvM6G\\u002fDNzR8Al6ZrJN3NHwDlkA+lic0fAilsFMdB1R8A0gSIWMXBHwGgfK\\u002fhtQEfA8IrgfytBR8Bu+rMfKUJHwKc\\u002f+5EiQkfAKSFYVS9DR8C\\u002fDpwzojxHwC\\u002f4NCcvakfA3Qw34PNHR8DMme0KfUxHwOUrgZTYcUfAat\\u002fcXz1qR8COBBps6jxHwM6KqIk+Q0fA+ie4WFFDR8D5oj1eSENHwJI9Qs2QRkfAlSu8y0VwR8DWGkrtRXBHwDQO9buwcUfADwpK0cpxR8B8C+vGu0NHwAh3Z+22Q0fATaHzGrs8R8CVKeYg6EhHwC6Oyk3UQkfAeqUsQxxDR8DyI37FGkZHwIKLFTWYRkfAyjUFMjtHR8DXFTPC20dHwMZQTrSrSEfAYymSrwRqR8DyYIvdPkdHwN+j\\u002fnqFSUfARnnm5bBLR8CimpKsw0VHwCKKyRtgRkfATKjg8IJER8DzjeiedUVHwAn+t5IdS0fAixagbTVLR8Cowwq3fEhHwFKeeTnsNkfA071O6stGR8AwEtpyLkVHwIe\\u002fJmvUS0fArrfNVIhHR8A4hZUKKkZHwM3km21uSEfA+z4cJERFR8BCYOXQIkNHwGHe40wTSkfAVFVoIJY9R8CMhoxHqTRHwOKsiJroR0fAvM\\u002fx0eJIR8ARUrezr0hHwLSQgNHlcUfAk3L3OT5GR8A7Dzhc9TZHwAgneeApa0fAj3XM1H+PR8C6E+y\\u002fzklHwEoaDhFYS0fAgQcGED5MR8AtP3CVJ0hHwAySPq2ic0fABHKJIw90R8D6RQn6C0VHwE3WqIdoWEfAcw8J3\\u002ftzR8DGUE60qzRHwFsKSPsfSEfAt0WZDTJJR8CVYdwNokVHwKDctu9RQ0fA7wOQ2sRBR8DovMYuUUVHwKYJ20\\u002fGSEfAyR6hZkhBR8DLTdTS3HZHwHWRQln4SkfAMjm1M0w5R8ArE36pnzdHwFVQUfUrOUfA\\u002f1nz4y85R8BwmdNlMTlHwEc4LXjRN0fABhA+lGg5R8Co5Qeu8jhHwAA49uy5OEfAqRQ7Goc2R8Atl43O+TVHwBrggmxZNkfAE\\u002fBrJAk6R8AQ5nYv9zlHwD3S4La2OEfAxY8xdy05R8A1sistIzlHwDAS2nIuOUfAlYCYhAs5R8DwFkhQ\\u002fDhHwIEFMGXgOEfAJc0f09o4R8CjQJ\\u002fIkzRHwBEZVvFGNkfA58b0hCU2R8BD5PT1fDVHwLXC9L2GNEfAraI\\u002fNPM0R8AvqG+Z0zVHwJBOXfksN0fA6xwDstc3R8BtrMQ8KzlHwIdT5uYbOUfAu2BwzR05R8A3iUFg5ThHwLJl+boMO0fAlExO7Qw7R8Bl\\u002fPuMCztHwEsGgCpuOEfA542Twrw3R8CM3NPVHTdHwLoSgeofOEfAIuLmVDI0R8CAZaVJKTRHwHTOT3EcOEfA1PIDV3k2R8DIDFTGvzdHwBIykGeXN0fAzm+YaJA2R8AXnpeKjTlHwNQnucMmOkfAOh4zUBk3R8CvIw7ZQDZHwLQFhNbDN0fApBe1+1U4R8Dj81D8lDpHwCLFAIkmOEfAVOV7RiI4R8DFjPD2IDhHwIM1zqYjOEfAuVM6WP83R8CUZ14OuzdHwIjVH2EYOEfA0\\u002fnwLEE2R8AGED6UaDlHwHV4COOnOUfAbJbLRuc4R8ClT6voDzlHwCGVYkfjOEfA5SfVPh03R8Aj2Lj+XTdHwBnFckurOUfAsd6oFaY3R8AKLlbUYDZHwG8QrRVtNkfANdJSeTs6R8D9Fp0stTZHwNhkjXqINkfA7GtdaoQ2R8DeAgmKHzdHwFTDfk+sN0fAH7+36c9GR8DO3hltVUZHwHmxMERON0fAyTmxh\\u002fZFR8DoaFVLOjZHwKgd\\u002fpqsOUfA9Bq7RPUuR8AgYRiw5DZHwPJCOjyENUfA3jtqTIg5R8Bx58JIL0ZHwEX11sBWcUfA46qy74pIR8CqQ26GG1hHwACL\\u002fPohSkfA8Q7wpIVHR8Big4WTNENHwAzp8BDGR0fAHSCYo8dHR8Dql4i3zkdHwOSG3023SEfAMpOoF3xGR8B80\\u002fTZATdHwHXlszwPRkfAjSRBuAJGR8BKJqd2hkVHwJsBLsiWMUfASphp+1dGR8Bruwm+aT5HwJbMsbyrRkfAsrj\\u002fyHRIR8AMdsO2RUFHwAe2SrA4TEfAhbGFIAdNR8BflnZqLkNHwMA8ZMqHQEfAgSbChqc\\u002fR8AoCvSJPElHwOrouBrZTUfASUikbfyNR8CKx0W1iIxHwK8iowOSjEfAL8IU5dKMR8CQZ5dvfYxHwEGbHD7pjEfAKbNBJhmNR8BStkjajY5HwLHfE+tUjUfA\\u002fS0B+KdcR8AZ529CIY5HwB2s\\u002f3OYj0fAV7CNeLKPR8CxNPCjGo5HwNS2YRQEj0fAoMVSJF+NR8Dfpj\\u002f7kY5HwFwhrMYSjkfAHaz\\u002fc5iPR8CgGi\\u002fdJI5HwLITXoJTj0fAEeSghJmOR8CQozmy8otHwHegTnl0j0fA16NwPQqPR8D2eYzyzI9HwEgzFk1nj0fAXRlUG5yMR8BWm\\u002f9XHWFHwB0EHa1qjUfAeR9Hc2SNR8AIkQw5tmJHwMy3Pqw3jkfAdxVSflKNR8DtZkY\\u002fGmJHwJeQD3o2j0fAM\\u002frRcMqMR8BpVyHlJ2FHwF9hwf2Ai0fA3NWryOiQR8CFKF\\u002fQQo5HwPj7xWzJjkfAdjdPdciNR8D1oKAUrYxHwLOarie6OkfAejTVk\\u002flHR8DRdHYyOFJHwN17uOS4V0fAIuF7f4NGR8C3KonsgzBHwMcqpWd6SUfAinJp\\u002fMJLR8CsGRnkLkZHwIB9dOrKN0fAf05BfjZGR8DEr1jDRUZHwE0vMZbpR0fAhugQOBJMR8CXcOgtHk5HwJgwmpXtR0fACAJk6NhFR8BTtHIvMEdHwCcXY2AdS0fACmr4FtZFR8AUQgddwklHwNcwQ+OJXEfA9fQR+MNLR8DjbDoCuI1HwBNgWP58R0fA5dL4hVdGR8A8ZqAy\\u002fkVHwPuSjQdbNEfA7bq3IjE5R8A98gcDz0lHwHOdRloqb0fAHY8ZqIxLR8C9OseA7GlHwEUuOIO\\u002fN0fAGttrQe9FR8Acz2dAvUlHwDboS29\\u002fNkfAiLoPQGqDR8B1kq0up4xHwFX2XRH8R0fAnG9E96xLR8Av\\u002fOB86kxHwEpATMKFTEfAWHOAYI5CR8C4c2GkFz1HwEm70cd8OEfAYp8AipE5R8DsL7snD2tHwF6DvvT2L0fAipP7HYpCR8DZBYNr7jhHwK+WOzPBSEfA1a90PjxLR8B2i8BY30RHwMGtu3mqN0fARwTj4NJJR8DNctnonEdHwOQTsvM2RkfAxLKZQ1JHR8A0R1Z+GURHwDKs4o3MM0fANSbEXFItR8DYKyy4HzhHwFExzt+EUkfAdNAlHHpHR8BxqUpbXEdHwKJ\\u002fgosVOUfA+fcZFw40R8D5wI7\\u002fAjFHwC\\u002f6CtKMjUfAfa8hOC6PR8CdoE0On0hHwDoGZK93N0fAd2ouNxg2R8DxR1Fn7klHwD4+ITtvN0fAqWdBKO9HR8DXprG9FlBHwHGPpQ9dTEfAp804DVFFR8AdlDDT9kdHwAVrnE1HSEfApIl3gCeNR8ACSkONQo5HwAxaSMDojkfAldV0PdFxR8D8\\u002fWK2ZEFHwLFppRDITUfAkWRW73BLR8C7YHDNHUVHwOvFUE60O0fAKJmc2hlGR8CYbDzYYi9HwGrx71Q8S0fA8Ui8PJ03R8Agt18+WXFHwGMraFpiRUfAYtwNorVGR8DPa+wS1UdHwBUaiGUzN0fASUkPQ6s3R8DuBzwwgDhHwBzr4jYaOEfAt3u5T44+R8COfUWO301HwFngK7r1RkfA5ZzYQ\\u002ftgR8DMtP0rK0VHwE1p\\u002fS0BTEfA5bZ9j\\u002fqLR8A3GsBbIEVHwN9wH7k1RUfAeA360ttHR8Adq5Se6VFHwDl\\u002fEwoROEfAqrhxi\\u002fk5R8CzCwbX3EVHwEGC4seYN0fA6WD9n8MwR8C9b3ztmTVHwEjF\\u002fx1RRUfARXOucrJGR8BiSbn7HEtHwCmag3ckOEfAkR7Q40E4R8AJGcizy0NHwHyShfk8REfAUUoIVtVFR8C4wgXq3khHwLWjOEcdSUfAXoB9dOpSR8Akm6vmOUZHwK2JBb6iN0fABTV8C+tGR8C8PJ0rSkVHwMIAHUGFREfAJXhDGhU4R8CIkAQrmDZHwNcYdELoSEfALqOi+4NIR8DpD808uT5HwOWYLO4\\u002fRkfAdH9xgMs3R8BjZMkcy0tHwNwqiIGuMUfAKXXJOEZGR8D+\\u002f\\u002f8fxmpHwMqUxbO6Q0fArwW9N4ZIR8D1vkxv2ktHwMZH1cCgSkfAhtaaGFhOR8DhIpy7AkBHwHcvGNg6RUfAFmpN8443R8ByFMVQ80ZHwLslOWBXR0fAyotMwK9FR8AXwsXl0zhHwIdDgB1JYUfAEZAvoYJDR8CQPpx25y9HwF2G\\u002f3QDPUfAnBcnvtpRR8AqscY0LkNHwE4rhUAuRUfAhunWxjNFR8DlZOJWQUhHwNTyA1d5TkfACb95FilAW8Bw2kJG9kVHwP+AYr+CSUfAwmuXNhw2R8BQj20ZcHJHwIclL3yOPUfA3\\u002f1tJhFLR8Bc598u+0VHwI\\u002fHDFTGR0fA0snOsllrR8CGHFvPEEZHwEIXHkXnSkfACrq9pDFGR8BvDAHAsTdHwERIghVMLUfAT+lg\\u002fZ83R8C+27xxUkBHwPH3B6HuR0fANWUj5y9qR8CJfSM2L49HwEYjn1c8RUfAyVcCKbFHR8D3yOaqeVJHwM8vStBfjEfAOTZMftVLR8CYJOAh1jZHwOLoKt1dS0fAr4kW6vpFR8Ck374OnDdHwIMT0a+tc0fA6pYd4h9GR8Beg7709m9HwH++LViqS0fAin4jcNpKR8BFup9TkDdHwCUgJuFCRkfAy4Y1lUVRR8B6i4f3HDhHwAciMHt+N0fATiH8MOdIR8BRl9bwPkpHwEM3+wPlSkfANPpNOCZHR8AQd\\u002fUqMkZHwKhGntrPSEfAl08cYc1GR8Cs4SL3dEVHwNKL2v0qPEfAicwBJ4AnR8BhVb38TmdHwIOdBxyuZEfAM4rlllZHR8AQrRVtjkdHwMADqE6sSEfAhTXf0ntqR8BD9LV4wkhHwJSilXuBRUfAUqkjkcdJR8CCEXdOP0JHwPhT46WbTEfAf2d79IZLR8Ay\\u002f43iwTdHwKVneomxOEfA6kOTmxNJR8BuF7v5HUVHwJA1fjxPS0fAsfx1frxFR8CiJvp8lElHwEXxKmubRkfA5A8GnntHR8Di5H6HojRHwGa0G57aREfAm\\u002fbeKS5IR8Cu8gTCTkVHwP93RIXqRkfAaVGf5A43R8BVpS2u8UVHwABWaJxdT0fA+py7XS9FR8B5kJ4ihzhHwEpBt5c0RkfAF7Pr\\u002f5hHR8C95xss91FHwDbn4JnQPEfAOgfPhCZJR8Cso09QLy9HwOI9B5YjdEfAcFGYvY1DR8AEa0GU1EJHwBjt8UI6SEfANgGG5c9HR8DsiEM2kI5HwHwL68a7R0fA198SgH9GR8DBq+XOTDhHwHJQwkzbR0fAagzfZwE9R8Dc6+5LRzZHwMx2S5POPUfAqaCi6lc2R8CoGyjwTk5HwA9eu7ThOEfAgNWRI51FR8C3JXLBGUhHwBfZzvdTR0fAINWw3xNLR8AiiPNwAkdHwJ\\u002fpJcYyXUfAitK1YdpGR8DyfAbUmzVHwEFhUKbRREfAlj0JbM5xR8DSAUnYt0dHwPOOU3QkZ0fATI47pYNFR8DUnSees0lHwESnQpfLR0fAQLULFwM5R8Awvf25aExHwD\\u002fG3LWEXEfAluttMxVGR8BbtWtCWjdHwDpcqz3sOUfACh8AJ8pER8ArwHebN0ZHwLiTiPAvRkfAvr9Be\\u002fVFR8AbR6zFp0xHwMnLmljgL0fAbQIMy583R8CKvzeXLExHwDKtTWN7SUfAllmEYitMR8C0keumlEdHwO\\u002fhkuNOSUfAgzEiUWiNR8AHRfMAFkVHwCk3m9iNREfAjGZl+5A\\u002fR8AWFtwPeExHwAPk8O5tN0fAxTwracVDR8AO2UC62EhHwAQ6kzZVN0fAgzEiUWiNR8D5n\\u002fzdO0ZHwDeI1oo2R0fATVmXZC5GR8DgKk8g7EBHwApK0cq9OEfAqv\\u002f\\u002f395UR8AqHhfVIkZHwCOhLedSPEfArDsW26RGR8BFSx5Py0dHwLXEymjkS0fAT3Rd+MFJR8Cz696KxFhHwG1TPC6qSUfAKNU+HY9FR8D6RJ4kXUdHwKRTVz7LR0fAqfqVzoc\\u002fR8CWJ2sv\\u002fUZHwMFSXcDLNEfAUn5S7dNFR8CSzyueekhHwHBE96xrWEfAQz3YvXBAR8CKy\\u002fEKRI9HwDDUYYVbckfAZ0XURJ8\\u002fR8Cfyf55GjhHwLivA+eMQEfAj3HFxVFZR8CPU3Qklz9HwIUjSKXYSUfACvg1kgRFR8DFVzuKc1hHwKDGvfkNj0fAdxTnqKNLR8Csb2Byo0hHwErQX+gRa0fA+HDJcadIR8DWHYttUk1HwBB2ilWDOEfAYD5ZMVxJR8BQyM7b2EhHwHQlAtU\\u002fREfArprniHxXR8AsvMtFfEtHwL8PBwlR+FrAUdmwprJMR8AD6s2o+UZHwGGm7V9ZjUfAptWQuMc2R8CfWn11VVxHwJ7r+3CQREfAnKOOjquBR8BlprT+lkhHwLVQMjm1j0fANX7hlSRLR8B8G1GQjkVHwDVDqiheOUfAvkupS8ZRR8CGVFG8ykZHwE\\u002fOUNzxZkfAsd8T61RFR8A2d\\u002fS\\u002fXGtHwPz9YrZkSUfAHClbJO06R8C3nEtxVUlHwGH6XkNwPEfA+yKhLeduR8BaaOc0CzhHwLOY2HxcS0fALh1znrFLR8DzzMth90VHwGH6XkNwQEfA0GOUZ16OR8D5aHHGMDtHwAk3GVWGSUfAPXyZKEJSR8D59NiWAUtHwGPTSiGQR0fATkNU4c8wR8DAtKhPckNHwGByo8haQ0fA1QeSdw5BR8AGgCpu3G5HwM2tEFZjWUfAXvdWJCY4R8Cobi7+to9HwFiMutbeQ0fAHAbzV8hER8AZHCWvzkFHwB7FOeroSEfA0t9L4UFHR8D9ZmK6EEdHwP8+48KBQEfArYia6PNFR8ALCRhd3oxHwECH+fICOEfAmWa610k5R8Cg3oyar0ZHwLly9s5oj0fAw2aAC7JNR8CH\\u002fDOD+ERHwH41BwjmREfA8kI6PIQ1R8A7URISaVdHwKiKqfQTUkfAat83GbCNR8CCNjl80kVHwJs7+l+uPUfAyJV6FoRGR8AwgPChREdHwIqryr4rRkfAq3tkc9VER8ADQBU3bkVHwL1uERjrN0fAT6xT5XuOR8AEO\\u002f4LBEVHwAYq499nMEfACWtj7IRLR8CCxeHMr0pHwIBEEyhiOUfAMgIqHEFGR8Aepn1zf0VHwI51cRsNSEfAYTjXMENHR8ChR4yeW0hHwNZUFoVdREfACmR2Fr03R8A+INCZtElHwFAZ\\u002fz7jSkfA7WZGPxpKR8BUrBqEuUlHwKERbFz\\u002fRkfAnBa86CtIR8B8vRDcv0ZHwHvXoC+9QUfACHb8FwhiR8CsU+V7Ro5HwEbsE0AxRkfAiqw1lNorR8BDVyJQ\\u002fUdHwOLqAIi7RkfAEeD0Lt5HR8Bd4V0u4ktHwMoyxLEuRkfAmzkktVBGR8A33bJD\\u002fEdHwD4l58QeRkfAnwH1ZtRIR8CDhZM0f0hHwDp3u16aSkfAN\\u002f3ZjxRxR8BKQEzChYxHwAVSYtf2jkfA0Amhgy5xR8CCWDZzSEZHwFDFjVvMR0fA1pC4x9JLR8BayG1FrDtHwAfRWtHmQEfAdonqrYFFR8CMEvQXejhHwFfp7jobRkfAQ6ooXmVFR8AZ6NoX0ENHwFluaTUkNkfAvOfAcoRMR8CfzD\\u002f6JkVHwPxuumWHSEfAKuJ0kq1KR8AfaAWGrEZHwDFdiNUfSUfAL\\u002foK0oxFR8BypgnbTzZHwHBcxk0NTEfAJgIw+fo3R8Dd0mpI3CdHwOeNk8K8S0fAqFfKMsRBR8BWR450BkZHwA1tADYgRkfAPxu5bkpVR8CjeJW1TUVHwEyo4PCCSEfAu16aIsBBR8CEm4wqw0RHwAd5PZgUR0fAwqIiTieNR8BLdmwE4j1HwItrfCb7X0fAskgT7wA3R8DkhXR4CDdHwM08uaZAPkfAp3oy\\u002f+hLR8BF9dbAVmFHwFVLOsrBSEfAoIfaNoxGR8BxAWiULklHwARZT62+NkfAgnAFFOo5R8DqBgq8kzdHwEIFhxdEWEfAS6shcY9NR8A3iNaKNjdHwI1+NJwyN0fA3lflQuUzR8CGHcakv49HwA\\u002fuztptR0fA7Z+nAYNIR8AvGFxzR0NHwBmMEYlCL0fA97GC34ZIR8AM6fAQxotHwKT8pNqnN0fAZMqHoGo4R8Cqu7ILBktHwDtT6LzGNkfAK\\u002fhtiPFCR8AejNgngDpHwFjH8UOlOUfA02ndBrVHR8BrmQzH8zlHwOYGQx1WREfAiiKkbmdHR8ApJm+AmWdHwCgNNQpJjkfAl8XE5uNCR8DmJJS+EDpHwFrxDYXPSkfAcZF7urpzR8BdFhObj0tHwI83+S06SUfAkbqdfeVlR8AJUb6ghUhHwHL4pBMJTkfAEATI0LFHR8AvpwTEJFhHwDLjbaXXjkfA1qwzvi9GR8CTxJJy91FHwCJwJNBgj0fA4MOAgBBGR8A8TtGRXDZHwCTTodPzOkfADRtl\\u002fWZKR8CWWYRiKzRHwI8bfjfdUkfAT3Rd+MGNR8As19tmKjhHwJxPHauUjkfAR8Zq8\\u002f9KR8AukKD4MUZHwKZfIt46L0fAchQgCmY4R8BYVMTpJEdHwCv7rgj+Q0fArTQpBd02R8CdLouJzUdHwHJvfsNEj0fAX+6TowBtR8DYKyy4HzhHwLoT7L\\u002fOTUfA7DTSUnlHR8BpccYwJzBHwAbYR6euTEfAO3KkMzBqR8CXAWcpWUZHwAVpxqLpYEfAStHKvcAwR8DMmII1zkZHwHoaMEj6PEfAaf6Y1qZFR8AZ\\u002fz7jwjlHwD1+b9OfTUfAUrezrzxMR8CFlnX\\u002fWCxHwHeDaK1oR0fAFQK5xJFHR8Clu+tsyEtHwB7+mqxRR0fAOQzmr5BhR8DqIRrdQURHwFN40Oy6L0fACmmNQScsR8CbOLnfoUhHwCP5SiAlRkfAajNOQ1SNR8AkjRvIxEdHwIuk3ehjNkfAMEllijlIR8Dg10gShEdHwEvqBDQRRkfAOlj\\u002f5zCPR8AOZhNgWEZHwFVoIJbNSEfA\\u002fplBfGBHR8BG7BNAMUpHwIGVQ4tsQ0fAy9k7o61KR8AnMnOByzdHwBTMmII1RkfAEKfd+Y8+R8AracU3FEZHwMPTK2UZakfA0zO9xFg2R8DobAGh9ThHwJATJoxmSUfAfzScMjc3R8DPLt\\u002f6sEJHwGahndMsREfASl0yjpFER8C1bK0vEkZHwJCIKZFER0fA0TyARX5FR8CPGD230ElHwGHCaFa2S0fAyCQjZ2FHR8BINez3xEpHwEdUqG4uSkfAumbyzTZLR8DnU8cqpUtHwDKs4o3MS0fAkuumlNdKR8AP0lPkEElHwKg1zTtOSUfA48XCEDlFR8CsNv+vOkZHwOi8xi5RRUfAtrkxPWFJR8ASa\\u002fEpAEZHwMQj8fJ0RkfA94+F6BBIR8Dja88sCThHwADK372jakfAlrGhm\\u002f1FR8D0cALTaUlHwJM5lnfVS0fAmDEFa5xJR8BSnQ5kPUlHwPDErBdDSUfAC5qWWBlJR8DFyf0ORUlHwOSeru5YSEfArFJ6ppc8R8D9a3nlekdHwNmZQuc1SkfAMVwdAHFHR8ACnx9GCEdHwMGtu3mqS0fAlq\\u002fL8J9GR8CoOA68WkZHwCTRyyiWR0fASYCaWrY+R8BCBvLs8kVHwKlnQSjvN0fAXAGFevpER8BK7xtfe0ZHwADEXb2KREfAvhHds65FR8AiqvBneEdHwPJetTLhR0fAUwPN59xJR8CjzAaZZFxHwAGmDBzQNkfAtaSjHMxSR8A6WP\\u002fnMENHwFuaWyGsRkfANh5ssdtLR8DiHksfukhHwB8UlKKVc0fAg92wbVFOR8CrJoi6D0hHwLpOIy2VQ0fAH6D7cmZHR8CQEVDhCGJHwH4YITzaMEfAhslUwahER8AotoKmJUZHwMAlAP+URkfAcF8HzhlJR8BpboWwGkNHwA==\"},\"yaxis\":\"y\",\"type\":\"scattergl\"}],                        {\"template\":{\"data\":{\"histogram2dcontour\":[{\"type\":\"histogram2dcontour\",\"colorbar\":{\"outlinewidth\":0,\"ticks\":\"\"},\"colorscale\":[[0.0,\"#0d0887\"],[0.1111111111111111,\"#46039f\"],[0.2222222222222222,\"#7201a8\"],[0.3333333333333333,\"#9c179e\"],[0.4444444444444444,\"#bd3786\"],[0.5555555555555556,\"#d8576b\"],[0.6666666666666666,\"#ed7953\"],[0.7777777777777778,\"#fb9f3a\"],[0.8888888888888888,\"#fdca26\"],[1.0,\"#f0f921\"]]}],\"choropleth\":[{\"type\":\"choropleth\",\"colorbar\":{\"outlinewidth\":0,\"ticks\":\"\"}}],\"histogram2d\":[{\"type\":\"histogram2d\",\"colorbar\":{\"outlinewidth\":0,\"ticks\":\"\"},\"colorscale\":[[0.0,\"#0d0887\"],[0.1111111111111111,\"#46039f\"],[0.2222222222222222,\"#7201a8\"],[0.3333333333333333,\"#9c179e\"],[0.4444444444444444,\"#bd3786\"],[0.5555555555555556,\"#d8576b\"],[0.6666666666666666,\"#ed7953\"],[0.7777777777777778,\"#fb9f3a\"],[0.8888888888888888,\"#fdca26\"],[1.0,\"#f0f921\"]]}],\"heatmap\":[{\"type\":\"heatmap\",\"colorbar\":{\"outlinewidth\":0,\"ticks\":\"\"},\"colorscale\":[[0.0,\"#0d0887\"],[0.1111111111111111,\"#46039f\"],[0.2222222222222222,\"#7201a8\"],[0.3333333333333333,\"#9c179e\"],[0.4444444444444444,\"#bd3786\"],[0.5555555555555556,\"#d8576b\"],[0.6666666666666666,\"#ed7953\"],[0.7777777777777778,\"#fb9f3a\"],[0.8888888888888888,\"#fdca26\"],[1.0,\"#f0f921\"]]}],\"contourcarpet\":[{\"type\":\"contourcarpet\",\"colorbar\":{\"outlinewidth\":0,\"ticks\":\"\"}}],\"contour\":[{\"type\":\"contour\",\"colorbar\":{\"outlinewidth\":0,\"ticks\":\"\"},\"colorscale\":[[0.0,\"#0d0887\"],[0.1111111111111111,\"#46039f\"],[0.2222222222222222,\"#7201a8\"],[0.3333333333333333,\"#9c179e\"],[0.4444444444444444,\"#bd3786\"],[0.5555555555555556,\"#d8576b\"],[0.6666666666666666,\"#ed7953\"],[0.7777777777777778,\"#fb9f3a\"],[0.8888888888888888,\"#fdca26\"],[1.0,\"#f0f921\"]]}],\"surface\":[{\"type\":\"surface\",\"colorbar\":{\"outlinewidth\":0,\"ticks\":\"\"},\"colorscale\":[[0.0,\"#0d0887\"],[0.1111111111111111,\"#46039f\"],[0.2222222222222222,\"#7201a8\"],[0.3333333333333333,\"#9c179e\"],[0.4444444444444444,\"#bd3786\"],[0.5555555555555556,\"#d8576b\"],[0.6666666666666666,\"#ed7953\"],[0.7777777777777778,\"#fb9f3a\"],[0.8888888888888888,\"#fdca26\"],[1.0,\"#f0f921\"]]}],\"mesh3d\":[{\"type\":\"mesh3d\",\"colorbar\":{\"outlinewidth\":0,\"ticks\":\"\"}}],\"scatter\":[{\"fillpattern\":{\"fillmode\":\"overlay\",\"size\":10,\"solidity\":0.2},\"type\":\"scatter\"}],\"parcoords\":[{\"type\":\"parcoords\",\"line\":{\"colorbar\":{\"outlinewidth\":0,\"ticks\":\"\"}}}],\"scatterpolargl\":[{\"type\":\"scatterpolargl\",\"marker\":{\"colorbar\":{\"outlinewidth\":0,\"ticks\":\"\"}}}],\"bar\":[{\"error_x\":{\"color\":\"#2a3f5f\"},\"error_y\":{\"color\":\"#2a3f5f\"},\"marker\":{\"line\":{\"color\":\"#E5ECF6\",\"width\":0.5},\"pattern\":{\"fillmode\":\"overlay\",\"size\":10,\"solidity\":0.2}},\"type\":\"bar\"}],\"scattergeo\":[{\"type\":\"scattergeo\",\"marker\":{\"colorbar\":{\"outlinewidth\":0,\"ticks\":\"\"}}}],\"scatterpolar\":[{\"type\":\"scatterpolar\",\"marker\":{\"colorbar\":{\"outlinewidth\":0,\"ticks\":\"\"}}}],\"histogram\":[{\"marker\":{\"pattern\":{\"fillmode\":\"overlay\",\"size\":10,\"solidity\":0.2}},\"type\":\"histogram\"}],\"scattergl\":[{\"type\":\"scattergl\",\"marker\":{\"colorbar\":{\"outlinewidth\":0,\"ticks\":\"\"}}}],\"scatter3d\":[{\"type\":\"scatter3d\",\"line\":{\"colorbar\":{\"outlinewidth\":0,\"ticks\":\"\"}},\"marker\":{\"colorbar\":{\"outlinewidth\":0,\"ticks\":\"\"}}}],\"scattermap\":[{\"type\":\"scattermap\",\"marker\":{\"colorbar\":{\"outlinewidth\":0,\"ticks\":\"\"}}}],\"scattermapbox\":[{\"type\":\"scattermapbox\",\"marker\":{\"colorbar\":{\"outlinewidth\":0,\"ticks\":\"\"}}}],\"scatterternary\":[{\"type\":\"scatterternary\",\"marker\":{\"colorbar\":{\"outlinewidth\":0,\"ticks\":\"\"}}}],\"scattercarpet\":[{\"type\":\"scattercarpet\",\"marker\":{\"colorbar\":{\"outlinewidth\":0,\"ticks\":\"\"}}}],\"carpet\":[{\"aaxis\":{\"endlinecolor\":\"#2a3f5f\",\"gridcolor\":\"white\",\"linecolor\":\"white\",\"minorgridcolor\":\"white\",\"startlinecolor\":\"#2a3f5f\"},\"baxis\":{\"endlinecolor\":\"#2a3f5f\",\"gridcolor\":\"white\",\"linecolor\":\"white\",\"minorgridcolor\":\"white\",\"startlinecolor\":\"#2a3f5f\"},\"type\":\"carpet\"}],\"table\":[{\"cells\":{\"fill\":{\"color\":\"#EBF0F8\"},\"line\":{\"color\":\"white\"}},\"header\":{\"fill\":{\"color\":\"#C8D4E3\"},\"line\":{\"color\":\"white\"}},\"type\":\"table\"}],\"barpolar\":[{\"marker\":{\"line\":{\"color\":\"#E5ECF6\",\"width\":0.5},\"pattern\":{\"fillmode\":\"overlay\",\"size\":10,\"solidity\":0.2}},\"type\":\"barpolar\"}],\"pie\":[{\"automargin\":true,\"type\":\"pie\"}]},\"layout\":{\"autotypenumbers\":\"strict\",\"colorway\":[\"#636efa\",\"#EF553B\",\"#00cc96\",\"#ab63fa\",\"#FFA15A\",\"#19d3f3\",\"#FF6692\",\"#B6E880\",\"#FF97FF\",\"#FECB52\"],\"font\":{\"color\":\"#2a3f5f\"},\"hovermode\":\"closest\",\"hoverlabel\":{\"align\":\"left\"},\"paper_bgcolor\":\"white\",\"plot_bgcolor\":\"#E5ECF6\",\"polar\":{\"bgcolor\":\"#E5ECF6\",\"angularaxis\":{\"gridcolor\":\"white\",\"linecolor\":\"white\",\"ticks\":\"\"},\"radialaxis\":{\"gridcolor\":\"white\",\"linecolor\":\"white\",\"ticks\":\"\"}},\"ternary\":{\"bgcolor\":\"#E5ECF6\",\"aaxis\":{\"gridcolor\":\"white\",\"linecolor\":\"white\",\"ticks\":\"\"},\"baxis\":{\"gridcolor\":\"white\",\"linecolor\":\"white\",\"ticks\":\"\"},\"caxis\":{\"gridcolor\":\"white\",\"linecolor\":\"white\",\"ticks\":\"\"}},\"coloraxis\":{\"colorbar\":{\"outlinewidth\":0,\"ticks\":\"\"}},\"colorscale\":{\"sequential\":[[0.0,\"#0d0887\"],[0.1111111111111111,\"#46039f\"],[0.2222222222222222,\"#7201a8\"],[0.3333333333333333,\"#9c179e\"],[0.4444444444444444,\"#bd3786\"],[0.5555555555555556,\"#d8576b\"],[0.6666666666666666,\"#ed7953\"],[0.7777777777777778,\"#fb9f3a\"],[0.8888888888888888,\"#fdca26\"],[1.0,\"#f0f921\"]],\"sequentialminus\":[[0.0,\"#0d0887\"],[0.1111111111111111,\"#46039f\"],[0.2222222222222222,\"#7201a8\"],[0.3333333333333333,\"#9c179e\"],[0.4444444444444444,\"#bd3786\"],[0.5555555555555556,\"#d8576b\"],[0.6666666666666666,\"#ed7953\"],[0.7777777777777778,\"#fb9f3a\"],[0.8888888888888888,\"#fdca26\"],[1.0,\"#f0f921\"]],\"diverging\":[[0,\"#8e0152\"],[0.1,\"#c51b7d\"],[0.2,\"#de77ae\"],[0.3,\"#f1b6da\"],[0.4,\"#fde0ef\"],[0.5,\"#f7f7f7\"],[0.6,\"#e6f5d0\"],[0.7,\"#b8e186\"],[0.8,\"#7fbc41\"],[0.9,\"#4d9221\"],[1,\"#276419\"]]},\"xaxis\":{\"gridcolor\":\"white\",\"linecolor\":\"white\",\"ticks\":\"\",\"title\":{\"standoff\":15},\"zerolinecolor\":\"white\",\"automargin\":true,\"zerolinewidth\":2},\"yaxis\":{\"gridcolor\":\"white\",\"linecolor\":\"white\",\"ticks\":\"\",\"title\":{\"standoff\":15},\"zerolinecolor\":\"white\",\"automargin\":true,\"zerolinewidth\":2},\"scene\":{\"xaxis\":{\"backgroundcolor\":\"#E5ECF6\",\"gridcolor\":\"white\",\"linecolor\":\"white\",\"showbackground\":true,\"ticks\":\"\",\"zerolinecolor\":\"white\",\"gridwidth\":2},\"yaxis\":{\"backgroundcolor\":\"#E5ECF6\",\"gridcolor\":\"white\",\"linecolor\":\"white\",\"showbackground\":true,\"ticks\":\"\",\"zerolinecolor\":\"white\",\"gridwidth\":2},\"zaxis\":{\"backgroundcolor\":\"#E5ECF6\",\"gridcolor\":\"white\",\"linecolor\":\"white\",\"showbackground\":true,\"ticks\":\"\",\"zerolinecolor\":\"white\",\"gridwidth\":2}},\"shapedefaults\":{\"line\":{\"color\":\"#2a3f5f\"}},\"annotationdefaults\":{\"arrowcolor\":\"#2a3f5f\",\"arrowhead\":0,\"arrowwidth\":1},\"geo\":{\"bgcolor\":\"white\",\"landcolor\":\"#E5ECF6\",\"subunitcolor\":\"white\",\"showland\":true,\"showlakes\":true,\"lakecolor\":\"white\"},\"title\":{\"x\":0.05},\"mapbox\":{\"style\":\"light\"}}},\"xaxis\":{\"anchor\":\"y\",\"domain\":[0.0,1.0],\"title\":{\"text\":\"X\"}},\"yaxis\":{\"anchor\":\"x\",\"domain\":[0.0,1.0],\"title\":{\"text\":\"Y\"}},\"legend\":{\"tracegroupgap\":0,\"itemsizing\":\"constant\"},\"margin\":{\"t\":60}},                        {\"responsive\": true}                    ).then(function(){\n",
       "                            \n",
       "var gd = document.getElementById('8d9c27fa-3329-4ab9-afa3-ac703227e6cb');\n",
       "var x = new MutationObserver(function (mutations, observer) {{\n",
       "        var display = window.getComputedStyle(gd).display;\n",
       "        if (!display || display === 'none') {{\n",
       "            console.log([gd, 'removed!']);\n",
       "            Plotly.purge(gd);\n",
       "            observer.disconnect();\n",
       "        }}\n",
       "}});\n",
       "\n",
       "// Listen for the removal of the full notebook cells\n",
       "var notebookContainer = gd.closest('#notebook-container');\n",
       "if (notebookContainer) {{\n",
       "    x.observe(notebookContainer, {childList: true});\n",
       "}}\n",
       "\n",
       "// Listen for the clearing of the current output cell\n",
       "var outputEl = gd.closest('.output');\n",
       "if (outputEl) {{\n",
       "    x.observe(outputEl, {childList: true});\n",
       "}}\n",
       "\n",
       "                        })                };            </script>        </div>"
      ]
     },
     "metadata": {},
     "output_type": "display_data"
    }
   ],
   "source": [
    "# Me gustaría agrupar a los clientes según ID, coordenada X y coordenada Y y el tamaño de los markers es el promedio productos por semana\n",
    "\n",
    "fig = px.scatter(visitas, x=\"X\", y=\"Y\", size=\"promedio_productos_por_semana\")\n",
    "fig.show()\n"
   ]
  },
  {
   "cell_type": "code",
   "execution_count": null,
   "metadata": {},
   "outputs": [],
   "source": [
    "# ya lo último sería ver por cliente: -> que productos compra en promedio o el más que se repite, cantidad de items, si es medium, low, premium\n",
    "# etc. "
   ]
  },
  {
   "cell_type": "markdown",
   "metadata": {},
   "source": [
    "## 📌 Holdout [0.25 puntos]\n",
    "\n",
    "Para evaluar correctamente el modelo y garantizar su capacidad de generalización, se deben dividir los datos en tres conjuntos: \n",
    "- `Entrenamiento` : Para ajustar los parámetros.\n",
    "- `Validación`: Para optimizar hiperparámetros y seleccionar el mejor modelo.\n",
    "- `Prueba` : Para evaluar el rendimiento final en datos no vistos.\n",
    "\n",
    "👀 **Hint**: *Recuerde que los datos tienen una temporalidad que debe considerarse al momento de separarlos, para evitar fugas de información. Es importante justificar la estrategia de partición elegida y visualizar la distribución temporal de los conjuntos generados*"
   ]
  },
  {
   "cell_type": "code",
   "execution_count": null,
   "metadata": {},
   "outputs": [],
   "source": [
    "# Desarrolle aquí su código\n",
    "\n",
    "# la partición de los datos: no tenemos que usar aleatoriedad, si no que trabajamos datos desde cierto un rango temporal y la data de validación en otro rango temporal\n",
    "# subsiguiente"
   ]
  },
  {
   "cell_type": "markdown",
   "metadata": {},
   "source": [
    "## 📌 Feature Engineering [0.5 puntos]\n",
    "\n",
    "<center>\n",
    "<img src=\"https://i.imgur.com/CmXZSSC.gif\" width=\"300\" height=\"200\">"
   ]
  },
  {
   "cell_type": "markdown",
   "metadata": {},
   "source": [
    "En esta sección, se deben construir pipelines para automatizar el preprocesamiento de los datos, lo cual garantizará que el flujo de trabajo sea reproducible y eficiente para esta entrega y las futuras. El objetivo es aplicar una serie de transformaciones en un orden definido para asegurar que los datos estén listos para los modelos a entrenar. El pipeline final debe incluir las técnicas de pre-procesamiento que se deben aplicar a los distintos datos (según lo que consideren necesario para el problema). Por ejemplo:\n",
    "\n",
    "- **Imputación de valores nulos**: Manejo de datos faltantes mediante estrategias adecuadas (media, mediana, moda, interpolación, etc.). \n",
    "\n",
    "- **Transformaciones personalizadas**: Uso de ColumnTransformer para aplicar diferentes transformaciones a columnas específicas.\n",
    "\n",
    "- **Codificación de variables categóricas**: Convertir datos categóricos a un formato numérico adecuado (One-Hot Encoding, Label Encoding, etc.).\n",
    "\n",
    "- **Discretización de variables**: Conversión de variables numéricas continuas en categorías si son relevantes para el desempeño del modelo a entrenar.\n",
    "\n",
    "- **Estandarización o normalización** : Ajustar la escala de los datos para mejorar el rendimiento de los algoritmos sensibles a la magnitud de las variables.\n",
    "\n",
    "- **Eliminación o transformación de valores atípicos**: Identificar y tratar con datos outliers para mejorar la robustez del modelo.\n",
    "\n",
    "- **Nuevas características** : Creación de variables adicionales que puedan aportar información relevante al modelo.\n",
    "\n",
    "Cada una de estas transformaciones debe ser justificada en función de su relevancia para el problema y los datos, y es importante evaluar su impacto en el rendimiento del modelo. Además, el pipeline debe ser flexible y modular para poder probar diferentes configuraciones de preprocesamiento."
   ]
  },
  {
   "cell_type": "code",
   "execution_count": null,
   "metadata": {},
   "outputs": [],
   "source": [
    "# Desarrolle aquí su código "
   ]
  },
  {
   "cell_type": "markdown",
   "metadata": {},
   "source": [
    "## 📌 Baseline [0.25 puntos]\n",
    "\n",
    "<center>\n",
    "<img src=\"https://media1.giphy.com/media/v1.Y2lkPTc5MGI3NjExN3lzeGFqZmU3NzJrZHllNjRmaHVzczJpZ29rdHdlMzVpZnQwNXo1diZlcD12MV9pbnRlcm5hbF9naWZfYnlfaWQmY3Q9Zw/qAtZM2gvjWhPjmclZE/giphy.gif\" width=\"300\" height=\"200\">"
   ]
  },
  {
   "cell_type": "markdown",
   "metadata": {},
   "source": [
    "En esta sección se debe construir el modelo más sencillo posible que pueda resolver el problema planteado, conocido como **Modelo baseline**. Su propósito es servir como referencia para comparar el rendimiento de los modelos más avanzados desarrollados en etapas posteriores.  \n",
    "\n",
    "Pasos requeridos:  \n",
    "- Implemente, entrene y evalúe un modelo básico utilizando un pipeline.  \n",
    "- Asegúrese de incluir en el pipeline las transformaciones del preprocesamiento realizadas previamente junto con un clasificador básico.  \n",
    "- Evalúe el modelo y presente el informe de métricas utilizando **`classification_report`**.  \n",
    "\n",
    "Documente claramente cómo se creó el modelo, las decisiones tomadas y los resultados obtenidos. Este modelo será la base comparativa en las secciones posteriores."
   ]
  },
  {
   "cell_type": "code",
   "execution_count": null,
   "metadata": {},
   "outputs": [],
   "source": [
    "# Desarrolle aquí su código "
   ]
  },
  {
   "cell_type": "markdown",
   "metadata": {},
   "source": [
    "## 📌 Elección de modelo [0.75 puntos]\n",
    "\n",
    "En esta sección deben escoger un modelo que se adapte a las necesidades del negocio. Para esto, pruebe al menos 3 modelos y desarrolle los siguientes aspectos para cada uno:\n",
    "\n",
    "- **Estructura y diferencias entre los modelos**: Explicar brevemente cada uno y sus hipérparámetros de mayor importancia.\n",
    "- **Clasificadores recomendados**:\n",
    "  - `LogisticRegression`\n",
    "  - `KNeighborsClassifier`\n",
    "  - `DecisionTreeClassifier`\n",
    "  - `SVC`\n",
    "  - `RandomForestClassifier`\n",
    "  - `LightGBMClassifier` (del paquete `lightgbm`)\n",
    "  - `XGBClassifier` (del paquete `xgboost`)\n",
    "  - Otro (según lo que se estime adecuado)\n",
    "  \n",
    "- **Evaluación de resultados**: Se utilizará el **`classification_report`** para evaluar el rendimiento de cada modelo, destacando métricas clave como precisión, recall y F1-score. **Importante: No optimicen hiperparámetros, la idea es hacer una selección rápida del modelo.**\n",
    "\n",
    "**Nota:** Pueden ocupar mas de 1 **instancia** de modelo para resolver el problema (e.g: (modelo_1, grupo_1), (modelo_2, grupo_2), ...).\n",
    "  \n",
    "A continuación, se deben responder las siguientes preguntas para evaluar el rendimiento de los modelos entrenados:\n",
    "\n",
    "1. ¿Hay algún clasificador que supere al modelo baseline?  \n",
    "2. ¿Cuál es el mejor clasificador entrenado y por qué?  \n",
    "3. ¿Qué factores hacen que el mejor clasificador sea superior a los otros?  \n",
    "4. En términos de `tiempo de entrenamiento`, ¿Qué modelo considera más adecuado para experimentar con grillas de optimización?"
   ]
  },
  {
   "cell_type": "code",
   "execution_count": null,
   "metadata": {},
   "outputs": [],
   "source": [
    "# Desarrolle aquí su código "
   ]
  },
  {
   "cell_type": "markdown",
   "metadata": {},
   "source": [
    "## 📌 Optimización de Hiperparámetros [1.0 puntos]\n",
    "\n",
    "<center>\n",
    "<img src=\"https://media1.giphy.com/media/v1.Y2lkPTc5MGI3NjExcXJkNzdhYjlneHplaGpsbnVkdzh5dnY3Y2VyaTIzamszdGR1czJ2diZlcD12MV9pbnRlcm5hbF9naWZfYnlfaWQmY3Q9Zw/2rqEdFfkMzXmo/giphy.gif\" width=\"300\" height=\"200\">"
   ]
  },
  {
   "cell_type": "markdown",
   "metadata": {},
   "source": [
    "A partir de su análisis anterior, se debe proceder a optimizar el rendimiento del modelo seleccionado mediante la optimización de sus hiperparámetros. Para ello, se espera que implementen `Optuna` para optimizar no solo los hiperparámetros del modelo, sino también los de los preprocesadores utilizados (por ejemplo, OneHot Encoding, Scalers, etc.).\n",
    "\n",
    "Al desarrollar este proceso, deberán responder las siguientes preguntas clave como mínimo:\n",
    "\n",
    "- ¿Qué métrica decidieron optimizar y por qué?\n",
    "\n",
    "- ¿Qué hiperparámetro tuvo un mayor impacto en el rendimiento de su modelo?\n",
    "\n",
    "- ¿Cuánto mejoró el rendimiento del modelo después de la optimización de hiperparámetros?"
   ]
  },
  {
   "cell_type": "code",
   "execution_count": null,
   "metadata": {},
   "outputs": [],
   "source": [
    "# Desarrolle aquí su código"
   ]
  },
  {
   "cell_type": "markdown",
   "metadata": {},
   "source": [
    "## 📌 Interpretabilidad [1.0 puntos]\n",
    "\n",
    "En esta sección, deben explicar el funcionamiento de su modelo utilizando las técnicas de interpretabilidad vistas en clase, como `SHAP`. Se espera que sean capaces de descomponer las predicciones y evaluar la importancia de los atributos y las interacciones entre ellos, con el fin de obtener una comprensión más profunda de cómo el modelo toma decisiones. \n",
    "\n",
    "Al desarrollar esta parte, deberán responder las siguientes preguntas clave como mínimo:\n",
    "\n",
    "- ¿Podría explicar el funcionamiento de su modelo para una predicción en particular? Si es así, proporcione al menos tres ejemplos específicos, describiendo cómo el modelo llegó a sus decisiones y qué factores fueron más relevantes en cada caso.\n",
    "\n",
    "- ¿Qué atributo tiene una mayor importancia en la salida de su modelo? Analice si esto tiene sentido con el problema planteado y justifique la relevancia de dicho atributo en el contexto de las predicciones que se realizan.\n",
    "\n",
    "- ¿Existe alguna interacción entre atributos que sea relevante para el modelo? Investigue si la combinación de ciertos atributos tiene un impacto significativo en las predicciones y explíquela en **detalle**.\n",
    "\n",
    "- ¿Podría existir sesgo hacia algún atributo en particular? Reflexione sobre la posibilidad de que el modelo esté favoreciendo ciertos atributos. Si es así, ¿cuál podría ser la causa y qué impacto podría tener esto en la predicción?"
   ]
  },
  {
   "cell_type": "code",
   "execution_count": null,
   "metadata": {},
   "outputs": [],
   "source": [
    "# Desarrolle aquí su código"
   ]
  },
  {
   "cell_type": "markdown",
   "metadata": {},
   "source": [
    "## 📌 Resultados y Conclusiones [1.0 puntos]\n",
    "\n",
    "Para finalizar, se deben explicar los desarrollos y resultados obtenidos a lo largo de todo el proceso, desde la selección de las variables hasta la optimización de hiperparámetros e interpretación. Se espera una reflexión crítica sobre el desempeño de los modelos entrenados y una comparación entre los diferentes enfoques. Además, deberán abordar los siguientes puntos clave:\n",
    "\n",
    "- **Análisis de métricas**: Comenten sobre las métricas obtenidas en cada etapa del modelo, destacando las más relevantes como precisión, recall, F1-score, etc. ¿Cuáles fueron los modelos más efectivos? ¿Qué diferencias notables encontró entre ellos?\n",
    "\n",
    "- **Impacto de las decisiones tomadas**: Reflexionen sobre cómo las decisiones relacionadas con el preprocesamiento, selección de atributos y optimización de hiperparámetros influyeron en los resultados finales. ¿Hubo alguna decisión que haya tenido un impacto notable en el rendimiento?\n",
    "\n",
    "- **Lecciones aprendidas**: Concluyan sobre las lecciones más importantes que aprendieron durante el proceso y cómo estas pueden influir en futuras iteraciones del modelo. ¿Qué se podría mejorar si se repitiera el proceso? Si tuvieran más recursos y tiempo, ¿qué otras técnicas/herramientas habrían utilizado?"
   ]
  },
  {
   "cell_type": "markdown",
   "metadata": {},
   "source": [
    "> [Escriba aquí sus resultados]"
   ]
  },
  {
   "cell_type": "markdown",
   "metadata": {},
   "source": [
    "Mucho éxito!\n",
    "\n",
    "<center>\n",
    "<img src=\"https://media3.giphy.com/media/v1.Y2lkPTc5MGI3NjExaHpvOTY5Z3hpdHI3aDBpdGRueXRqamZncXp2emFrbjJ5M2s5eTR1dSZlcD12MV9pbnRlcm5hbF9naWZfYnlfaWQmY3Q9Zw/1PMVNNKVIL8Ig/giphy.gif\" width=\"300\" height=\"200\">\n"
   ]
  }
 ],
 "metadata": {
  "kernelspec": {
   "display_name": "Python 3.13.5 ('base')",
   "language": "python",
   "name": "python3"
  },
  "language_info": {
   "codemirror_mode": {
    "name": "ipython",
    "version": 3
   },
   "file_extension": ".py",
   "mimetype": "text/x-python",
   "name": "python",
   "nbconvert_exporter": "python",
   "pygments_lexer": "ipython3",
   "version": "3.13.5"
  },
  "vscode": {
   "interpreter": {
    "hash": "3c06e3e46abf38078fe4dac36a0085ec2b134ebbd73dd076183d243eeca6918f"
   }
  }
 },
 "nbformat": 4,
 "nbformat_minor": 2
}
