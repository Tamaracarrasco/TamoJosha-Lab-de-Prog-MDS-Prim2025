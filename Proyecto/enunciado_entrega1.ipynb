{
 "cells": [
  {
   "cell_type": "markdown",
   "metadata": {},
   "source": [
    "![](https://www.dii.uchile.cl/wp-content/uploads/2021/06/Magi%CC%81ster-en-Ciencia-de-Datos.png)"
   ]
  },
  {
   "cell_type": "markdown",
   "metadata": {},
   "source": [
    "**MDS7202: Laboratorio de Programación Científica para Ciencia de Datos**\n",
    "\n",
    "### 👨‍🏫👩‍🏫 Cuerpo Docente:\n",
    "\n",
    "- Profesores: Diego Cortez, Gabriel Iturra\n",
    "- Auxiliares: Melanie Peña, Valentina Rojas\n",
    "- Ayudantes: Nicolás Cabello, Cristopher Urbina\n",
    "\n",
    "### 👨‍💻👩‍💻 Estudiantes:\n",
    "- Estudiante n°1: Josefa Anselmo.\n",
    "- Estudiante n°2: Tamara Carrasco.\n",
    "\n",
    "_Por favor, lean detalladamente las instrucciones de la tarea antes de empezar a escribir._\n",
    "\n",
    "---"
   ]
  },
  {
   "cell_type": "markdown",
   "metadata": {},
   "source": [
    "---\n",
    "\n",
    "## 📖 Enunciado "
   ]
  },
  {
   "cell_type": "markdown",
   "metadata": {},
   "source": [
    "<div align=\"center\">\n",
    "    <img src='https://github.com/MDS7202/MDS7202/blob/main/recursos/2025-01/proyecto/proyecto.png?raw=true' style=\"border-radius: 12px\"> \n",
    "</div>"
   ]
  },
  {
   "cell_type": "markdown",
   "metadata": {},
   "source": [
    "En el competitivo universo de las bebidas gaseosas, la empresa **SodAI Drinks 🥤** ha logrado destacarse por su creatividad, diversidad de productos y enfoque centrado en el cliente. Ofrece una extensa gama de bebidas carbonatadas que abarca distintos segmentos del mercado: desde productos premium en presentaciones sofisticadas, hasta gaseosas accesibles para el consumo masivo, disponibles en diversos tamaños y tipos de envases. \n",
    "\n",
    "La compañía opera en múltiples regiones y zonas, sirviendo a una variedad de puntos de venta que incluyen desde tiendas de conveniencia y minimarkets hasta el canal frío tradicional. Cada tipo de cliente tiene sus particularidades: algunos reciben entregas hasta 4 veces por semana, mientras que otros son visitados por la fuerza de ventas solo una vez semanalmente. Esta diversidad de perfiles representa tanto una oportunidad como un desafío comercial: ¿cómo saber qué productos tienen más chances de ser comprados por cada cliente en un momento dado?\n",
    "\n",
    "Con el objetivo de aumentar la facturación de forma inteligente y mejorar la eficiencia de su estrategia de ventas, **SodAI Drinks** decide crear una nueva célula interna de innovación: el equipo **Deep Drinkers 🤖**, cuyo propósito es aplicar ciencia de datos para anticiparse a las necesidades del cliente y potenciar el negocio desde una perspectiva basada en información.\n",
    "\n",
    "El corazón de esta iniciativa es el desarrollo de un sistema predictivo personalizado para cada cliente. Para ello, **Deep Drinkers** convoca a un equipo de Data Scientists y especialistas en *machine learning* con una misión clara: construir un modelo predictivo que, cada semana, pueda estimar la probabilidad de compra de cada producto del portafolio para cada cliente activo.\n",
    "\n",
    "El modelo deberá tener en cuenta múltiples factores, incluyendo:\n",
    "- **Tipo de cliente**, ej. \"TIENDA DE CONVENIENCIA\", \"MINIMARKET\".\n",
    "- **Frecuencia de entregas y visitas**, indicadores del nivel de actividad comercial.\n",
    "- **Ubicación geográfica** (por región y zona).\n",
    "- **Preferencias históricas de consumo**, inferidas por patrones de compra anteriores.\n",
    "- **Características del producto**, como marca, categoría, segmento, tipo de envase y tamaño\n",
    "\n",
    "El objetivo final es que, **cada semana**, se genere una tabla de productos priorizados: para cada cliente, un listado de productos ordenado por su probabilidad estimada de compra. Esta información será enviada al equipo comercial, que podrá usarla en call center, para incrementar las chances de concretar ventas al ofrecer justo lo que el cliente probablemente quiere comprar.\n",
    "\n",
    "Este proyecto representa un cambio de paradigma en la forma en que **SodAI Drinks** gestiona su fuerza de ventas: de un enfoque reactivo y generalista, a uno proactivo, basado en datos y profundamente personalizado. Así, la empresa no solo espera aumentar su rentabilidad, sino también construir relaciones más sólidas con sus clientes, ofreciéndoles recomendaciones más relevantes y oportunas.\n",
    "\n",
    "Para lograr lo anterior, el equipo **Deep Drinkers** contará con los siguientes conjuntos de datos, junto a sus respectivos atributos:\n",
    "\n",
    "- **Datos transaccionales** (`transacciones.parquet`): contiene el historial de compras realizadas por los clientes.\n",
    "\t- `customer_id`: identificador único del cliente que realizó la compra.\n",
    "\t- `product_id`: identificador único del producto comprado.\n",
    "\t- `purchase_date`: fecha en que se realizó la transacción.\n",
    "\t- `order_id`: identificar de la orden de su pedido.\n",
    "\t- `payment`\tmonto total pagado por la transacción.\n",
    "\n",
    "- **Datos de clientes** (`clientes.parquet`): incluye las características de cada cliente.\n",
    "\t- `customer_id`: identificador único del cliente.\n",
    "\t- `region_id`: identificador de la región geográfica donde se encuentra el cliente.\n",
    "\t- `customer_type`: tipo de cliente según el canal comercial, por ejemplo, “TIENDA DE CONVENIENCIA”.\n",
    "\t- `Y`: coordenada geográfica de latitud.\n",
    "\t- `X`: coordenada geográfica de longitud.\n",
    "\t- `num_deliver_per_week`: cantidad de entregas semanales que recibe el cliente.\n",
    "\t- `num_visit_per_week`: frecuencia de visitas de la fuerza de ventas por semana.\n",
    "\n",
    "- **Datos de productos** (`productos.parquet`): describe las características de los productos del portafolio.\n",
    "\t- `product_id`: identificador único del producto.\n",
    "\t- `brand`: marca comercial del producto.\n",
    "\t- `category`: categoría general del producto, como “BEBIDAS CARBONATADAS”.\n",
    "\t- `sub_category`: subcategoría dentro de la categoría principal, por ejemplo, “GASEOSAS”.\n",
    "\t- `segment`: segmento de mercado al que pertenece el producto, como “PREMIUM”.\n",
    "\t- `package`: tipo de envase del producto.\n",
    "\t- `size`: tamaño del producto en litros."
   ]
  },
  {
   "cell_type": "markdown",
   "metadata": {},
   "source": [
    "## 📚 Reglas"
   ]
  },
  {
   "cell_type": "markdown",
   "metadata": {},
   "source": [
    "<center>\n",
    "<img src=\"https://media1.tenor.com/m/0Qtv_cQ4ITsAAAAd/necohaus-grey-name.gif\" width=\"450\">"
   ]
  },
  {
   "cell_type": "markdown",
   "metadata": {},
   "source": [
    "\n",
    "\n",
    "El proyecto consta de **dos entregas parciales** y una **entrega final** en donde la primera entrega la idea es poder reflejar lo aprendido durante la primera mitad del curso, que será sobre los contenidos relacionados a *machine learning*, la segunda será sobre los contenidos de la segunda mitad del curso relacionados a *MLOps* y por último la entrega final constará de dos partes, donde la primera será relacionada con experimentación sobre nuevos datasets que serán disponibilizados durante las últimas semanas del curso de manera incremental y una segunda parte que será el informe final escrito que deberá explicar el desarrollo del proyecto completo, como tambien los resultados y análisis de los experimentos realizados sobre los datasets incrementales. La idea es que todo el código esté desarrollado durante las primeras dos entregas y luego en la entrega final sólo se ejecute el código sobre nuevos conjuntos de datos.\n",
    "\n",
    "La idea de generar el proyecto por etapas es poder aliviar la carga de trabajo en las últimas semanas del semestre donde sabemos que están muy cargado con entregas, pruebas y exámenes de otros ramos, y así garantizamos que habiendo la desarrollado las dos primeras entregas parciales, tendrán el grueso del proyecto listo para luego experimentar y documentar.\n",
    "\n",
    "---\n",
    "### **Fechas de entrega**\n",
    "- **Entrega parcial 1**: 12 de Septiembre\n",
    "- **Entrega parcial 2**: Por definir\n",
    "- **Entrega final**: Por definir\n",
    "\n",
    "---\n",
    "\n",
    "### **Requisitos del proyecto**\n",
    "- **Grupos**: Formar equipos de **2 personas**. No se aceptarán trabajos individuales o grupos con más integrantes.\n",
    "- **Consultas**: Cualquier duda fuera del horario de clases debe ser planteada en el foro correspondiente. Los mensajes enviados al equipo docente serán respondidos únicamente por este medio. Por favor, revisen las respuestas anteriores en el foro antes de realizar nuevas consultas.\n",
    "- **Plagio**: La copia o reutilización no autorizada de trabajos de otros grupos está **estrictamente prohibida**. El incumplimiento de esta norma implicará la anulación inmediata del proyecto y una posible sanción académica.\n",
    "- **Material permitido**: Pueden usar cualquier material del curso, ya sea notas, lecturas, códigos, o referencias proporcionadas por los docentes, que consideren útil para el desarrollo del proyecto.\n",
    "\n",
    "---\n",
    "\n",
    "### **Entregables y etapas**\n",
    "\n",
    "#### **1. Entrega Parcial 1**  \n",
    "- Dispondrán de los archivos de datos **productos.parquet**, **clientes.parquet** y **transacciones.parquet** para el modelamiento inicial.  \n",
    "- Utilizarán estos archivos para desarrollar lo solicitado para la entrega 1. \n",
    "- En esta etapa, se espera que apliquen todos los conocimientos aprendidos durante la primera parte del curso relacionados con *machine learning*.\n",
    "- **Informe**: No se exige un avance del informe en esta etapa, sólo un notebook con su desarrollo actual, pero se **recomienda comenzar** a redactar el informe final en paralelo para disminuir la carga académica en las etapas posteriores.  \n",
    "\n",
    "#### **2. Entrega Parcial 2**  \n",
    "- En esta entrega, deberán aplicar los conocimientos aprendidos durante la segunda mitad del curso sobre *MLOps*  \n",
    "- Se espera que implementen estos conocimientos para desplegar su modelo elegido en la primera entrega y crear *pipelines* automatizados que simulen un entorno productivo.\n",
    "- **Informe**: similar a la primera etapa, no se exige un avance del informe, pero se **recomienda avanzar con su redacción** para evitar una acumulación de trabajo en la etapa final.  \n",
    "\n",
    "#### **3. Entrega Final**  \n",
    "- En la entrega final, deberán realizar dos etapas:\n",
    "\t- La primera etapa es sobre experimentación utilizando datasets incrementales que se irán disponibilizando de manera parcial, para que vayan generando predicciones con su modelo ya desplegado. El objetivo de esta etapa es poder testear su solución *end-to-end* y que vayan analizando los resultados obtenidos a medida que se van agregando más datos.\n",
    "\t- La segunda etapa consiste en redactar un informe final que deberá explicar el desarrollo completo de tu proyecto y un análisis profundo de sus resultados de experimentación. Este informe debera incluir a lo menos las siguientes secciones:\n",
    "\t\t- Análisis exploratorio de datos  \n",
    "\t\t- Metodología aplicada  \n",
    "\t\t- Selección y entrenamiento de modelos  \n",
    "\t\t- Evaluación de resultados  \n",
    "\t\t- Optimización de modelos\n",
    "\t\t- Interpretabilidad\n",
    "\t\t- Re-entrenamiento\n",
    "\t\t- Tracking con MLFlow\n",
    "\t\t- Creación de la aplicación web con Gradio y FastAPI\n",
    "\n",
    "Es **altamente recomendable** ir redactando el informe en paralelo al desarrollo de los modelos para garantizar que toda la información relevante quede documentada adecuadamente.  \n",
    "\n",
    "### Nota Final\n",
    "\n",
    "La calificación final de su proyecto se calculará utilizando la siguiente ponderación: \n",
    "\n",
    "$$Nota Final = 0.30 * EntregaParcial1 + 0.40 * EntregaParcial2 + 0.30 * EntregaFinal$$\n",
    "\n",
    "---\n",
    "\n",
    "### **Instrucciones importantes**\n",
    "\n",
    "1. **Formato del informe**:  \n",
    "   - El informe debe estar integrado dentro de un **Jupyter Notebook**. No es necesario subirlo a una plataforma externa, pero debe cumplir con los siguientes requisitos:  \n",
    "     - Estructura clara y ordenada.  \n",
    "     - Código acompañado de explicaciones detalladas.  \n",
    "     - Resultados presentados de forma visual y analítica.  \n",
    "\n",
    "2. **Descuento por informes deficientes**:  \n",
    "   - Cualquier sección del informe que no tenga una explicación adecuada o no respete el formato será penalizada con un descuento en la nota. Esto incluye código sin comentarios o análisis que no sean coherentes con los resultados presentados.\n",
    "   - Comentarios sin formatear de ChatGPT o herramientas similares serán penalizados (e.g: \"Inserta tu modelo acá\", etc.)"
   ]
  },
  {
   "cell_type": "markdown",
   "metadata": {},
   "source": [
    "# 📬 Entrega Parcial 1 (30% del Proyecto)"
   ]
  },
  {
   "cell_type": "markdown",
   "metadata": {},
   "source": [
    "### 📪 Fecha de Entrega: 12 de Septiembre"
   ]
  },
  {
   "cell_type": "markdown",
   "metadata": {},
   "source": [
    "## 📌 Abstract [0.25 puntos]\n",
    "\n",
    "<center>\n",
    "<img src=\"https://i.redd.it/h5ptnsyabqvd1.gif\" width=\"400\" height=\"300\">"
   ]
  },
  {
   "cell_type": "markdown",
   "metadata": {},
   "source": [
    "En esta sección, deben redactar un Abstract claro y conciso para su proyecto. El Abstract debe responder a las siguientes preguntas clave:\n",
    "\n",
    "- **Descripción del problema**: ¿Cuál es el objetivo del proyecto? ¿Qué se intenta predecir o analizar?\n",
    "- **Datos de entrada**: ¿Qué datos tienen disponibles? ¿Cuáles son sus principales características?\n",
    "- **Métrica de evaluación**: ¿Cómo medirán el desempeño de sus modelos? Expliquen por qué eligieron esta métrica basándose en el análisis exploratorio de los datos.\n",
    "- **Modelos y transformaciones**: ¿Qué modelos utilizarán y por qué? ¿Qué transformaciones o preprocesamientos aplicaron a los datos?\n",
    "- **Resultados generales**: ¿El modelo final cumplió con los objetivos del proyecto? ¿Cuáles fueron las conclusiones más importantes?\n",
    "\n",
    "**Importante**: Escriban esto despues de haber resuelto el resto de la tarea."
   ]
  },
  {
   "cell_type": "markdown",
   "metadata": {},
   "source": [
    "> [Escriba aquí su Abstract]"
   ]
  },
  {
   "cell_type": "markdown",
   "metadata": {},
   "source": [
    "## 📌 Pre-procesamiento [0.5 puntos]\n",
    "\n",
    "<center>\n",
    "<img src=\"https://media0.giphy.com/media/10zsjaH4g0GgmY/giphy.gif?cid=6c09b9523xtlunksc9amikw09zk1bmiqwjqnt70ae82rk877&ep=v1_gifs_search&rid=giphy.gif&ct=g\" width=\"400\" height=\"300\">"
   ]
  },
  {
   "cell_type": "markdown",
   "metadata": {},
   "source": [
    "Tal como en muchos otros problemas de negocio, los datos probablemente deben ser pre procesados antes de aplicar cualquier técnica de analítica. Bajo esa premisa, en esta sección deben desarrollar código que les permita **preparar los datos** de tal forma que les permita resolver el problema planteado. Para esto, pueden aplicar procesamientos como:\n",
    "\n",
    "- Transformaciones de tipo de dato (str, int, etc)\n",
    "- Cruce de información\n",
    "- Eliminación de duplicados\n",
    "- Filtros de fila y/o columnas\n",
    "\n",
    "*Hint: ¿Qué forma debería tener la data para resolver un problema de aprendizaje supervisado?*\n",
    "\n",
    "Todo proceso llevado a cabo debe estar bien documentado y justificado en el informe, explicando el por qué se decidió realizar en funcion de los datos presentados y los objetivos planteados del proyecto."
   ]
  },
  {
   "cell_type": "code",
   "execution_count": 139,
   "metadata": {},
   "outputs": [
    {
     "name": "stdout",
     "output_type": "stream",
     "text": [
      "========== Primeros 3 registros del dataset Clientes ==========\n"
     ]
    },
    {
     "data": {
      "text/html": [
       "<div>\n",
       "<style scoped>\n",
       "    .dataframe tbody tr th:only-of-type {\n",
       "        vertical-align: middle;\n",
       "    }\n",
       "\n",
       "    .dataframe tbody tr th {\n",
       "        vertical-align: top;\n",
       "    }\n",
       "\n",
       "    .dataframe thead th {\n",
       "        text-align: right;\n",
       "    }\n",
       "</style>\n",
       "<table border=\"1\" class=\"dataframe\">\n",
       "  <thead>\n",
       "    <tr style=\"text-align: right;\">\n",
       "      <th></th>\n",
       "      <th>customer_id</th>\n",
       "      <th>region_id</th>\n",
       "      <th>zone_id</th>\n",
       "      <th>customer_type</th>\n",
       "      <th>Y</th>\n",
       "      <th>X</th>\n",
       "      <th>num_deliver_per_week</th>\n",
       "      <th>num_visit_per_week</th>\n",
       "    </tr>\n",
       "  </thead>\n",
       "  <tbody>\n",
       "    <tr>\n",
       "      <th>10705</th>\n",
       "      <td>256017</td>\n",
       "      <td>80</td>\n",
       "      <td>5148</td>\n",
       "      <td>ABARROTES</td>\n",
       "      <td>-46.474800</td>\n",
       "      <td>-108.045140</td>\n",
       "      <td>1</td>\n",
       "      <td>1</td>\n",
       "    </tr>\n",
       "    <tr>\n",
       "      <th>10706</th>\n",
       "      <td>255780</td>\n",
       "      <td>80</td>\n",
       "      <td>5148</td>\n",
       "      <td>ABARROTES</td>\n",
       "      <td>-46.520282</td>\n",
       "      <td>-107.961052</td>\n",
       "      <td>1</td>\n",
       "      <td>1</td>\n",
       "    </tr>\n",
       "    <tr>\n",
       "      <th>10707</th>\n",
       "      <td>254655</td>\n",
       "      <td>80</td>\n",
       "      <td>5148</td>\n",
       "      <td>ABARROTES</td>\n",
       "      <td>-46.537640</td>\n",
       "      <td>-107.909280</td>\n",
       "      <td>1</td>\n",
       "      <td>1</td>\n",
       "    </tr>\n",
       "  </tbody>\n",
       "</table>\n",
       "</div>"
      ],
      "text/plain": [
       "       customer_id  region_id  zone_id customer_type          Y           X  \\\n",
       "10705       256017         80     5148     ABARROTES -46.474800 -108.045140   \n",
       "10706       255780         80     5148     ABARROTES -46.520282 -107.961052   \n",
       "10707       254655         80     5148     ABARROTES -46.537640 -107.909280   \n",
       "\n",
       "       num_deliver_per_week  num_visit_per_week  \n",
       "10705                     1                   1  \n",
       "10706                     1                   1  \n",
       "10707                     1                   1  "
      ]
     },
     "execution_count": 139,
     "metadata": {},
     "output_type": "execute_result"
    }
   ],
   "source": [
    "# Desarrolle aquí su código\n",
    "\n",
    "# librerías para EDA\n",
    "\n",
    "import pandas as pd\n",
    "import numpy as np\n",
    "import seaborn as sns\n",
    "import matplotlib.pyplot as plt\n",
    "import plotly.express as px\n",
    "\n",
    "# Carga de archivos\n",
    "\n",
    "clientes = pd.read_parquet(\"clientes.parquet\")\n",
    "productos = pd.read_parquet(\"productos.parquet\")\n",
    "transacciones = pd.read_parquet(\"transacciones.parquet\")\n",
    "\n",
    "print(\"=\"*10 + \" Primeros 3 registros del dataset Clientes \"+ \"=\"*10)\n",
    "clientes.head(3)\n"
   ]
  },
  {
   "cell_type": "code",
   "execution_count": 140,
   "metadata": {},
   "outputs": [
    {
     "name": "stdout",
     "output_type": "stream",
     "text": [
      "========== Primeros 3 registros del dataset Productos ==========\n"
     ]
    },
    {
     "data": {
      "text/html": [
       "<div>\n",
       "<style scoped>\n",
       "    .dataframe tbody tr th:only-of-type {\n",
       "        vertical-align: middle;\n",
       "    }\n",
       "\n",
       "    .dataframe tbody tr th {\n",
       "        vertical-align: top;\n",
       "    }\n",
       "\n",
       "    .dataframe thead th {\n",
       "        text-align: right;\n",
       "    }\n",
       "</style>\n",
       "<table border=\"1\" class=\"dataframe\">\n",
       "  <thead>\n",
       "    <tr style=\"text-align: right;\">\n",
       "      <th></th>\n",
       "      <th>product_id</th>\n",
       "      <th>brand</th>\n",
       "      <th>category</th>\n",
       "      <th>sub_category</th>\n",
       "      <th>segment</th>\n",
       "      <th>package</th>\n",
       "      <th>size</th>\n",
       "    </tr>\n",
       "  </thead>\n",
       "  <tbody>\n",
       "    <tr>\n",
       "      <th>0</th>\n",
       "      <td>34092</td>\n",
       "      <td>Brand 31</td>\n",
       "      <td>BEBIDAS CARBONATADAS</td>\n",
       "      <td>GASEOSAS</td>\n",
       "      <td>PREMIUM</td>\n",
       "      <td>BOTELLA</td>\n",
       "      <td>0.66</td>\n",
       "    </tr>\n",
       "    <tr>\n",
       "      <th>1</th>\n",
       "      <td>57290</td>\n",
       "      <td>Brand 31</td>\n",
       "      <td>BEBIDAS CARBONATADAS</td>\n",
       "      <td>GASEOSAS</td>\n",
       "      <td>PREMIUM</td>\n",
       "      <td>BOTELLA</td>\n",
       "      <td>0.66</td>\n",
       "    </tr>\n",
       "    <tr>\n",
       "      <th>2</th>\n",
       "      <td>56714</td>\n",
       "      <td>Brand 31</td>\n",
       "      <td>BEBIDAS CARBONATADAS</td>\n",
       "      <td>GASEOSAS</td>\n",
       "      <td>PREMIUM</td>\n",
       "      <td>BOTELLA</td>\n",
       "      <td>0.66</td>\n",
       "    </tr>\n",
       "  </tbody>\n",
       "</table>\n",
       "</div>"
      ],
      "text/plain": [
       "   product_id     brand              category sub_category  segment  package  \\\n",
       "0       34092  Brand 31  BEBIDAS CARBONATADAS     GASEOSAS  PREMIUM  BOTELLA   \n",
       "1       57290  Brand 31  BEBIDAS CARBONATADAS     GASEOSAS  PREMIUM  BOTELLA   \n",
       "2       56714  Brand 31  BEBIDAS CARBONATADAS     GASEOSAS  PREMIUM  BOTELLA   \n",
       "\n",
       "   size  \n",
       "0  0.66  \n",
       "1  0.66  \n",
       "2  0.66  "
      ]
     },
     "execution_count": 140,
     "metadata": {},
     "output_type": "execute_result"
    }
   ],
   "source": [
    "print(\"=\"*10 + \" Primeros 3 registros del dataset Productos \"+ \"=\"*10)\n",
    "productos.head(3)"
   ]
  },
  {
   "cell_type": "code",
   "execution_count": 141,
   "metadata": {},
   "outputs": [
    {
     "name": "stdout",
     "output_type": "stream",
     "text": [
      "========== Primeros 3 registros del dataset Transacciones ==========\n"
     ]
    },
    {
     "data": {
      "text/html": [
       "<div>\n",
       "<style scoped>\n",
       "    .dataframe tbody tr th:only-of-type {\n",
       "        vertical-align: middle;\n",
       "    }\n",
       "\n",
       "    .dataframe tbody tr th {\n",
       "        vertical-align: top;\n",
       "    }\n",
       "\n",
       "    .dataframe thead th {\n",
       "        text-align: right;\n",
       "    }\n",
       "</style>\n",
       "<table border=\"1\" class=\"dataframe\">\n",
       "  <thead>\n",
       "    <tr style=\"text-align: right;\">\n",
       "      <th></th>\n",
       "      <th>customer_id</th>\n",
       "      <th>product_id</th>\n",
       "      <th>order_id</th>\n",
       "      <th>purchase_date</th>\n",
       "      <th>items</th>\n",
       "    </tr>\n",
       "  </thead>\n",
       "  <tbody>\n",
       "    <tr>\n",
       "      <th>124</th>\n",
       "      <td>61353</td>\n",
       "      <td>61364</td>\n",
       "      <td>411145</td>\n",
       "      <td>2024-04-27</td>\n",
       "      <td>-0.333333</td>\n",
       "    </tr>\n",
       "    <tr>\n",
       "      <th>127</th>\n",
       "      <td>61899</td>\n",
       "      <td>1370</td>\n",
       "      <td>411156</td>\n",
       "      <td>2024-04-27</td>\n",
       "      <td>3.666667</td>\n",
       "    </tr>\n",
       "    <tr>\n",
       "      <th>344</th>\n",
       "      <td>154077</td>\n",
       "      <td>30500</td>\n",
       "      <td>417911</td>\n",
       "      <td>2024-04-29</td>\n",
       "      <td>2.333333</td>\n",
       "    </tr>\n",
       "  </tbody>\n",
       "</table>\n",
       "</div>"
      ],
      "text/plain": [
       "     customer_id  product_id  order_id purchase_date     items\n",
       "124        61353       61364    411145    2024-04-27 -0.333333\n",
       "127        61899        1370    411156    2024-04-27  3.666667\n",
       "344       154077       30500    417911    2024-04-29  2.333333"
      ]
     },
     "execution_count": 141,
     "metadata": {},
     "output_type": "execute_result"
    }
   ],
   "source": [
    "print(\"=\"*10 + \" Primeros 3 registros del dataset Transacciones \"+ \"=\"*10)\n",
    "transacciones.head(3)"
   ]
  },
  {
   "cell_type": "code",
   "execution_count": 142,
   "metadata": {},
   "outputs": [
    {
     "name": "stdout",
     "output_type": "stream",
     "text": [
      "========== Dimensiones de los datasets ==========\n",
      "Clientes:  (1569, 8)\n",
      "Productos:  (971, 7)\n",
      "Transacciones:  (254936, 5)\n"
     ]
    }
   ],
   "source": [
    "# dimensiones de los dataset\n",
    "\n",
    "print(\"=\"*10 + \" Dimensiones de los datasets \" + \"=\"*10)\n",
    "\n",
    "print(\"Clientes: \", clientes.shape)\n",
    "\n",
    "print(\"Productos: \", productos.shape)\n",
    "\n",
    "print(\"Transacciones: \", transacciones.shape)"
   ]
  },
  {
   "cell_type": "code",
   "execution_count": 143,
   "metadata": {},
   "outputs": [
    {
     "name": "stdout",
     "output_type": "stream",
     "text": [
      "columnas del archivo cliente:  ['customer_id', 'region_id', 'zone_id', 'customer_type', 'Y', 'X', 'num_deliver_per_week', 'num_visit_per_week']\n",
      "Columnas del archivo productos:  ['product_id', 'brand', 'category', 'sub_category', 'segment', 'package', 'size']\n",
      "Columnas del archivo transacciones ['customer_id', 'product_id', 'order_id', 'purchase_date', 'items']\n"
     ]
    }
   ],
   "source": [
    "\n",
    "# Nombres de columnas identificadas de cada archivo\n",
    "\n",
    "client_columns = clientes.columns.tolist()\n",
    "\n",
    "products_columns = productos.columns.tolist()\n",
    "\n",
    "transactions_columns = transacciones.columns.tolist()\n",
    "\n",
    "print(\"columnas del archivo cliente: \", client_columns)\n",
    "\n",
    "print(\"Columnas del archivo productos: \", products_columns)\n",
    "\n",
    "print(\"Columnas del archivo transacciones\", transactions_columns)\n"
   ]
  },
  {
   "cell_type": "code",
   "execution_count": 144,
   "metadata": {},
   "outputs": [
    {
     "name": "stdout",
     "output_type": "stream",
     "text": [
      "==============================Tipo de valores en las columnas (Cliente) ==============================\n",
      "customer_id               int64\n",
      "region_id                 int64\n",
      "zone_id                   int64\n",
      "customer_type            object\n",
      "Y                       float64\n",
      "X                       float64\n",
      "num_deliver_per_week      int64\n",
      "num_visit_per_week        int64\n",
      "dtype: object\n",
      "==============================Tipo de valores en las columnas (productos) ==============================\n",
      "product_id        int64\n",
      "brand            object\n",
      "category         object\n",
      "sub_category     object\n",
      "segment          object\n",
      "package          object\n",
      "size            float64\n",
      "dtype: object\n",
      "==============================Tipo de valores en las columnas (transacciones) ==============================\n",
      "customer_id               int64\n",
      "product_id                int64\n",
      "order_id                  int64\n",
      "purchase_date    datetime64[ns]\n",
      "items                   float64\n",
      "dtype: object\n",
      "================================================================================\n"
     ]
    }
   ],
   "source": [
    "# Tipo de datos identificados en las columnas\n",
    "print(\"=\"*30 + \"Tipo de valores en las columnas (Cliente) \"+ \"=\"*30)\n",
    "print(clientes.dtypes)\n",
    "\n",
    "\n",
    "print(\"=\"*30 + \"Tipo de valores en las columnas (productos) \"+ \"=\"*30)\n",
    "print(productos.dtypes)\n",
    "\n",
    "\n",
    "print(\"=\"*30 + \"Tipo de valores en las columnas (transacciones) \"+ \"=\"*30)\n",
    "print(transacciones.dtypes)\n",
    "print(\"=\"*80)"
   ]
  },
  {
   "cell_type": "code",
   "execution_count": 179,
   "metadata": {},
   "outputs": [],
   "source": [
    "# tipos de valores en cada columna\n",
    "\n",
    "def column_type(dataframe, printeo=\"yes\"):\n",
    "    \"\"\" Función que puede mostrar o retornar los nombres de las columnas de un dataframe\n",
    "    Parámetros:\n",
    "    -----------\n",
    "    \n",
    "    dataframe: pandas DataFrame\n",
    "    printeo: str. \"yes\" por default. mostrará los nombres de las columnas. Si printeo =\"no\",\n",
    "    retornará un numpy.array con los nombres de las columnas.\n",
    "    Indíce 0: columnas categóricas, idx: 1 -> columnas binarias, idx: 2 -> columnas numéricas,\n",
    "    idx: 3 -> categóricas nominales, idx: 4 .> categóricas ordinales\"\"\"\n",
    "\n",
    "    categorical_columns = [col for col in dataframe.select_dtypes(include='object').columns if dataframe[col].nunique() > 2]\n",
    "\n",
    "    categorical_nominal = [\"category\",\"customer_type\", \"package\"]\n",
    "\n",
    "    categorical_ordinal = [col for col in categorical_columns if col not in categorical_nominal]\n",
    "\n",
    "    binary_columns = [col for col in dataframe.columns if dataframe[col].nunique() == 2 ]\n",
    "\n",
    "    numerical_columns = [col for col in dataframe.columns if type(col) == int or float and col not in categorical_columns + binary_columns + \n",
    "                            categorical_nominal\n",
    "                            ]\n",
    "\n",
    "    if printeo==\"yes\":\n",
    "        print(\"Categorical Columns:\")\n",
    "        print(categorical_columns)\n",
    "        print(\"\\nBinary Columns:\")\n",
    "        print(binary_columns)\n",
    "        print(\"\\nNumeric Columns:\")\n",
    "        print(numerical_columns)\n",
    "        print(\"\\ncategorical_nominal:\")\n",
    "        print(categorical_nominal)\n",
    "        print(\"\\ncategorical_ordinal:\")\n",
    "        print(categorical_ordinal)\n",
    "    else:\n",
    "        return categorical_columns, binary_columns, numerical_columns, categorical_nominal, categorical_ordinal\n"
   ]
  },
  {
   "cell_type": "code",
   "execution_count": 146,
   "metadata": {},
   "outputs": [
    {
     "data": {
      "text/plain": [
       "(['customer_type'],\n",
       " [],\n",
       " ['customer_id',\n",
       "  'region_id',\n",
       "  'zone_id',\n",
       "  'Y',\n",
       "  'X',\n",
       "  'num_deliver_per_week',\n",
       "  'num_visit_per_week'],\n",
       " ['category', 'customer_type', 'package'],\n",
       " [])"
      ]
     },
     "execution_count": 146,
     "metadata": {},
     "output_type": "execute_result"
    }
   ],
   "source": [
    "column_type(clientes, printeo=\"no\")"
   ]
  },
  {
   "cell_type": "code",
   "execution_count": 147,
   "metadata": {},
   "outputs": [],
   "source": [
    "# Estadísticas básicas para columnas numéricas y categóricas\n",
    "\n",
    "def describe(dataframe, str=\"number\"):\n",
    "    \"\"\"Función que arroja estadísticas básicas de columnas\n",
    "    de un dataframe\n",
    "    \n",
    "    Parámetros:\n",
    "    ------------\n",
    "    data_frame: pandas_dataframe\n",
    "    str: indica el tipo de columna para obtener estadísticas.\n",
    "    Puede ser \"object\" para columnas que contienen valores categóricos.\n",
    "    \n",
    "    Return: \n",
    "    ------------\n",
    "    Muestra en pantalla las estadísticas\"\"\"\n",
    "\n",
    "    if str==\"number\":\n",
    "        col = column_type(dataframe, printeo=\"no\")[2]\n",
    "        print(dataframe[col].describe().round(3))\n",
    "    \n",
    "    elif str==\"object\":\n",
    "        col = column_type(dataframe, printeo=\"no\")[0]\n",
    "        for i in col:\n",
    "            print(dataframe[i].value_counts())\n",
    "    else:\n",
    "        raise TypeError(\" str solo soporta number u object\")\n",
    "        \n"
   ]
  },
  {
   "cell_type": "code",
   "execution_count": 148,
   "metadata": {},
   "outputs": [
    {
     "name": "stdout",
     "output_type": "stream",
     "text": [
      "       customer_id  region_id  zone_id         Y         X  \\\n",
      "count     1569.000     1569.0   1569.0  1569.000  1568.000   \n",
      "mean    198095.184       80.0   5148.0   -46.701  -107.744   \n",
      "std      66482.828        0.0      0.0     2.700     2.693   \n",
      "min      25734.000       80.0   5148.0  -109.003  -108.621   \n",
      "25%     178818.000       80.0   5148.0   -46.586  -107.934   \n",
      "50%     206697.000       80.0   5148.0   -46.556  -107.895   \n",
      "75%     227670.000       80.0   5148.0   -46.514  -107.862   \n",
      "max    2061063.000       80.0   5148.0   -46.162   -46.443   \n",
      "\n",
      "       num_deliver_per_week  num_visit_per_week  \n",
      "count              1569.000              1569.0  \n",
      "mean                  3.105                 1.0  \n",
      "std                   0.516                 0.0  \n",
      "min                   1.000                 1.0  \n",
      "25%                   3.000                 1.0  \n",
      "50%                   3.000                 1.0  \n",
      "75%                   3.000                 1.0  \n",
      "max                   6.000                 1.0  \n",
      "customer_type\n",
      "ABARROTES                 1160\n",
      "MAYORISTA                  223\n",
      "CANAL FRIO                  85\n",
      "RESTAURANT                  60\n",
      "SUPERMERCADO                25\n",
      "MINIMARKET                   9\n",
      "TIENDA DE CONVENIENCIA       7\n",
      "Name: count, dtype: int64\n"
     ]
    }
   ],
   "source": [
    "# dataset clientes\n",
    "\n",
    "describe(clientes)\n",
    "describe(clientes, str=\"object\")"
   ]
  },
  {
   "cell_type": "markdown",
   "metadata": {},
   "source": [
    "Las estadísticas que importan del dataset de ``clientes.parquet`` son de las columnas ``num_deliver_per_week``, ``num_visit_per_week`` y ``customer_type``"
   ]
  },
  {
   "cell_type": "code",
   "execution_count": 149,
   "metadata": {},
   "outputs": [
    {
     "name": "stdout",
     "output_type": "stream",
     "text": [
      "       customer_id  product_id     order_id                  purchase_date  \\\n",
      "count   254936.000  254936.000   254936.000                         254936   \n",
      "mean    190423.881   30736.521   639982.957  2024-07-11 07:49:38.893526016   \n",
      "min      25734.000      60.000     2545.000            2024-01-01 00:00:00   \n",
      "25%     175878.000    1372.000   312307.000            2024-03-26 00:00:00   \n",
      "50%     203661.000   33886.000   651109.000            2024-07-23 00:00:00   \n",
      "75%     212748.000   56714.000   967222.000            2024-10-23 00:00:00   \n",
      "max    2061063.000   63540.000  1248450.000            2024-12-31 00:00:00   \n",
      "std      62816.999   24067.648   371004.074                            NaN   \n",
      "\n",
      "            items  \n",
      "count  254936.000  \n",
      "mean        4.379  \n",
      "min      -399.667  \n",
      "25%         1.000  \n",
      "50%         2.333  \n",
      "75%         3.667  \n",
      "max      1000.333  \n",
      "std        12.099  \n"
     ]
    },
    {
     "data": {
      "text/plain": [
       "dtype('<M8[ns]')"
      ]
     },
     "execution_count": 149,
     "metadata": {},
     "output_type": "execute_result"
    }
   ],
   "source": [
    "# dataset transacciones\n",
    "\n",
    "describe(transacciones)\n",
    "describe(transacciones, str=\"object\")\n",
    "transacciones[\"purchase_date\"].dtype\n"
   ]
  },
  {
   "cell_type": "markdown",
   "metadata": {},
   "source": [
    "Acá se identifica que tal vez sea más conveniente transformar la columna fecha de compra -> que aparezcan 3 columnas extras (año, mes, día).\n",
    "\n",
    "Las columnas cuyas estadísticas importan: ``items``: Se identifca un valor negativo, cuando esta columna representa a cantidad de bultos comprados por el cliente en aquella transacción."
   ]
  },
  {
   "cell_type": "code",
   "execution_count": 150,
   "metadata": {},
   "outputs": [
    {
     "name": "stdout",
     "output_type": "stream",
     "text": [
      "       product_id     size\n",
      "count     971.000  971.000\n",
      "mean    88451.046    1.421\n",
      "std     97083.927    3.898\n",
      "min         8.000    0.125\n",
      "25%     41557.000    0.310\n",
      "50%     56142.000    0.500\n",
      "75%     62222.000    1.000\n",
      "max    297994.000   20.000\n",
      "brand\n",
      "Brand 7     104\n",
      "Brand 3     102\n",
      "Brand 35     79\n",
      "Brand 31     64\n",
      "Brand 1      52\n",
      "           ... \n",
      "Brand 8       1\n",
      "Brand 23      1\n",
      "Brand 37      1\n",
      "Brand 36      1\n",
      "Brand 11      1\n",
      "Name: count, Length: 61, dtype: int64\n",
      "sub_category\n",
      "GASEOSAS             673\n",
      "JUGOS                229\n",
      "AGUAS SABORIZADAS     69\n",
      "Name: count, dtype: int64\n",
      "segment\n",
      "PREMIUM    310\n",
      "MEDIUM     267\n",
      "HIGH       231\n",
      "LOW        163\n",
      "Name: count, dtype: int64\n",
      "package\n",
      "BOTELLA    597\n",
      "LATA       291\n",
      "TETRA       43\n",
      "KEG         40\n",
      "Name: count, dtype: int64\n"
     ]
    }
   ],
   "source": [
    "# dataset productos\n",
    "\n",
    "describe(productos)\n",
    "describe(productos, str=\"object\")"
   ]
  },
  {
   "cell_type": "markdown",
   "metadata": {},
   "source": [
    "Las estadísticas numéricas que importan: ``size``, que es el tamaño del producto en litros.\n",
    "\n",
    "Comentarios finales: las columnas ``purchase_date`` puede ser transformada. Si es que es necesario para más adelante, ``Customer ID`` y ``product ID``   podría convertirse a string -> de variables numéricas a categóricas: esto para ver que clientes y productos son únicos.\n",
    "Aunque no debería haber problemas si se decide graficar con seaborn, uno puede fijar el parámetro \"hue = \"customer ID\""
   ]
  },
  {
   "cell_type": "code",
   "execution_count": 151,
   "metadata": {},
   "outputs": [
    {
     "name": "stdout",
     "output_type": "stream",
     "text": [
      " Identificación de valores nulos por columna de cada dataset\n",
      "============================== Dataset clientes ==============================\n",
      "customer_id             0\n",
      "region_id               0\n",
      "zone_id                 0\n",
      "customer_type           0\n",
      "Y                       0\n",
      "X                       1\n",
      "num_deliver_per_week    0\n",
      "num_visit_per_week      0\n",
      "dtype: int64\n",
      "============================== Dataset productos ==============================\n",
      "product_id      0\n",
      "brand           0\n",
      "category        0\n",
      "sub_category    0\n",
      "segment         0\n",
      "package         0\n",
      "size            0\n",
      "dtype: int64\n",
      "============================== Dataset transacciones ==============================\n",
      "customer_id      0\n",
      "product_id       0\n",
      "order_id         0\n",
      "purchase_date    0\n",
      "items            0\n",
      "dtype: int64\n"
     ]
    }
   ],
   "source": [
    "# Identificación de valores nulos\n",
    "\n",
    "print(\" Identificación de valores nulos por columna de cada dataset\")\n",
    "\n",
    "print(\"=\"*30 + \" Dataset clientes \"+ \"=\"*30)\n",
    "print(clientes.isna().sum())\n",
    "\n",
    "print(\"=\"*30 + \" Dataset productos \"+ \"=\"*30)\n",
    "print(productos.isna().sum())\n",
    "\n",
    "print(\"=\"*30 + \" Dataset transacciones \"+ \"=\"*30)\n",
    "print(transacciones.isna().sum())"
   ]
  },
  {
   "cell_type": "markdown",
   "metadata": {},
   "source": [
    "En el dataset de ``clientes.parquet``, hay un registro que no cuenta con coordenada geográfica X (longitud)."
   ]
  },
  {
   "cell_type": "code",
   "execution_count": 152,
   "metadata": {},
   "outputs": [
    {
     "name": "stdout",
     "output_type": "stream",
     "text": [
      "====================================================================================================\n",
      " Identificación de registros duplicados por columna de cada dataset\n",
      "============================== Dataset clientes ==============================\n",
      "0\n",
      "============================== Dataset productos ==============================\n",
      "0\n",
      "============================== Dataset transacciones ==============================\n",
      "885\n"
     ]
    }
   ],
   "source": [
    "# identificación de valores duplicados\n",
    "\n",
    "print(\"=\"*100)\n",
    "print(\" Identificación de registros duplicados por columna de cada dataset\")\n",
    "print(\"=\"*30 + \" Dataset clientes \"+ \"=\"*30)\n",
    "print(clientes.duplicated(subset=[\"customer_id\"]).sum())\n",
    "\n",
    "print(\"=\"*30 + \" Dataset productos \"+ \"=\"*30)\n",
    "print(productos.duplicated().sum())\n",
    "\n",
    "\n",
    "\n",
    "print(\"=\"*30 + \" Dataset transacciones \"+ \"=\"*30)\n",
    "print(transacciones.duplicated().sum())"
   ]
  },
  {
   "cell_type": "markdown",
   "metadata": {},
   "source": [
    "# Cruce de información.\n",
    "En este punto, es válido realizar un cruce de información usando las llaves primarias, tales como ``Customer ID`` del dataset Clientes y ``Product ID`` del dataset Productos. En el dataset de transacciones, las llaves mencionadas ahora son llaves foráneas y se tiene la llave primaria ``Order ID``.\n",
    "\n",
    "Como el dataset Transacciones contiene esas 3 llaves, comenzamos el merge desde ahí: primero con clientes y luego con productos."
   ]
  },
  {
   "cell_type": "code",
   "execution_count": 153,
   "metadata": {},
   "outputs": [],
   "source": [
    "# unión de los dataset en un solo dataframe\n",
    "\n",
    "df = transacciones.merge(clientes, on=\"customer_id\", how=\"left\") # how = left significa que usa solo las llaves del frame izquierdo, como un\n",
    "                                                                # sql left outer join: preserva el orden de la llave -> deberia aparecer customer id como \n",
    "                                                                # primera columna\n",
    "\n",
    "df = df.merge(productos, on=\"product_id\", how=\"left\") "
   ]
  },
  {
   "cell_type": "code",
   "execution_count": 154,
   "metadata": {},
   "outputs": [
    {
     "name": "stdout",
     "output_type": "stream",
     "text": [
      "Dimensiones del dataset:  (254936, 18)\n"
     ]
    },
    {
     "data": {
      "text/html": [
       "<div>\n",
       "<style scoped>\n",
       "    .dataframe tbody tr th:only-of-type {\n",
       "        vertical-align: middle;\n",
       "    }\n",
       "\n",
       "    .dataframe tbody tr th {\n",
       "        vertical-align: top;\n",
       "    }\n",
       "\n",
       "    .dataframe thead th {\n",
       "        text-align: right;\n",
       "    }\n",
       "</style>\n",
       "<table border=\"1\" class=\"dataframe\">\n",
       "  <thead>\n",
       "    <tr style=\"text-align: right;\">\n",
       "      <th></th>\n",
       "      <th>customer_id</th>\n",
       "      <th>product_id</th>\n",
       "      <th>order_id</th>\n",
       "      <th>purchase_date</th>\n",
       "      <th>items</th>\n",
       "      <th>region_id</th>\n",
       "      <th>zone_id</th>\n",
       "      <th>customer_type</th>\n",
       "      <th>Y</th>\n",
       "      <th>X</th>\n",
       "      <th>num_deliver_per_week</th>\n",
       "      <th>num_visit_per_week</th>\n",
       "      <th>brand</th>\n",
       "      <th>category</th>\n",
       "      <th>sub_category</th>\n",
       "      <th>segment</th>\n",
       "      <th>package</th>\n",
       "      <th>size</th>\n",
       "    </tr>\n",
       "  </thead>\n",
       "  <tbody>\n",
       "    <tr>\n",
       "      <th>0</th>\n",
       "      <td>61353</td>\n",
       "      <td>61364</td>\n",
       "      <td>411145</td>\n",
       "      <td>2024-04-27</td>\n",
       "      <td>-0.333333</td>\n",
       "      <td>80</td>\n",
       "      <td>5148</td>\n",
       "      <td>ABARROTES</td>\n",
       "      <td>-46.558718</td>\n",
       "      <td>-107.860564</td>\n",
       "      <td>3</td>\n",
       "      <td>1</td>\n",
       "      <td>Brand 35</td>\n",
       "      <td>BEBIDAS CARBONATADAS</td>\n",
       "      <td>GASEOSAS</td>\n",
       "      <td>MEDIUM</td>\n",
       "      <td>BOTELLA</td>\n",
       "      <td>1.00</td>\n",
       "    </tr>\n",
       "    <tr>\n",
       "      <th>1</th>\n",
       "      <td>61899</td>\n",
       "      <td>1370</td>\n",
       "      <td>411156</td>\n",
       "      <td>2024-04-27</td>\n",
       "      <td>3.666667</td>\n",
       "      <td>80</td>\n",
       "      <td>5148</td>\n",
       "      <td>MAYORISTA</td>\n",
       "      <td>-46.557632</td>\n",
       "      <td>-107.896470</td>\n",
       "      <td>3</td>\n",
       "      <td>1</td>\n",
       "      <td>Brand 34</td>\n",
       "      <td>BEBIDAS CARBONATADAS</td>\n",
       "      <td>GASEOSAS</td>\n",
       "      <td>MEDIUM</td>\n",
       "      <td>BOTELLA</td>\n",
       "      <td>1.00</td>\n",
       "    </tr>\n",
       "    <tr>\n",
       "      <th>2</th>\n",
       "      <td>154077</td>\n",
       "      <td>30500</td>\n",
       "      <td>417911</td>\n",
       "      <td>2024-04-29</td>\n",
       "      <td>2.333333</td>\n",
       "      <td>80</td>\n",
       "      <td>5148</td>\n",
       "      <td>ABARROTES</td>\n",
       "      <td>-46.543598</td>\n",
       "      <td>-107.874170</td>\n",
       "      <td>3</td>\n",
       "      <td>1</td>\n",
       "      <td>Brand 31</td>\n",
       "      <td>BEBIDAS CARBONATADAS</td>\n",
       "      <td>GASEOSAS</td>\n",
       "      <td>PREMIUM</td>\n",
       "      <td>LATA</td>\n",
       "      <td>0.31</td>\n",
       "    </tr>\n",
       "    <tr>\n",
       "      <th>3</th>\n",
       "      <td>164337</td>\n",
       "      <td>56714</td>\n",
       "      <td>418100</td>\n",
       "      <td>2024-04-29</td>\n",
       "      <td>-2.333333</td>\n",
       "      <td>80</td>\n",
       "      <td>5148</td>\n",
       "      <td>ABARROTES</td>\n",
       "      <td>-46.549960</td>\n",
       "      <td>-107.863088</td>\n",
       "      <td>3</td>\n",
       "      <td>1</td>\n",
       "      <td>Brand 31</td>\n",
       "      <td>BEBIDAS CARBONATADAS</td>\n",
       "      <td>GASEOSAS</td>\n",
       "      <td>PREMIUM</td>\n",
       "      <td>BOTELLA</td>\n",
       "      <td>0.66</td>\n",
       "    </tr>\n",
       "    <tr>\n",
       "      <th>4</th>\n",
       "      <td>172056</td>\n",
       "      <td>61672</td>\n",
       "      <td>407162</td>\n",
       "      <td>2024-04-26</td>\n",
       "      <td>1.000000</td>\n",
       "      <td>80</td>\n",
       "      <td>5148</td>\n",
       "      <td>MAYORISTA</td>\n",
       "      <td>-46.564528</td>\n",
       "      <td>-107.927651</td>\n",
       "      <td>4</td>\n",
       "      <td>1</td>\n",
       "      <td>Brand 34</td>\n",
       "      <td>BEBIDAS CARBONATADAS</td>\n",
       "      <td>GASEOSAS</td>\n",
       "      <td>MEDIUM</td>\n",
       "      <td>LATA</td>\n",
       "      <td>0.25</td>\n",
       "    </tr>\n",
       "  </tbody>\n",
       "</table>\n",
       "</div>"
      ],
      "text/plain": [
       "   customer_id  product_id  order_id purchase_date     items  region_id  \\\n",
       "0        61353       61364    411145    2024-04-27 -0.333333         80   \n",
       "1        61899        1370    411156    2024-04-27  3.666667         80   \n",
       "2       154077       30500    417911    2024-04-29  2.333333         80   \n",
       "3       164337       56714    418100    2024-04-29 -2.333333         80   \n",
       "4       172056       61672    407162    2024-04-26  1.000000         80   \n",
       "\n",
       "   zone_id customer_type          Y           X  num_deliver_per_week  \\\n",
       "0     5148     ABARROTES -46.558718 -107.860564                     3   \n",
       "1     5148     MAYORISTA -46.557632 -107.896470                     3   \n",
       "2     5148     ABARROTES -46.543598 -107.874170                     3   \n",
       "3     5148     ABARROTES -46.549960 -107.863088                     3   \n",
       "4     5148     MAYORISTA -46.564528 -107.927651                     4   \n",
       "\n",
       "   num_visit_per_week     brand              category sub_category  segment  \\\n",
       "0                   1  Brand 35  BEBIDAS CARBONATADAS     GASEOSAS   MEDIUM   \n",
       "1                   1  Brand 34  BEBIDAS CARBONATADAS     GASEOSAS   MEDIUM   \n",
       "2                   1  Brand 31  BEBIDAS CARBONATADAS     GASEOSAS  PREMIUM   \n",
       "3                   1  Brand 31  BEBIDAS CARBONATADAS     GASEOSAS  PREMIUM   \n",
       "4                   1  Brand 34  BEBIDAS CARBONATADAS     GASEOSAS   MEDIUM   \n",
       "\n",
       "   package  size  \n",
       "0  BOTELLA  1.00  \n",
       "1  BOTELLA  1.00  \n",
       "2     LATA  0.31  \n",
       "3  BOTELLA  0.66  \n",
       "4     LATA  0.25  "
      ]
     },
     "execution_count": 154,
     "metadata": {},
     "output_type": "execute_result"
    }
   ],
   "source": [
    "print(\"Dimensiones del dataset: \",df.shape)\n",
    "df.head(5)"
   ]
  },
  {
   "cell_type": "code",
   "execution_count": 155,
   "metadata": {},
   "outputs": [
    {
     "name": "stdout",
     "output_type": "stream",
     "text": [
      "Valores Nulos en dataset df customer_id             0\n",
      "product_id              0\n",
      "order_id                0\n",
      "purchase_date           0\n",
      "items                   0\n",
      "region_id               0\n",
      "zone_id                 0\n",
      "customer_type           0\n",
      "Y                       0\n",
      "X                       0\n",
      "num_deliver_per_week    0\n",
      "num_visit_per_week      0\n",
      "brand                   0\n",
      "category                0\n",
      "sub_category            0\n",
      "segment                 0\n",
      "package                 0\n",
      "size                    0\n",
      "dtype: int64\n"
     ]
    }
   ],
   "source": [
    "print(\"Valores Nulos en dataset df\", df.isna().sum())"
   ]
  },
  {
   "cell_type": "markdown",
   "metadata": {},
   "source": [
    "Acá desapareció el único cliente que tenía una coordenada \"X\" como NaN. Por cómo se hizo el merge, capaz que el cliente no estaba en transacciones y ahora desapareció del df final."
   ]
  },
  {
   "cell_type": "code",
   "execution_count": 156,
   "metadata": {},
   "outputs": [
    {
     "data": {
      "text/plain": [
       "False"
      ]
     },
     "execution_count": 156,
     "metadata": {},
     "output_type": "execute_result"
    }
   ],
   "source": [
    "clientes[clientes[\"X\"].isna()]\n",
    "cid_nan = clientes.loc[clientes[\"X\"].isna(), \"customer_id\"].iloc[0]\n",
    "cid_nan in transacciones[\"customer_id\"].values\n",
    "\n",
    "# el cliente problemático no estaba en transacciones."
   ]
  },
  {
   "cell_type": "markdown",
   "metadata": {},
   "source": [
    "\n",
    "Sobre la columna de la fecha: ya está en un buen formato, pero en el momento en que se requiera un análisis temporar: mes, semana, día... se pueden crear \n",
    "columnas auxiliares.\n"
   ]
  },
  {
   "cell_type": "code",
   "execution_count": 157,
   "metadata": {},
   "outputs": [],
   "source": [
    "# desilenciar si queremos las columnas auxiliares.\n",
    "# df[\"year\"] = df[\"purchase_date\"].dt.year\n",
    "# df[\"month\"] = df[\"purchase_date\"].dt.month\n",
    "# df[\"day\"] = df[\"purchase_date\"].dt.day"
   ]
  },
  {
   "cell_type": "code",
   "execution_count": 158,
   "metadata": {},
   "outputs": [
    {
     "data": {
      "text/plain": [
       "np.int64(885)"
      ]
     },
     "execution_count": 158,
     "metadata": {},
     "output_type": "execute_result"
    }
   ],
   "source": [
    "# valores duplicados en dataframe a trabajar\n",
    "\n",
    "df.duplicated().sum()\n",
    "\n",
    "# hay 885 registros duplicados, por lo que se tienen que dropear."
   ]
  },
  {
   "cell_type": "code",
   "execution_count": 159,
   "metadata": {},
   "outputs": [
    {
     "name": "stdout",
     "output_type": "stream",
     "text": [
      "Dimension del dataset después de eliminar duplicados:  (254936, 18)\n"
     ]
    },
    {
     "data": {
      "text/html": [
       "<div>\n",
       "<style scoped>\n",
       "    .dataframe tbody tr th:only-of-type {\n",
       "        vertical-align: middle;\n",
       "    }\n",
       "\n",
       "    .dataframe tbody tr th {\n",
       "        vertical-align: top;\n",
       "    }\n",
       "\n",
       "    .dataframe thead th {\n",
       "        text-align: right;\n",
       "    }\n",
       "</style>\n",
       "<table border=\"1\" class=\"dataframe\">\n",
       "  <thead>\n",
       "    <tr style=\"text-align: right;\">\n",
       "      <th></th>\n",
       "      <th>customer_id</th>\n",
       "      <th>product_id</th>\n",
       "      <th>order_id</th>\n",
       "      <th>purchase_date</th>\n",
       "      <th>items</th>\n",
       "      <th>region_id</th>\n",
       "      <th>zone_id</th>\n",
       "      <th>customer_type</th>\n",
       "      <th>Y</th>\n",
       "      <th>X</th>\n",
       "      <th>num_deliver_per_week</th>\n",
       "      <th>num_visit_per_week</th>\n",
       "      <th>brand</th>\n",
       "      <th>category</th>\n",
       "      <th>sub_category</th>\n",
       "      <th>segment</th>\n",
       "      <th>package</th>\n",
       "      <th>size</th>\n",
       "    </tr>\n",
       "  </thead>\n",
       "  <tbody>\n",
       "    <tr>\n",
       "      <th>0</th>\n",
       "      <td>61353</td>\n",
       "      <td>61364</td>\n",
       "      <td>411145</td>\n",
       "      <td>2024-04-27</td>\n",
       "      <td>-0.333333</td>\n",
       "      <td>80</td>\n",
       "      <td>5148</td>\n",
       "      <td>ABARROTES</td>\n",
       "      <td>-46.558718</td>\n",
       "      <td>-107.860564</td>\n",
       "      <td>3</td>\n",
       "      <td>1</td>\n",
       "      <td>Brand 35</td>\n",
       "      <td>BEBIDAS CARBONATADAS</td>\n",
       "      <td>GASEOSAS</td>\n",
       "      <td>MEDIUM</td>\n",
       "      <td>BOTELLA</td>\n",
       "      <td>1.00</td>\n",
       "    </tr>\n",
       "    <tr>\n",
       "      <th>1</th>\n",
       "      <td>61899</td>\n",
       "      <td>1370</td>\n",
       "      <td>411156</td>\n",
       "      <td>2024-04-27</td>\n",
       "      <td>3.666667</td>\n",
       "      <td>80</td>\n",
       "      <td>5148</td>\n",
       "      <td>MAYORISTA</td>\n",
       "      <td>-46.557632</td>\n",
       "      <td>-107.896470</td>\n",
       "      <td>3</td>\n",
       "      <td>1</td>\n",
       "      <td>Brand 34</td>\n",
       "      <td>BEBIDAS CARBONATADAS</td>\n",
       "      <td>GASEOSAS</td>\n",
       "      <td>MEDIUM</td>\n",
       "      <td>BOTELLA</td>\n",
       "      <td>1.00</td>\n",
       "    </tr>\n",
       "    <tr>\n",
       "      <th>2</th>\n",
       "      <td>154077</td>\n",
       "      <td>30500</td>\n",
       "      <td>417911</td>\n",
       "      <td>2024-04-29</td>\n",
       "      <td>2.333333</td>\n",
       "      <td>80</td>\n",
       "      <td>5148</td>\n",
       "      <td>ABARROTES</td>\n",
       "      <td>-46.543598</td>\n",
       "      <td>-107.874170</td>\n",
       "      <td>3</td>\n",
       "      <td>1</td>\n",
       "      <td>Brand 31</td>\n",
       "      <td>BEBIDAS CARBONATADAS</td>\n",
       "      <td>GASEOSAS</td>\n",
       "      <td>PREMIUM</td>\n",
       "      <td>LATA</td>\n",
       "      <td>0.31</td>\n",
       "    </tr>\n",
       "    <tr>\n",
       "      <th>3</th>\n",
       "      <td>164337</td>\n",
       "      <td>56714</td>\n",
       "      <td>418100</td>\n",
       "      <td>2024-04-29</td>\n",
       "      <td>-2.333333</td>\n",
       "      <td>80</td>\n",
       "      <td>5148</td>\n",
       "      <td>ABARROTES</td>\n",
       "      <td>-46.549960</td>\n",
       "      <td>-107.863088</td>\n",
       "      <td>3</td>\n",
       "      <td>1</td>\n",
       "      <td>Brand 31</td>\n",
       "      <td>BEBIDAS CARBONATADAS</td>\n",
       "      <td>GASEOSAS</td>\n",
       "      <td>PREMIUM</td>\n",
       "      <td>BOTELLA</td>\n",
       "      <td>0.66</td>\n",
       "    </tr>\n",
       "    <tr>\n",
       "      <th>4</th>\n",
       "      <td>172056</td>\n",
       "      <td>61672</td>\n",
       "      <td>407162</td>\n",
       "      <td>2024-04-26</td>\n",
       "      <td>1.000000</td>\n",
       "      <td>80</td>\n",
       "      <td>5148</td>\n",
       "      <td>MAYORISTA</td>\n",
       "      <td>-46.564528</td>\n",
       "      <td>-107.927651</td>\n",
       "      <td>4</td>\n",
       "      <td>1</td>\n",
       "      <td>Brand 34</td>\n",
       "      <td>BEBIDAS CARBONATADAS</td>\n",
       "      <td>GASEOSAS</td>\n",
       "      <td>MEDIUM</td>\n",
       "      <td>LATA</td>\n",
       "      <td>0.25</td>\n",
       "    </tr>\n",
       "  </tbody>\n",
       "</table>\n",
       "</div>"
      ],
      "text/plain": [
       "   customer_id  product_id  order_id purchase_date     items  region_id  \\\n",
       "0        61353       61364    411145    2024-04-27 -0.333333         80   \n",
       "1        61899        1370    411156    2024-04-27  3.666667         80   \n",
       "2       154077       30500    417911    2024-04-29  2.333333         80   \n",
       "3       164337       56714    418100    2024-04-29 -2.333333         80   \n",
       "4       172056       61672    407162    2024-04-26  1.000000         80   \n",
       "\n",
       "   zone_id customer_type          Y           X  num_deliver_per_week  \\\n",
       "0     5148     ABARROTES -46.558718 -107.860564                     3   \n",
       "1     5148     MAYORISTA -46.557632 -107.896470                     3   \n",
       "2     5148     ABARROTES -46.543598 -107.874170                     3   \n",
       "3     5148     ABARROTES -46.549960 -107.863088                     3   \n",
       "4     5148     MAYORISTA -46.564528 -107.927651                     4   \n",
       "\n",
       "   num_visit_per_week     brand              category sub_category  segment  \\\n",
       "0                   1  Brand 35  BEBIDAS CARBONATADAS     GASEOSAS   MEDIUM   \n",
       "1                   1  Brand 34  BEBIDAS CARBONATADAS     GASEOSAS   MEDIUM   \n",
       "2                   1  Brand 31  BEBIDAS CARBONATADAS     GASEOSAS  PREMIUM   \n",
       "3                   1  Brand 31  BEBIDAS CARBONATADAS     GASEOSAS  PREMIUM   \n",
       "4                   1  Brand 34  BEBIDAS CARBONATADAS     GASEOSAS   MEDIUM   \n",
       "\n",
       "   package  size  \n",
       "0  BOTELLA  1.00  \n",
       "1  BOTELLA  1.00  \n",
       "2     LATA  0.31  \n",
       "3  BOTELLA  0.66  \n",
       "4     LATA  0.25  "
      ]
     },
     "execution_count": 159,
     "metadata": {},
     "output_type": "execute_result"
    }
   ],
   "source": [
    "df.drop_duplicates()\n",
    "print(\"Dimension del dataset después de eliminar duplicados: \", df.shape)\n",
    "df.head(5)"
   ]
  },
  {
   "cell_type": "markdown",
   "metadata": {},
   "source": [
    "## 📌 EDA [0.5 puntos]\n",
    "\n",
    "<center>\n",
    "<img src=\"https://media3.giphy.com/media/v1.Y2lkPTc5MGI3NjExbHZ6aGdkd21tYTI3cW8zYWhyYW5wdGlyb2s3MmRzeTV0dzQ1NWlueiZlcD12MV9pbnRlcm5hbF9naWZfYnlfaWQmY3Q9Zw/3k1hJubTtOAKPKx4k3/giphy.gif\" width=\"400\" height=\"200\">"
   ]
  },
  {
   "cell_type": "markdown",
   "metadata": {},
   "source": [
    "En esta sección, se debe realizar un análisis exploratorio de los datos para comprender su estructura, detectar posibles problemas y obtener información relevante para el entrenamiento de los modelos. La idea es que puedan detectar **patrones en los datos** que les permitan resolver el problema con mayor facilidad.\n",
    "\n",
    "Se deben responder preguntas a partir de lo que puedan visualizar/obtener, por ejemplo:\n",
    "\n",
    "- Clientes y productos\n",
    "\n",
    "    - ¿Cuántos clientes únicos hay en el dataset?\n",
    "\n",
    "    - ¿Cuántos productos únicos se encuentran en los datos?\n",
    "\n",
    "- Periodo y frecuencia\n",
    "\n",
    "    - ¿De qué periodo es la información disponible?\n",
    "\n",
    "    - ¿Cuál es la frecuencia de los registros (diaria, semanal, mensual, etc.)?\n",
    "\n",
    "- Calidad de los datos\n",
    "\n",
    "    - ¿Existen valores nulos en el dataset? ¿Cuántos? ¿Cómo se pueden tratar?\n",
    "\n",
    "    - ¿Hay datos raros, como cantidades negativas o inconsistencias? Genere tests de validación para identificar estos problemas.\n",
    "\n",
    "- Patrones de compra\n",
    "\n",
    "    - ¿Cuántos productos compra en promedio cada cliente semana a semana?\n",
    "\n",
    "    - ¿Cuántas transacciones ha realizado cada cliente?\n",
    "\n",
    "    - ¿Cuál es el periodo de recompra promedio de cada SKU?"
   ]
  },
  {
   "cell_type": "code",
   "execution_count": 160,
   "metadata": {},
   "outputs": [
    {
     "data": {
      "text/plain": [
       "(114,)"
      ]
     },
     "execution_count": 160,
     "metadata": {},
     "output_type": "execute_result"
    }
   ],
   "source": [
    "# Desarrolle aquí su código\n",
    "\n",
    "# clientes y productos\n",
    "\n",
    "df[\"customer_id\"].value_counts().shape # hay 1490 clientes únicos\n",
    "\n",
    "df[\"product_id\"].value_counts().shape # hay 114 productos únicos"
   ]
  },
  {
   "cell_type": "code",
   "execution_count": 161,
   "metadata": {},
   "outputs": [
    {
     "name": "stdout",
     "output_type": "stream",
     "text": [
      "Fecha inicio de observaciones:  2024-01-01 00:00:00\n",
      "Fecha final de observaciones:  2024-12-31 00:00:00\n"
     ]
    }
   ],
   "source": [
    "# sobre las fechas\n",
    "\n",
    "fecha_inicio = df[\"purchase_date\"].min()\n",
    "\n",
    "fecha_final = df[\"purchase_date\"].max()\n",
    "\n",
    "print(\"Fecha inicio de observaciones: \", fecha_inicio)# los registros son desde el 1 de enero del año 2024?\n",
    "\n",
    "print(\"Fecha final de observaciones: \", fecha_final )\n",
    "\n"
   ]
  },
  {
   "cell_type": "code",
   "execution_count": 162,
   "metadata": {},
   "outputs": [
    {
     "name": "stdout",
     "output_type": "stream",
     "text": [
      "    purchase_date  frecuencia\n",
      "0      2024-01-01         166\n",
      "1      2024-01-02        1126\n",
      "2      2024-01-03         772\n",
      "3      2024-01-04        1073\n",
      "4      2024-01-05         923\n",
      "..            ...         ...\n",
      "361    2024-12-27        1604\n",
      "362    2024-12-28        1208\n",
      "363    2024-12-29        1125\n",
      "364    2024-12-30        1304\n",
      "365    2024-12-31         275\n",
      "\n",
      "[366 rows x 2 columns]\n"
     ]
    }
   ],
   "source": [
    "df = df.set_index(\"purchase_date\") # esto ordena las filas del df según la fecha\n",
    "\n",
    "frecuencia_diaria = df.resample('D').size().reset_index(name='frecuencia')\n",
    "print(frecuencia_diaria)"
   ]
  },
  {
   "cell_type": "code",
   "execution_count": 163,
   "metadata": {},
   "outputs": [
    {
     "name": "stdout",
     "output_type": "stream",
     "text": [
      "   purchase_date  frecuencia\n",
      "0     2024-01-07        4565\n",
      "1     2024-01-14        5272\n",
      "2     2024-01-21        5543\n",
      "3     2024-01-28        5128\n",
      "4     2024-02-04        5225\n",
      "5     2024-02-11        5631\n",
      "6     2024-02-18        4608\n",
      "7     2024-02-25        4971\n",
      "8     2024-03-03        4796\n",
      "9     2024-03-10        4621\n",
      "10    2024-03-17        5539\n",
      "11    2024-03-24        5795\n",
      "12    2024-03-31        5122\n",
      "13    2024-04-07        4783\n",
      "14    2024-04-14        3913\n",
      "15    2024-04-21        3244\n",
      "16    2024-04-28        4856\n",
      "17    2024-05-05        5361\n",
      "18    2024-05-12        4966\n",
      "19    2024-05-19        1971\n",
      "20    2024-05-26        2197\n",
      "21    2024-06-02        1992\n",
      "22    2024-06-09        4413\n",
      "23    2024-06-16        5385\n",
      "24    2024-06-23        4362\n",
      "25    2024-06-30        3345\n",
      "26    2024-07-07        2865\n",
      "27    2024-07-14        1694\n",
      "28    2024-07-21        3610\n",
      "29    2024-07-28        5316\n",
      "30    2024-08-04        4313\n",
      "31    2024-08-11        4001\n",
      "32    2024-08-18        4282\n",
      "33    2024-08-25        4318\n",
      "34    2024-09-01        4390\n",
      "35    2024-09-08        4479\n",
      "36    2024-09-15        5026\n",
      "37    2024-09-22        5035\n",
      "38    2024-09-29        6837\n",
      "39    2024-10-06        5080\n",
      "40    2024-10-13        4579\n",
      "41    2024-10-20        4920\n",
      "42    2024-10-27        5988\n",
      "43    2024-11-03        5374\n",
      "44    2024-11-10        5244\n",
      "45    2024-11-17        5471\n",
      "46    2024-11-24        7112\n",
      "47    2024-12-01        6052\n",
      "48    2024-12-08        5962\n",
      "49    2024-12-15        5514\n",
      "50    2024-12-22       10075\n",
      "51    2024-12-29        8216\n",
      "52    2025-01-05        1579\n"
     ]
    }
   ],
   "source": [
    "frecuencia_semanal = df.resample('W').size().reset_index(name='frecuencia')\n",
    "print(frecuencia_semanal)"
   ]
  },
  {
   "cell_type": "code",
   "execution_count": 164,
   "metadata": {},
   "outputs": [
    {
     "name": "stdout",
     "output_type": "stream",
     "text": [
      "   purchase_date  frecuencia\n",
      "0     2024-01-31       23023\n",
      "1     2024-02-29       21906\n",
      "2     2024-03-31       21887\n",
      "3     2024-04-30       19389\n",
      "4     2024-05-31       13621\n",
      "5     2024-06-30       17778\n",
      "6     2024-07-31       15396\n",
      "7     2024-08-31       19326\n",
      "8     2024-09-30       22247\n",
      "9     2024-10-31       23619\n",
      "10    2024-11-30       25159\n",
      "11    2024-12-31       31585\n"
     ]
    }
   ],
   "source": [
    "frecuencia_mensual = df.resample(\"ME\").size().reset_index(name=\"frecuencia\") # M o ME para \"month\"\n",
    "print(frecuencia_mensual)"
   ]
  },
  {
   "cell_type": "markdown",
   "metadata": {},
   "source": [
    "De acá, los meses en donde se compran más productos son  los menes de fin de año (Noviembre-Diciembre) y principio de año (Enero). El mes con ventas más bajas es el mes de Mayo.\n",
    "Sobre cantidades negativas, hay items que salen con signo negativo.\n"
   ]
  },
  {
   "cell_type": "code",
   "execution_count": 180,
   "metadata": {},
   "outputs": [],
   "source": [
    "# Columnas del dataset mergeado\n",
    "\n",
    "cat_columns = column_type(df, printeo=\"no\")[0]\n",
    "binary_columns = column_type(df, printeo=\"no\")[1]\n",
    "num_columns = column_type(df, printeo=\"no\")[2]\n",
    "cat_nominal_columns = column_type(df, printeo=\"no\")[3]\n",
    "cat_ordinal_columns = column_type(df, printeo=\"no\")[4]\n",
    "\n"
   ]
  },
  {
   "cell_type": "code",
   "execution_count": 189,
   "metadata": {},
   "outputs": [
    {
     "data": {
      "text/plain": [
       "['customer_id',\n",
       " 'product_id',\n",
       " 'order_id',\n",
       " 'items',\n",
       " 'region_id',\n",
       " 'zone_id',\n",
       " 'Y',\n",
       " 'X',\n",
       " 'num_deliver_per_week',\n",
       " 'num_visit_per_week',\n",
       " 'size']"
      ]
     },
     "execution_count": 189,
     "metadata": {},
     "output_type": "execute_result"
    }
   ],
   "source": [
    "num_columns"
   ]
  },
  {
   "cell_type": "markdown",
   "metadata": {},
   "source": [
    "Comentario: Acá me di cuenta cuenta que hay variables categóricas nominales que fueron colocadas como ordinales Como customer_type y package, que son variables categóricas nominales (Aunque customer_type es debatible).\n",
    "En cualquier caso, solo hay que modificar la función column_type, colocando las variables categoricas nominales a mano.\n",
    "\n",
    "La distirbución que vale la pena sería de las variables categóricas y de la variable numérica como el tamaño del producto, items, número de visitas por semana y número de delivery. Tal vez se podría hacer una distribución de las coordenadas geográficas, pero no estoy segura.\n"
   ]
  },
  {
   "cell_type": "code",
   "execution_count": 188,
   "metadata": {},
   "outputs": [
    {
     "data": {
      "image/png": "[encoded data removed]",
      "text/plain": [
       "<Figure size 640x480 with 1 Axes>"
      ]
     },
     "metadata": {},
     "output_type": "display_data"
    },
    {
     "data": {
      "image/png": "[encoded data removed]",
      "text/plain": [
       "<Figure size 640x480 with 1 Axes>"
      ]
     },
     "metadata": {},
     "output_type": "display_data"
    },
    {
     "data": {
      "image/png": "[encoded data removed]",
      "text/plain": [
       "<Figure size 640x480 with 1 Axes>"
      ]
     },
     "metadata": {},
     "output_type": "display_data"
    }
   ],
   "source": [
    "# para las columnas categóricas: \"category\" solo tiene un valor es ques \"BEBIDA GASEOSA\", Asi que la distribución no tiene mucho sentido.\n",
    "\n",
    "for i in cat_nominal_columns:\n",
    "    plt.figure()\n",
    "    plt.title(f\"Distribucion de {i}\")\n",
    "    sns.histplot(data=df, x=i, shrink=0.5)\n",
    "    plt.xticks(fontsize=8, rotation=45)\n",
    "    plt.show()\n"
   ]
  },
  {
   "cell_type": "code",
   "execution_count": 206,
   "metadata": {},
   "outputs": [
    {
     "data": {
      "image/png": "[encoded data removed]",
      "text/plain": [
       "<Figure size 640x480 with 1 Axes>"
      ]
     },
     "metadata": {},
     "output_type": "display_data"
    },
    {
     "data": {
      "image/png": "[encoded data removed]",
      "text/plain": [
       "<Figure size 640x480 with 1 Axes>"
      ]
     },
     "metadata": {},
     "output_type": "display_data"
    },
    {
     "data": {
      "image/png": "[encoded data removed]",
      "text/plain": [
       "<Figure size 640x480 with 1 Axes>"
      ]
     },
     "metadata": {},
     "output_type": "display_data"
    }
   ],
   "source": [
    "\n",
    "# items\n",
    "plt.figure(1)\n",
    "plt.clf()\n",
    "plt.title(\"Distribución de Items\")\n",
    "sns.histplot(data=df, x=\"items\", log_scale=True, bins=20)\n",
    "plt.yscale(\"log\")\n",
    "plt.show()\n",
    "\n",
    "# size\n",
    "plt.figure(2)\n",
    "plt.clf()\n",
    "plt.title(\"Distribución de tamaño del producto\")\n",
    "sns.histplot(data=df, x=\"size\", log_scale=True, bins=20)\n",
    "plt.yscale(\"log\")\n",
    "plt.show()\n",
    "\n",
    "# num_deliver_per_week\n",
    "\n",
    "plt.figure(3)\n",
    "plt.clf()\n",
    "plt.title(\"Distribución de Número de entregas por semana\")\n",
    "sns.histplot(data=df, x=\"num_deliver_per_week\", log_scale=False, bins=20)\n",
    "plt.yscale(\"log\")\n",
    "plt.show()\n",
    "\n"
   ]
  },
  {
   "cell_type": "code",
   "execution_count": null,
   "metadata": {},
   "outputs": [],
   "source": [
    "# lo que haré ahora será obtener los top 20 clientes que tienen mayor numero de transacciones y ver que tipo de producto compran, sea por segment, size\n",
    "# u otra cosa\n",
    "# y luego ver los que top 20 clientes que tienen el menor número de transacciones.\n",
    "# lo que viene sería los brands que són más y menos vendidos.\n",
    "# ver que producto se vende más o tiene más delivery por región\n",
    "\n",
    "# tal vez hacer un cluster pero ya sería mucho."
   ]
  },
  {
   "cell_type": "markdown",
   "metadata": {},
   "source": [
    "## 📌 Holdout [0.25 puntos]\n",
    "\n",
    "Para evaluar correctamente el modelo y garantizar su capacidad de generalización, se deben dividir los datos en tres conjuntos: \n",
    "- `Entrenamiento` : Para ajustar los parámetros.\n",
    "- `Validación`: Para optimizar hiperparámetros y seleccionar el mejor modelo.\n",
    "- `Prueba` : Para evaluar el rendimiento final en datos no vistos.\n",
    "\n",
    "👀 **Hint**: *Recuerde que los datos tienen una temporalidad que debe considerarse al momento de separarlos, para evitar fugas de información. Es importante justificar la estrategia de partición elegida y visualizar la distribución temporal de los conjuntos generados*"
   ]
  },
  {
   "cell_type": "code",
   "execution_count": 171,
   "metadata": {},
   "outputs": [],
   "source": [
    "# Desarrolle aquí su código"
   ]
  },
  {
   "cell_type": "markdown",
   "metadata": {},
   "source": [
    "## 📌 Feature Engineering [0.5 puntos]\n",
    "\n",
    "<center>\n",
    "<img src=\"https://i.imgur.com/CmXZSSC.gif\" width=\"300\" height=\"200\">"
   ]
  },
  {
   "cell_type": "markdown",
   "metadata": {},
   "source": [
    "En esta sección, se deben construir pipelines para automatizar el preprocesamiento de los datos, lo cual garantizará que el flujo de trabajo sea reproducible y eficiente para esta entrega y las futuras. El objetivo es aplicar una serie de transformaciones en un orden definido para asegurar que los datos estén listos para los modelos a entrenar. El pipeline final debe incluir las técnicas de pre-procesamiento que se deben aplicar a los distintos datos (según lo que consideren necesario para el problema). Por ejemplo:\n",
    "\n",
    "- **Imputación de valores nulos**: Manejo de datos faltantes mediante estrategias adecuadas (media, mediana, moda, interpolación, etc.). \n",
    "\n",
    "- **Transformaciones personalizadas**: Uso de ColumnTransformer para aplicar diferentes transformaciones a columnas específicas.\n",
    "\n",
    "- **Codificación de variables categóricas**: Convertir datos categóricos a un formato numérico adecuado (One-Hot Encoding, Label Encoding, etc.).\n",
    "\n",
    "- **Discretización de variables**: Conversión de variables numéricas continuas en categorías si son relevantes para el desempeño del modelo a entrenar.\n",
    "\n",
    "- **Estandarización o normalización** : Ajustar la escala de los datos para mejorar el rendimiento de los algoritmos sensibles a la magnitud de las variables.\n",
    "\n",
    "- **Eliminación o transformación de valores atípicos**: Identificar y tratar con datos outliers para mejorar la robustez del modelo.\n",
    "\n",
    "- **Nuevas características** : Creación de variables adicionales que puedan aportar información relevante al modelo.\n",
    "\n",
    "Cada una de estas transformaciones debe ser justificada en función de su relevancia para el problema y los datos, y es importante evaluar su impacto en el rendimiento del modelo. Además, el pipeline debe ser flexible y modular para poder probar diferentes configuraciones de preprocesamiento."
   ]
  },
  {
   "cell_type": "code",
   "execution_count": 172,
   "metadata": {},
   "outputs": [],
   "source": [
    "# Desarrolle aquí su código "
   ]
  },
  {
   "cell_type": "markdown",
   "metadata": {},
   "source": [
    "## 📌 Baseline [0.25 puntos]\n",
    "\n",
    "<center>\n",
    "<img src=\"https://media1.giphy.com/media/v1.Y2lkPTc5MGI3NjExN3lzeGFqZmU3NzJrZHllNjRmaHVzczJpZ29rdHdlMzVpZnQwNXo1diZlcD12MV9pbnRlcm5hbF9naWZfYnlfaWQmY3Q9Zw/qAtZM2gvjWhPjmclZE/giphy.gif\" width=\"300\" height=\"200\">"
   ]
  },
  {
   "cell_type": "markdown",
   "metadata": {},
   "source": [
    "En esta sección se debe construir el modelo más sencillo posible que pueda resolver el problema planteado, conocido como **Modelo baseline**. Su propósito es servir como referencia para comparar el rendimiento de los modelos más avanzados desarrollados en etapas posteriores.  \n",
    "\n",
    "Pasos requeridos:  \n",
    "- Implemente, entrene y evalúe un modelo básico utilizando un pipeline.  \n",
    "- Asegúrese de incluir en el pipeline las transformaciones del preprocesamiento realizadas previamente junto con un clasificador básico.  \n",
    "- Evalúe el modelo y presente el informe de métricas utilizando **`classification_report`**.  \n",
    "\n",
    "Documente claramente cómo se creó el modelo, las decisiones tomadas y los resultados obtenidos. Este modelo será la base comparativa en las secciones posteriores."
   ]
  },
  {
   "cell_type": "code",
   "execution_count": 173,
   "metadata": {},
   "outputs": [],
   "source": [
    "# Desarrolle aquí su código "
   ]
  },
  {
   "cell_type": "markdown",
   "metadata": {},
   "source": [
    "## 📌 Elección de modelo [0.75 puntos]\n",
    "\n",
    "En esta sección deben escoger un modelo que se adapte a las necesidades del negocio. Para esto, pruebe al menos 3 modelos y desarrolle los siguientes aspectos para cada uno:\n",
    "\n",
    "- **Estructura y diferencias entre los modelos**: Explicar brevemente cada uno y sus hipérparámetros de mayor importancia.\n",
    "- **Clasificadores recomendados**:\n",
    "  - `LogisticRegression`\n",
    "  - `KNeighborsClassifier`\n",
    "  - `DecisionTreeClassifier`\n",
    "  - `SVC`\n",
    "  - `RandomForestClassifier`\n",
    "  - `LightGBMClassifier` (del paquete `lightgbm`)\n",
    "  - `XGBClassifier` (del paquete `xgboost`)\n",
    "  - Otro (según lo que se estime adecuado)\n",
    "  \n",
    "- **Evaluación de resultados**: Se utilizará el **`classification_report`** para evaluar el rendimiento de cada modelo, destacando métricas clave como precisión, recall y F1-score. **Importante: No optimicen hiperparámetros, la idea es hacer una selección rápida del modelo.**\n",
    "\n",
    "**Nota:** Pueden ocupar mas de 1 **instancia** de modelo para resolver el problema (e.g: (modelo_1, grupo_1), (modelo_2, grupo_2), ...).\n",
    "  \n",
    "A continuación, se deben responder las siguientes preguntas para evaluar el rendimiento de los modelos entrenados:\n",
    "\n",
    "1. ¿Hay algún clasificador que supere al modelo baseline?  \n",
    "2. ¿Cuál es el mejor clasificador entrenado y por qué?  \n",
    "3. ¿Qué factores hacen que el mejor clasificador sea superior a los otros?  \n",
    "4. En términos de `tiempo de entrenamiento`, ¿Qué modelo considera más adecuado para experimentar con grillas de optimización?"
   ]
  },
  {
   "cell_type": "code",
   "execution_count": 174,
   "metadata": {},
   "outputs": [],
   "source": [
    "# Desarrolle aquí su código "
   ]
  },
  {
   "cell_type": "markdown",
   "metadata": {},
   "source": [
    "## 📌 Optimización de Hiperparámetros [1.0 puntos]\n",
    "\n",
    "<center>\n",
    "<img src=\"https://media1.giphy.com/media/v1.Y2lkPTc5MGI3NjExcXJkNzdhYjlneHplaGpsbnVkdzh5dnY3Y2VyaTIzamszdGR1czJ2diZlcD12MV9pbnRlcm5hbF9naWZfYnlfaWQmY3Q9Zw/2rqEdFfkMzXmo/giphy.gif\" width=\"300\" height=\"200\">"
   ]
  },
  {
   "cell_type": "markdown",
   "metadata": {},
   "source": [
    "A partir de su análisis anterior, se debe proceder a optimizar el rendimiento del modelo seleccionado mediante la optimización de sus hiperparámetros. Para ello, se espera que implementen `Optuna` para optimizar no solo los hiperparámetros del modelo, sino también los de los preprocesadores utilizados (por ejemplo, OneHot Encoding, Scalers, etc.).\n",
    "\n",
    "Al desarrollar este proceso, deberán responder las siguientes preguntas clave como mínimo:\n",
    "\n",
    "- ¿Qué métrica decidieron optimizar y por qué?\n",
    "\n",
    "- ¿Qué hiperparámetro tuvo un mayor impacto en el rendimiento de su modelo?\n",
    "\n",
    "- ¿Cuánto mejoró el rendimiento del modelo después de la optimización de hiperparámetros?"
   ]
  },
  {
   "cell_type": "code",
   "execution_count": 175,
   "metadata": {},
   "outputs": [],
   "source": [
    "# Desarrolle aquí su código"
   ]
  },
  {
   "cell_type": "markdown",
   "metadata": {},
   "source": [
    "## 📌 Interpretabilidad [1.0 puntos]\n",
    "\n",
    "En esta sección, deben explicar el funcionamiento de su modelo utilizando las técnicas de interpretabilidad vistas en clase, como `SHAP`. Se espera que sean capaces de descomponer las predicciones y evaluar la importancia de los atributos y las interacciones entre ellos, con el fin de obtener una comprensión más profunda de cómo el modelo toma decisiones. \n",
    "\n",
    "Al desarrollar esta parte, deberán responder las siguientes preguntas clave como mínimo:\n",
    "\n",
    "- ¿Podría explicar el funcionamiento de su modelo para una predicción en particular? Si es así, proporcione al menos tres ejemplos específicos, describiendo cómo el modelo llegó a sus decisiones y qué factores fueron más relevantes en cada caso.\n",
    "\n",
    "- ¿Qué atributo tiene una mayor importancia en la salida de su modelo? Analice si esto tiene sentido con el problema planteado y justifique la relevancia de dicho atributo en el contexto de las predicciones que se realizan.\n",
    "\n",
    "- ¿Existe alguna interacción entre atributos que sea relevante para el modelo? Investigue si la combinación de ciertos atributos tiene un impacto significativo en las predicciones y explíquela en **detalle**.\n",
    "\n",
    "- ¿Podría existir sesgo hacia algún atributo en particular? Reflexione sobre la posibilidad de que el modelo esté favoreciendo ciertos atributos. Si es así, ¿cuál podría ser la causa y qué impacto podría tener esto en la predicción?"
   ]
  },
  {
   "cell_type": "code",
   "execution_count": 176,
   "metadata": {},
   "outputs": [],
   "source": [
    "# Desarrolle aquí su código"
   ]
  },
  {
   "cell_type": "markdown",
   "metadata": {},
   "source": [
    "## 📌 Resultados y Conclusiones [1.0 puntos]\n",
    "\n",
    "Para finalizar, se deben explicar los desarrollos y resultados obtenidos a lo largo de todo el proceso, desde la selección de las variables hasta la optimización de hiperparámetros e interpretación. Se espera una reflexión crítica sobre el desempeño de los modelos entrenados y una comparación entre los diferentes enfoques. Además, deberán abordar los siguientes puntos clave:\n",
    "\n",
    "- **Análisis de métricas**: Comenten sobre las métricas obtenidas en cada etapa del modelo, destacando las más relevantes como precisión, recall, F1-score, etc. ¿Cuáles fueron los modelos más efectivos? ¿Qué diferencias notables encontró entre ellos?\n",
    "\n",
    "- **Impacto de las decisiones tomadas**: Reflexionen sobre cómo las decisiones relacionadas con el preprocesamiento, selección de atributos y optimización de hiperparámetros influyeron en los resultados finales. ¿Hubo alguna decisión que haya tenido un impacto notable en el rendimiento?\n",
    "\n",
    "- **Lecciones aprendidas**: Concluyan sobre las lecciones más importantes que aprendieron durante el proceso y cómo estas pueden influir en futuras iteraciones del modelo. ¿Qué se podría mejorar si se repitiera el proceso? Si tuvieran más recursos y tiempo, ¿qué otras técnicas/herramientas habrían utilizado?"
   ]
  },
  {
   "cell_type": "markdown",
   "metadata": {},
   "source": [
    "> [Escriba aquí sus resultados]"
   ]
  },
  {
   "cell_type": "markdown",
   "metadata": {},
   "source": [
    "Mucho éxito!\n",
    "\n",
    "<center>\n",
    "<img src=\"https://media3.giphy.com/media/v1.Y2lkPTc5MGI3NjExaHpvOTY5Z3hpdHI3aDBpdGRueXRqamZncXp2emFrbjJ5M2s5eTR1dSZlcD12MV9pbnRlcm5hbF9naWZfYnlfaWQmY3Q9Zw/1PMVNNKVIL8Ig/giphy.gif\" width=\"300\" height=\"200\">\n"
   ]
  }
 ],
 "metadata": {
  "kernelspec": {
   "display_name": "Python 3.13.5 ('base')",
   "language": "python",
   "name": "python3"
  },
  "language_info": {
   "codemirror_mode": {
    "name": "ipython",
    "version": 3
   },
   "file_extension": ".py",
   "mimetype": "text/x-python",
   "name": "python",
   "nbconvert_exporter": "python",
   "pygments_lexer": "ipython3",
   "version": "3.13.5"
  },
  "vscode": {
   "interpreter": {
    "hash": "3c06e3e46abf38078fe4dac36a0085ec2b134ebbd73dd076183d243eeca6918f"
   }
  }
 },
 "nbformat": 4,
 "nbformat_minor": 2
}
