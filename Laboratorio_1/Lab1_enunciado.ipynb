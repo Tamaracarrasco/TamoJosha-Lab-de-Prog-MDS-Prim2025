{
  "cells": [
    {
      "cell_type": "markdown",
      "metadata": {
        "cell_id": "097fce6dce21405c911254a775ae3d26",
        "deepnote_cell_type": "markdown",
        "id": "J4_IcuuKZj9Y"
      },
      "source": [
        "<h1><center>Laboratorio 1: Git 👾</center></h1>\n",
        "\n",
        "<center><strong>MDS7202: Laboratorio de Programación Científica para Ciencia de Datos - Primavera 2025</strong></center>"
      ]
    },
    {
      "cell_type": "markdown",
      "metadata": {
        "cell_id": "9e8e8f2ae34e461da4f44508a96d2cf4",
        "deepnote_cell_type": "markdown",
        "id": "AEXIACc7aADv"
      },
      "source": [
        "### Cuerpo Docente:\n",
        "\n",
        "- Profesores: Diego Cortez, Gabriel Iturra\n",
        "- Auxiliares: Melanie Peña, Valentina Rojas\n",
        "- Ayudantes: Nicolás Cabello, Cristopher Urbina"
      ]
    },
    {
      "cell_type": "markdown",
      "metadata": {
        "cell_id": "3e5b48c23e1b48f6a64de41899166179",
        "deepnote_cell_type": "markdown",
        "id": "0HgMMyoCaG8X"
      },
      "source": [
        "### Equipo: **SUPER IMPORTANTE - notebooks sin nombre no serán revisados**\n",
        "\n",
        "- Nombre de alumno 1: Josefa Anselmo.\n",
        "- Nombre de alumno 2: Tamara Carrasco."
      ]
    },
    {
      "cell_type": "markdown",
      "metadata": {
        "cell_id": "1db7c82b68614d19b112ba3b0d0abe4d",
        "deepnote_cell_type": "markdown",
        "id": "fz77X6glaK6y"
      },
      "source": [
        "### **Link de repositorio de GitHub:** [Repositorio TamoJosha](https://github.com/Tamaracarrasco/TamoJosha-Lab-de-Prog-MDS-Prim2025)"
      ]
    },
    {
      "cell_type": "markdown",
      "metadata": {
        "cell_id": "bc3dac65089d4ae6a43c079547dee179",
        "deepnote_cell_type": "markdown",
        "id": "rRwqaxIZaNx3"
      },
      "source": [
        "## Reglas:\n",
        "\n",
        "- **Grupos de 2 personas**\n",
        "- Fecha de entrega: Entregas Martes a las 23:59.\n",
        "- Instrucciones del lab el viernes a las 16:15 en formato online. Asistencia no es obligatoria, pero se recomienda **fuertemente** asistir.\n",
        "- <u>Prohibidas las copias</u>. Cualquier intento de copia será debidamente penalizado con el reglamento de la escuela.\n",
        "- Tienen que subir el laboratorio a u-cursos y a su repositorio de github. Labs que no estén en u-cursos no serán revisados. Recuerden que el repositorio también tiene nota.\n",
        "- Cualquier duda fuera del horario de clases al foro. Mensajes al equipo docente serán respondidos por este medio.\n",
        "- Pueden usar cualquier material del curso que estimen conveniente."
      ]
    },
    {
      "cell_type": "markdown",
      "metadata": {
        "cell_id": "05e4729411a24153837fd13b7f198bd9",
        "deepnote_cell_type": "markdown",
        "id": "bmToL27JaSrf"
      },
      "source": [
        "## Objetivos del lab:\n",
        "\n",
        "\n",
        "- Conocer los elementos básicos que conformar `Git`\n",
        "- Clonar repositorios\n",
        "- Identificar ramas de un repositorio\n",
        "- Reconocer y solucionar problemas entre ramas\n",
        "- Subir cambios a un repositorio"
      ]
    },
    {
      "cell_type": "markdown",
      "metadata": {
        "cell_id": "5ebae9d601bd4d508349ab55297e9f82",
        "deepnote_cell_type": "markdown",
        "id": "bvnPCvrVbJLK"
      },
      "source": [
        "## Parte 1: Conocimiento Teórico (2.5 pts)\n",
        "\n",
        "<p align=\"center\">\n",
        "  <img src=\"https://cdn.thedesigninspiration.com/wp-content/uploads/sites/3/2019/04/macintosh-hdusersbrittanyloefflerdownloadsanig-1.gif\" width=\"350\">\n",
        "</p>"
      ]
    },
    {
      "cell_type": "markdown",
      "metadata": {
        "cell_id": "627494dba4f84520b3ee8b9cbf58ee79",
        "deepnote_cell_type": "markdown",
        "id": "JHl-24XnbNLF"
      },
      "source": [
        "Responda las siguientes preguntas (0.2 pts c/u):\n",
        "\n",
        "1. ¿Qué es `Git` y cómo se relaciona con el control de versiones?\n",
        "\n",
        "2. Nombre y explique 3 diferencias entre `Git` y `Github`.\n",
        "\n",
        "3. ¿Qué es un `hash` y cómo se representa en un `commit`? De un ejemplo.\n",
        "\n",
        "4. ¿Que elementos componen a la estructura de datos de `Git`?\n",
        "\n",
        "5. ¿Que comandos de `Git` sirven para crear un repositorio y hacer seguimiento a cambios en los archivos?"
      ]
    },
    {
      "cell_type": "markdown",
      "metadata": {
        "cell_id": "6d06c40f429044a298b27c666f51f46f",
        "deepnote_cell_type": "markdown",
        "id": "2tXCSkf0caG8"
      },
      "source": [
        "<code>Escriba sus respuestas acá:</code>\n",
        "\n",
        "1. Git es un software de control de versiones distribuido (DVCS), open source. Es una implementación concreta de un sistema de control de versiones (VCS) que guarda el historial de cambios de un proyecto en *commits*, permite crear ramas (*branch*) para trabajar en paralelo y luego fusionar (*merge*) esas ramas.\n",
        "Lo “distribuido” significa que cada clon del repositorio (es decir, cada persona que tiene su copia local en su computador) contiene toda la historia y la estructura del proyecto; no es solo una copia simple, sino una versión completa que permite trabajar y confirmar cambios offline. Esto posibilita que diferentes editores trabajen en simultáneo sobre el mismo proyecto.\n",
        "Cuando hay colaboración, usamos un remoto para sincronizar, como GitHub, donde hacemos *push* de nuestras ramas y *pull* de lo que suben las demás personas, convirtiendo así el trabajo en realmente colaborativo.\n",
        "Además, Git permite retroceder si algo sale mal o si ha habido algún error, lo que facilita y potencia su uso en proyectos grupales.\n",
        "\n",
        "2. Lo primero, es importante mencionar, y no olvidar, que GIT y Github no son lo mismo, aunque sí se complementan. \n",
        "\n",
        "Tres diferencias que podríamos ejemplificar son:\n",
        "\n",
        "- *NATURALEZA*: Git es un sistema de control de versiones distribuido (DVCS) que funciona localmente en el computador, permitiendo incluso el trabajo offline. GitHub, en cambio, es una plataforma de alojamiento en la nube para proyectos que usan Git, y facilita la sincronización de repositorios, la colaboración y el compartir código en un entorno web.\n",
        "- *ALCANCE*: Con Git se puede crear y manejar repositorios locales para trackear cambios en los archivos. GitHub es un “espacio remoto” donde subes esos repositorios (con *push*) y accedes a funciones adicionales como *pull requests*, manejo de *issues*, revisión de código y automatizaciones (*actions*).\n",
        "- *Uso*: Git se usa principalmente desde la línea de comando (aunque existen clientes gráficos que lo hacen más amigable, como la integración de Git en *VS Code* o programas dedicados como *GitHub Desktop*), mientras que a GitHub se accede desde una interfaz web, por lo que necesita conexión a internet, o desde su apps/CLI. O sea, Git es la herramienta base y GitHub es el servicio que la complementa con trabajo colaborativo online.\n",
        "\n",
        "3. Un *hash* en Git es un identificador único que se genera aplicando la función criptográfica SHA-1 sobre el contenido de un objeto que puede ser un *blob*, *árbol* o a un *commit*. Esto produce un string de 40 caractéres hexadecimales (del 0 al 9 y de la a a la f), actuando como una \"huella digital\" que garantiza la integridad del contenido, por lo que si algo cambia entonces el *hash* cambia también. \n",
        "Para el caso del *commit* un *hash* representa el estado del repositorio en el momento en que se hace el commit (considerando toda la información que este puede tener como los archivos, autores, fechas, mensajes de commit, etc.). \n",
        "\n",
        "Por ejemplo, al ejecutar *git log* (para hacer seguimiento a los archivos) se puede obtener un *commit* con *hash* como el siguiente: \n",
        "\n",
        "*commit cf960b722cee8bc2eca847b721b76e4c1b16cd63*\n",
        "*Author: test <test@example.com>*\n",
        "*Date:   Mon Aug 26 10:45:00 2025 -0400*\n",
        "\n",
        "*Update readme lab1*\n",
        "\n",
        "Del ejemplo se desprende el *hash*-> <code>cf960b722cee8bc2eca847b721b76e4c1b16cd63 </code>, que identifica de manera única ese punto en el historial del repositorio.\n",
        "Y el mensaje que deja-> \"Update readme lab1\", indica la actualización del archivo README.\n",
        "\n",
        "4. Los elementos que componen la estructura de los datos de GIT son:\n",
        "\n",
        "  - *Blob (binary large object)*: Almacena, sin nombres ni rutas, solo el contenido en bruto del archivo.\n",
        "  - *Tree (árbol)*: Representa un directorio, ya que contiene referencias a blobs (archivos) y a otros trees (subdirectorios), además de la información de nombres y permisos.\n",
        "  - *Commit*: Apunta a un tree (el estado completo del proyecto en ese momento) y guarda metadatos como autor, fecha, mensaje y las referencias a commits padres, permitiendo reconstruir la historia.\n",
        "  - *Tag*: Sirve para marcar un commit específico con un nombre permanente, y se utiliza normalmente para señalar versiones importantes (por ejemplo, v1.0).\n",
        "\n",
        "5. Para crear un repositorio y comenzar a seguir los cambios en Git se utilizan los siguientes comandos:\n",
        "  - *git init*: Inicializa un repositorio vacío en la carpeta actual (crea una subcarpeta *.git* que contiene toda la estructura interna de Git)\n",
        "  - *git add <archivo>* o *git add .*: Comienza a trackear un archivo o agrega sus cambios al *staging area*.\n",
        "  - *git commit -m \"mensaje\"*: guarda de forma permanente en el historial los cambios preparados, generanfo un *commit* identificador por un *hash* (como lo explicamos antes).\n",
        "  - *git status*: permite ver qué archivos están siendo trackeados, cuáles cambiaron y cuáles están listos para commit.\n",
        "  - *git log*: No hace seguimiento en sí pero permite revisar el historial de commits creados, con su hash, autor, fecha y mensaje."
      ]
    },
    {
      "cell_type": "markdown",
      "metadata": {
        "cell_id": "ec9855406e324cc98b59e33500faea84",
        "deepnote_cell_type": "markdown",
        "id": "MACccbP4gU43"
      },
      "source": [
        "Responda si las siguientes afirmaciones son Verdaderas (V) o Falsas (F). Justifique en **cualquiera** de los casos (0.2 pts c/u):\n",
        "\n",
        "\n",
        "6. `Git` siempre resuelve automáticamente los problemas de lineas al hacer merge entre diferentes ramas.\n",
        "7. Ejecutar `git pull` sobre un repositorio es equivalente a ejecutar `git clone`.\n",
        "8. `git status` genera los mismos resultados que `git log`.\n",
        "9. En `Git` es posible deshacer cambios y volver a versiones anteriores del código.\n",
        "10. El comando `git commit` se utiliza para enviar cambios al repositorio remoto."
      ]
    },
    {
      "cell_type": "markdown",
      "metadata": {
        "cell_id": "7e6a5a6e15b045cc9d104cf017825f1a",
        "deepnote_cell_type": "markdown",
        "id": "DFnmCToOgeM3"
      },
      "source": [
        "<code>Escriba sus respuestas acá:</code>\n",
        "\n",
        "6. Falso. Git puede hacer automáticamente la fusión (*merge*) cuando los cambios en las ramas no entran en conflicto. Sin embargo, si dos ramas modifican la misma línea de archivo, o si un archivo fue eliminado en una rama y modificado en otra, se produce entonces un \"conflicto de merge\", por llamarlo de alguna forma. Y en ese caso, Git detiene el proceso y marca ese archivo como \"conflicto\", para que de manera manual se realice la resolución por parte del usuario, eligiendo o combinando las versiones correctas.\n",
        "\n",
        "7. Falso. Ocurre que \"git clone\" se utiliza una sola vez para crear una copia local completa de un repositorio remoto, descargando todo el historial, creando la carpeta local y configurando el remoto. Mientras que \"git pull\" se usa sobre un repositorio ya existente en la máquina en la cual trabajo y sirve para traer las actualizaciones desde el remoto, combinandolas (merge o rebase) con la branch local actual.\n",
        "\n",
        "8. Falso. \"git status\" indica el estado actual del repositorio, es decir, en qué rama estás trabajando, qué archivos se han modifiaco, cuáles están listos para hacer commit y cuáles no están siend seguidos por Git. Mientras que \"git log\" entrega el historial de commits del repositorio, incluyendo información como el hash, autor, fecha y mensaje del commit.\n",
        "\n",
        "9. Verdadero. Es posible deshacer cambio y volver a versiones anteriores del código gracias al historial de commits. Con \"git restore <archivo>\" se pueden decartar los cambios no confirmados en un archivo específico, con \"git checkout <commit-hash>\" o \"git switch --detach <commit-hash>\" se puede mover el repositorio a un estado anterior, navegando entre commits pasados. Y con \"git  reset\" se puede deshacer commits completos y volver a un punto anterior de la historia.\n",
        "\n",
        "10. Falso. El comando \"git commit\" no envía cambios al repositorio remoto, sino que este registra los cambios en el repositorio local como un nuevo commit, identificado por un hash.\n",
        "    Usualmente el flujo es que primero se hace \"git add <archivo>\" para preparar los cambios en staging area, luego se aplica \"git commit -m \"mensaje\"\" que es donde se guardaran esos cambios en el historial local y por último, se hace \"git push origin <rama>\" que es para sincronizar los commmits locales con el repositorio remoto.\n"
      ]
    },
    {
      "cell_type": "markdown",
      "metadata": {
        "cell_id": "54317cad024744ebaf4938df55ba3b95",
        "deepnote_cell_type": "markdown",
        "id": "LYq55sI2Rjf0"
      },
      "source": [
        "Por último, investigue y comente con sus palabras para qué sirven los siguientes comandos:\n",
        "\n",
        "11. `git stash` (0.25 puntos)\n",
        "12. `git reset`. ¿Cuál es la diferencia de este comando con `git revert`?. (0.25 puntos)"
      ]
    },
    {
      "cell_type": "markdown",
      "metadata": {},
      "source": [
        "<code>Escriba sus respuestas acá:</code>\n",
        "\n",
        "11. *git stash*: Este comando sirve para guardar temporalmente los cambios que llevamos en el área de trabajo (working directory) y en el staging area, sin necesidad de confirmarlos con un commit. Entonces, funciona como \"un borrador\", por decir, que almacena el trabajo en curso para dejar la carpeta \"funcionando\" sin que marque error o alerta por no realizar el commit en ese momento y así poder cambiar de rama, si actualizo con un \"git pull\" o resolver otra tarea. Después, para recuperar lo que guarde puedo usar \"git stash list\" (muestra todas las pilas de stashes guardadas), \"git stash apply\" (reaplica el stash a la rama) o \"git stash drop\" (borra un stash en específico).\n",
        "\n",
        "12. *git reset*: Este comando se usa para mover el puntero de la rama actual (HEAD) a un commit anterior, modificando los cambios que quedan en el área de staging y en el historial. Podría aplicar \"git reset --soft\" (mueve el HEAD a un commit anterior, pero deja los cambios en el staging listos para commitear), \"git reset --mixed\" (es el que tenemos por defecto y permite mover HEAD y devuelve los cambios al working directory pero los deja \"sin stage\" por decir) y \"git reset --hard\" (mueve el HEAD y además descarta todo y este descarte no se puede recuperar).\n",
        "La diferencia con \"git revert\" es que mientras \"git reset\" cambia el puntero de HEAD y modifica la historia local (puede eliminar commits), \"git revert\" crea un nuevo commit que \"revierte\" los cambios de un commit anterior. En el fondo mantiene \"la historia\" sin cambios y es más seguro para trabajos colaborativos pues no rompe el historial compartido de commits.\n"
      ]
    },
    {
      "cell_type": "markdown",
      "metadata": {
        "cell_id": "3e4d8b9974e4426ca38fd20f4b835a55",
        "deepnote_cell_type": "markdown",
        "id": "i7Em9JkbbRLo"
      },
      "source": [
        "## Parte 2: Creando una presentación personal (1.5 pts)\n",
        "\n",
        "<p align=\"center\">\n",
        "  <img src=\"https://media.tenor.com/arqlNu8gyJYAAAAC/cat-cat-jumping.gif\" width=\"150\">\n",
        "</p>\n",
        "\n"
      ]
    },
    {
      "cell_type": "markdown",
      "metadata": {
        "cell_id": "988648005dba4b9782c6625dfe6ae4ef",
        "deepnote_cell_type": "markdown",
        "id": "XWIHfyrlbYOJ"
      },
      "source": [
        "Para empezar a \"*soltar las manos*\" con `Git`, se les encomienda crear un repositorio con una presentación personal. El repositorio debe contener un breve resumen de quienes son ustedes, sus gustos, experiencias, y cualquier otro detalle interesante que ustedes consideren relevante.\n",
        "\n",
        "Para realizar esto, deben seguir los siguientes pasos:\n",
        "\n",
        "1. Contar con una cuenta de github (1 por persona)\n",
        "2. Crear un repositorio con su nombre de usuario\n",
        "3. Vincular el repositorio a su ambiente local ¿Qué comando(s) me permiten hacer esto?\n",
        "4. Crear un archivo `readme.md` con la información que ustedes deseen compartir.\n",
        "5. Realizar `push` con los cambios generados\n",
        "\n",
        "\n",
        "**Nota: Deben trabajar todos estos puntos desde su ambiente local**\n",
        "\n",
        "*Hint: Una buena opción es usar templates de presentación personal que encuentren en Google, como los que ofrece este [sitio](https://durgeshsamariya.github.io/awesome-github-profile-readme-templates/#/)*.\n",
        "\n",
        "**Entregable:**\n",
        "\n",
        "Enlace al repositorio con la presentación personal.\n",
        "\n",
        "IMPORTANTE: DEBEN ADJUNTAR UN ENLACE POR PERSONA"
      ]
    },
    {
      "cell_type": "markdown",
      "metadata": {
        "cell_id": "081b38d55dc54282bc8e3cd300ce9d3e",
        "deepnote_cell_type": "markdown",
        "id": "IIkWyl9tf0Sg"
      },
      "source": [
        "<code>Link Presentacion 1:</code> https://github.com/Jopazpa/Jopazpa\n",
        "\n",
        "<code>Link Presentacion 2:</code> https://github.com/Tamaracarrasco/Tamaracarrasco"
      ]
    },
    {
      "cell_type": "markdown",
      "metadata": {
        "cell_id": "0481a05d2d1a46928f6cfb7762720980",
        "deepnote_cell_type": "markdown",
        "id": "CAzXOwvDY-IG"
      },
      "source": [
        "## Parte 3: Trabajando sobre un repositorio externo (2 pts)\n",
        "\n",
        "<p align=\"center\">\n",
        "  <img src=\"https://media.tenor.com/YXL-0SK15j4AAAAC/dance-animals.gif\" width=\"300\">\n",
        "</p>\n",
        "\n",
        "Tras muchos dolores de cabeza, un grupo de entusiastas académicos decidieron aprender sobre `Git` y así trabajar colaborativamente de forma más ordenada y eficiente. Después de una infinidad de intentos y aprender de sus errores \"*a la mala*\", los académicos lograron levantar un [repositorio](https://github.com/MDS7202/lab1) en `Github`. Usando el repositorio de los académicos, responda las siguientes preguntas (**incluya también los comandos en `Git` ocupados**):\n"
      ]
    },
    {
      "cell_type": "markdown",
      "metadata": {
        "cell_id": "bcef73b2e8604579bde90ed6622abfe9",
        "deepnote_cell_type": "markdown",
        "id": "BFRnAw0rfguR"
      },
      "source": [
        "1. Clone el repositorio a su ambiente local. (0.25 pts)"
      ]
    },
    {
      "cell_type": "markdown",
      "metadata": {
        "cell_id": "5d126ac3819c44479af94d3895bc4c97",
        "deepnote_cell_type": "markdown",
        "id": "KXro32yBeilN"
      },
      "source": [
        "<code>Escriba sus respuestas acá:</code> \n",
        "Lo que aquí se pide es crear una copia del total del repositorio de manera local (copia todo desde el historial desde commits, las ramas, etc.) para poder trabajar desde mi computador de manera local. \n",
        "Para poder clonar el repositorio tengo que abrir la terminal y escribir los comandos git clone más la URL https://github.com/MDS7202/lab1.git. Con ese comando se genera una nueva carpeta en mi directorio actual de nombre lab1 y ahí es donde quedaría la copia descargada para trabajarla incluso offline."
      ]
    },
    {
      "cell_type": "markdown",
      "metadata": {
        "cell_id": "e215e4e25b2440f09ac273ba63603986",
        "deepnote_cell_type": "markdown",
        "id": "8QB-GKmQRjf1"
      },
      "source": [
        "2. Descomprima los archivos subidos con la tarea en U-cursos en la carpeta recién clonada de github. Una vez realizado esto, cree un archivo `.gitignore` con el cual omita la carpeta `videos` y los archivos con la extensión `.txt` exceptuando el archivo `171.txt` de la carpeta `texts`. (0.25 pts)"
      ]
    },
    {
      "cell_type": "markdown",
      "metadata": {
        "cell_id": "186233b44d004e3bbd86262d010188b5",
        "deepnote_cell_type": "markdown",
        "id": "7VJ8IIYpRjf1"
      },
      "source": [
        "<code>Para esta pregunta usted deberá adjuntar el .gitignore creado en su repo.</code>\n",
        "\n",
        "Para esta pregunta descomprimimos el archivo entregado en U-Cursos y movemos el contenido de las instrucciones,carpetas de video y text al repositorio recien clonado \"lab1/\". \n",
        "Luego, desde la terminal, debemos setear el directorio para ello uso los comandos:\n",
        "\n",
        "> cd \"ruta\\a\\lab1\". \n",
        "\n",
        "Una vez dentro creamos el archivo .gitignore con los siguientes comandos:\n",
        "\n",
        "> Set-Content .gitignore \"/videos/\"\n",
        "\n",
        "> Add-Content .gitignore \"/texts/*.txt\"\n",
        "\n",
        "> Add-Content .gitignore \"!/texts/171.txt\"\n",
        "\n",
        "Y con esto ya se habrá creado el archivo solicitado en el repositorio. Se puede revisar que el contenido este correcto si aplico los comandos:\n",
        "\n",
        "> Get-Content .gitignore."
      ]
    },
    {
      "cell_type": "markdown",
      "metadata": {
        "cell_id": "1de150590a41484a988b8e46616a2324",
        "deepnote_cell_type": "markdown",
        "id": "q2qmiDyjt2M_"
      },
      "source": [
        "3. Inspeccione brevemente el repositorio: ¿Cual es el objetivo del proyecto? Explique brevemente la estructura del proyecto, asi como también cada elemento que lo conforma. (0.25 pts)"
      ]
    },
    {
      "cell_type": "markdown",
      "metadata": {
        "cell_id": "082ca01c865e48e28352b280400c47b6",
        "deepnote_cell_type": "markdown",
        "id": "aBHpR8VTftkT"
      },
      "source": [
        "<code>Escriba sus respuestas acá:</code>\n",
        "\n",
        "El objetivo de este proyecto es implementar una pequeña aplicación con Python que permita emular sonidos de animales. Si se ejecuta el script principal, el usuario ingresa el nombre de un animal, y el programa responde con el sonido característico que corresponda, si es que esta disponible en las opciones.\n",
        "\n",
        "Tiene el archivo main.py, el cual es el punto de entrada del programa. Contiene un bloque \"if_name_=='_main_'\" que solicita al usuario un input (que es específicamente el nombre del animal) e invoca la función animales() definida en otro de los archivos para entregar el sonido correspondiente.\n",
        "\n",
        "El archivo animales.py, que es el que contiene la lógica principal del proyecto, define la función \"animales(nombre)\" que busca el sonido del animal en un diccionario predefinido. Si el animal está en la base, imprime un sonido. Si no, notifica que no lo conoce.\n",
        "\n",
        "Por último, el archivo readme.md que cumple la función la documentación del proyecto, contiene una descripción del mismo y una imagen ilustrativa. No tiene mayores detalles.\n",
        "\n",
        "Los otros documentos que están en la carpeta son los que cargamos inicialmente por la instrucción del enunciado pero no eran originales del proyecto."
      ]
    },
    {
      "cell_type": "markdown",
      "metadata": {
        "cell_id": "3aab4a3ee0c246e1be955680ad653fb8",
        "deepnote_cell_type": "markdown",
        "id": "XFwqcpLZfylf"
      },
      "source": [
        "4. Identifique los últimos cambios al repositorio, reconociendo las principales ramas de trabajo. ¿Son informativos los `commit` realizados? (0.25 pts)\n",
        "*Hint: Se recomienda usar los argumentos `all`, `graph` y `decorate`*"
      ]
    },
    {
      "cell_type": "markdown",
      "metadata": {
        "cell_id": "0fab79a360ac4c6a9ca0ab884f85c7e1",
        "deepnote_cell_type": "markdown",
        "id": "cmWfXBkOhog0"
      },
      "source": [
        "<code>Escriba sus respuestas acá:</code>\n",
        "\n",
        "Para poder identificar los últimos cambios del repositorio y las branches principales, se utilizaron los comandos:\n",
        "\n",
        "git log --all --graph --oneline --decorate\n",
        "\n",
        "Que permiten visualizar el historial completo en forma de árbol, incluyendo las ramas y commits asociados.\n",
        "\n",
        "Obtuvimos esto:\n",
        "\n",
        "* 25543a3 (origin/fix-ifs) fix ifs\n",
        "| * 362fe21 (HEAD -> main, origin/new_features, origin/main, origin/HEAD) Se separa el proyecto en modulos\n",
        "* c8b1a62 se agrega funcion\n",
        "* b262d86 primer commit\n",
        "\n",
        "\n",
        "Del output, podemos ver 3 ramas principales. \n",
        "* \"main\" que señala la rama principal del proyecto.\n",
        "* \"new_features\" que señala al mismo commit que main y por lo tanto no habrian divergencias\n",
        "* \"fix-ifs\" que contiene un commit adicional respecto del main, lo que estaría mostrando una posible corrección de la lógica condicional del proyecto.\n",
        "\n",
        "Los commits que se registron son 4:\n",
        "\n",
        "- primer commit -> commit inicial\n",
        "- se agrega funcion -> este agrega una funcion\n",
        "- se separa el proyecto en modulos -> se reorganiza el proyecto modularizándolo\n",
        "- fix ifs -> corrección de condicionales.\n",
        "\n",
        "Los mensajes del commit son informativos y breves, lo cual así deben ser, pues permiten de manera razonable leer el avance del progreso del proyecto (para que más personas entiendan que pasa). Cuando se trabaja en proyectos de mayor escala quiza se necesita un poco más de detalle pues la cantidad de commits deberia ser mayor."
      ]
    },
    {
      "cell_type": "markdown",
      "metadata": {
        "cell_id": "d07b24d21f2343fb9a7e6a5db74e98c3",
        "deepnote_cell_type": "markdown",
        "id": "Vqbj9HdXrUnN"
      },
      "source": [
        "5. Uno de los académicos se da cuenta que la rama principal de trabajo no se ejecuta correctamente para todos los argumentos. Señale y explique el error en el código e identifique a la persona que lo cometió usando `git blame` (0.25 pts)\n",
        "\n",
        "*Hint: Le puede ser útil esta [documentación](https://www.atlassian.com/es/git/tutorials/inspecting-a-repository/git-blame).*"
      ]
    },
    {
      "cell_type": "markdown",
      "metadata": {
        "cell_id": "bc5b0f9c639643108f8e66687b721732",
        "deepnote_cell_type": "markdown",
        "id": "5ajhV2Iar3tV"
      },
      "source": [
        "<code>Escriba sus respuestas acá:</code>\n",
        "\n",
        "En el archivo main.py podemos ver lo siguiente:\n",
        "\n",
        "from animales import animales\n",
        "```\n",
        "if  __name__ == '__main__':\n",
        "    nombre = input('Ingrese un animal: ')\n",
        "    if nombre == 'perro':\n",
        "        animales(nombre)\n",
        "    elif nombre == 'gato':\n",
        "        animales(nombre)\n",
        "    elif nombre == 'vaca':\n",
        "        animales(nombre)\n",
        "```\n",
        "\n",
        "Este código sólo esta considerando como opciones los 3 animales explicitos que define ahí, pero en animales.py la función animales(nombre) acepta más opciones como loro, cerdo o pato, entre otros.\n",
        "\n",
        "Si se intenta con alguno de esos animales que son válidos pero no estan en el \"main.py\", el archivo ejecutará ninguna acción visible pues no funciona con animales no contemplados desde la definición siendo que esta si podría procesarlos, por lo que existe un error de lógica de flujos.\n",
        "\n",
        "Para reparar esto, se debería programar como una condición:\n",
        "\n",
        "```\n",
        "if__name__=='__main__':\n",
        "nombre = input(\"Ingrese animal: \")\n",
        "animales(nombre)\n",
        "```\n",
        "\n",
        "Ahora, para buscar al \"culpable\" aplicaremos el comando:\n",
        "\n",
        "> git blame main.py\n",
        "\n",
        "Dado que el resultado del comando es extenso, se omite su inclusión, pero se revisó detalladamente. El análisis con \"git blame\" muestra que la lógica condicional que limita la ejecución a los animales “perro”, “gato” y “vaca” fue introducida por el usuario \"seba\" en el commit b262d86 (22 de marzo de 2023). Luego, \"mezosky\", en el commit 362fe21e (23 de marzo de 2023), reorganizó el código manteniendo dicha lógica sin extender la validación a otras especies. Esto genera un error de flujo, ya que la función \"animales(nombre)\" acepta más animales que los considerados en el main.py, por lo que entradas válidas quedan excluidas del comportamiento esperado del programa.\n",
        "\n",
        "Una opción extra es que se defina un mensaje tipo \"este modelo no registra información para el animal de tu elección\" o similar, pues de todos modos no funciona para todos los animales del mundo, como por ejemplo:\n",
        "\n",
        "```\n",
        "if  __name__ == '__main__':\n",
        "    nombre = input('Ingrese un animal: ')\n",
        "    if nombre == 'perro':\n",
        "        animales(nombre)\n",
        "    elif nombre == 'gato':\n",
        "        animales(nombre)\n",
        "    elif nombre == 'vaca':\n",
        "        animales(nombre)\n",
        "    else:\n",
        "    print(\"Este modelo no registra información para el animal de su elección\")\n",
        "```"
      ]
    },
    {
      "cell_type": "markdown",
      "metadata": {
        "cell_id": "f3f4e78e6d9145ebbb120c0a2e4aade6",
        "deepnote_cell_type": "markdown",
        "id": "m8J3uE7MhqTA"
      },
      "source": [
        "6. Busque los siguientes `commit`:\n",
        "\n",
        "- `c8b1a62d7299552b0654f930d695b33109214111`\n",
        "- `362fe21ee44f53ee944cee4ba484600308f83d78`\n",
        "- `25543a3baf77292baf849726784ca005473acab1`\n",
        "\n",
        "¿Qué diferencias existen entre cada uno? (0.25 pts)\n"
      ]
    },
    {
      "cell_type": "markdown",
      "metadata": {
        "cell_id": "696ed361ac0c41c8a214cfad9dcb39e6",
        "deepnote_cell_type": "markdown",
        "id": "sNHnZsgIitGh"
      },
      "source": [
        "<code>Escriba sus respuestas acá:</code>\n",
        "\n",
        "Para ver que las diferencias que hay entre cada commit, se puede hacer uso del comando \"gt log\", sin embargo, la lista de commits puede ser extensa. Por lo que se usa el comando\n",
        "> git show +hash_parcial+\n",
        "Donde +hash_parcial+ corresponde a los primeros caracteres del commit.\n",
        "\n",
        "1. hash `c8b1a62d7299552b0654f930d695b33109214111`: Este commit lo hizo Seba el día Miércoles (Wed Mar 22 17:25:30 2023) y tiene como mensaje \"primer commit\". Lo que se hizo fue que se agregó la función \"animales\" en módulo \"main.py\", la cual ya tenía unas líneas de código.\n",
        "\n",
        "2. hash `362fe21ee44f53ee944cee4ba484600308f83d78`: Este commit fue realizado por Mezosky y fue realizado en la fecha y hora (Thu Mar 23 21:47:34 2023). Tiene como mensaje \"Se separa el proyecto en modulos\". Se creó un nuevo modulo de nombre \"animales.py\", por la línea \"diff --git a/animales.py b/animales.py\n",
        "new file mode 100644 (...)\". Dentro de ese módulo está toda la definición de la función \"animales\". Por otra parte, en el archivo \"main.py\", se borró la definición de la función \"animales\" y se realiza la importación de la función \"animales\" del módulo \"animales.py\" con la línea de código ``+from animales import animales``, lo cual tiene sentido si la función \"animales\" se movió a otro archivo\". Después se eliminó una línea de códigos pero se volvió a incorporar la misma línea.\n",
        "\n",
        "3. hash `25543a3baf77292baf849726784ca005473acab1`: Este commit fue realizado por Pablo Badilla en la fecha (Thu Mar 23 22:50:49 2023). Este commit indica los cambios realizados al código de la función \"animales\", en particular, dentro de las condiciones para el input, la segunda y tercera condición comenzaban con \"if\", pero se modificaron por \"elif\". Por ejemplo:\n",
        "\n",
        "> Originalmente se tenía ``if input.lower() == 'perro':``, pero se cambió a ``elif input.lower() == 'perro'``.\n",
        "\n",
        "Las diferencia entre los commits recae en el proceso de la creación del código. En el primero, se agrega una función a un archivo existente, luego en el segundo se creó un archivo adicional para colocar la función \"animales\" y luego importarla en el archivo inicial que se disponía y en el último se corrigen de manera leve unas líneas del código."
      ]
    },
    {
      "cell_type": "markdown",
      "metadata": {
        "cell_id": "b4e18f8ce94c430f85915c4e2732d05b",
        "deepnote_cell_type": "markdown",
        "id": "WQIPbfNCgpxC"
      },
      "source": [
        "7. Realice una `merge` de la rama `fix-ifs` con la rama `main` y describa lo que ocurre. ¿Qué parte del código podría estar ocasionando esto? (0.25 pts)"
      ]
    },
    {
      "cell_type": "markdown",
      "metadata": {
        "cell_id": "36da6a0d4f4a427bbccac09e2ae965fd",
        "deepnote_cell_type": "markdown",
        "id": "ypH_6lL5ioZz"
      },
      "source": [
        "<code>Escriba sus respuestas acá:</code>\n",
        "\n",
        "Se escribió en terminal ``git merge origin/fix-ifs main\" y se procedió a realizar un auto-merging en main.py. Apareció el mensaje de que hay un conflicto en el módulo main.py. Esta parte la responde Tamara.\n",
        "- Tamara: cloné el repositorio pero no cloné las ramas por lo que al hacer merge se me genera conflicto. el merge quedó a medias por lo que decidí abortar el merge con el comando \"git merge --abort\" y el porqué se hizo eso es que no sé si el error que se espera que identifiquemos se debe justamente a que no se clonaron las ramas remotas u otra cosa. Se sigue avanzando.\n",
        "- T: ahora se procede a realizar la clonación de la rama remota origin/fix-ifs y después realizar merge. A la rama local clonada se le llamó \"fix\". Luego, para asegurarme que no estaba en otra rama local ajena, se escribió el comando \"git checkout main\", para pararse en la rama \"main\" del repositorio clonado. También se hizo un \"git pull\" para checkear todo bien con el repositorio clonado. Luego se volvió intentar hacer merge con la rama fix y main y efectivamente, hay un conflicto y se nos pide que se arregle de manera manual.\n",
        "Lo que está generando conflicto son las versiones del archivo \"main.py\" que contengan las ramas \"main\" y \"fix\". En la rama \"main\", la función \"animales\" de definió en un módulo del mismo nombre y se tiene el archivo main.py donde se está importando dicha función. Sin embargo, al realizar merge con fix, esta rama debe tener el archivo main.py con la función sigue estando definida como tal en la misma altura/línea de código donde está el código en el archivo main.py en la rama \"main.  eso GIT no se sabe si quedar con la versión del archivo \"main.py\" donde la función está siendo importada de un módulo o dejar la función definida propiamente tal.\n",
        "\n",
        "Gráficamente algo así:\n",
        "\n",
        "| archivo \"main.py\" en rama \"main\"             | archivo \"main.py\" en rama \"fix\" |\n",
        "|-----------------------------------------------|-----------------------------------|\n",
        "| 1. `from animales import animales`            | 1. `def animales(input):`         |\n",
        "| 2.                                            | 2.                               |\n",
        "| 3. `if __name__ == '__main__':`               | 3. `...`                         |\n",
        "| 4. `    print(\"Ingrese el animalito para saber que dice:\")` | 4. `    Como se hace el animalito?` |\n",
        "| 5. `    animal = input()`                     | 5. `...`                         |\n",
        "| 6. `    animales(animal)`                     | 6.                               |\n",
        "\n",
        "y por eso al hacer merge hay conflicto: se ha editado cosas distintas en las mismas líneas de código."
      ]
    },
    {
      "cell_type": "markdown",
      "metadata": {
        "cell_id": "09787ab449c543479e5cc54c2a3b6c19",
        "deepnote_cell_type": "markdown",
        "id": "GYfODCjeivkU"
      },
      "source": [
        "8. Cree una rama nueva y proponga una solución al problema anterior, adjuntando el código corregido y señalando las líneas modificadas. (0.25 pts)\n",
        "\n",
        "El problema no recae en términos de código: ambos códigos están bien porque expresan lo mismo, solo que de dos maneras distintas. (esperando que contesten el foro)"
      ]
    },
    {
      "cell_type": "markdown",
      "metadata": {
        "cell_id": "6d963fba3f2d4c17a4b281c7d3f4fb8b",
        "deepnote_cell_type": "markdown",
        "id": "8heBxDU9iziT"
      },
      "source": [
        "<code>Escriba sus respuestas acá:</code>"
      ]
    },
    {
      "cell_type": "markdown",
      "metadata": {
        "cell_id": "8a47d4bf8b3045d68e4f29bb449c87f1",
        "deepnote_cell_type": "markdown",
        "id": "Av8ebB9jkALO"
      },
      "source": [
        "## Fin"
      ]
    },
    {
      "cell_type": "markdown",
      "metadata": {
        "cell_id": "cec4b53942ed489f8f8b63d0e9d4f3e5",
        "deepnote_cell_type": "markdown",
        "id": "aQqZT9fSkBK8"
      },
      "source": [
        "Eso ha sido todo por ahora!! Esperamos que este laboratorio les haya gustado y servido para trabajar con `Git`. Recuerden los dias de plazo que tienen disponibles y que ante cualquier duda no duden en contactar al equipo docente.\n",
        "\n",
        "Nos vemos!!\n",
        "\n",
        "<p align=\"center\">\n",
        "  <img src=\"https://media.tenor.com/OYLdav9k9LkAAAAd/kitty-cat.gif\" width=\"350\">\n",
        "</p>\n"
      ]
    }
  ],
  "metadata": {
    "colab": {
      "provenance": []
    },
    "deepnote_execution_queue": [],
    "deepnote_notebook_id": "62cd20d52b9a4810ada15644630456dc",
    "kernelspec": {
      "display_name": "Python 3.8.5 ('base')",
      "language": "python",
      "name": "python3"
    },
    "language_info": {
      "name": "python",
      "version": "3.8.5"
    },
    "vscode": {
      "interpreter": {
        "hash": "1aa61120eac95da0375b82baabf4d063b72a47b4627f686914e9da09a1cc4cae"
      }
    }
  },
  "nbformat": 4,
  "nbformat_minor": 0
}
